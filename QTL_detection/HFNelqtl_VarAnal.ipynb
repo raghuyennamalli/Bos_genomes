{
  "nbformat": 4,
  "nbformat_minor": 0,
  "metadata": {
    "colab": {
      "provenance": []
    },
    "kernelspec": {
      "name": "python3",
      "display_name": "Python 3"
    },
    "language_info": {
      "name": "python"
    }
  },
  "cells": [
    {
      "cell_type": "code",
      "execution_count": null,
      "metadata": {
        "colab": {
          "base_uri": "https://localhost:8080/"
        },
        "id": "YYdaMzQu_I0g",
        "outputId": "52e54140-9a8c-40cc-cb30-977bc2ada3c6"
      },
      "outputs": [
        {
          "output_type": "stream",
          "name": "stdout",
          "text": [
            "Mounted at /content/drive\n"
          ]
        }
      ],
      "source": [
        "from google.colab import drive\n",
        "drive.mount(\"/content/drive\")"
      ]
    },
    {
      "cell_type": "code",
      "source": [
        "import pandas as pd\n",
        "\n",
        "df=pd.read_csv(\"/content/drive/MyDrive/Hereford_VarAnalysis/Hereford_chrVar/ins/13/hfqtl_NelVar13.csv\")\n",
        "df.shape"
      ],
      "metadata": {
        "colab": {
          "base_uri": "https://localhost:8080/"
        },
        "id": "mjvpHMc3FwSj",
        "outputId": "50df7af6-d3ee-423b-8513-bae5a99a053d"
      },
      "execution_count": null,
      "outputs": [
        {
          "output_type": "execute_result",
          "data": {
            "text/plain": [
              "(4763, 36)"
            ]
          },
          "metadata": {},
          "execution_count": 3
        }
      ]
    },
    {
      "cell_type": "code",
      "source": [
        "df_qtl=df[df[\"qtlgene_type\"]==\"within_gene\"]\n",
        "df_qtl.shape"
      ],
      "metadata": {
        "colab": {
          "base_uri": "https://localhost:8080/"
        },
        "id": "FSQipJbiG3ty",
        "outputId": "1b32b3ee-8bcb-4952-ceb4-891ec6d4fc8e"
      },
      "execution_count": null,
      "outputs": [
        {
          "output_type": "execute_result",
          "data": {
            "text/plain": [
              "(3155, 36)"
            ]
          },
          "metadata": {},
          "execution_count": 3
        }
      ]
    },
    {
      "cell_type": "code",
      "source": [
        "df_hf=df_qtl[df_qtl[\"HFgene_type\"]==\"within_gene\"]\n",
        "df_hf.shape"
      ],
      "metadata": {
        "colab": {
          "base_uri": "https://localhost:8080/"
        },
        "id": "KJQpa8ZbHFYd",
        "outputId": "f001ca13-db37-4078-cea6-d53fd6937ca1"
      },
      "execution_count": null,
      "outputs": [
        {
          "output_type": "execute_result",
          "data": {
            "text/plain": [
              "(3016, 36)"
            ]
          },
          "metadata": {},
          "execution_count": 4
        }
      ]
    },
    {
      "cell_type": "code",
      "source": [
        "df_nel=df_hf[df_hf[\"Nelgene_type\"]==\"within_gene\"]\n",
        "df_nel.shape"
      ],
      "metadata": {
        "colab": {
          "base_uri": "https://localhost:8080/"
        },
        "id": "o5LgJPXcHNxY",
        "outputId": "bed1737e-bd3f-4148-b8df-bb05d0efd0f4"
      },
      "execution_count": null,
      "outputs": [
        {
          "output_type": "execute_result",
          "data": {
            "text/plain": [
              "(2588, 36)"
            ]
          },
          "metadata": {},
          "execution_count": 5
        }
      ]
    },
    {
      "cell_type": "code",
      "source": [
        "ins_df=df_nel.drop_duplicates(subset=[\"Symbol\", \"QTL Class\", \"startpos.q\", \"endpos.q\", \"NelLocus\", \"LOV\"]).reset_index()\n",
        "ins_df.shape"
      ],
      "metadata": {
        "colab": {
          "base_uri": "https://localhost:8080/"
        },
        "id": "hcusOHCMHZIz",
        "outputId": "0f4a9822-d52f-42b9-ea0c-97880d776054"
      },
      "execution_count": null,
      "outputs": [
        {
          "output_type": "execute_result",
          "data": {
            "text/plain": [
              "(1602, 37)"
            ]
          },
          "metadata": {},
          "execution_count": 6
        }
      ]
    },
    {
      "cell_type": "code",
      "source": [
        "ins_dff=ins_df.groupby([\"Name\", \"Symbol\", \"NelLocus\", \"NelProt\", \"startpos.q\", \"endpos.q\", \"LOV\"]).agg({\"QTL Class\": lambda x: \",\".join(set(x))}).reset_index()\n",
        "ins_dff.shape"
      ],
      "metadata": {
        "colab": {
          "base_uri": "https://localhost:8080/"
        },
        "id": "UZrX9vCZZqmJ",
        "outputId": "378470c0-5196-4315-9e7b-40f02cef7ca9"
      },
      "execution_count": null,
      "outputs": [
        {
          "output_type": "execute_result",
          "data": {
            "text/plain": [
              "(566, 8)"
            ]
          },
          "metadata": {},
          "execution_count": 7
        }
      ]
    },
    {
      "cell_type": "code",
      "source": [
        "ins_dff.to_csv(\"ins_dff.csv\")"
      ],
      "metadata": {
        "id": "yNX70VB2dJgg"
      },
      "execution_count": null,
      "outputs": []
    },
    {
      "cell_type": "code",
      "source": [
        "ins_dff[\"count\"] = ins_dff.groupby(by=[\"Name\", 'Symbol', 'NelLocus', \"NelProt\"])[\"Symbol\"].transform(\"count\")\n",
        "ins_dff.shape"
      ],
      "metadata": {
        "colab": {
          "base_uri": "https://localhost:8080/"
        },
        "id": "O6leK2p1W6Kf",
        "outputId": "e35945ac-7dce-4900-ef03-2ad9bb4d1ebf"
      },
      "execution_count": null,
      "outputs": [
        {
          "output_type": "execute_result",
          "data": {
            "text/plain": [
              "(566, 9)"
            ]
          },
          "metadata": {},
          "execution_count": 10
        }
      ]
    },
    {
      "cell_type": "code",
      "source": [
        "ins_dff['LOV >= 50'] = (ins_dff['LOV'] >= 10).astype(int)\n",
        "ins_dff['Length'] = ins_dff['LOV'].where(ins_dff['LOV'] >= 10, None)"
      ],
      "metadata": {
        "id": "wY5lxT_ybScU"
      },
      "execution_count": null,
      "outputs": []
    },
    {
      "cell_type": "code",
      "source": [
        "result_df = ins_dff.groupby([\"Name\", 'Symbol', 'NelLocus', \"NelProt\"]).agg({\n",
        "    'QTL Class': lambda x: ', '.join(set(x)),\n",
        "    'count': 'first',\n",
        "    'LOV >= 50': 'sum',  # Change to sum to count occurrences of LOV >= 50\n",
        "    'Length': lambda x: ', '.join(map(str, x.dropna().astype(int))) if not x.dropna().empty else None\n",
        "}).reset_index()"
      ],
      "metadata": {
        "id": "9FC2z3VObqTf"
      },
      "execution_count": null,
      "outputs": []
    },
    {
      "cell_type": "code",
      "source": [
        "result_df.to_csv(\"result_df.csv\", index=False)"
      ],
      "metadata": {
        "id": "p5NEhRbMcDGJ"
      },
      "execution_count": null,
      "outputs": []
    },
    {
      "cell_type": "code",
      "source": [
        "result_df.shape"
      ],
      "metadata": {
        "colab": {
          "base_uri": "https://localhost:8080/"
        },
        "id": "D92cxHS0b3fR",
        "outputId": "dfeeb4d7-5969-4a5f-ca9f-326f5807ee48"
      },
      "execution_count": null,
      "outputs": [
        {
          "output_type": "execute_result",
          "data": {
            "text/plain": [
              "(153, 9)"
            ]
          },
          "metadata": {},
          "execution_count": 15
        }
      ]
    },
    {
      "cell_type": "code",
      "source": [
        "import pandas as pd\n",
        "\n",
        "# Assuming df is your DataFrame with the given data\n",
        "# Assuming ins_df is your DataFrame with the given data\n",
        "\n",
        "# Step 1: Add a count column\n",
        "ins_df[\"count\"] = ins_df.groupby(by=[\"Name\", 'Symbol', 'NelLocus', \"NelProt\"])[\"Symbol\"].transform(\"count\")\n",
        "\n",
        "# Step 2: Check Count >= 50\n",
        "ins_df['count >= 50'] = (ins_df['count'] >= 50).astype(int)\n",
        "\n",
        "# Step 3: Add LOV >= 50 and Length columns\n",
        "ins_df['LOV >= 50'] = (ins_df['LOV'] >= 10).astype(int)\n",
        "ins_df['Length'] = ins_df['LOV'].where(ins_df['LOV'] >= 10, None)\n",
        "\n",
        "# Step 4: Aggregate QTL Class and other columns\n",
        "result_df = ins_df.groupby([\"Name\", 'Symbol', 'NelLocus', \"NelProt\"]).agg({\n",
        "    'QTL Class': lambda x: ', '.join(set(x)),\n",
        "    'count': 'first',\n",
        "    'count >= 50': 'max',\n",
        "    'LOV >= 50': 'sum',  # Change to sum to count occurrences of LOV >= 50\n",
        "    'Length': lambda x: ', '.join(map(str, x.dropna().astype(int))) if not x.dropna().empty else None\n",
        "}).reset_index()\n",
        "\n",
        "# Display the result\n",
        "print(result_df)\n",
        "\n",
        "result_df.to_csv(\"result_df.csv\", index=False)"
      ],
      "metadata": {
        "colab": {
          "base_uri": "https://localhost:8080/"
        },
        "id": "s5y3D0P6vw94",
        "outputId": "e8c3470b-2542-49cb-df81-1d42a293f687"
      },
      "execution_count": null,
      "outputs": [
        {
          "output_type": "stream",
          "name": "stdout",
          "text": [
            "                                          Name        Symbol NelLocus  \\\n",
            "0           3-hydroxyisobutyrate dehydrogenase        HIBADH   HIBADH   \n",
            "1                 A-kinase anchoring protein 9         AKAP9    AKAP9   \n",
            "2              ADAM metallopeptidase domain 22        ADAM22   ADAM22   \n",
            "3                      AGBL carboxypeptidase 3         AGBL3    AGBL3   \n",
            "4    ATP binding cassette subfamily B member 5         ABCB5    ABCB5   \n",
            "..                                         ...           ...      ...   \n",
            "155                    zinc finger protein 277        ZNF277   ZNF277   \n",
            "156                zinc finger protein 44-like  LOC112446469  ZNF804B   \n",
            "157                    zinc finger protein 746        ZNF746   ZNF746   \n",
            "158                   zinc finger protein 804B       ZNF804B  ZNF804B   \n",
            "159             zona pellucida binding protein          ZPBP     ZPBP   \n",
            "\n",
            "                                               NelProt  \\\n",
            "0    PREDICTED: 3-hydroxyisobutyrate dehydrogenase,...   \n",
            "1                 PREDICTED: A-kinase anchor protein 9   \n",
            "2    PREDICTED: disintegrin and metalloproteinase d...   \n",
            "3    PREDICTED: cytosolic carboxypeptidase 3 isofor...   \n",
            "4    PREDICTED: ATP-binding cassette sub-family B m...   \n",
            "..                                                 ...   \n",
            "155                 PREDICTED: zinc finger protein 277   \n",
            "156                PREDICTED: zinc finger protein 804B   \n",
            "157      PREDICTED: zinc finger protein 746 isoform X2   \n",
            "158                PREDICTED: zinc finger protein 804B   \n",
            "159        PREDICTED: zona pellucida-binding protein 1   \n",
            "\n",
            "                                             QTL Class  count  count >= 50  \\\n",
            "0                             Reproduction_Association      1            0   \n",
            "1    Health_Association, Health_QTL, Meat_and_Carca...      5            0   \n",
            "2                             Reproduction_Association      2            0   \n",
            "3                             Reproduction_Association      1            0   \n",
            "4                         Meat_and_Carcass_Association      7            0   \n",
            "..                                                 ...    ...          ...   \n",
            "155           Milk_Association, Production_Association      6            0   \n",
            "156   Reproduction_Association, Production_Association     22            0   \n",
            "157       Exterior_Association, Production_Association      2            0   \n",
            "158  Exterior_QTL, Reproduction_Association, Exteri...    110            1   \n",
            "159                       Meat_and_Carcass_Association      1            0   \n",
            "\n",
            "     LOV >= 50              Length  \n",
            "0            0                None  \n",
            "1            0                None  \n",
            "2            1                  14  \n",
            "3            0                None  \n",
            "4            0                None  \n",
            "..         ...                 ...  \n",
            "155          0                None  \n",
            "156          2              21, 21  \n",
            "157          0                None  \n",
            "158          5  21, 21, 21, 21, 21  \n",
            "159          0                None  \n",
            "\n",
            "[160 rows x 9 columns]\n"
          ]
        }
      ]
    },
    {
      "cell_type": "code",
      "source": [
        "# insertion analysis\n",
        "\n",
        "import shutil\n",
        "\n",
        "chr=[1,2,3,4,5,6,7,8,9,10,11,12,13,14,15,16,17,18,19,20,21,22,23,24,25,26,27,28,29,\"X\"]\n",
        "for i in chr:\n",
        "  in_f1=f\"/content/drive/MyDrive/Hereford_VarAnalysis/Hereford_chrVar/ins/{i}/hfqtl_NelVar{i}.csv\"\n",
        "  op_loc=f\"/content/drive/MyDrive/Hereford_VarAnalysis/HFNelQTL_VarAnal/ins/{i}\"\n",
        "  print(f\"chromosome{i}\")\n",
        "\n",
        "  df=pd.read_csv(in_f1)\n",
        "  print(\"file:\", df.shape)\n",
        "\n",
        "  df_qtl=df[df['qtlgene_type']==\"within_gene\"]\n",
        "  print(\"df_qtl:\", df_qtl.shape)\n",
        "\n",
        "  df_hf=df_qtl[df_qtl[\"HFgene_type\"]==\"within_gene\"]\n",
        "  print(\"df_hf:\", df_hf.shape)\n",
        "\n",
        "  df_nel=df_hf[df_hf[\"Nelgene_type\"]==\"within_gene\"]\n",
        "  print(\"df_nel:\", df_nel.shape)\n",
        "\n",
        "  ins_df=df_nel.drop_duplicates(subset=[\"Symbol\", \"QTL Class\", \"startpos.q\", \"endpos.q\", \"LOV\"]).reset_index()\n",
        "  print(\"ins_df:\", ins_df.shape)\n",
        "\n",
        "  out_f1=f\"HFNelQTL_wd{i}.csv\"\n",
        "  ins_df.to_csv(out_f1)\n",
        "  shutil.copy(out_f1, op_loc)\n",
        "\n",
        "  ins_dff=ins_df.groupby([\"Name\", \"Symbol\", \"NelLocus\", \"NelProt\", \"startpos.q\", \"endpos.q\", \"LOV\"]).agg({\"QTL Class\": lambda x: \",\".join(set(x))}).reset_index()\n",
        "  print(\"ins_dff:\",ins_dff.shape)\n",
        "\n",
        "  out_ff1=f\"HFNelQTL{i}.csv\"\n",
        "  ins_dff.to_csv(out_ff1)\n",
        "  shutil.copy(out_ff1, op_loc)\n",
        "\n",
        "\n",
        "  # Add a count column\n",
        "  ins_dff[\"ins_count\"]=ins_dff.groupby([\"Name\", \"Symbol\", \"NelLocus\", \"NelProt\"])[\"Symbol\"].transform(\"count\")\n",
        "\n",
        "  # Add LOV >= 10 and Length columns\n",
        "  ins_dff[\"ins_count_LOV10\"]=(ins_dff[\"LOV\"]>=10).astype(int)\n",
        "  ins_dff[\"Length_LOV10\"]=ins_dff[\"LOV\"].where(ins_dff[\"LOV\"]>=10, None)\n",
        "\n",
        "  # Add LOV>=50 and its length columns\n",
        "  ins_dff[\"ins_count_LOV50\"]=(ins_dff[\"LOV\"]>=50).astype(int)\n",
        "  ins_dff[\"Length_LOV50\"]=ins_dff[\"LOV\"].where(ins_dff[\"LOV\"]>=50, None)\n",
        "\n",
        "  # Aggregate QTL Class and other columns\n",
        "  result_dff=ins_dff.groupby([\"Name\", \"Symbol\", \"NelLocus\", \"NelProt\"]).agg({\"QTL Class\" : lambda x: \",\".join(set(x)),\n",
        "    \"ins_count\": \"first\", \"ins_count_LOV10\" : 'sum',\n",
        "    \"Length_LOV10\" :lambda x: ', '.join(map(str, x.dropna().astype(int))) if not x.dropna().empty else None,\n",
        "    \"ins_count_LOV50\" : 'sum',\n",
        "    \"Length_LOV50\" :lambda x: ', '.join(map(str, x.dropna().astype(int))) if not x.dropna().empty else None }).reset_index()\n",
        "\n",
        "  out_f2=f\"inslov_count{i}.csv\"\n",
        "  result_dff.to_csv(out_f2)\n",
        "  print(\"result_dff:\", result_dff.shape)\n",
        "  shutil.copy(out_f2, op_loc)\n",
        "\n",
        "\n",
        "\n",
        "\n",
        "\n",
        "\n"
      ],
      "metadata": {
        "colab": {
          "base_uri": "https://localhost:8080/"
        },
        "id": "O4xWK_xhH2fc",
        "outputId": "d0bb0413-cbe6-4ef8-ef7d-16feaa34edaa"
      },
      "execution_count": null,
      "outputs": [
        {
          "output_type": "stream",
          "name": "stdout",
          "text": [
            "chromosome1\n",
            "file: (9583, 36)\n",
            "df_qtl: (5868, 36)\n",
            "df_hf: (5741, 36)\n",
            "df_nel: (5270, 36)\n",
            "ins_df: (2867, 37)\n",
            "ins_dff: (937, 8)\n",
            "result_dff: (163, 10)\n",
            "chromosome2\n",
            "file: (6229, 36)\n",
            "df_qtl: (3817, 36)\n",
            "df_hf: (3590, 36)\n",
            "df_nel: (3047, 36)\n",
            "ins_df: (1866, 37)\n",
            "ins_dff: (640, 8)\n",
            "result_dff: (164, 10)\n",
            "chromosome3\n",
            "file: (6135, 36)\n",
            "df_qtl: (3646, 36)\n",
            "df_hf: (3437, 36)\n",
            "df_nel: (2521, 36)\n",
            "ins_df: (1380, 37)\n",
            "ins_dff: (609, 8)\n",
            "result_dff: (164, 10)\n",
            "chromosome4\n",
            "file: (8728, 36)\n",
            "df_qtl: (6689, 36)\n",
            "df_hf: (6494, 36)\n",
            "df_nel: (5466, 36)\n",
            "ins_df: (2837, 37)\n",
            "ins_dff: (1038, 8)\n",
            "result_dff: (159, 10)\n",
            "chromosome5\n",
            "file: (5981, 36)\n",
            "df_qtl: (4305, 36)\n",
            "df_hf: (4096, 36)\n",
            "df_nel: (3650, 36)\n",
            "ins_df: (1757, 37)\n",
            "ins_dff: (597, 8)\n",
            "result_dff: (175, 10)\n",
            "chromosome6\n",
            "file: (10566, 36)\n",
            "df_qtl: (6623, 36)\n",
            "df_hf: (6089, 36)\n",
            "df_nel: (5339, 36)\n",
            "ins_df: (2087, 37)\n",
            "ins_dff: (647, 8)\n",
            "result_dff: (164, 10)\n",
            "chromosome7\n",
            "file: (6838, 36)\n",
            "df_qtl: (3637, 36)\n",
            "df_hf: (3441, 36)\n",
            "df_nel: (2636, 36)\n",
            "ins_df: (1415, 37)\n",
            "ins_dff: (549, 8)\n",
            "result_dff: (161, 10)\n",
            "chromosome8\n",
            "file: (8420, 36)\n",
            "df_qtl: (5548, 36)\n",
            "df_hf: (5330, 36)\n",
            "df_nel: (4089, 36)\n",
            "ins_df: (1875, 37)\n",
            "ins_dff: (694, 8)\n",
            "result_dff: (160, 10)\n",
            "chromosome9\n",
            "file: (3871, 36)\n",
            "df_qtl: (2069, 36)\n",
            "df_hf: (1961, 36)\n",
            "df_nel: (1826, 36)\n",
            "ins_df: (1183, 37)\n",
            "ins_dff: (415, 8)\n",
            "result_dff: (103, 10)\n",
            "chromosome10\n",
            "file: (13108, 36)\n",
            "df_qtl: (10929, 36)\n",
            "df_hf: (10803, 36)\n",
            "df_nel: (10269, 36)\n",
            "ins_df: (2087, 37)\n",
            "ins_dff: (727, 8)\n",
            "result_dff: (157, 10)\n",
            "chromosome11\n",
            "file: (6945, 36)\n",
            "df_qtl: (4605, 36)\n",
            "df_hf: (4478, 36)\n",
            "df_nel: (4227, 36)\n",
            "ins_df: (1773, 37)\n",
            "ins_dff: (621, 8)\n",
            "result_dff: (168, 10)\n",
            "chromosome12\n",
            "file: (5122, 36)\n",
            "df_qtl: (2888, 36)\n",
            "df_hf: (2821, 36)\n",
            "df_nel: (2693, 36)\n",
            "ins_df: (1293, 37)\n",
            "ins_dff: (431, 8)\n",
            "result_dff: (65, 10)\n",
            "chromosome13\n",
            "file: (4763, 36)\n",
            "df_qtl: (3155, 36)\n",
            "df_hf: (3016, 36)\n",
            "df_nel: (2588, 36)\n",
            "ins_df: (1592, 37)\n",
            "ins_dff: (563, 8)\n",
            "result_dff: (151, 10)\n",
            "chromosome14\n",
            "file: (3740, 36)\n",
            "df_qtl: (2081, 36)\n",
            "df_hf: (1916, 36)\n",
            "df_nel: (1455, 36)\n",
            "ins_df: (1029, 37)\n",
            "ins_dff: (330, 8)\n",
            "result_dff: (110, 10)\n",
            "chromosome15\n",
            "file: (5793, 36)\n",
            "df_qtl: (4007, 36)\n",
            "df_hf: (3892, 36)\n",
            "df_nel: (3500, 36)\n",
            "ins_df: (1682, 37)\n",
            "ins_dff: (644, 8)\n",
            "result_dff: (139, 10)\n",
            "chromosome16\n",
            "file: (6484, 36)\n",
            "df_qtl: (4643, 36)\n",
            "df_hf: (4412, 36)\n",
            "df_nel: (4224, 36)\n",
            "ins_df: (2027, 37)\n",
            "ins_dff: (658, 8)\n",
            "result_dff: (128, 10)\n",
            "chromosome17\n",
            "file: (4261, 36)\n",
            "df_qtl: (2830, 36)\n",
            "df_hf: (2668, 36)\n",
            "df_nel: (2081, 36)\n",
            "ins_df: (1333, 37)\n",
            "ins_dff: (455, 8)\n",
            "result_dff: (132, 10)\n",
            "chromosome18\n",
            "file: (3302, 36)\n",
            "df_qtl: (1268, 36)\n",
            "df_hf: (1173, 36)\n",
            "df_nel: (924, 36)\n",
            "ins_df: (621, 37)\n",
            "ins_dff: (316, 8)\n",
            "result_dff: (122, 10)\n",
            "chromosome19\n",
            "file: (3552, 36)\n",
            "df_qtl: (2417, 36)\n",
            "df_hf: (2283, 36)\n",
            "df_nel: (1777, 36)\n",
            "ins_df: (875, 37)\n",
            "ins_dff: (404, 8)\n",
            "result_dff: (154, 10)\n",
            "chromosome20\n",
            "file: (6441, 36)\n",
            "df_qtl: (2738, 36)\n",
            "df_hf: (2330, 36)\n",
            "df_nel: (1519, 36)\n",
            "ins_df: (1085, 37)\n",
            "ins_dff: (352, 8)\n",
            "result_dff: (85, 10)\n",
            "chromosome21\n",
            "file: (3831, 36)\n",
            "df_qtl: (1570, 36)\n",
            "df_hf: (1465, 36)\n",
            "df_nel: (1358, 36)\n",
            "ins_df: (877, 37)\n",
            "ins_dff: (301, 8)\n",
            "result_dff: (86, 10)\n",
            "chromosome22\n",
            "file: (6196, 36)\n",
            "df_qtl: (5494, 36)\n",
            "df_hf: (5391, 36)\n",
            "df_nel: (5001, 36)\n",
            "ins_df: (1856, 37)\n",
            "ins_dff: (515, 8)\n",
            "result_dff: (101, 10)\n",
            "chromosome23\n",
            "file: (2152, 36)\n",
            "df_qtl: (1367, 36)\n",
            "df_hf: (1294, 36)\n",
            "df_nel: (979, 36)\n",
            "ins_df: (619, 37)\n",
            "ins_dff: (225, 8)\n",
            "result_dff: (77, 10)\n",
            "chromosome24\n",
            "file: (2139, 36)\n",
            "df_qtl: (1338, 36)\n",
            "df_hf: (1295, 36)\n",
            "df_nel: (1261, 36)\n",
            "ins_df: (711, 37)\n",
            "ins_dff: (241, 8)\n",
            "result_dff: (50, 10)\n",
            "chromosome25\n",
            "file: (2718, 36)\n",
            "df_qtl: (2063, 36)\n",
            "df_hf: (2039, 36)\n",
            "df_nel: (1761, 36)\n",
            "ins_df: (976, 37)\n",
            "ins_dff: (311, 8)\n",
            "result_dff: (81, 10)\n",
            "chromosome26\n",
            "file: (5235, 36)\n",
            "df_qtl: (3819, 36)\n",
            "df_hf: (3650, 36)\n",
            "df_nel: (3283, 36)\n",
            "ins_df: (1839, 37)\n",
            "ins_dff: (539, 8)\n",
            "result_dff: (116, 10)\n",
            "chromosome27\n",
            "file: (2699, 36)\n",
            "df_qtl: (1455, 36)\n",
            "df_hf: (1437, 36)\n",
            "df_nel: (1069, 36)\n",
            "ins_df: (548, 37)\n",
            "ins_dff: (184, 8)\n",
            "result_dff: (49, 10)\n",
            "chromosome28\n",
            "file: (3494, 36)\n",
            "df_qtl: (2635, 36)\n",
            "df_hf: (2560, 36)\n",
            "df_nel: (2238, 36)\n",
            "ins_df: (1539, 37)\n",
            "ins_dff: (429, 8)\n",
            "result_dff: (75, 10)\n",
            "chromosome29\n",
            "file: (5017, 36)\n",
            "df_qtl: (3361, 36)\n",
            "df_hf: (3248, 36)\n",
            "df_nel: (2503, 36)\n",
            "ins_df: (1650, 37)\n",
            "ins_dff: (463, 8)\n",
            "result_dff: (91, 10)\n",
            "chromosomeX\n",
            "file: (5710, 36)\n",
            "df_qtl: (609, 36)\n",
            "df_hf: (493, 36)\n",
            "df_nel: (349, 36)\n",
            "ins_df: (211, 37)\n",
            "ins_dff: (113, 8)\n",
            "result_dff: (59, 10)\n"
          ]
        }
      ]
    },
    {
      "cell_type": "code",
      "source": [
        "# Table Preparation\n",
        "f1=pd.read_csv(\"/content/drive/MyDrive/Hereford_VarAnalysis/HFNelQTL_VarAnal/ins/1/inslov_count1.csv\")\n",
        "f2=pd.read_csv(\"/content/drive/MyDrive/Hereford_VarAnalysis/HFNelQTL_VarAnal/ins/2/inslov_count2.csv\")\n",
        "f3=pd.read_csv(\"/content/drive/MyDrive/Hereford_VarAnalysis/HFNelQTL_VarAnal/ins/3/inslov_count3.csv\")\n",
        "f4=pd.read_csv(\"/content/drive/MyDrive/Hereford_VarAnalysis/HFNelQTL_VarAnal/ins/4/inslov_count4.csv\")\n",
        "f5=pd.read_csv(\"/content/drive/MyDrive/Hereford_VarAnalysis/HFNelQTL_VarAnal/ins/5/inslov_count5.csv\")\n",
        "f6=pd.read_csv(\"/content/drive/MyDrive/Hereford_VarAnalysis/HFNelQTL_VarAnal/ins/6/inslov_count6.csv\")\n",
        "f7=pd.read_csv(\"/content/drive/MyDrive/Hereford_VarAnalysis/HFNelQTL_VarAnal/ins/7/inslov_count7.csv\")\n",
        "f8=pd.read_csv(\"/content/drive/MyDrive/Hereford_VarAnalysis/HFNelQTL_VarAnal/ins/8/inslov_count8.csv\")\n",
        "f9=pd.read_csv(\"/content/drive/MyDrive/Hereford_VarAnalysis/HFNelQTL_VarAnal/ins/9/inslov_count9.csv\")\n",
        "f10=pd.read_csv(\"/content/drive/MyDrive/Hereford_VarAnalysis/HFNelQTL_VarAnal/ins/10/inslov_count10.csv\")\n",
        "f11=pd.read_csv(\"/content/drive/MyDrive/Hereford_VarAnalysis/HFNelQTL_VarAnal/ins/11/inslov_count11.csv\")\n",
        "f12=pd.read_csv(\"/content/drive/MyDrive/Hereford_VarAnalysis/HFNelQTL_VarAnal/ins/12/inslov_count12.csv\")\n",
        "f13=pd.read_csv(\"/content/drive/MyDrive/Hereford_VarAnalysis/HFNelQTL_VarAnal/ins/13/inslov_count13.csv\")\n",
        "f14=pd.read_csv(\"/content/drive/MyDrive/Hereford_VarAnalysis/HFNelQTL_VarAnal/ins/14/inslov_count14.csv\")\n",
        "f15=pd.read_csv(\"/content/drive/MyDrive/Hereford_VarAnalysis/HFNelQTL_VarAnal/ins/15/inslov_count15.csv\")\n",
        "f16=pd.read_csv(\"/content/drive/MyDrive/Hereford_VarAnalysis/HFNelQTL_VarAnal/ins/16/inslov_count16.csv\")\n",
        "f17=pd.read_csv(\"/content/drive/MyDrive/Hereford_VarAnalysis/HFNelQTL_VarAnal/ins/17/inslov_count17.csv\")\n",
        "f18=pd.read_csv(\"/content/drive/MyDrive/Hereford_VarAnalysis/HFNelQTL_VarAnal/ins/18/inslov_count18.csv\")\n",
        "f19=pd.read_csv(\"/content/drive/MyDrive/Hereford_VarAnalysis/HFNelQTL_VarAnal/ins/19/inslov_count19.csv\")\n",
        "f20=pd.read_csv(\"/content/drive/MyDrive/Hereford_VarAnalysis/HFNelQTL_VarAnal/ins/20/inslov_count20.csv\")\n",
        "f21=pd.read_csv(\"/content/drive/MyDrive/Hereford_VarAnalysis/HFNelQTL_VarAnal/ins/21/inslov_count21.csv\")\n",
        "f22=pd.read_csv(\"/content/drive/MyDrive/Hereford_VarAnalysis/HFNelQTL_VarAnal/ins/22/inslov_count22.csv\")\n",
        "f23=pd.read_csv(\"/content/drive/MyDrive/Hereford_VarAnalysis/HFNelQTL_VarAnal/ins/23/inslov_count23.csv\")\n",
        "f24=pd.read_csv(\"/content/drive/MyDrive/Hereford_VarAnalysis/HFNelQTL_VarAnal/ins/24/inslov_count24.csv\")\n",
        "f25=pd.read_csv(\"/content/drive/MyDrive/Hereford_VarAnalysis/HFNelQTL_VarAnal/ins/25/inslov_count25.csv\")\n",
        "f26=pd.read_csv(\"/content/drive/MyDrive/Hereford_VarAnalysis/HFNelQTL_VarAnal/ins/26/inslov_count26.csv\")\n",
        "f27=pd.read_csv(\"/content/drive/MyDrive/Hereford_VarAnalysis/HFNelQTL_VarAnal/ins/27/inslov_count27.csv\")\n",
        "f28=pd.read_csv(\"/content/drive/MyDrive/Hereford_VarAnalysis/HFNelQTL_VarAnal/ins/28/inslov_count28.csv\")\n",
        "f29=pd.read_csv(\"/content/drive/MyDrive/Hereford_VarAnalysis/HFNelQTL_VarAnal/ins/29/inslov_count29.csv\")\n",
        "fX=pd.read_csv(\"/content/drive/MyDrive/Hereford_VarAnalysis/HFNelQTL_VarAnal/ins/X/inslov_countX.csv\")"
      ],
      "metadata": {
        "id": "Pzieh1nzcyjF"
      },
      "execution_count": null,
      "outputs": []
    },
    {
      "cell_type": "code",
      "source": [
        "table_insqtl=pd.DataFrame(columns=[\"Chromosome number\"]+list(f1))\n",
        "table_insqtl"
      ],
      "metadata": {
        "colab": {
          "base_uri": "https://localhost:8080/",
          "height": 86
        },
        "id": "cGtVPTA2d_eX",
        "outputId": "dba7dbed-e96d-4829-f4f5-ae9321da87d7"
      },
      "execution_count": null,
      "outputs": [
        {
          "output_type": "execute_result",
          "data": {
            "text/plain": [
              "Empty DataFrame\n",
              "Columns: [Chromosome number, Unnamed: 0, Name, Symbol, NelLocus, NelProt, QTL Class, ins_count, ins_count_LOV10, Length_LOV10, ins_count_LOV50, Length_LOV50]\n",
              "Index: []"
            ],
            "text/html": [
              "\n",
              "  <div id=\"df-4143f002-a477-4cee-9910-02cf2dbb1748\" class=\"colab-df-container\">\n",
              "    <div>\n",
              "<style scoped>\n",
              "    .dataframe tbody tr th:only-of-type {\n",
              "        vertical-align: middle;\n",
              "    }\n",
              "\n",
              "    .dataframe tbody tr th {\n",
              "        vertical-align: top;\n",
              "    }\n",
              "\n",
              "    .dataframe thead th {\n",
              "        text-align: right;\n",
              "    }\n",
              "</style>\n",
              "<table border=\"1\" class=\"dataframe\">\n",
              "  <thead>\n",
              "    <tr style=\"text-align: right;\">\n",
              "      <th></th>\n",
              "      <th>Chromosome number</th>\n",
              "      <th>Unnamed: 0</th>\n",
              "      <th>Name</th>\n",
              "      <th>Symbol</th>\n",
              "      <th>NelLocus</th>\n",
              "      <th>NelProt</th>\n",
              "      <th>QTL Class</th>\n",
              "      <th>ins_count</th>\n",
              "      <th>ins_count_LOV10</th>\n",
              "      <th>Length_LOV10</th>\n",
              "      <th>ins_count_LOV50</th>\n",
              "      <th>Length_LOV50</th>\n",
              "    </tr>\n",
              "  </thead>\n",
              "  <tbody>\n",
              "  </tbody>\n",
              "</table>\n",
              "</div>\n",
              "    <div class=\"colab-df-buttons\">\n",
              "\n",
              "  <div class=\"colab-df-container\">\n",
              "    <button class=\"colab-df-convert\" onclick=\"convertToInteractive('df-4143f002-a477-4cee-9910-02cf2dbb1748')\"\n",
              "            title=\"Convert this dataframe to an interactive table.\"\n",
              "            style=\"display:none;\">\n",
              "\n",
              "  <svg xmlns=\"http://www.w3.org/2000/svg\" height=\"24px\" viewBox=\"0 -960 960 960\">\n",
              "    <path d=\"M120-120v-720h720v720H120Zm60-500h600v-160H180v160Zm220 220h160v-160H400v160Zm0 220h160v-160H400v160ZM180-400h160v-160H180v160Zm440 0h160v-160H620v160ZM180-180h160v-160H180v160Zm440 0h160v-160H620v160Z\"/>\n",
              "  </svg>\n",
              "    </button>\n",
              "\n",
              "  <style>\n",
              "    .colab-df-container {\n",
              "      display:flex;\n",
              "      gap: 12px;\n",
              "    }\n",
              "\n",
              "    .colab-df-convert {\n",
              "      background-color: #E8F0FE;\n",
              "      border: none;\n",
              "      border-radius: 50%;\n",
              "      cursor: pointer;\n",
              "      display: none;\n",
              "      fill: #1967D2;\n",
              "      height: 32px;\n",
              "      padding: 0 0 0 0;\n",
              "      width: 32px;\n",
              "    }\n",
              "\n",
              "    .colab-df-convert:hover {\n",
              "      background-color: #E2EBFA;\n",
              "      box-shadow: 0px 1px 2px rgba(60, 64, 67, 0.3), 0px 1px 3px 1px rgba(60, 64, 67, 0.15);\n",
              "      fill: #174EA6;\n",
              "    }\n",
              "\n",
              "    .colab-df-buttons div {\n",
              "      margin-bottom: 4px;\n",
              "    }\n",
              "\n",
              "    [theme=dark] .colab-df-convert {\n",
              "      background-color: #3B4455;\n",
              "      fill: #D2E3FC;\n",
              "    }\n",
              "\n",
              "    [theme=dark] .colab-df-convert:hover {\n",
              "      background-color: #434B5C;\n",
              "      box-shadow: 0px 1px 3px 1px rgba(0, 0, 0, 0.15);\n",
              "      filter: drop-shadow(0px 1px 2px rgba(0, 0, 0, 0.3));\n",
              "      fill: #FFFFFF;\n",
              "    }\n",
              "  </style>\n",
              "\n",
              "    <script>\n",
              "      const buttonEl =\n",
              "        document.querySelector('#df-4143f002-a477-4cee-9910-02cf2dbb1748 button.colab-df-convert');\n",
              "      buttonEl.style.display =\n",
              "        google.colab.kernel.accessAllowed ? 'block' : 'none';\n",
              "\n",
              "      async function convertToInteractive(key) {\n",
              "        const element = document.querySelector('#df-4143f002-a477-4cee-9910-02cf2dbb1748');\n",
              "        const dataTable =\n",
              "          await google.colab.kernel.invokeFunction('convertToInteractive',\n",
              "                                                    [key], {});\n",
              "        if (!dataTable) return;\n",
              "\n",
              "        const docLinkHtml = 'Like what you see? Visit the ' +\n",
              "          '<a target=\"_blank\" href=https://colab.research.google.com/notebooks/data_table.ipynb>data table notebook</a>'\n",
              "          + ' to learn more about interactive tables.';\n",
              "        element.innerHTML = '';\n",
              "        dataTable['output_type'] = 'display_data';\n",
              "        await google.colab.output.renderOutput(dataTable, element);\n",
              "        const docLink = document.createElement('div');\n",
              "        docLink.innerHTML = docLinkHtml;\n",
              "        element.appendChild(docLink);\n",
              "      }\n",
              "    </script>\n",
              "  </div>\n",
              "\n",
              "    </div>\n",
              "  </div>\n"
            ]
          },
          "metadata": {},
          "execution_count": 11
        }
      ]
    },
    {
      "cell_type": "code",
      "source": [
        "f1[\"Chromosome number\"]=1\n",
        "f2[\"Chromosome number\"]=2\n",
        "f3[\"Chromosome number\"]=3\n",
        "f4[\"Chromosome number\"]=4\n",
        "f5[\"Chromosome number\"]=5\n",
        "f6[\"Chromosome number\"]=6\n",
        "f7[\"Chromosome number\"]=7\n",
        "f8[\"Chromosome number\"]=8\n",
        "f9[\"Chromosome number\"]=9\n",
        "f10[\"Chromosome number\"]=10\n",
        "f11[\"Chromosome number\"]=11\n",
        "f12[\"Chromosome number\"]=12\n",
        "f13[\"Chromosome number\"]=13\n",
        "f14[\"Chromosome number\"]=14\n",
        "f15[\"Chromosome number\"]=15\n",
        "f16[\"Chromosome number\"]=16\n",
        "f17[\"Chromosome number\"]=17\n",
        "f18[\"Chromosome number\"]=18\n",
        "f19[\"Chromosome number\"]=19\n",
        "f20[\"Chromosome number\"]=20\n",
        "f21[\"Chromosome number\"]=21\n",
        "f22[\"Chromosome number\"]=22\n",
        "f23[\"Chromosome number\"]=23\n",
        "f24[\"Chromosome number\"]=24\n",
        "f25[\"Chromosome number\"]=25\n",
        "f26[\"Chromosome number\"]=26\n",
        "f27[\"Chromosome number\"]=27\n",
        "f28[\"Chromosome number\"]=28\n",
        "f29[\"Chromosome number\"]=29\n",
        "fX[\"Chromosome number\"]='X'"
      ],
      "metadata": {
        "id": "KK1oNUfgeAB5"
      },
      "execution_count": null,
      "outputs": []
    },
    {
      "cell_type": "code",
      "source": [
        "table_insqtl=pd.concat([table_insqtl, f1, f2, f3, f4, f5, f6, f7, f8, f9, f10, f11, f12, f13, f14, f15, f16, f17, f18, f19, f20, f21, f22, f23, f24, f25, f26, f27, f28, f29, fX])"
      ],
      "metadata": {
        "id": "kIUd5lOFf-YT"
      },
      "execution_count": null,
      "outputs": []
    },
    {
      "cell_type": "code",
      "source": [
        "table_insqtl.shape"
      ],
      "metadata": {
        "colab": {
          "base_uri": "https://localhost:8080/"
        },
        "id": "kTHnPGT_gQET",
        "outputId": "91b35e86-fd01-4e2f-b9ea-4c66c0bb1238"
      },
      "execution_count": null,
      "outputs": [
        {
          "output_type": "execute_result",
          "data": {
            "text/plain": [
              "(3609, 12)"
            ]
          },
          "metadata": {},
          "execution_count": 14
        }
      ]
    },
    {
      "cell_type": "code",
      "source": [
        "table_insqtl.head"
      ],
      "metadata": {
        "colab": {
          "base_uri": "https://localhost:8080/"
        },
        "id": "YtRnjO-PnJVO",
        "outputId": "0df05861-cf3d-437c-e440-d3aecced36c7"
      },
      "execution_count": null,
      "outputs": [
        {
          "output_type": "execute_result",
          "data": {
            "text/plain": [
              "<bound method NDFrame.head of    Chromosome number Unnamed: 0  \\\n",
              "0                  1          0   \n",
              "1                  1          1   \n",
              "2                  1          2   \n",
              "3                  1          3   \n",
              "4                  1          4   \n",
              "..               ...        ...   \n",
              "54                 X         54   \n",
              "55                 X         55   \n",
              "56                 X         56   \n",
              "57                 X         57   \n",
              "58                 X         58   \n",
              "\n",
              "                                             Name        Symbol NelLocus  \\\n",
              "0             1,4-alpha-glucan branching enzyme 1          GBE1     GBE1   \n",
              "1                 3-hydroxyacyl-CoA dehydratase 2         HACD2    HACD2   \n",
              "2             ABI family member 3 binding protein        ABI3BP   ABI3BP   \n",
              "3       ATP binding cassette subfamily G member 1         ABCG1    ABCG1   \n",
              "4                                     ATPase 13A3       ATP13A3  ATP13A3   \n",
              "..                                            ...           ...      ...   \n",
              "54                      transmembrane protein 164       TMEM164  TMEM164   \n",
              "55                   uncharacterized LOC101904527  LOC101904527     CA5B   \n",
              "56               zinc finger C4H2-type containing         ZC4H2    ZC4H2   \n",
              "57  zinc finger DHHC-type palmitoyltransferase 15       ZDHHC15  ZDHHC15   \n",
              "58        zinc finger protein 185 with LIM domain        ZNF185   ZNF185   \n",
              "\n",
              "                                              NelProt  \\\n",
              "0   PREDICTED: 1,4-alpha-glucan-branching enzyme, ...   \n",
              "1   PREDICTED: very-long-chain (3R)-3-hydroxyacyl-...   \n",
              "2           PREDICTED: target of Nesh-SH3 isoform X13   \n",
              "3   PREDICTED: ATP-binding cassette sub-family G m...   \n",
              "4   PREDICTED: probable cation-transporting ATPase...   \n",
              "..                                                ...   \n",
              "54               PREDICTED: transmembrane protein 164   \n",
              "55  PREDICTED: carbonic anhydrase 5B, mitochondria...   \n",
              "56  PREDICTED: zinc finger C4H2 domain-containing ...   \n",
              "57            PREDICTED: palmitoyltransferase ZDHHC15   \n",
              "58                 PREDICTED: zinc finger protein 185   \n",
              "\n",
              "                                            QTL Class ins_count  \\\n",
              "0                              Production_Association        11   \n",
              "1                                  Health_Association         1   \n",
              "2                            Reproduction_Association        18   \n",
              "3                        Meat_and_Carcass_Association         5   \n",
              "4                        Meat_and_Carcass_Association         1   \n",
              "..                                                ...       ...   \n",
              "54  Meat_and_Carcass_Association,Reproduction_Asso...         4   \n",
              "55                             Production_Association         1   \n",
              "56                           Reproduction_Association         1   \n",
              "57                           Reproduction_Association         1   \n",
              "58        Health_Association,Reproduction_Association         2   \n",
              "\n",
              "   ins_count_LOV10 Length_LOV10 ins_count_LOV50 Length_LOV50  \n",
              "0                0          NaN               0          NaN  \n",
              "1                0          NaN               0          NaN  \n",
              "2                2       12, 14               0          NaN  \n",
              "3                0          NaN               0          NaN  \n",
              "4                0          NaN               0          NaN  \n",
              "..             ...          ...             ...          ...  \n",
              "54               0          NaN               0          NaN  \n",
              "55               0          NaN               0          NaN  \n",
              "56               0          NaN               0          NaN  \n",
              "57               0          NaN               0          NaN  \n",
              "58               0          NaN               0          NaN  \n",
              "\n",
              "[3609 rows x 12 columns]>"
            ]
          },
          "metadata": {},
          "execution_count": 138
        }
      ]
    },
    {
      "cell_type": "code",
      "source": [
        "table_insqtl.to_csv(\"table_insqtl.csv\")\n",
        "\n",
        "shutil.copy(\"table_insqtl.csv\", \"/content/drive/MyDrive/Hereford_VarAnalysis/HFNelQTL_VarAnal\")"
      ],
      "metadata": {
        "colab": {
          "base_uri": "https://localhost:8080/",
          "height": 36
        },
        "id": "sJhTbpxHiWHL",
        "outputId": "753c2f3f-0ba2-4527-d7df-ef64f1deb2d5"
      },
      "execution_count": null,
      "outputs": [
        {
          "output_type": "execute_result",
          "data": {
            "text/plain": [
              "'/content/drive/MyDrive/Hereford_VarAnalysis/HFNelQTL_VarAnal/table_insqtl.csv'"
            ],
            "application/vnd.google.colaboratory.intrinsic+json": {
              "type": "string"
            }
          },
          "metadata": {},
          "execution_count": 15
        }
      ]
    },
    {
      "cell_type": "code",
      "source": [
        "# deletion analysis\n",
        "\n",
        "import shutil\n",
        "import pandas as pd\n",
        "\n",
        "chr=[1,2,3,4,5,6,7,8,9,10,11,12,13,14,15,16,17,18,19,20,21,22,23,24,25,26,27,28,29,\"X\"]\n",
        "for i in chr:\n",
        "  in_f1=f\"/content/drive/MyDrive/Hereford_VarAnalysis/Hereford_chrVar/del/{i}/hfqtl_NelVar{i}.csv\"\n",
        "  op_loc=f\"/content/drive/MyDrive/Hereford_VarAnalysis/HFNelQTL_VarAnal/del/{i}\"\n",
        "  print(f\"chromosome{i}\")\n",
        "\n",
        "  df=pd.read_csv(in_f1)\n",
        "  print(\"file:\", df.shape)\n",
        "\n",
        "  df_qtl=df[df['qtlgene_type']==\"within_gene\"]\n",
        "  print(\"df_qtl:\", df_qtl.shape)\n",
        "\n",
        "  df_hf=df_qtl[df_qtl[\"HFgene_type\"]==\"within_gene\"]\n",
        "  print(\"df_hf:\", df_hf.shape)\n",
        "\n",
        "  df_nel=df_hf[df_hf[\"Nelgene_type\"]==\"within_gene\"]\n",
        "  print(\"df_nel:\", df_nel.shape)\n",
        "\n",
        "  del_df=df_nel.drop_duplicates(subset=[\"Symbol\", \"QTL Class\", \"startpos.q\", \"endpos.q\", \"LOV\"]).reset_index()\n",
        "  print(\"del_df:\", del_df.shape)\n",
        "\n",
        "  out_f1=f\"HFNelQTL_wd{i}.csv\"\n",
        "  del_df.to_csv(out_f1)\n",
        "  shutil.copy(out_f1, op_loc)\n",
        "\n",
        "  del_dff=del_df.groupby([\"Name\", \"Symbol\", \"NelLocus\", \"NelProt\", \"startpos.q\", \"endpos.q\", \"LOV\"]).agg({\"QTL Class\": lambda x: \",\".join(set(x))}).reset_index()\n",
        "  print(\"del_dff:\",del_dff.shape)\n",
        "\n",
        "  out_ff1=f\"HFNelQTL{i}.csv\"\n",
        "  del_dff.to_csv(out_ff1)\n",
        "  shutil.copy(out_ff1, op_loc)\n",
        "\n",
        "\n",
        "  # Add a count column\n",
        "  del_dff[\"del_count\"]=del_dff.groupby([\"Name\", \"Symbol\", \"NelLocus\", \"NelProt\"])[\"Symbol\"].transform(\"count\")\n",
        "\n",
        "  # Add LOV >= 10 and Length columns\n",
        "  del_dff[\"del_count_LOV10\"]=(del_dff[\"LOV\"]>=10).astype(int)\n",
        "  del_dff[\"Length_LOV10\"]=del_dff[\"LOV\"].where(del_dff[\"LOV\"]>=10, None)\n",
        "\n",
        "  # Add LOV>=50 and its length columns\n",
        "  del_dff[\"del_count_LOV50\"]=(del_dff[\"LOV\"]>=50).astype(int)\n",
        "  del_dff[\"Length_LOV50\"]=del_dff[\"LOV\"].where(del_dff[\"LOV\"]>=50, None)\n",
        "\n",
        "  # Aggregate QTL Class and other columns\n",
        "  result_dff=del_dff.groupby([\"Name\", \"Symbol\", \"NelLocus\", \"NelProt\"]).agg({\"QTL Class\" : lambda x: \",\".join(set(x)),\n",
        "    \"del_count\": \"first\", \"del_count_LOV10\" : 'sum',\n",
        "    \"Length_LOV10\" :lambda x: ', '.join(map(str, x.dropna().astype(int))) if not x.dropna().empty else None,\n",
        "    \"del_count_LOV50\" : 'sum',\n",
        "    \"Length_LOV50\" :lambda x: ', '.join(map(str, x.dropna().astype(int))) if not x.dropna().empty else None }).reset_index()\n",
        "\n",
        "  out_f2=f\"dellov_count{i}.csv\"\n",
        "  result_dff.to_csv(out_f2)\n",
        "  print(\"result_dff:\", result_dff.shape)\n",
        "  shutil.copy(out_f2, op_loc)\n",
        "\n"
      ],
      "metadata": {
        "colab": {
          "base_uri": "https://localhost:8080/"
        },
        "id": "cm1ezbRNS5xK",
        "outputId": "08554c51-177a-4a85-bc81-3a1e7722d497"
      },
      "execution_count": null,
      "outputs": [
        {
          "output_type": "stream",
          "name": "stdout",
          "text": [
            "chromosome1\n",
            "file: (3433, 36)\n",
            "df_qtl: (2101, 36)\n",
            "df_hf: (1965, 36)\n",
            "df_nel: (1751, 36)\n",
            "del_df: (942, 37)\n",
            "del_dff: (320, 8)\n",
            "result_dff: (105, 10)\n",
            "chromosome2\n",
            "file: (2580, 36)\n",
            "df_qtl: (1548, 36)\n",
            "df_hf: (1426, 36)\n",
            "df_nel: (1188, 36)\n",
            "del_df: (613, 37)\n",
            "del_dff: (245, 8)\n",
            "result_dff: (100, 10)\n",
            "chromosome3\n",
            "file: (2346, 36)\n",
            "df_qtl: (1182, 36)\n",
            "df_hf: (1122, 36)\n",
            "df_nel: (818, 36)\n",
            "del_df: (490, 37)\n",
            "del_dff: (231, 8)\n",
            "result_dff: (99, 10)\n",
            "chromosome4\n",
            "file: (3622, 36)\n",
            "df_qtl: (2617, 36)\n",
            "df_hf: (2505, 36)\n",
            "df_nel: (1885, 36)\n",
            "del_df: (999, 37)\n",
            "del_dff: (365, 8)\n",
            "result_dff: (110, 10)\n",
            "chromosome5\n",
            "file: (1728, 36)\n",
            "df_qtl: (1174, 36)\n",
            "df_hf: (1071, 36)\n",
            "df_nel: (915, 36)\n",
            "del_df: (517, 37)\n",
            "del_dff: (178, 8)\n",
            "result_dff: (85, 10)\n",
            "chromosome6\n",
            "file: (3873, 36)\n",
            "df_qtl: (2640, 36)\n",
            "df_hf: (2453, 36)\n",
            "df_nel: (2207, 36)\n",
            "del_df: (823, 37)\n",
            "del_dff: (260, 8)\n",
            "result_dff: (95, 10)\n",
            "chromosome7\n",
            "file: (3040, 36)\n",
            "df_qtl: (2007, 36)\n",
            "df_hf: (1931, 36)\n",
            "df_nel: (1690, 36)\n",
            "del_df: (606, 37)\n",
            "del_dff: (224, 8)\n",
            "result_dff: (89, 10)\n",
            "chromosome8\n",
            "file: (3163, 36)\n",
            "df_qtl: (2033, 36)\n",
            "df_hf: (1926, 36)\n",
            "df_nel: (1579, 36)\n",
            "del_df: (558, 37)\n",
            "del_dff: (220, 8)\n",
            "result_dff: (95, 10)\n",
            "chromosome9\n",
            "file: (1887, 36)\n",
            "df_qtl: (1117, 36)\n",
            "df_hf: (1048, 36)\n",
            "df_nel: (899, 36)\n",
            "del_df: (453, 37)\n",
            "del_dff: (173, 8)\n",
            "result_dff: (61, 10)\n",
            "chromosome10\n",
            "file: (4382, 36)\n",
            "df_qtl: (3535, 36)\n",
            "df_hf: (3462, 36)\n",
            "df_nel: (3170, 36)\n",
            "del_df: (706, 37)\n",
            "del_dff: (231, 8)\n",
            "result_dff: (83, 10)\n",
            "chromosome11\n",
            "file: (2970, 36)\n",
            "df_qtl: (2048, 36)\n",
            "df_hf: (1984, 36)\n",
            "df_nel: (1791, 36)\n",
            "del_df: (742, 37)\n",
            "del_dff: (222, 8)\n",
            "result_dff: (80, 10)\n",
            "chromosome12\n",
            "file: (1972, 36)\n",
            "df_qtl: (1222, 36)\n",
            "df_hf: (1179, 36)\n",
            "df_nel: (1093, 36)\n",
            "del_df: (470, 37)\n",
            "del_dff: (150, 8)\n",
            "result_dff: (39, 10)\n",
            "chromosome13\n",
            "file: (2124, 36)\n",
            "df_qtl: (1500, 36)\n",
            "df_hf: (1453, 36)\n",
            "df_nel: (1163, 36)\n",
            "del_df: (625, 37)\n",
            "del_dff: (233, 8)\n",
            "result_dff: (86, 10)\n",
            "chromosome14\n",
            "file: (1759, 36)\n",
            "df_qtl: (1015, 36)\n",
            "df_hf: (773, 36)\n",
            "df_nel: (638, 36)\n",
            "del_df: (450, 37)\n",
            "del_dff: (148, 8)\n",
            "result_dff: (57, 10)\n",
            "chromosome15\n",
            "file: (2082, 36)\n",
            "df_qtl: (1262, 36)\n",
            "df_hf: (1190, 36)\n",
            "df_nel: (1009, 36)\n",
            "del_df: (461, 37)\n",
            "del_dff: (199, 8)\n",
            "result_dff: (81, 10)\n",
            "chromosome16\n",
            "file: (2108, 36)\n",
            "df_qtl: (1368, 36)\n",
            "df_hf: (1302, 36)\n",
            "df_nel: (1207, 36)\n",
            "del_df: (535, 37)\n",
            "del_dff: (187, 8)\n",
            "result_dff: (72, 10)\n",
            "chromosome17\n",
            "file: (1662, 36)\n",
            "df_qtl: (961, 36)\n",
            "df_hf: (897, 36)\n",
            "df_nel: (556, 36)\n",
            "del_df: (380, 37)\n",
            "del_dff: (138, 8)\n",
            "result_dff: (62, 10)\n",
            "chromosome18\n",
            "file: (1268, 36)\n",
            "df_qtl: (467, 36)\n",
            "df_hf: (403, 36)\n",
            "df_nel: (310, 36)\n",
            "del_df: (240, 37)\n",
            "del_dff: (125, 8)\n",
            "result_dff: (65, 10)\n",
            "chromosome19\n",
            "file: (1562, 36)\n",
            "df_qtl: (1129, 36)\n",
            "df_hf: (1058, 36)\n",
            "df_nel: (775, 36)\n",
            "del_df: (339, 37)\n",
            "del_dff: (168, 8)\n",
            "result_dff: (79, 10)\n",
            "chromosome20\n",
            "file: (2154, 36)\n",
            "df_qtl: (929, 36)\n",
            "df_hf: (757, 36)\n",
            "df_nel: (523, 36)\n",
            "del_df: (417, 37)\n",
            "del_dff: (134, 8)\n",
            "result_dff: (47, 10)\n",
            "chromosome21\n",
            "file: (1186, 36)\n",
            "df_qtl: (483, 36)\n",
            "df_hf: (437, 36)\n",
            "df_nel: (396, 36)\n",
            "del_df: (247, 37)\n",
            "del_dff: (104, 8)\n",
            "result_dff: (41, 10)\n",
            "chromosome22\n",
            "file: (2557, 36)\n",
            "df_qtl: (2236, 36)\n",
            "df_hf: (2172, 36)\n",
            "df_nel: (2015, 36)\n",
            "del_df: (598, 37)\n",
            "del_dff: (155, 8)\n",
            "result_dff: (59, 10)\n",
            "chromosome23\n",
            "file: (1006, 36)\n",
            "df_qtl: (695, 36)\n",
            "df_hf: (677, 36)\n",
            "df_nel: (467, 36)\n",
            "del_df: (305, 37)\n",
            "del_dff: (99, 8)\n",
            "result_dff: (38, 10)\n",
            "chromosome24\n",
            "file: (884, 36)\n",
            "df_qtl: (519, 36)\n",
            "df_hf: (497, 36)\n",
            "df_nel: (426, 36)\n",
            "del_df: (243, 37)\n",
            "del_dff: (88, 8)\n",
            "result_dff: (32, 10)\n",
            "chromosome25\n",
            "file: (1229, 36)\n",
            "df_qtl: (933, 36)\n",
            "df_hf: (918, 36)\n",
            "df_nel: (803, 36)\n",
            "del_df: (360, 37)\n",
            "del_dff: (115, 8)\n",
            "result_dff: (45, 10)\n",
            "chromosome26\n",
            "file: (4115, 36)\n",
            "df_qtl: (3398, 36)\n",
            "df_hf: (3307, 36)\n",
            "df_nel: (3150, 36)\n",
            "del_df: (681, 37)\n",
            "del_dff: (193, 8)\n",
            "result_dff: (65, 10)\n",
            "chromosome27\n",
            "file: (1092, 36)\n",
            "df_qtl: (606, 36)\n",
            "df_hf: (564, 36)\n",
            "df_nel: (376, 36)\n",
            "del_df: (176, 37)\n",
            "del_dff: (59, 8)\n",
            "result_dff: (24, 10)\n",
            "chromosome28\n",
            "file: (1241, 36)\n",
            "df_qtl: (844, 36)\n",
            "df_hf: (782, 36)\n",
            "df_nel: (711, 36)\n",
            "del_df: (537, 37)\n",
            "del_dff: (156, 8)\n",
            "result_dff: (46, 10)\n",
            "chromosome29\n",
            "file: (2101, 36)\n",
            "df_qtl: (1531, 36)\n",
            "df_hf: (1463, 36)\n",
            "df_nel: (1090, 36)\n",
            "del_df: (597, 37)\n",
            "del_dff: (152, 8)\n",
            "result_dff: (37, 10)\n",
            "chromosomeX\n",
            "file: (4124, 36)\n",
            "df_qtl: (372, 36)\n",
            "df_hf: (339, 36)\n",
            "df_nel: (266, 36)\n",
            "del_df: (116, 37)\n",
            "del_dff: (51, 8)\n",
            "result_dff: (28, 10)\n"
          ]
        }
      ]
    },
    {
      "cell_type": "code",
      "source": [
        "# table preparation - deletion\n",
        "\n",
        "ff1=pd.read_csv(\"/content/drive/MyDrive/Hereford_VarAnalysis/HFNelQTL_VarAnal/del/1/dellov_count1.csv\")\n",
        "ff2=pd.read_csv(\"/content/drive/MyDrive/Hereford_VarAnalysis/HFNelQTL_VarAnal/del/2/dellov_count2.csv\")\n",
        "ff3=pd.read_csv(\"/content/drive/MyDrive/Hereford_VarAnalysis/HFNelQTL_VarAnal/del/3/dellov_count3.csv\")\n",
        "ff4=pd.read_csv(\"/content/drive/MyDrive/Hereford_VarAnalysis/HFNelQTL_VarAnal/del/4/dellov_count4.csv\")\n",
        "ff5=pd.read_csv(\"/content/drive/MyDrive/Hereford_VarAnalysis/HFNelQTL_VarAnal/del/5/dellov_count5.csv\")\n",
        "ff6=pd.read_csv(\"/content/drive/MyDrive/Hereford_VarAnalysis/HFNelQTL_VarAnal/del/6/dellov_count6.csv\")\n",
        "ff7=pd.read_csv(\"/content/drive/MyDrive/Hereford_VarAnalysis/HFNelQTL_VarAnal/del/7/dellov_count7.csv\")\n",
        "ff8=pd.read_csv(\"/content/drive/MyDrive/Hereford_VarAnalysis/HFNelQTL_VarAnal/del/8/dellov_count8.csv\")\n",
        "ff9=pd.read_csv(\"/content/drive/MyDrive/Hereford_VarAnalysis/HFNelQTL_VarAnal/del/9/dellov_count9.csv\")\n",
        "ff10=pd.read_csv(\"/content/drive/MyDrive/Hereford_VarAnalysis/HFNelQTL_VarAnal/del/10/dellov_count10.csv\")\n",
        "ff11=pd.read_csv(\"/content/drive/MyDrive/Hereford_VarAnalysis/HFNelQTL_VarAnal/del/11/dellov_count11.csv\")\n",
        "ff12=pd.read_csv(\"/content/drive/MyDrive/Hereford_VarAnalysis/HFNelQTL_VarAnal/del/12/dellov_count12.csv\")\n",
        "ff13=pd.read_csv(\"/content/drive/MyDrive/Hereford_VarAnalysis/HFNelQTL_VarAnal/del/13/dellov_count13.csv\")\n",
        "ff14=pd.read_csv(\"/content/drive/MyDrive/Hereford_VarAnalysis/HFNelQTL_VarAnal/del/14/dellov_count14.csv\")\n",
        "ff15=pd.read_csv(\"/content/drive/MyDrive/Hereford_VarAnalysis/HFNelQTL_VarAnal/del/15/dellov_count15.csv\")\n",
        "ff16=pd.read_csv(\"/content/drive/MyDrive/Hereford_VarAnalysis/HFNelQTL_VarAnal/del/16/dellov_count16.csv\")\n",
        "ff17=pd.read_csv(\"/content/drive/MyDrive/Hereford_VarAnalysis/HFNelQTL_VarAnal/del/17/dellov_count17.csv\")\n",
        "ff18=pd.read_csv(\"/content/drive/MyDrive/Hereford_VarAnalysis/HFNelQTL_VarAnal/del/18/dellov_count18.csv\")\n",
        "ff19=pd.read_csv(\"/content/drive/MyDrive/Hereford_VarAnalysis/HFNelQTL_VarAnal/del/19/dellov_count19.csv\")\n",
        "ff20=pd.read_csv(\"/content/drive/MyDrive/Hereford_VarAnalysis/HFNelQTL_VarAnal/del/20/dellov_count20.csv\")\n",
        "ff21=pd.read_csv(\"/content/drive/MyDrive/Hereford_VarAnalysis/HFNelQTL_VarAnal/del/21/dellov_count21.csv\")\n",
        "ff22=pd.read_csv(\"/content/drive/MyDrive/Hereford_VarAnalysis/HFNelQTL_VarAnal/del/22/dellov_count22.csv\")\n",
        "ff23=pd.read_csv(\"/content/drive/MyDrive/Hereford_VarAnalysis/HFNelQTL_VarAnal/del/23/dellov_count23.csv\")\n",
        "ff24=pd.read_csv(\"/content/drive/MyDrive/Hereford_VarAnalysis/HFNelQTL_VarAnal/del/24/dellov_count24.csv\")\n",
        "ff25=pd.read_csv(\"/content/drive/MyDrive/Hereford_VarAnalysis/HFNelQTL_VarAnal/del/25/dellov_count25.csv\")\n",
        "ff26=pd.read_csv(\"/content/drive/MyDrive/Hereford_VarAnalysis/HFNelQTL_VarAnal/del/26/dellov_count26.csv\")\n",
        "ff27=pd.read_csv(\"/content/drive/MyDrive/Hereford_VarAnalysis/HFNelQTL_VarAnal/del/27/dellov_count27.csv\")\n",
        "ff28=pd.read_csv(\"/content/drive/MyDrive/Hereford_VarAnalysis/HFNelQTL_VarAnal/del/28/dellov_count28.csv\")\n",
        "ff29=pd.read_csv(\"/content/drive/MyDrive/Hereford_VarAnalysis/HFNelQTL_VarAnal/del/29/dellov_count29.csv\")\n",
        "ffX=pd.read_csv(\"/content/drive/MyDrive/Hereford_VarAnalysis/HFNelQTL_VarAnal/del/X/dellov_countX.csv\")\n"
      ],
      "metadata": {
        "id": "KZ4LNkG6VJDf"
      },
      "execution_count": null,
      "outputs": []
    },
    {
      "cell_type": "code",
      "source": [
        "table_delqtl=pd.DataFrame(columns=[\"Chromosome number\"]+list(ff1))\n",
        "table_delqtl"
      ],
      "metadata": {
        "colab": {
          "base_uri": "https://localhost:8080/",
          "height": 86
        },
        "id": "AIG_cjPdVSq2",
        "outputId": "d80104da-9eb0-43f5-c6a8-6f2f4be1380b"
      },
      "execution_count": null,
      "outputs": [
        {
          "output_type": "execute_result",
          "data": {
            "text/plain": [
              "Empty DataFrame\n",
              "Columns: [Chromosome number, Unnamed: 0, Name, Symbol, NelLocus, NelProt, QTL Class, del_count, del_count_LOV10, Length_LOV10, del_count_LOV50, Length_LOV50]\n",
              "Index: []"
            ],
            "text/html": [
              "\n",
              "  <div id=\"df-d9caca45-dac1-4aca-bfc2-2010b9fe3394\" class=\"colab-df-container\">\n",
              "    <div>\n",
              "<style scoped>\n",
              "    .dataframe tbody tr th:only-of-type {\n",
              "        vertical-align: middle;\n",
              "    }\n",
              "\n",
              "    .dataframe tbody tr th {\n",
              "        vertical-align: top;\n",
              "    }\n",
              "\n",
              "    .dataframe thead th {\n",
              "        text-align: right;\n",
              "    }\n",
              "</style>\n",
              "<table border=\"1\" class=\"dataframe\">\n",
              "  <thead>\n",
              "    <tr style=\"text-align: right;\">\n",
              "      <th></th>\n",
              "      <th>Chromosome number</th>\n",
              "      <th>Unnamed: 0</th>\n",
              "      <th>Name</th>\n",
              "      <th>Symbol</th>\n",
              "      <th>NelLocus</th>\n",
              "      <th>NelProt</th>\n",
              "      <th>QTL Class</th>\n",
              "      <th>del_count</th>\n",
              "      <th>del_count_LOV10</th>\n",
              "      <th>Length_LOV10</th>\n",
              "      <th>del_count_LOV50</th>\n",
              "      <th>Length_LOV50</th>\n",
              "    </tr>\n",
              "  </thead>\n",
              "  <tbody>\n",
              "  </tbody>\n",
              "</table>\n",
              "</div>\n",
              "    <div class=\"colab-df-buttons\">\n",
              "\n",
              "  <div class=\"colab-df-container\">\n",
              "    <button class=\"colab-df-convert\" onclick=\"convertToInteractive('df-d9caca45-dac1-4aca-bfc2-2010b9fe3394')\"\n",
              "            title=\"Convert this dataframe to an interactive table.\"\n",
              "            style=\"display:none;\">\n",
              "\n",
              "  <svg xmlns=\"http://www.w3.org/2000/svg\" height=\"24px\" viewBox=\"0 -960 960 960\">\n",
              "    <path d=\"M120-120v-720h720v720H120Zm60-500h600v-160H180v160Zm220 220h160v-160H400v160Zm0 220h160v-160H400v160ZM180-400h160v-160H180v160Zm440 0h160v-160H620v160ZM180-180h160v-160H180v160Zm440 0h160v-160H620v160Z\"/>\n",
              "  </svg>\n",
              "    </button>\n",
              "\n",
              "  <style>\n",
              "    .colab-df-container {\n",
              "      display:flex;\n",
              "      gap: 12px;\n",
              "    }\n",
              "\n",
              "    .colab-df-convert {\n",
              "      background-color: #E8F0FE;\n",
              "      border: none;\n",
              "      border-radius: 50%;\n",
              "      cursor: pointer;\n",
              "      display: none;\n",
              "      fill: #1967D2;\n",
              "      height: 32px;\n",
              "      padding: 0 0 0 0;\n",
              "      width: 32px;\n",
              "    }\n",
              "\n",
              "    .colab-df-convert:hover {\n",
              "      background-color: #E2EBFA;\n",
              "      box-shadow: 0px 1px 2px rgba(60, 64, 67, 0.3), 0px 1px 3px 1px rgba(60, 64, 67, 0.15);\n",
              "      fill: #174EA6;\n",
              "    }\n",
              "\n",
              "    .colab-df-buttons div {\n",
              "      margin-bottom: 4px;\n",
              "    }\n",
              "\n",
              "    [theme=dark] .colab-df-convert {\n",
              "      background-color: #3B4455;\n",
              "      fill: #D2E3FC;\n",
              "    }\n",
              "\n",
              "    [theme=dark] .colab-df-convert:hover {\n",
              "      background-color: #434B5C;\n",
              "      box-shadow: 0px 1px 3px 1px rgba(0, 0, 0, 0.15);\n",
              "      filter: drop-shadow(0px 1px 2px rgba(0, 0, 0, 0.3));\n",
              "      fill: #FFFFFF;\n",
              "    }\n",
              "  </style>\n",
              "\n",
              "    <script>\n",
              "      const buttonEl =\n",
              "        document.querySelector('#df-d9caca45-dac1-4aca-bfc2-2010b9fe3394 button.colab-df-convert');\n",
              "      buttonEl.style.display =\n",
              "        google.colab.kernel.accessAllowed ? 'block' : 'none';\n",
              "\n",
              "      async function convertToInteractive(key) {\n",
              "        const element = document.querySelector('#df-d9caca45-dac1-4aca-bfc2-2010b9fe3394');\n",
              "        const dataTable =\n",
              "          await google.colab.kernel.invokeFunction('convertToInteractive',\n",
              "                                                    [key], {});\n",
              "        if (!dataTable) return;\n",
              "\n",
              "        const docLinkHtml = 'Like what you see? Visit the ' +\n",
              "          '<a target=\"_blank\" href=https://colab.research.google.com/notebooks/data_table.ipynb>data table notebook</a>'\n",
              "          + ' to learn more about interactive tables.';\n",
              "        element.innerHTML = '';\n",
              "        dataTable['output_type'] = 'display_data';\n",
              "        await google.colab.output.renderOutput(dataTable, element);\n",
              "        const docLink = document.createElement('div');\n",
              "        docLink.innerHTML = docLinkHtml;\n",
              "        element.appendChild(docLink);\n",
              "      }\n",
              "    </script>\n",
              "  </div>\n",
              "\n",
              "    </div>\n",
              "  </div>\n"
            ]
          },
          "metadata": {},
          "execution_count": 17
        }
      ]
    },
    {
      "cell_type": "code",
      "source": [
        "ff1[\"Chromosome number\"]=1\n",
        "ff2[\"Chromosome number\"]=2\n",
        "ff3[\"Chromosome number\"]=3\n",
        "ff4[\"Chromosome number\"]=4\n",
        "ff5[\"Chromosome number\"]=5\n",
        "ff6[\"Chromosome number\"]=6\n",
        "ff7[\"Chromosome number\"]=7\n",
        "ff8[\"Chromosome number\"]=8\n",
        "ff9[\"Chromosome number\"]=9\n",
        "ff10[\"Chromosome number\"]=10\n",
        "ff11[\"Chromosome number\"]=11\n",
        "ff12[\"Chromosome number\"]=12\n",
        "ff13[\"Chromosome number\"]=13\n",
        "ff14[\"Chromosome number\"]=14\n",
        "ff15[\"Chromosome number\"]=15\n",
        "ff16[\"Chromosome number\"]=16\n",
        "ff17[\"Chromosome number\"]=17\n",
        "ff18[\"Chromosome number\"]=18\n",
        "ff19[\"Chromosome number\"]=19\n",
        "ff20[\"Chromosome number\"]=20\n",
        "ff21[\"Chromosome number\"]=21\n",
        "ff22[\"Chromosome number\"]=22\n",
        "ff23[\"Chromosome number\"]=23\n",
        "ff24[\"Chromosome number\"]=24\n",
        "ff25[\"Chromosome number\"]=25\n",
        "ff26[\"Chromosome number\"]=26\n",
        "ff27[\"Chromosome number\"]=27\n",
        "ff28[\"Chromosome number\"]=28\n",
        "ff29[\"Chromosome number\"]=29\n",
        "ffX[\"Chromosome number\"]='X'"
      ],
      "metadata": {
        "id": "1b8fDkzxWJYf"
      },
      "execution_count": null,
      "outputs": []
    },
    {
      "cell_type": "code",
      "source": [
        "table_delqtl=pd.concat([table_delqtl, ff1, ff2, ff3, ff4, ff5, ff6, ff7, ff8, ff9, ff10, ff11, ff12, ff13, ff14, ff15, ff16, ff17, ff18, ff19, ff20, ff21, ff22, ff23, ff24, ff25, ff26, ff27, ff28, ff29, ffX])"
      ],
      "metadata": {
        "id": "AU9fvmSTWd0i"
      },
      "execution_count": null,
      "outputs": []
    },
    {
      "cell_type": "code",
      "source": [
        "table_delqtl.shape"
      ],
      "metadata": {
        "colab": {
          "base_uri": "https://localhost:8080/"
        },
        "id": "pQdv0W68W2yl",
        "outputId": "33232cd0-eaa4-4cb8-fed7-634854850c7b"
      },
      "execution_count": null,
      "outputs": [
        {
          "output_type": "execute_result",
          "data": {
            "text/plain": [
              "(2005, 12)"
            ]
          },
          "metadata": {},
          "execution_count": 20
        }
      ]
    },
    {
      "cell_type": "code",
      "source": [
        "table_delqtl.to_csv(\"table_delqtl.csv\")\n",
        "\n",
        "shutil.copy(\"table_delqtl.csv\", \"/content/drive/MyDrive/Hereford_VarAnalysis/HFNelQTL_VarAnal\")"
      ],
      "metadata": {
        "colab": {
          "base_uri": "https://localhost:8080/",
          "height": 36
        },
        "id": "AMrYCKNAW3T7",
        "outputId": "2f9c4a0e-33fc-4fd8-c7d7-fb2a9794bef9"
      },
      "execution_count": null,
      "outputs": [
        {
          "output_type": "execute_result",
          "data": {
            "text/plain": [
              "'/content/drive/MyDrive/Hereford_VarAnalysis/HFNelQTL_VarAnal/table_delqtl.csv'"
            ],
            "application/vnd.google.colaboratory.intrinsic+json": {
              "type": "string"
            }
          },
          "metadata": {},
          "execution_count": 21
        }
      ]
    },
    {
      "cell_type": "code",
      "source": [
        "# substitution analysis\n",
        "sub_df=pd.read_csv(\"/content/drive/MyDrive/Hereford_VarAnalysis/Hereford_chrVar/subs/1/hfqtl_NelVar1.csv\")"
      ],
      "metadata": {
        "id": "oevnfMi4XsBv"
      },
      "execution_count": null,
      "outputs": []
    },
    {
      "cell_type": "code",
      "source": [
        "sub_df.shape"
      ],
      "metadata": {
        "colab": {
          "base_uri": "https://localhost:8080/"
        },
        "id": "ZNpn-6YqisO3",
        "outputId": "65220fdb-ef1f-4015-f9e9-566a0907fe8c"
      },
      "execution_count": null,
      "outputs": [
        {
          "output_type": "execute_result",
          "data": {
            "text/plain": [
              "(296139, 36)"
            ]
          },
          "metadata": {},
          "execution_count": 5
        }
      ]
    },
    {
      "cell_type": "code",
      "source": [
        "sub_qtl=sub_df[sub_df[\"qtlgene_type\"]==\"within_gene\"]\n",
        "sub_qtl.shape"
      ],
      "metadata": {
        "colab": {
          "base_uri": "https://localhost:8080/"
        },
        "id": "ilMNoMzUxRK4",
        "outputId": "af26b7a9-c848-4893-c5d1-8cac0e14f23c"
      },
      "execution_count": null,
      "outputs": [
        {
          "output_type": "execute_result",
          "data": {
            "text/plain": [
              "(211963, 36)"
            ]
          },
          "metadata": {},
          "execution_count": 6
        }
      ]
    },
    {
      "cell_type": "code",
      "source": [
        "sub_hf=sub_qtl[sub_qtl[\"HFgene_type\"]==\"within_gene\"]\n",
        "sub_hf.shape"
      ],
      "metadata": {
        "colab": {
          "base_uri": "https://localhost:8080/"
        },
        "id": "I5x5FcrRxl0Q",
        "outputId": "776a52d1-e41f-4a94-8b09-6a1e258dde00"
      },
      "execution_count": null,
      "outputs": [
        {
          "output_type": "execute_result",
          "data": {
            "text/plain": [
              "(210381, 36)"
            ]
          },
          "metadata": {},
          "execution_count": 7
        }
      ]
    },
    {
      "cell_type": "code",
      "source": [
        "sub_nel=sub_hf[sub_hf[\"Nelgene_type\"]==\"within_gene\"]\n",
        "sub_nel.shape"
      ],
      "metadata": {
        "colab": {
          "base_uri": "https://localhost:8080/"
        },
        "id": "cYdHHY4ox-FK",
        "outputId": "69a68c07-fc5c-44ac-f371-af2e2778fb5e"
      },
      "execution_count": null,
      "outputs": [
        {
          "output_type": "execute_result",
          "data": {
            "text/plain": [
              "(208705, 36)"
            ]
          },
          "metadata": {},
          "execution_count": 8
        }
      ]
    },
    {
      "cell_type": "code",
      "source": [
        "sub_df=sub_nel.drop_duplicates(subset=[\"Symbol\", \"QTL Class\", \"startpos.q\", \"endpos.q\"]).reset_index()\n",
        "sub_df.shape"
      ],
      "metadata": {
        "colab": {
          "base_uri": "https://localhost:8080/"
        },
        "id": "duDH68G9yQo5",
        "outputId": "40cad779-438f-476d-bcce-880057fdd4f6"
      },
      "execution_count": null,
      "outputs": [
        {
          "output_type": "execute_result",
          "data": {
            "text/plain": [
              "(102305, 37)"
            ]
          },
          "metadata": {},
          "execution_count": 9
        }
      ]
    },
    {
      "cell_type": "code",
      "source": [
        "sub_df=sub_df.groupby([\"Name\", \"Symbol\", \"NelLocus\", \"NelProt\", \"startpos.q\", \"endpos.q\"]).agg({\"QTL Class\": lambda x: \",\".join(set(x))}).reset_index()\n",
        "sub_df.shape"
      ],
      "metadata": {
        "colab": {
          "base_uri": "https://localhost:8080/"
        },
        "id": "F8UTNRYGyfD5",
        "outputId": "3b327853-2e76-4081-caad-70a35b7ef83d"
      },
      "execution_count": null,
      "outputs": [
        {
          "output_type": "execute_result",
          "data": {
            "text/plain": [
              "(36264, 7)"
            ]
          },
          "metadata": {},
          "execution_count": 10
        }
      ]
    },
    {
      "cell_type": "code",
      "source": [
        "sub_df.to_csv(\"sub_df.csv\")"
      ],
      "metadata": {
        "id": "Jnf45iAbyuYu"
      },
      "execution_count": null,
      "outputs": []
    },
    {
      "cell_type": "code",
      "source": [
        "sub_df[\"sub_count\"]=sub_df.groupby([\"Name\", \"Symbol\", \"NelLocus\", \"NelProt\"])[\"Symbol\"].transform(\"count\")\n",
        "\n",
        "\n",
        "# Aggregate QTL Class and other columns\n",
        "result_dff=sub_df.groupby([\"Name\", \"Symbol\", \"NelLocus\", \"NelProt\"]).agg({\"QTL Class\" : lambda x: \",\".join(set(x)),\n",
        "    \"sub_count\": \"first\"}).reset_index()\n",
        "\n",
        "\n"
      ],
      "metadata": {
        "id": "REnOgEA1znXm"
      },
      "execution_count": null,
      "outputs": []
    },
    {
      "cell_type": "code",
      "source": [
        "result_dff.shape"
      ],
      "metadata": {
        "colab": {
          "base_uri": "https://localhost:8080/"
        },
        "id": "ZnQj8c7m0CSz",
        "outputId": "d584cce8-7e71-4bb1-b322-c67f28487010"
      },
      "execution_count": null,
      "outputs": [
        {
          "output_type": "execute_result",
          "data": {
            "text/plain": [
              "(298, 6)"
            ]
          },
          "metadata": {},
          "execution_count": 12
        }
      ]
    },
    {
      "cell_type": "code",
      "source": [
        "result_dff.to_csv(\"result_dff.csv\")"
      ],
      "metadata": {
        "id": "oFP0aigv0FRq"
      },
      "execution_count": null,
      "outputs": []
    },
    {
      "cell_type": "code",
      "source": [
        "import shutil\n",
        "import pandas as pd\n",
        "\n",
        "chr=[1,2,3,4,5,6,7,8,9,10,11,12,13,14,15,16,17,18,19,20,21,22,23,24,25,26,27,28,29,\"X\"]\n",
        "for i in chr:\n",
        "  in_f1=f\"/content/drive/MyDrive/Hereford_VarAnalysis/Hereford_chrVar/subs/{i}/hfqtl_NelVar{i}.csv\"\n",
        "  op_loc=f\"/content/drive/MyDrive/Hereford_VarAnalysis/HFNelQTL_VarAnal/sub/{i}\"\n",
        "  print(f\"chromosome{i}\")\n",
        "\n",
        "  df=pd.read_csv(in_f1)\n",
        "  print(\"file:\", df.shape)\n",
        "\n",
        "  df_qtl=df[df['qtlgene_type']==\"within_gene\"]\n",
        "  print(\"df_qtl:\", df_qtl.shape)\n",
        "\n",
        "  df_hf=df_qtl[df_qtl[\"HFgene_type\"]==\"within_gene\"]\n",
        "  print(\"df_hf:\", df_hf.shape)\n",
        "\n",
        "  df_nel=df_hf[df_hf[\"Nelgene_type\"]==\"within_gene\"]\n",
        "  print(\"df_nel:\", df_nel.shape)\n",
        "\n",
        "  subs_df=df_nel.drop_duplicates(subset=[\"Symbol\", \"QTL Class\", \"startpos.q\", \"endpos.q\"]).reset_index()\n",
        "  print(\"subs_df:\", subs_df.shape)\n",
        "\n",
        "  out_f1=f\"HFNelQTL_wd{i}.csv\"\n",
        "  sub_df.to_csv(out_f1)\n",
        "  shutil.copy(out_f1, op_loc)\n",
        "\n",
        "  subs_dff=subs_df.groupby([\"Name\", \"Symbol\", \"NelLocus\", \"NelProt\", \"startpos.q\", \"endpos.q\"]).agg({\"QTL Class\": lambda x: \",\".join(set(x))}).reset_index()\n",
        "  print(\"subs_dff:\",subs_dff.shape)\n",
        "\n",
        "  out_ff1=f\"HFNelQTL{i}.csv\"\n",
        "  subs_dff.to_csv(out_ff1)\n",
        "  shutil.copy(out_ff1, op_loc)\n",
        "\n",
        "\n",
        "  # Add a count column\n",
        "  subs_dff[\"subs_count\"]=subs_dff.groupby([\"Name\", \"Symbol\", \"NelLocus\", \"NelProt\"])[\"Symbol\"].transform(\"count\")\n",
        "\n",
        "  # Aggregate QTL Class and other columns\n",
        "  result_dfff=subs_dff.groupby([\"Name\", \"Symbol\", \"NelLocus\", \"NelProt\"]).agg({\"QTL Class\" : lambda x: \",\".join(set(x)),\n",
        "    \"subs_count\": \"first\"}).reset_index()\n",
        "\n",
        "  out_f2=f\"subs_count{i}.csv\"\n",
        "  result_dfff.to_csv(out_f2)\n",
        "  print(\"result_dfff:\", result_dfff.shape)\n",
        "  shutil.copy(out_f2, op_loc)\n",
        "\n",
        "  subs50_count=result_dfff[result_dfff[\"subs_count\"]>=50]\n",
        "  out_f3=f\"subs50_count{i}.csv\"\n",
        "  subs50_count.to_csv(out_f3)\n",
        "  print(\"subs50_count:\", subs50_count.shape)\n",
        "  shutil.copy(out_f3, op_loc)\n",
        "\n"
      ],
      "metadata": {
        "id": "z4V50PmH02bH",
        "colab": {
          "base_uri": "https://localhost:8080/"
        },
        "outputId": "677943ee-5d40-4bcc-ec75-d43e04f4f27c"
      },
      "execution_count": null,
      "outputs": [
        {
          "output_type": "stream",
          "name": "stdout",
          "text": [
            "chromosome1\n",
            "file: (296139, 36)\n",
            "df_qtl: (211963, 36)\n",
            "df_hf: (210381, 36)\n",
            "df_nel: (208705, 36)\n",
            "subs_df: (102305, 37)\n",
            "subs_dff: (36264, 7)\n",
            "result_dfff: (298, 6)\n",
            "subs50_count: (139, 6)\n",
            "chromosome2\n",
            "file: (261762, 36)\n",
            "df_qtl: (189829, 36)\n",
            "df_hf: (185979, 36)\n",
            "df_nel: (171815, 36)\n",
            "subs_df: (105502, 37)\n",
            "subs_dff: (40332, 7)\n",
            "result_dfff: (346, 6)\n",
            "subs50_count: (168, 6)\n",
            "chromosome3\n",
            "file: (242803, 36)\n",
            "df_qtl: (168115, 36)\n",
            "df_hf: (166740, 36)\n",
            "df_nel: (160586, 36)\n",
            "subs_df: (82766, 37)\n",
            "subs_dff: (35304, 7)\n",
            "result_dfff: (412, 6)\n",
            "subs50_count: (161, 6)\n",
            "chromosome4\n",
            "file: (385030, 36)\n",
            "df_qtl: (332070, 36)\n",
            "df_hf: (330758, 36)\n",
            "df_nel: (325214, 36)\n",
            "subs_df: (149747, 37)\n",
            "subs_dff: (56558, 7)\n",
            "result_dfff: (257, 6)\n",
            "subs50_count: (156, 6)\n",
            "chromosome5\n",
            "file: (341901, 36)\n",
            "df_qtl: (291457, 36)\n",
            "df_hf: (289872, 36)\n",
            "df_nel: (285744, 36)\n",
            "subs_df: (132037, 37)\n",
            "subs_dff: (45865, 7)\n",
            "result_dfff: (473, 6)\n",
            "subs50_count: (202, 6)\n",
            "chromosome6\n"
          ]
        },
        {
          "output_type": "stream",
          "name": "stderr",
          "text": [
            "<ipython-input-17-1dc510863e94>:10: DtypeWarning: Columns (15,19) have mixed types. Specify dtype option on import or set low_memory=False.\n",
            "  df=pd.read_csv(in_f1)\n"
          ]
        },
        {
          "output_type": "stream",
          "name": "stdout",
          "text": [
            "file: (377023, 36)\n",
            "df_qtl: (322460, 36)\n",
            "df_hf: (317637, 36)\n",
            "df_nel: (313766, 36)\n",
            "subs_df: (136827, 37)\n",
            "subs_dff: (38630, 7)\n",
            "result_dfff: (324, 6)\n",
            "subs50_count: (138, 6)\n",
            "chromosome7\n",
            "file: (281111, 36)\n",
            "df_qtl: (204548, 36)\n",
            "df_hf: (203939, 36)\n",
            "df_nel: (183777, 36)\n",
            "subs_df: (96415, 37)\n",
            "subs_dff: (36260, 7)\n",
            "result_dfff: (399, 6)\n",
            "subs50_count: (157, 6)\n",
            "chromosome8\n",
            "file: (313709, 36)\n",
            "df_qtl: (267707, 36)\n",
            "df_hf: (266219, 36)\n",
            "df_nel: (264136, 36)\n",
            "subs_df: (100111, 37)\n",
            "subs_dff: (36731, 7)\n",
            "result_dfff: (265, 6)\n",
            "subs50_count: (144, 6)\n",
            "chromosome9\n",
            "file: (165723, 36)\n",
            "df_qtl: (121886, 36)\n",
            "df_hf: (120815, 36)\n",
            "df_nel: (118868, 36)\n",
            "subs_df: (57111, 37)\n",
            "subs_dff: (23143, 7)\n",
            "result_dfff: (192, 6)\n",
            "subs50_count: (104, 6)\n",
            "chromosome10\n",
            "file: (734603, 36)\n",
            "df_qtl: (668328, 36)\n",
            "df_hf: (665570, 36)\n",
            "df_nel: (660485, 36)\n",
            "subs_df: (121408, 37)\n",
            "subs_dff: (38575, 7)\n",
            "result_dfff: (303, 6)\n",
            "subs50_count: (146, 6)\n",
            "chromosome11\n",
            "file: (316060, 36)\n",
            "df_qtl: (255889, 36)\n",
            "df_hf: (253982, 36)\n",
            "df_nel: (252177, 36)\n",
            "subs_df: (115901, 37)\n",
            "subs_dff: (41595, 7)\n",
            "result_dfff: (383, 6)\n",
            "subs50_count: (166, 6)\n",
            "chromosome12\n",
            "file: (241640, 36)\n",
            "df_qtl: (157021, 36)\n",
            "df_hf: (155668, 36)\n",
            "df_nel: (153684, 36)\n",
            "subs_df: (75878, 37)\n",
            "subs_dff: (27455, 7)\n",
            "result_dfff: (128, 6)\n",
            "subs50_count: (79, 6)\n",
            "chromosome13\n",
            "file: (213252, 36)\n",
            "df_qtl: (172535, 36)\n",
            "df_hf: (171832, 36)\n",
            "df_nel: (156903, 36)\n",
            "subs_df: (90253, 37)\n",
            "subs_dff: (31333, 7)\n",
            "result_dfff: (300, 6)\n",
            "subs50_count: (126, 6)\n",
            "chromosome14\n",
            "file: (148634, 36)\n",
            "df_qtl: (123743, 36)\n",
            "df_hf: (122577, 36)\n",
            "df_nel: (120988, 36)\n",
            "subs_df: (87161, 37)\n",
            "subs_dff: (28590, 7)\n",
            "result_dfff: (270, 6)\n",
            "subs50_count: (112, 6)\n",
            "chromosome15\n",
            "file: (220919, 36)\n",
            "df_qtl: (175845, 36)\n",
            "df_hf: (175225, 36)\n",
            "df_nel: (167674, 36)\n",
            "subs_df: (69200, 37)\n",
            "subs_dff: (28200, 7)\n",
            "result_dfff: (295, 6)\n",
            "subs50_count: (128, 6)\n",
            "chromosome16\n",
            "file: (230607, 36)\n",
            "df_qtl: (193144, 36)\n",
            "df_hf: (189882, 36)\n",
            "df_nel: (188946, 36)\n",
            "subs_df: (92992, 37)\n",
            "subs_dff: (32225, 7)\n",
            "result_dfff: (227, 6)\n",
            "subs50_count: (117, 6)\n",
            "chromosome17\n",
            "file: (170331, 36)\n",
            "df_qtl: (127445, 36)\n",
            "df_hf: (126612, 36)\n",
            "df_nel: (119276, 36)\n",
            "subs_df: (72400, 37)\n",
            "subs_dff: (27713, 7)\n",
            "result_dfff: (294, 6)\n",
            "subs50_count: (116, 6)\n",
            "chromosome18\n",
            "file: (110496, 36)\n",
            "df_qtl: (70171, 36)\n",
            "df_hf: (69566, 36)\n",
            "df_nel: (67718, 36)\n",
            "subs_df: (45994, 37)\n",
            "subs_dff: (19137, 7)\n",
            "result_dfff: (325, 6)\n",
            "subs50_count: (82, 6)\n",
            "chromosome19\n",
            "file: (179935, 36)\n",
            "df_qtl: (143540, 36)\n",
            "df_hf: (142368, 36)\n",
            "df_nel: (138022, 36)\n",
            "subs_df: (61798, 37)\n",
            "subs_dff: (26572, 7)\n",
            "result_dfff: (423, 6)\n",
            "subs50_count: (132, 6)\n",
            "chromosome20\n",
            "file: (191481, 36)\n",
            "df_qtl: (116594, 36)\n",
            "df_hf: (114280, 36)\n",
            "df_nel: (108770, 36)\n",
            "subs_df: (62895, 37)\n",
            "subs_dff: (20967, 7)\n",
            "result_dfff: (177, 6)\n",
            "subs50_count: (86, 6)\n",
            "chromosome21\n",
            "file: (131565, 36)\n",
            "df_qtl: (103307, 36)\n",
            "df_hf: (103211, 36)\n",
            "df_nel: (99109, 36)\n",
            "subs_df: (53544, 37)\n",
            "subs_dff: (18744, 7)\n",
            "result_dfff: (161, 6)\n",
            "subs50_count: (76, 6)\n",
            "chromosome22\n",
            "file: (325650, 36)\n",
            "df_qtl: (305637, 36)\n",
            "df_hf: (303902, 36)\n",
            "df_nel: (302156, 36)\n",
            "subs_df: (94676, 37)\n",
            "subs_dff: (27961, 7)\n",
            "result_dfff: (191, 6)\n",
            "subs50_count: (100, 6)\n",
            "chromosome23\n",
            "file: (152995, 36)\n",
            "df_qtl: (124965, 36)\n",
            "df_hf: (124008, 36)\n",
            "df_nel: (118439, 36)\n",
            "subs_df: (51016, 37)\n",
            "subs_dff: (20737, 7)\n",
            "result_dfff: (232, 6)\n",
            "subs50_count: (80, 6)\n",
            "chromosome24\n",
            "file: (212872, 36)\n",
            "df_qtl: (173555, 36)\n",
            "df_hf: (172716, 36)\n",
            "df_nel: (171239, 36)\n",
            "subs_df: (68941, 37)\n",
            "subs_dff: (24006, 7)\n",
            "result_dfff: (113, 6)\n",
            "subs50_count: (69, 6)\n",
            "chromosome25\n",
            "file: (157495, 36)\n",
            "df_qtl: (130481, 36)\n",
            "df_hf: (130292, 36)\n",
            "df_nel: (129893, 36)\n",
            "subs_df: (65762, 37)\n",
            "subs_dff: (21966, 7)\n",
            "result_dfff: (249, 6)\n",
            "subs50_count: (80, 6)\n",
            "chromosome26\n",
            "file: (254661, 36)\n",
            "df_qtl: (230537, 36)\n",
            "df_hf: (229443, 36)\n",
            "df_nel: (215750, 36)\n",
            "subs_df: (77395, 37)\n",
            "subs_dff: (23305, 7)\n",
            "result_dfff: (210, 6)\n",
            "subs50_count: (86, 6)\n",
            "chromosome27\n"
          ]
        },
        {
          "output_type": "stream",
          "name": "stderr",
          "text": [
            "<ipython-input-17-1dc510863e94>:10: DtypeWarning: Columns (11) have mixed types. Specify dtype option on import or set low_memory=False.\n",
            "  df=pd.read_csv(in_f1)\n"
          ]
        },
        {
          "output_type": "stream",
          "name": "stdout",
          "text": [
            "file: (99945, 36)\n",
            "df_qtl: (59028, 36)\n",
            "df_hf: (58819, 36)\n",
            "df_nel: (51655, 36)\n",
            "subs_df: (28112, 37)\n",
            "subs_dff: (10461, 7)\n",
            "result_dfff: (84, 6)\n",
            "subs50_count: (43, 6)\n",
            "chromosome28\n",
            "file: (133490, 36)\n",
            "df_qtl: (100418, 36)\n",
            "df_hf: (99687, 36)\n",
            "df_nel: (91590, 36)\n",
            "subs_df: (60741, 37)\n",
            "subs_dff: (21258, 7)\n",
            "result_dfff: (116, 6)\n",
            "subs50_count: (71, 6)\n",
            "chromosome29\n",
            "file: (172161, 36)\n",
            "df_qtl: (138524, 36)\n",
            "df_hf: (138371, 36)\n",
            "df_nel: (137642, 36)\n",
            "subs_df: (67779, 37)\n",
            "subs_dff: (21004, 7)\n",
            "result_dfff: (242, 6)\n",
            "subs50_count: (77, 6)\n",
            "chromosomeX\n",
            "file: (118027, 36)\n",
            "df_qtl: (60820, 36)\n",
            "df_hf: (59453, 36)\n",
            "df_nel: (56371, 36)\n",
            "subs_df: (29836, 37)\n",
            "subs_dff: (12197, 7)\n",
            "result_dfff: (194, 6)\n",
            "subs50_count: (70, 6)\n"
          ]
        }
      ]
    },
    {
      "cell_type": "code",
      "source": [
        "# table preparation - substitution\n",
        "\n",
        "fff1=pd.read_csv(\"/content/drive/MyDrive/Hereford_VarAnalysis/HFNelQTL_VarAnal/sub/1/subs50_count1.csv\")\n",
        "fff2=pd.read_csv(\"/content/drive/MyDrive/Hereford_VarAnalysis/HFNelQTL_VarAnal/sub/2/subs50_count2.csv\")\n",
        "fff3=pd.read_csv(\"/content/drive/MyDrive/Hereford_VarAnalysis/HFNelQTL_VarAnal/sub/3/subs50_count3.csv\")\n",
        "fff4=pd.read_csv(\"/content/drive/MyDrive/Hereford_VarAnalysis/HFNelQTL_VarAnal/sub/4/subs50_count4.csv\")\n",
        "fff5=pd.read_csv(\"/content/drive/MyDrive/Hereford_VarAnalysis/HFNelQTL_VarAnal/sub/5/subs50_count5.csv\")\n",
        "fff6=pd.read_csv(\"/content/drive/MyDrive/Hereford_VarAnalysis/HFNelQTL_VarAnal/sub/6/subs50_count6.csv\")\n",
        "fff7=pd.read_csv(\"/content/drive/MyDrive/Hereford_VarAnalysis/HFNelQTL_VarAnal/sub/7/subs50_count7.csv\")\n",
        "fff8=pd.read_csv(\"/content/drive/MyDrive/Hereford_VarAnalysis/HFNelQTL_VarAnal/sub/8/subs50_count8.csv\")\n",
        "fff9=pd.read_csv(\"/content/drive/MyDrive/Hereford_VarAnalysis/HFNelQTL_VarAnal/sub/9/subs50_count9.csv\")\n",
        "fff10=pd.read_csv(\"/content/drive/MyDrive/Hereford_VarAnalysis/HFNelQTL_VarAnal/sub/10/subs50_count10.csv\")\n",
        "fff11=pd.read_csv(\"/content/drive/MyDrive/Hereford_VarAnalysis/HFNelQTL_VarAnal/sub/11/subs50_count11.csv\")\n",
        "fff12=pd.read_csv(\"/content/drive/MyDrive/Hereford_VarAnalysis/HFNelQTL_VarAnal/sub/12/subs50_count12.csv\")\n",
        "fff13=pd.read_csv(\"/content/drive/MyDrive/Hereford_VarAnalysis/HFNelQTL_VarAnal/sub/13/subs50_count13.csv\")\n",
        "fff14=pd.read_csv(\"/content/drive/MyDrive/Hereford_VarAnalysis/HFNelQTL_VarAnal/sub/14/subs50_count14.csv\")\n",
        "fff15=pd.read_csv(\"/content/drive/MyDrive/Hereford_VarAnalysis/HFNelQTL_VarAnal/sub/15/subs50_count15.csv\")\n",
        "fff16=pd.read_csv(\"/content/drive/MyDrive/Hereford_VarAnalysis/HFNelQTL_VarAnal/sub/16/subs50_count16.csv\")\n",
        "fff17=pd.read_csv(\"/content/drive/MyDrive/Hereford_VarAnalysis/HFNelQTL_VarAnal/sub/17/subs50_count17.csv\")\n",
        "fff18=pd.read_csv(\"/content/drive/MyDrive/Hereford_VarAnalysis/HFNelQTL_VarAnal/sub/18/subs50_count18.csv\")\n",
        "fff19=pd.read_csv(\"/content/drive/MyDrive/Hereford_VarAnalysis/HFNelQTL_VarAnal/sub/19/subs50_count19.csv\")\n",
        "fff20=pd.read_csv(\"/content/drive/MyDrive/Hereford_VarAnalysis/HFNelQTL_VarAnal/sub/20/subs50_count20.csv\")\n",
        "fff21=pd.read_csv(\"/content/drive/MyDrive/Hereford_VarAnalysis/HFNelQTL_VarAnal/sub/21/subs50_count21.csv\")\n",
        "fff22=pd.read_csv(\"/content/drive/MyDrive/Hereford_VarAnalysis/HFNelQTL_VarAnal/sub/22/subs50_count22.csv\")\n",
        "fff23=pd.read_csv(\"/content/drive/MyDrive/Hereford_VarAnalysis/HFNelQTL_VarAnal/sub/23/subs50_count23.csv\")\n",
        "fff24=pd.read_csv(\"/content/drive/MyDrive/Hereford_VarAnalysis/HFNelQTL_VarAnal/sub/24/subs50_count24.csv\")\n",
        "fff25=pd.read_csv(\"/content/drive/MyDrive/Hereford_VarAnalysis/HFNelQTL_VarAnal/sub/25/subs50_count25.csv\")\n",
        "fff26=pd.read_csv(\"/content/drive/MyDrive/Hereford_VarAnalysis/HFNelQTL_VarAnal/sub/26/subs50_count26.csv\")\n",
        "fff27=pd.read_csv(\"/content/drive/MyDrive/Hereford_VarAnalysis/HFNelQTL_VarAnal/sub/27/subs50_count27.csv\")\n",
        "fff28=pd.read_csv(\"/content/drive/MyDrive/Hereford_VarAnalysis/HFNelQTL_VarAnal/sub/28/subs50_count28.csv\")\n",
        "fff29=pd.read_csv(\"/content/drive/MyDrive/Hereford_VarAnalysis/HFNelQTL_VarAnal/sub/29/subs50_count29.csv\")\n",
        "fffX=pd.read_csv(\"/content/drive/MyDrive/Hereford_VarAnalysis/HFNelQTL_VarAnal/sub/X/subs50_countX.csv\")\n"
      ],
      "metadata": {
        "id": "OlBc_mH73SZ4"
      },
      "execution_count": null,
      "outputs": []
    },
    {
      "cell_type": "code",
      "source": [
        "table_subsqtl50=pd.DataFrame(columns=[\"Chromosome number\"]+list(fff1))\n",
        "table_subsqtl50"
      ],
      "metadata": {
        "id": "SBWNFZfu4VOH",
        "colab": {
          "base_uri": "https://localhost:8080/",
          "height": 53
        },
        "outputId": "fe0626e0-48d4-40a1-8b26-6f46c4392fb6"
      },
      "execution_count": null,
      "outputs": [
        {
          "output_type": "execute_result",
          "data": {
            "text/plain": [
              "Empty DataFrame\n",
              "Columns: [Chromosome number, Unnamed: 0, Name, Symbol, NelLocus, NelProt, QTL Class, subs_count]\n",
              "Index: []"
            ],
            "text/html": [
              "\n",
              "  <div id=\"df-fa23373b-228d-4f6a-b921-9e692b640dae\" class=\"colab-df-container\">\n",
              "    <div>\n",
              "<style scoped>\n",
              "    .dataframe tbody tr th:only-of-type {\n",
              "        vertical-align: middle;\n",
              "    }\n",
              "\n",
              "    .dataframe tbody tr th {\n",
              "        vertical-align: top;\n",
              "    }\n",
              "\n",
              "    .dataframe thead th {\n",
              "        text-align: right;\n",
              "    }\n",
              "</style>\n",
              "<table border=\"1\" class=\"dataframe\">\n",
              "  <thead>\n",
              "    <tr style=\"text-align: right;\">\n",
              "      <th></th>\n",
              "      <th>Chromosome number</th>\n",
              "      <th>Unnamed: 0</th>\n",
              "      <th>Name</th>\n",
              "      <th>Symbol</th>\n",
              "      <th>NelLocus</th>\n",
              "      <th>NelProt</th>\n",
              "      <th>QTL Class</th>\n",
              "      <th>subs_count</th>\n",
              "    </tr>\n",
              "  </thead>\n",
              "  <tbody>\n",
              "  </tbody>\n",
              "</table>\n",
              "</div>\n",
              "    <div class=\"colab-df-buttons\">\n",
              "\n",
              "  <div class=\"colab-df-container\">\n",
              "    <button class=\"colab-df-convert\" onclick=\"convertToInteractive('df-fa23373b-228d-4f6a-b921-9e692b640dae')\"\n",
              "            title=\"Convert this dataframe to an interactive table.\"\n",
              "            style=\"display:none;\">\n",
              "\n",
              "  <svg xmlns=\"http://www.w3.org/2000/svg\" height=\"24px\" viewBox=\"0 -960 960 960\">\n",
              "    <path d=\"M120-120v-720h720v720H120Zm60-500h600v-160H180v160Zm220 220h160v-160H400v160Zm0 220h160v-160H400v160ZM180-400h160v-160H180v160Zm440 0h160v-160H620v160ZM180-180h160v-160H180v160Zm440 0h160v-160H620v160Z\"/>\n",
              "  </svg>\n",
              "    </button>\n",
              "\n",
              "  <style>\n",
              "    .colab-df-container {\n",
              "      display:flex;\n",
              "      gap: 12px;\n",
              "    }\n",
              "\n",
              "    .colab-df-convert {\n",
              "      background-color: #E8F0FE;\n",
              "      border: none;\n",
              "      border-radius: 50%;\n",
              "      cursor: pointer;\n",
              "      display: none;\n",
              "      fill: #1967D2;\n",
              "      height: 32px;\n",
              "      padding: 0 0 0 0;\n",
              "      width: 32px;\n",
              "    }\n",
              "\n",
              "    .colab-df-convert:hover {\n",
              "      background-color: #E2EBFA;\n",
              "      box-shadow: 0px 1px 2px rgba(60, 64, 67, 0.3), 0px 1px 3px 1px rgba(60, 64, 67, 0.15);\n",
              "      fill: #174EA6;\n",
              "    }\n",
              "\n",
              "    .colab-df-buttons div {\n",
              "      margin-bottom: 4px;\n",
              "    }\n",
              "\n",
              "    [theme=dark] .colab-df-convert {\n",
              "      background-color: #3B4455;\n",
              "      fill: #D2E3FC;\n",
              "    }\n",
              "\n",
              "    [theme=dark] .colab-df-convert:hover {\n",
              "      background-color: #434B5C;\n",
              "      box-shadow: 0px 1px 3px 1px rgba(0, 0, 0, 0.15);\n",
              "      filter: drop-shadow(0px 1px 2px rgba(0, 0, 0, 0.3));\n",
              "      fill: #FFFFFF;\n",
              "    }\n",
              "  </style>\n",
              "\n",
              "    <script>\n",
              "      const buttonEl =\n",
              "        document.querySelector('#df-fa23373b-228d-4f6a-b921-9e692b640dae button.colab-df-convert');\n",
              "      buttonEl.style.display =\n",
              "        google.colab.kernel.accessAllowed ? 'block' : 'none';\n",
              "\n",
              "      async function convertToInteractive(key) {\n",
              "        const element = document.querySelector('#df-fa23373b-228d-4f6a-b921-9e692b640dae');\n",
              "        const dataTable =\n",
              "          await google.colab.kernel.invokeFunction('convertToInteractive',\n",
              "                                                    [key], {});\n",
              "        if (!dataTable) return;\n",
              "\n",
              "        const docLinkHtml = 'Like what you see? Visit the ' +\n",
              "          '<a target=\"_blank\" href=https://colab.research.google.com/notebooks/data_table.ipynb>data table notebook</a>'\n",
              "          + ' to learn more about interactive tables.';\n",
              "        element.innerHTML = '';\n",
              "        dataTable['output_type'] = 'display_data';\n",
              "        await google.colab.output.renderOutput(dataTable, element);\n",
              "        const docLink = document.createElement('div');\n",
              "        docLink.innerHTML = docLinkHtml;\n",
              "        element.appendChild(docLink);\n",
              "      }\n",
              "    </script>\n",
              "  </div>\n",
              "\n",
              "    </div>\n",
              "  </div>\n"
            ]
          },
          "metadata": {},
          "execution_count": 20
        }
      ]
    },
    {
      "cell_type": "code",
      "source": [
        "fff1[\"Chromosome number\"]=1\n",
        "fff2[\"Chromosome number\"]=2\n",
        "fff3[\"Chromosome number\"]=3\n",
        "fff4[\"Chromosome number\"]=4\n",
        "fff5[\"Chromosome number\"]=5\n",
        "fff6[\"Chromosome number\"]=6\n",
        "fff7[\"Chromosome number\"]=7\n",
        "fff8[\"Chromosome number\"]=8\n",
        "fff9[\"Chromosome number\"]=9\n",
        "fff10[\"Chromosome number\"]=10\n",
        "fff11[\"Chromosome number\"]=11\n",
        "fff12[\"Chromosome number\"]=12\n",
        "fff13[\"Chromosome number\"]=13\n",
        "fff14[\"Chromosome number\"]=14\n",
        "fff15[\"Chromosome number\"]=15\n",
        "fff16[\"Chromosome number\"]=16\n",
        "fff17[\"Chromosome number\"]=17\n",
        "fff18[\"Chromosome number\"]=18\n",
        "fff19[\"Chromosome number\"]=19\n",
        "fff20[\"Chromosome number\"]=20\n",
        "fff21[\"Chromosome number\"]=21\n",
        "fff22[\"Chromosome number\"]=22\n",
        "fff23[\"Chromosome number\"]=23\n",
        "fff24[\"Chromosome number\"]=24\n",
        "fff25[\"Chromosome number\"]=25\n",
        "fff26[\"Chromosome number\"]=26\n",
        "fff27[\"Chromosome number\"]=27\n",
        "fff28[\"Chromosome number\"]=28\n",
        "fff29[\"Chromosome number\"]=29\n",
        "fffX[\"Chromosome number\"]='X'"
      ],
      "metadata": {
        "id": "KbsMk5cc4dkQ"
      },
      "execution_count": null,
      "outputs": []
    },
    {
      "cell_type": "code",
      "source": [
        "table_subsqtl50=pd.concat([table_subsqtl50, fff1, fff2, fff3, fff4, fff5, fff6, fff7, fff8, fff9, fff10, fff11, fff12, fff13, fff14, fff15, fff16, fff17, fff18, fff19, fff20, fff21, fff22, fff23, fff24, fff25, fff26, fff27, fff28, fff29, fffX])"
      ],
      "metadata": {
        "id": "5_-XXN4r4qca"
      },
      "execution_count": null,
      "outputs": []
    },
    {
      "cell_type": "code",
      "source": [
        "table_subsqtl50.shape"
      ],
      "metadata": {
        "id": "MgmjBOm05nt8",
        "colab": {
          "base_uri": "https://localhost:8080/"
        },
        "outputId": "72aa63e2-d5ca-44b3-8b8b-90bdd2d23c8c"
      },
      "execution_count": null,
      "outputs": [
        {
          "output_type": "execute_result",
          "data": {
            "text/plain": [
              "(3411, 8)"
            ]
          },
          "metadata": {},
          "execution_count": 23
        }
      ]
    },
    {
      "cell_type": "code",
      "source": [
        "table_subsqtl50.to_csv(\"table_subsqtl50.csv\")\n",
        "\n",
        "shutil.copy(\"table_subsqtl50.csv\", \"/content/drive/MyDrive/Hereford_VarAnalysis/HFNelQTL_VarAnal\")"
      ],
      "metadata": {
        "id": "siPzrtb35oA5",
        "colab": {
          "base_uri": "https://localhost:8080/",
          "height": 36
        },
        "outputId": "b2988a65-a873-4a3b-d06f-8b627c7fdcf2"
      },
      "execution_count": null,
      "outputs": [
        {
          "output_type": "execute_result",
          "data": {
            "text/plain": [
              "'/content/drive/MyDrive/Hereford_VarAnalysis/HFNelQTL_VarAnal/table_subsqtl50.csv'"
            ],
            "application/vnd.google.colaboratory.intrinsic+json": {
              "type": "string"
            }
          },
          "metadata": {},
          "execution_count": 24
        }
      ]
    },
    {
      "cell_type": "code",
      "source": [
        "import pandas as pd"
      ],
      "metadata": {
        "id": "8Vhv7i4qB7NK"
      },
      "execution_count": null,
      "outputs": []
    },
    {
      "cell_type": "code",
      "source": [
        "sdf=pd.read_csv(\"/content/table_subsqtl50 (1).csv\")"
      ],
      "metadata": {
        "id": "Vwqq6VNLDcq9"
      },
      "execution_count": null,
      "outputs": []
    },
    {
      "cell_type": "code",
      "source": [
        "sdf.shape"
      ],
      "metadata": {
        "colab": {
          "base_uri": "https://localhost:8080/"
        },
        "id": "plOw4kLZDhYn",
        "outputId": "9c641eef-893b-4137-e6a0-014dcdb255b6"
      },
      "execution_count": null,
      "outputs": [
        {
          "output_type": "execute_result",
          "data": {
            "text/plain": [
              "(3411, 7)"
            ]
          },
          "metadata": {},
          "execution_count": 3
        }
      ]
    },
    {
      "cell_type": "code",
      "source": [
        "sdf_wd=sdf.drop_duplicates(subset=[\"Symbol\", \"NelLocus\"])"
      ],
      "metadata": {
        "id": "4vLmZSxrDjYh"
      },
      "execution_count": null,
      "outputs": []
    },
    {
      "cell_type": "code",
      "source": [
        "sdf_wd.shape"
      ],
      "metadata": {
        "colab": {
          "base_uri": "https://localhost:8080/"
        },
        "id": "6eOfOwYADwKp",
        "outputId": "ce0fe650-599d-497b-d549-ae6366376c7b"
      },
      "execution_count": null,
      "outputs": [
        {
          "output_type": "execute_result",
          "data": {
            "text/plain": [
              "(3410, 7)"
            ]
          },
          "metadata": {},
          "execution_count": 5
        }
      ]
    },
    {
      "cell_type": "code",
      "source": [
        "sdf_wd1=sdf.drop_duplicates(subset=[\"Symbol\"])"
      ],
      "metadata": {
        "id": "vYAzpuJVD9bv"
      },
      "execution_count": null,
      "outputs": []
    },
    {
      "cell_type": "code",
      "source": [
        "sdf_wd1.shape"
      ],
      "metadata": {
        "colab": {
          "base_uri": "https://localhost:8080/"
        },
        "id": "J4Np8SwKEQMV",
        "outputId": "cec01718-c67d-46c8-b9e4-211b618d47e0"
      },
      "execution_count": null,
      "outputs": [
        {
          "output_type": "execute_result",
          "data": {
            "text/plain": [
              "(3318, 7)"
            ]
          },
          "metadata": {},
          "execution_count": 8
        }
      ]
    },
    {
      "cell_type": "code",
      "source": [
        "sdf_wd2=sdf.drop_duplicates(subset=[\"NelLocus\"])"
      ],
      "metadata": {
        "id": "IBdMd7oHESml"
      },
      "execution_count": null,
      "outputs": []
    },
    {
      "cell_type": "code",
      "source": [
        "sdf_wd2.shape"
      ],
      "metadata": {
        "colab": {
          "base_uri": "https://localhost:8080/"
        },
        "id": "-hRDeToVEvwB",
        "outputId": "612a32c0-d144-4c68-d4f1-53fd2b997da7"
      },
      "execution_count": null,
      "outputs": [
        {
          "output_type": "execute_result",
          "data": {
            "text/plain": [
              "(3308, 7)"
            ]
          },
          "metadata": {},
          "execution_count": 10
        }
      ]
    }
  ]
}