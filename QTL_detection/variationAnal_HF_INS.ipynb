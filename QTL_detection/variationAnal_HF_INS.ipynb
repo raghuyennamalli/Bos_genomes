{
  "cells": [
    {
      "cell_type": "code",
      "execution_count": null,
      "metadata": {
        "colab": {
          "base_uri": "https://localhost:8080/"
        },
        "id": "90qDRfe4pWc5",
        "outputId": "35eaee26-9416-4839-fc0f-c55027b58348"
      },
      "outputs": [
        {
          "output_type": "stream",
          "name": "stdout",
          "text": [
            "Mounted at /content/drive\n"
          ]
        }
      ],
      "source": [
        "from google.colab import drive\n",
        "drive.mount(\"/content/drive\")"
      ]
    },
    {
      "cell_type": "code",
      "source": [
        "import pandas as pd"
      ],
      "metadata": {
        "id": "hhwsHn6iJE3j"
      },
      "execution_count": null,
      "outputs": []
    },
    {
      "cell_type": "code",
      "source": [
        "df_common=pd.read_csv(\"/content/drive/MyDrive/Hereford_VarAnalysis/Hereford_chrVar/ins/1/hfprotvar_wd1.csv\")"
      ],
      "metadata": {
        "id": "tDTzjjYQIuoT"
      },
      "execution_count": null,
      "outputs": []
    },
    {
      "cell_type": "code",
      "source": [
        "len(df_common)"
      ],
      "metadata": {
        "colab": {
          "base_uri": "https://localhost:8080/"
        },
        "id": "NdR4XzORJIH5",
        "outputId": "fc81c920-fe0d-42b1-d7ba-6bdc9c984e44"
      },
      "execution_count": null,
      "outputs": [
        {
          "output_type": "execute_result",
          "data": {
            "text/plain": [
              "9583"
            ]
          },
          "metadata": {},
          "execution_count": 5
        }
      ]
    },
    {
      "cell_type": "code",
      "source": [
        "df_protein_file=pd.read_csv(\"/content/drive/MyDrive/gene_ext/ind_protein/ind_chr1_prot.csv\")"
      ],
      "metadata": {
        "id": "gAvCbMqOMVWl"
      },
      "execution_count": null,
      "outputs": []
    },
    {
      "cell_type": "code",
      "source": [
        "df_protein_file=pd.read_csv(\"/content/drive/MyDrive/gene_ext/ind_protein/ind_chr29_prot.csv\")\n",
        "df_protein_file.shape"
      ],
      "metadata": {
        "colab": {
          "base_uri": "https://localhost:8080/"
        },
        "id": "ASM6CDsR6_ij",
        "outputId": "d4476c62-3309-4736-f2ae-74723e24cac8"
      },
      "execution_count": null,
      "outputs": [
        {
          "output_type": "execute_result",
          "data": {
            "text/plain": [
              "(970, 11)"
            ]
          },
          "metadata": {},
          "execution_count": 12
        }
      ]
    },
    {
      "cell_type": "code",
      "source": [
        "n=df_protein_file[\"Locus\"].unique()\n",
        "len(n)"
      ],
      "metadata": {
        "colab": {
          "base_uri": "https://localhost:8080/"
        },
        "id": "fxEqtqly-Ldf",
        "outputId": "1163906b-fd0e-4836-cc2d-b2fcf0e8589f"
      },
      "execution_count": null,
      "outputs": [
        {
          "output_type": "execute_result",
          "data": {
            "text/plain": [
              "553"
            ]
          },
          "metadata": {},
          "execution_count": 10
        }
      ]
    },
    {
      "cell_type": "code",
      "source": [
        "df_hf=pd.read_csv(\"/content/drive/MyDrive/Hereford_VarAnalysis/Hereford_Protein/HF29.txt\", delimiter=\"\\t\")\n",
        "df_hf.shape"
      ],
      "metadata": {
        "colab": {
          "base_uri": "https://localhost:8080/"
        },
        "id": "SPhnmv089PoH",
        "outputId": "3d2c89f3-6968-4514-e06b-9e9411005c93"
      },
      "execution_count": null,
      "outputs": [
        {
          "output_type": "execute_result",
          "data": {
            "text/plain": [
              "(1025, 13)"
            ]
          },
          "metadata": {},
          "execution_count": 13
        }
      ]
    },
    {
      "cell_type": "code",
      "source": [
        "m=df_hf[\"Symbol\"].unique()\n",
        "len(m)"
      ],
      "metadata": {
        "colab": {
          "base_uri": "https://localhost:8080/"
        },
        "id": "LPxYvQBH-ltm",
        "outputId": "f1bbea57-e186-4666-9337-c9d59f6b4379"
      },
      "execution_count": null,
      "outputs": [
        {
          "output_type": "execute_result",
          "data": {
            "text/plain": [
              "1440"
            ]
          },
          "metadata": {},
          "execution_count": 11
        }
      ]
    },
    {
      "cell_type": "code",
      "source": [
        "# Identifying the variations\n",
        "final_df = pd.DataFrame(columns=list(df_protein_file.columns)+[\"gene_type\"])\n",
        "for i, row in tqdm(df_common.iterrows()):\n",
        "    # Check for the at start\n",
        "    if df_protein_file[(df_protein_file[\"Start\"]==row[\"startpos.q\"]) & (df_protein_file[\"Stop\"]>row[\"endpos.q\"])].shape[0]>=1:\n",
        "        tmp_df = df_common[(df_protein_file[\"Start\"]==row[\"startpos.q\"]) & (df_protein_file[\"Stop\"]>row[\"endpos.q\"])].copy(deep=True)\n",
        "        tmp_df[\"gene_type\"] = \"at_start\"\n",
        "        # tmp_df[\"startpos.q\"] = row[\"startpos.q\"]\n",
        "        # tmp_df[\"endpos.q\"] = row[\"endpos.q\"]\n",
        "        # tmp_df[\"seq.r\"] = row[\"seq.r\"]\n",
        "        # tmp_df[\"seq.q\"] = row[\"seq.q\"]\n",
        "        # tmp_df[\"LOV\"] = row[\"LOV\"]\n",
        "        final_df = pd.concat([final_df,tmp_df]).reset_index(drop=True)\n",
        "        a=a+1\n",
        "    # check for the at end\n",
        "    elif df_protein_file[(df_protein_file[\"Start\"]<row[\"startpos.q\"]) & (df_protein_file[\"Stop\"]==row[\"endpos.q\"])].shape[0]>=1:\n",
        "        tmp_df = df_protein_file[(df_protein_file[\"Start\"]<row[\"startpos.q\"]) & (df_protein_file[\"Stop\"]==row[\"endpos.q\"])].copy(deep=True)\n",
        "        tmp_df[\"gene_type\"] = \"at_end\"\n",
        "        # tmp_df[\"startpos.q\"] = row[\"startpos.q\"]\n",
        "        # tmp_df[\"endpos.q\"] = row[\"endpos.q\"]\n",
        "        # tmp_df[\"seq.r\"] = row[\"seq.r\"]\n",
        "        # tmp_df[\"seq.q\"] = row[\"seq.q\"]\n",
        "        # tmp_df[\"LOV\"] = row[\"LOV\"]\n",
        "        final_df = pd.concat([final_df,tmp_df]).reset_index(drop=True)\n",
        "        b=b+1\n",
        "    # Check for the within gene\n",
        "    elif df_protein_file[(df_protein_file[\"Start\"]<row[\"startpos.q\"]) & (df_protein_file[\"Stop\"]>row[\"endpos.q\"])].shape[0]>=1:\n",
        "        tmp_df = df_protein_file[(df_protein_file[\"Start\"]<row[\"startpos.q\"]) & (df_protein_file[\"Stop\"]>row[\"endpos.q\"])].copy(deep=True)\n",
        "        tmp_df[\"gene_type\"] = \"within_gene\"\n",
        "        tmp_df[\"startpos.q\"] = row[\"startpos.q\"]\n",
        "        tmp_df[\"endpos.q\"] = row[\"endpos.q\"]\n",
        "        tmp_df[\"seq.r\"] = row[\"seq.r\"]\n",
        "        tmp_df[\"seq.q\"] = row[\"seq.q\"]\n",
        "        tmp_df[\"LOV\"] = row[\"LOV\"]\n",
        "        final_df = pd.concat([final_df,tmp_df]).reset_index(drop=True)\n",
        "        c=c+1\n",
        "    # Check for the near start gene with integenic\n",
        "    elif df_protein_file[(df_protein_file[\"Start\"]>row[\"startpos.q\"]) & (df_protein_file[\"Start\"]<row[\"endpos.q\"])].shape[0]>=1:\n",
        "        tmp_df = df_protein_file[(df_protein_file[\"Start\"]>row[\"startpos.q\"]) & (df_protein_file[\"Start\"]<row[\"endpos.q\"])].copy(deep=True)\n",
        "        tmp_df[\"gene_type\"] = \"near_start_gene with intergenic\"\n",
        "        tmp_df[\"startpos.q\"] = row[\"startpos.q\"]\n",
        "        tmp_df[\"endpos.q\"] = row[\"endpos.q\"]\n",
        "        tmp_df[\"seq.r\"] = row[\"seq.r\"]\n",
        "        tmp_df[\"seq.q\"] = row[\"seq.q\"]\n",
        "        tmp_df[\"LOV\"] = row[\"LOV\"]\n",
        "        final_df = pd.concat([final_df,tmp_df]).reset_index(drop=True)\n",
        "        d=d+1\n",
        "    # Check for the near stop gene with intergenic\n",
        "    elif df_protein_file[(df_protein_file[\"Stop\"]>row[\"startpos.q\"]) & (df_protein_file[\"Stop\"]<row[\"endpos.q\"])].shape[0]>=1:\n",
        "        tmp_df = df_protein_file[(df_protein_file[\"Stop\"]>row[\"startpos.q\"]) & (df_protein_file[\"Stop\"]<row[\"endpos.q\"])].copy(deep=True)\n",
        "        tmp_df[\"gene_type\"] = \"near_stop_gene with intergenic\"\n",
        "        tmp_df[\"startpos.q\"] = row[\"startpos.q\"]\n",
        "        tmp_df[\"endpos.q\"] = row[\"endpos.q\"]\n",
        "        tmp_df[\"seq.r\"] = row[\"seq.r\"]\n",
        "        tmp_df[\"seq.q\"] = row[\"seq.q\"]\n",
        "        tmp_df[\"LOV\"] = row[\"LOV\"]\n",
        "        final_df = pd.concat([final_df,tmp_df]).reset_index(drop=True)\n",
        "        e=e+1\n",
        "    # Check for the at start with intergenic gene\n",
        "    elif df_protein_file[(df_protein_file[\"Start\"]>row[\"startpos.q\"]) & (df_protein_file[\"Start\"]==row[\"endpos.q\"])].shape[0]>=1:\n",
        "        tmp_df = df_protein_file[(df_protein_file[\"Start\"]>row[\"startpos.q\"]) & (df_protein_file[\"start\"]==row[\"endpos.q\"])].copy(deep=True)\n",
        "        tmp_df[\"gene_type\"] = \"at_start with intergenic_gene\"\n",
        "        tmp_df[\"startpos.q\"] = row[\"startpos.q\"]\n",
        "        tmp_df[\"endpos.q\"] = row[\"endpos.q\"]\n",
        "        tmp_df[\"seq.r\"] = row[\"seq.r\"]\n",
        "        tmp_df[\"seq.q\"] = row[\"seq.q\"]\n",
        "        tmp_df[\"LOV\"] = row[\"LOV\"]\n",
        "        final_df = pd.concat([final_df,tmp_df]).reset_index(drop=True)\n",
        "        f=f+1\n",
        "    # check for the at end with intergenic\n",
        "    elif df_protein_file[(df_protein_file[\"Stop\"]==row[\"startpos.q\"]) & (df_protein_file[\"Stop\"]<row[\"endpos.q\"])].shape[0]>=1:\n",
        "        tmp_df = df_protein_file[(df_protein_file[\"Stop\"]==row[\"startpos.q\"]) & (df_protein_file[\"Stop\"]<row[\"endpos.q\"])].copy(deep=True)\n",
        "        tmp_df[\"gene_type\"] = \"at_end with intergenic_gene\"\n",
        "        tmp_df[\"startpos.q\"] = row[\"startpos.q\"]\n",
        "        tmp_df[\"endpos.q\"] = row[\"endpos.q\"]\n",
        "        tmp_df[\"seq.r\"] = row[\"seq.r\"]\n",
        "        tmp_df[\"seq.q\"] = row[\"seq.q\"]\n",
        "        tmp_df[\"LOV\"] = row[\"LOV\"]\n",
        "        final_df = pd.concat([final_df,tmp_df]).reset_index(drop=True)\n",
        "        g=g+1\n",
        "    # Check for the intergenic gene\n",
        "    elif df_protein_file[(df_protein_file[\"Stop\"]<row[\"startpos.q\"]) & (df_protein_file[\"start_of_next_gene\"]>row[\"endpos.q\"])].shape[0]>=1:\n",
        "        tmp_df = df_protein_file[(df_protein_file[\"Stop\"]<row[\"startpos.q\"]) & (df_protein_file[\"start_of_next_gene\"]>row[\"endpos.q\"])].copy(deep=True)\n",
        "        tmp_df[\"gene_type\"] = \"intergenic_gene\"\n",
        "        tmp_df[\"startpos.q\"] = row[\"startpos.q\"]\n",
        "        tmp_df[\"endpos.q\"] = row[\"endpos.q\"]\n",
        "        tmp_df[\"seq.r\"] = row[\"seq.r\"]\n",
        "        tmp_df[\"seq.q\"] = row[\"seq.q\"]\n",
        "        tmp_df[\"LOV\"] = row[\"LOV\"]\n",
        "        final_df = pd.concat([final_df,tmp_df]).reset_index(drop=True)\n",
        "        h=h+1\n",
        "    else:\n",
        "        pass"
      ],
      "metadata": {
        "id": "yjlXlGTsNcTi"
      },
      "execution_count": null,
      "outputs": []
    },
    {
      "cell_type": "code",
      "source": [
        "# insertion\n",
        "def indicineprotvar(hfprotvar_wd, chr, outloc):\n",
        "  print(\"hffinal_df\", hfprotvar_wd.shape)\n",
        "  in_f1=f\"/content/drive/MyDrive/gene_ext/ind_protein/ind_chr{chr}_prot.csv\"\n",
        "  ind_prot=pd.read_csv(in_f1)\n",
        "  ind_prot[\"indstart_of_next_gene\"] = ind_prot[\"Start\"].shift(-1).fillna(0)\n",
        "  finalindprot_df=pd.DataFrame(columns=list(hfprotvar_wd)+[\"NelStart\"]+[\"NelStop\"]+[\"NelLocus\"]+[\"NelLength\"]+[\"NelProt\"]+[\"Nelnextgen\"]+[\"Nelgene_type\"])\n",
        "  for i, row in tqdm(ind_prot.iterrows()):\n",
        "    # Check for the at start\n",
        "    if hfprotvar_wd[(row[\"Start\"]==hfprotvar_wd[\"startpos.q\"]) & (row[\"Stop\"]>hfprotvar_wd[\"endpos.q\"])].shape[0]>=1:\n",
        "        tmp_df = hfprotvar_wd[(row[\"Start\"]==hfprotvar_wd[\"startpos.q\"]) & (row[\"Stop\"]>hfprotvar_wd[\"endpos.q\"])].copy(deep=True)\n",
        "        tmp_df[\"Nelgene_type\"] = \"at_start\"\n",
        "        tmp_df[\"NelStart\"] = row[\"Start\"]\n",
        "        tmp_df[\"NelStop\"] = row[\"Stop\"]\n",
        "        tmp_df[\"NelLocus\"] = row[\"Locus\"]\n",
        "        tmp_df[\"NelLength\"] = row[\"Length\"]\n",
        "        tmp_df[\"NelProt\"] = row[\"Protein Name\"]\n",
        "        tmp_df[\"Nelnextgen\"] = row[\"indstart_of_next_gene\"]\n",
        "        finalindprot_df = pd.concat([finalindprot_df,tmp_df]).reset_index(drop=True)\n",
        "    # check for the at end\n",
        "    elif hfprotvar_wd[(row[\"Start\"]<hfprotvar_wd[\"startpos.q\"]) & (row[\"Stop\"]==hfprotvar_wd[\"endpos.q\"])].shape[0]>=1:\n",
        "        tmp_df = hfprotvar_wd[(row[\"Start\"]<hfprotvar_wd[\"startpos.q\"]) & (row[\"Stop\"]==hfprotvar_wd[\"endpos.q\"])].copy(deep=True)\n",
        "        tmp_df[\"Nelgene_type\"] = \"at_end\"\n",
        "        tmp_df[\"NelStart\"] = row[\"Start\"]\n",
        "        tmp_df[\"NelStop\"] = row[\"Stop\"]\n",
        "        tmp_df[\"NelLocus\"] = row[\"Locus\"]\n",
        "        tmp_df[\"NelLength\"] = row[\"Length\"]\n",
        "        tmp_df[\"NelProt\"] = row[\"Protein Name\"]\n",
        "        tmp_df[\"Nelnextgen\"] = row[\"indstart_of_next_gene\"]\n",
        "        finalindprot_df = pd.concat([finalindprot_df,tmp_df]).reset_index(drop=True)\n",
        "    # Check for the within gene\n",
        "    elif hfprotvar_wd[(row[\"Start\"]<hfprotvar_wd[\"startpos.q\"]) & (row[\"Stop\"]>hfprotvar_wd[\"endpos.q\"])].shape[0]>=1:\n",
        "        tmp_df = hfprotvar_wd[(row[\"Start\"]<hfprotvar_wd[\"startpos.q\"]) & (row[\"Stop\"]>hfprotvar_wd[\"endpos.q\"])].copy(deep=True)\n",
        "        tmp_df[\"Nelgene_type\"] = \"within_gene\"\n",
        "        tmp_df[\"NelStart\"] = row[\"Start\"]\n",
        "        tmp_df[\"NelStop\"] = row[\"Stop\"]\n",
        "        tmp_df[\"NelLocus\"] = row[\"Locus\"]\n",
        "        tmp_df[\"NelLength\"] = row[\"Length\"]\n",
        "        tmp_df[\"NelProt\"] = row[\"Protein Name\"]\n",
        "        tmp_df[\"Nelnextgen\"] = row[\"indstart_of_next_gene\"]\n",
        "        finalindprot_df = pd.concat([finalindprot_df,tmp_df]).reset_index(drop=True)\n",
        "    # Check for the near start gene with integenic\n",
        "    elif hfprotvar_wd[(row[\"Start\"]>hfprotvar_wd[\"startpos.q\"]) & (row[\"Start\"]<hfprotvar_wd[\"endpos.q\"])].shape[0]>=1:\n",
        "        tmp_df = hfprotvar_wd[(row[\"Start\"]>hfprotvar_wd[\"startpos.q\"]) & (row[\"Start\"]<hfprotvar_wd[\"endpos.q\"])].copy(deep=True)\n",
        "        tmp_df[\"Nelgene_type\"] = \"near_start_gene with intergenic\"\n",
        "        tmp_df[\"NelStart\"] = row[\"Start\"]\n",
        "        tmp_df[\"NelStop\"] = row[\"Stop\"]\n",
        "        tmp_df[\"NelLocus\"] = row[\"Locus\"]\n",
        "        tmp_df[\"NelLength\"] = row[\"Length\"]\n",
        "        tmp_df[\"NelProt\"] = row[\"Protein Name\"]\n",
        "        tmp_df[\"Nelnextgen\"] = row[\"indstart_of_next_gene\"]\n",
        "        finalindprot_df = pd.concat([finalindprot_df,tmp_df]).reset_index(drop=True)\n",
        "    # Check for the near stop gene with intergenic\n",
        "    elif hfprotvar_wd[(row[\"Stop\"]>hfprotvar_wd[\"startpos.q\"]) & (row[\"Stop\"]<hfprotvar_wd[\"endpos.q\"])].shape[0]>=1:\n",
        "        tmp_df = hfprotvar_wd[(row[\"Stop\"]>hfprotvar_wd[\"startpos.q\"]) & (row[\"Stop\"]<hfprotvar_wd[\"endpos.q\"])].copy(deep=True)\n",
        "        tmp_df[\"Nelgene_type\"] = \"near_stop_gene with intergenic\"\n",
        "        tmp_df[\"NelStart\"] = row[\"Start\"]\n",
        "        tmp_df[\"NelStop\"] = row[\"Stop\"]\n",
        "        tmp_df[\"NelLocus\"] = row[\"Locus\"]\n",
        "        tmp_df[\"NelLength\"] = row[\"Length\"]\n",
        "        tmp_df[\"NelProt\"] = row[\"Protein Name\"]\n",
        "        tmp_df[\"Nelnextgen\"] = row[\"indstart_of_next_gene\"]\n",
        "        finalindprot_df= pd.concat([finalindprot_df,tmp_df]).reset_index(drop=True)\n",
        "    # Check for the at start with intergenic gene\n",
        "    elif hfprotvar_wd[(row[\"Start\"]>hfprotvar_wd[\"startpos.q\"]) & (row[\"Start\"]==hfprotvar_wd[\"endpos.q\"])].shape[0]>=1:\n",
        "        tmp_df = hfprotvar_wd[(row[\"Start\"]>hfprotvar_wd[\"startpos.q\"]) & (row[\"start\"]==hfprotvar_wd[\"endpos.q\"])].copy(deep=True)\n",
        "        tmp_df[\"Nelgene_type\"] = \"at_start with intergenic_gene\"\n",
        "        tmp_df[\"NelStart\"] = row[\"Start\"]\n",
        "        tmp_df[\"NelStop\"] = row[\"Stop\"]\n",
        "        tmp_df[\"NelLocus\"] = row[\"Locus\"]\n",
        "        tmp_df[\"NelLength\"] = row[\"Length\"]\n",
        "        tmp_df[\"NelProt\"] = row[\"Protein Name\"]\n",
        "        tmp_df[\"Nelnextgen\"] = row[\"indstart_of_next_gene\"]\n",
        "        finalindprot_df = pd.concat([finalindprot_df,tmp_df]).reset_index(drop=True)\n",
        "    # check for the at end with intergenic\n",
        "    elif hfprotvar_wd[(row[\"Stop\"]==hfprotvar_wd[\"startpos.q\"]) & (row[\"Stop\"]<hfprotvar_wd[\"endpos.q\"])].shape[0]>=1:\n",
        "        tmp_df = hfprotvar_wd[(row[\"Stop\"]==hfprotvar_wd[\"startpos.q\"]) & (row[\"Stop\"]<hfprotvar_wd[\"endpos.q\"])].copy(deep=True)\n",
        "        tmp_df[\"Nelgene_type\"] = \"at_end with intergenic_gene\"\n",
        "        tmp_df[\"NelStart\"] = row[\"Start\"]\n",
        "        tmp_df[\"NelStop\"] = row[\"Stop\"]\n",
        "        tmp_df[\"NelLocus\"] = row[\"Locus\"]\n",
        "        tmp_df[\"NelLength\"] = row[\"Length\"]\n",
        "        tmp_df[\"NelProt\"] = row[\"Protein Name\"]\n",
        "        tmp_df[\"Nelnextgen\"] = row[\"indstart_of_next_gene\"]\n",
        "        finalindprot_df = pd.concat([finalindprot_df,tmp_df]).reset_index(drop=True)\n",
        "    # Check for the intergenic gene\n",
        "    elif hfprotvar_wd[(row[\"Stop\"]<hfprotvar_wd[\"startpos.q\"]) & (row[\"indstart_of_next_gene\"]>hfprotvar_wd[\"endpos.q\"])].shape[0]>=1:\n",
        "        tmp_df = hfprotvar_wd[(row[\"Stop\"]<hfprotvar_wd[\"startpos.q\"]) & (row[\"indstart_of_next_gene\"]>hfprotvar_wd[\"endpos.q\"])].copy(deep=True)\n",
        "        tmp_df[\"Nelgene_type\"] = \"intergenic_gene\"\n",
        "        tmp_df[\"NelStart\"] = row[\"Start\"]\n",
        "        tmp_df[\"NelStop\"] = row[\"Stop\"]\n",
        "        tmp_df[\"NelLocus\"] = row[\"Locus\"]\n",
        "        tmp_df[\"NelLength\"] = row[\"Length\"]\n",
        "        tmp_df[\"NelProt\"] = row[\"Protein Name\"]\n",
        "        tmp_df[\"Nelnextgen\"] = row[\"indstart_of_next_gene\"]\n",
        "        finalindprot_df = pd.concat([finalindprot_df,tmp_df]).reset_index(drop=True)\n",
        "    else:\n",
        "        pass\n",
        "\n",
        "\n",
        "  # Generate output file\n",
        "  out_file16=f\"hfqtl_NelVar{chr}.csv\"\n",
        "  finalindprot_df.to_csv(out_file16)\n",
        "  shutil.copy(out_file16, outloc)\n",
        "\n",
        "  # extract only the immune genes\n",
        "  hfimm_nel = pd.DataFrame\n",
        "  hfimm_nel=finalindprot_df[finalindprot_df[\"keyword_found\"]==True]\n",
        "  out_file17=f\"hfimm_nel{chr}.csv\"\n",
        "  hfimm_nel.to_csv(out_file17)\n",
        "  shutil.copy(out_file17, outloc)\n",
        "\n",
        "  # LOV50\n",
        "  hfNel_LOV50=finalindprot_df[finalindprot_df[\"LOV\"]>=50]\n",
        "  hfNelimm_LOV50=hfimm_nel[hfimm_nel[\"LOV\"]>=50]\n",
        "  out_file18=f\"hfNel_LOV50_{chr}.csv\"\n",
        "  out_file19=f\"hfNelimm_LOV50_{chr}.csv\"\n",
        "  hfNel_LOV50.to_csv(out_file18)\n",
        "  hfNelimm_LOV50.to_csv(out_file19)\n",
        "  shutil.copy(out_file18, outloc)\n",
        "  shutil.copy(out_file19, outloc)\n"
      ],
      "metadata": {
        "id": "ytVecgYHrM5S"
      },
      "execution_count": null,
      "outputs": []
    },
    {
      "cell_type": "code",
      "execution_count": null,
      "metadata": {
        "id": "SHUf1JcQssnp"
      },
      "outputs": [],
      "source": [
        "def hfqtl_VarAnal(common_df, hfqtl_df, chr, outloc):\n",
        "  # Identifying the variations\n",
        "  final_df = pd.DataFrame(columns=list(hfqtl_df.columns)+[\"HFgene_type\"]+[\"startpos.r\"]+[\"endpos.r\"]+[\"startpos.q\"]+[\"endpos.q\"]+[\"seq.r\"]+[\"seq.q\"]+[\"LOV\"])\n",
        "  for i, row in tqdm(common_df.iterrows()):\n",
        "    # Check for the at start\n",
        "    if hfqtl_df[(hfqtl_df[\"Begin\"]==row[\"startpos.r\"]) & (hfqtl_df[\"End\"]>row[\"endpos.r\"])].shape[0]>=1:\n",
        "        tmp_df = hfqtl_df[(hfqtl_df[\"Begin\"]==row[\"startpos.r\"]) & (hfqtl_df[\"End\"]>row[\"endpos.r\"])].copy(deep=True)\n",
        "        tmp_df[\"HFgene_type\"] = \"at_start\"\n",
        "        tmp_df[\"startpos.r\"] = row[\"startpos.r\"]\n",
        "        tmp_df[\"endpos.r\"] = row[\"endpos.r\"]\n",
        "        tmp_df[\"startpos.q\"] = row[\"startpos.q\"]\n",
        "        tmp_df[\"endpos.q\"] = row[\"endpos.q\"]\n",
        "        tmp_df[\"seq.r\"] = row[\"seq.r\"]\n",
        "        tmp_df[\"seq.q\"] = row[\"seq.q\"]\n",
        "        tmp_df[\"LOV\"] = row[\"LOV\"]\n",
        "        final_df = pd.concat([final_df,tmp_df]).reset_index(drop=True)\n",
        "    # check for the at end\n",
        "    elif hfqtl_df[(hfqtl_df[\"Begin\"]<row[\"startpos.r\"]) & (hfqtl_df[\"End\"]==row[\"endpos.r\"])].shape[0]>=1:\n",
        "        tmp_df = hfqtl_df[(hfqtl_df[\"Begin\"]<row[\"startpos.r\"]) & (hfqtl_df[\"End\"]==row[\"endpos.r\"])].copy(deep=True)\n",
        "        tmp_df[\"HFgene_type\"] = \"at_end\"\n",
        "        tmp_df[\"startpos.r\"] = row[\"startpos.r\"]\n",
        "        tmp_df[\"endpos.r\"] = row[\"endpos.r\"]\n",
        "        tmp_df[\"startpos.q\"] = row[\"startpos.q\"]\n",
        "        tmp_df[\"endpos.q\"] = row[\"endpos.q\"]\n",
        "        tmp_df[\"seq.r\"] = row[\"seq.r\"]\n",
        "        tmp_df[\"seq.q\"] = row[\"seq.q\"]\n",
        "        tmp_df[\"LOV\"] = row[\"LOV\"]\n",
        "        final_df = pd.concat([final_df,tmp_df]).reset_index(drop=True)\n",
        "    # Check for the within gene\n",
        "    elif hfqtl_df[(hfqtl_df[\"Begin\"]<row[\"startpos.r\"]) & (hfqtl_df[\"End\"]>row[\"endpos.r\"])].shape[0]>=1:\n",
        "        tmp_df = hfqtl_df[(hfqtl_df[\"Begin\"]<row[\"startpos.r\"]) & (hfqtl_df[\"End\"]>row[\"endpos.r\"])].copy(deep=True)\n",
        "        tmp_df[\"HFgene_type\"] = \"within_gene\"\n",
        "        tmp_df[\"startpos.r\"] = row[\"startpos.r\"]\n",
        "        tmp_df[\"endpos.r\"] = row[\"endpos.r\"]\n",
        "        tmp_df[\"startpos.q\"] = row[\"startpos.q\"]\n",
        "        tmp_df[\"endpos.q\"] = row[\"endpos.q\"]\n",
        "        tmp_df[\"seq.r\"] = row[\"seq.r\"]\n",
        "        tmp_df[\"seq.q\"] = row[\"seq.q\"]\n",
        "        tmp_df[\"LOV\"] = row[\"LOV\"]\n",
        "        final_df = pd.concat([final_df,tmp_df]).reset_index(drop=True)\n",
        "    # Check for the intergenic gene\n",
        "    elif hfqtl_df[(hfqtl_df[\"End\"]<row[\"startpos.r\"]) & (hfqtl_df[\"hfstart_of_next_gene\"]>row[\"endpos.r\"])].shape[0]>=1:\n",
        "        tmp_df = hfqtl_df[(hfqtl_df[\"End\"]<row[\"startpos.r\"]) & (hfqtl_df[\"hfstart_of_next_gene\"]>row[\"endpos.r\"])].copy(deep=True)\n",
        "        tmp_df[\"HFgene_type\"] = \"intergenic_gene\"\n",
        "        tmp_df[\"startpos.r\"] = row[\"startpos.r\"]\n",
        "        tmp_df[\"endpos.r\"] = row[\"endpos.r\"]\n",
        "        tmp_df[\"startpos.q\"] = row[\"startpos.q\"]\n",
        "        tmp_df[\"endpos.q\"] = row[\"endpos.q\"]\n",
        "        tmp_df[\"seq.r\"] = row[\"seq.r\"]\n",
        "        tmp_df[\"seq.q\"] = row[\"seq.q\"]\n",
        "        tmp_df[\"LOV\"] = row[\"LOV\"]\n",
        "        final_df = pd.concat([final_df,tmp_df]).reset_index(drop=True)\n",
        "    else:\n",
        "        pass\n",
        "\n",
        "  # Generate output file\n",
        "  out_file3=f\"hfprotvar{chr}.csv\"\n",
        "  final_df.to_csv(out_file3)\n",
        "  shutil.copy(out_file3, outloc)\n",
        "\n",
        "  # find variation not present in gene and intergene region called as other non coding region\n",
        "  final_df1 = pd.DataFrame(columns=common_df.columns)\n",
        "  for index, row in tqdm(common_df.iterrows()):\n",
        "    # Check if 'startpos.q' is present in any row of file2\n",
        "    if row['startpos.q'] not in final_df['startpos.q'].values:\n",
        "        # Append the row to the DataFrame if not found\n",
        "        final_df1 = final_df1.append(row, ignore_index=True)\n",
        "\n",
        "  # Save the DataFrame with rows not found in file2 to a new CSV file\n",
        "  out_file4=f\"non_coding{chr}.csv\"\n",
        "  final_df1.to_csv(out_file4, index=False)\n",
        "  shutil.copy(out_file4, outloc)\n",
        "\n",
        "  # remove duplicates\n",
        "  hfprotvar_wd = final_df.drop_duplicates(subset=['Symbol', \"QTL Class\", 'startpos.r', 'endpos.r'])\n",
        "  out_file5=f\"hfprotvar_wd{chr}.csv\"\n",
        "  hfprotvar_wd.to_csv(out_file5)\n",
        "  shutil.copy(out_file5, outloc)\n",
        "\n",
        "  # extract only the immune genes\n",
        "  hfimm = pd.DataFrame\n",
        "  hfimm=hfprotvar_wd[hfprotvar_wd[\"keyword_found\"]==True]\n",
        "  out_file6=f\"hfimm{chr}.csv\"\n",
        "  hfimm.to_csv(out_file6)\n",
        "  shutil.copy(out_file6, outloc)\n",
        "\n",
        "  # Extract the variation presents in gene and intergene seperately\n",
        "  hf_within_gene=hfprotvar_wd[hfprotvar_wd[\"HFgene_type\"]==\"within_gene\"]\n",
        "  hf_inter_gene=hfprotvar_wd[hfprotvar_wd[\"HFgene_type\"]==\"intergenic_gene\"]\n",
        "\n",
        "  # extract the variations among genomic regions including gene and intergene has greater the 50 LOV (length of varaition)\n",
        "  hf_LOV50=hfprotvar_wd[hfprotvar_wd[\"LOV\"]>=50]\n",
        "\n",
        "  out_file7=f\"hf_within_gene{chr}.csv\"\n",
        "  out_file8=f\"hf_inter_gene{chr}.csv\"\n",
        "  out_file9=f\"hf_LOV50_{chr}.csv\"\n",
        "\n",
        "  hf_within_gene.to_csv(out_file7)\n",
        "  hf_inter_gene.to_csv(out_file8)\n",
        "  hf_LOV50.to_csv(out_file9)\n",
        "\n",
        "  shutil.copy(out_file7, outloc)\n",
        "  shutil.copy(out_file8, outloc)\n",
        "  shutil.copy(out_file9, outloc)\n",
        "\n",
        "  # Extract the variation presents in immune gene and intergene seperately\n",
        "  hfimm_within_gene=hfimm[hfimm[\"HFgene_type\"]==\"within_gene\"]\n",
        "  hfimm_inter_gene=hfimm[hfimm[\"HFgene_type\"]==\"intergenic_gene\"]\n",
        "\n",
        "  # extract the variations among genomic regions including gene and intergene has greater the 50 LOV (length of varaition)\n",
        "  hfimm_LOV50=hfimm[hfimm[\"LOV\"]>=50]\n",
        "\n",
        "  out_file10=f\"hfimm_within_gene{chr}.csv\"\n",
        "  out_file11=f\"hfimm_inter_gene{chr}.csv\"\n",
        "  out_file12=f\"hfimm_LOV50_{chr}.csv\"\n",
        "\n",
        "  hfimm_within_gene.to_csv(out_file10)\n",
        "  hfimm_inter_gene.to_csv(out_file11)\n",
        "  hfimm_LOV50.to_csv(out_file12)\n",
        "\n",
        "  shutil.copy(out_file10, outloc)\n",
        "  shutil.copy(out_file11, outloc)\n",
        "  shutil.copy(out_file12, outloc)\n",
        "\n",
        "  # count the variation based on gene type\n",
        "  hfvar_counts = hfprotvar_wd.drop_duplicates(subset=['Symbol', 'startpos.r', 'endpos.r'])\n",
        "  gene_count=hfvar_counts.groupby([\"HFgene_type\"]).size().reset_index(name=\"count\")\n",
        "  out_file13=f\"var_count{chr}.csv\"\n",
        "  gene_count.to_csv(out_file13)\n",
        "  shutil.copy(out_file10, outloc)\n",
        "\n",
        "  # extract the immune has how many variations and its gene type\n",
        "  hfimmvar_counts = hfimm.drop_duplicates(subset=['Symbol', 'startpos.r', 'endpos.r'])\n",
        "  imm_count=hfimmvar_counts.groupby(by=[\"Symbol\",\"Name\", \"HFgene_type\"]).size().reset_index(name=\"count\")\n",
        "  out_file14=f\"immlocus_gene_type_counts{chr}.csv\"\n",
        "  imm_count.to_csv(out_file14, index=False)\n",
        "  shutil.copy(out_file14, outloc)\n",
        "\n",
        "  # Calculate value counts\n",
        "  count = hfprotvar_wd[\"HFgene_type\"].value_counts().reset_index()\n",
        "  count.columns = [\"HFgene_type\", \"Count\"]\n",
        "  count.loc[len(count.index)]=[\"immune_gene\", len(hfimm_within_gene)]\n",
        "  count.loc[len(count.index)]=[\"non_coding_gene\", len(final_df1)]\n",
        "\n",
        "\n",
        "  # Save the result to a CSV file\n",
        "  out_file15=f\"inscount{chr}.csv\"\n",
        "  count.to_csv(out_file15, index=False)\n",
        "  shutil.copy(out_file15, outloc)\n",
        "\n",
        "  #extract idicine genes\n",
        "  indicineprotvar(hfprotvar_wd, chr, outloc)\n"
      ]
    },
    {
      "cell_type": "code",
      "execution_count": null,
      "metadata": {
        "id": "_n3smdWXuPE7",
        "colab": {
          "base_uri": "https://localhost:8080/"
        },
        "outputId": "aa863634-fb14-4bb6-b612-5a16a76ab5c4"
      },
      "outputs": [
        {
          "output_type": "stream",
          "name": "stdout",
          "text": [
            "common_df (4536, 13)\n",
            "hfqtl_df (3435, 19)\n"
          ]
        },
        {
          "output_type": "stream",
          "name": "stderr",
          "text": [
            "4536it [02:58, 25.44it/s]\n",
            "4536it [00:03, 1267.08it/s]\n"
          ]
        },
        {
          "output_type": "stream",
          "name": "stdout",
          "text": [
            "hffinal_df (13018, 28)\n"
          ]
        },
        {
          "output_type": "stream",
          "name": "stderr",
          "text": [
            "1433it [00:48, 29.54it/s]\n"
          ]
        },
        {
          "output_type": "stream",
          "name": "stdout",
          "text": [
            "common_df (2974, 13)\n",
            "hfqtl_df (3898, 19)\n"
          ]
        },
        {
          "output_type": "stream",
          "name": "stderr",
          "text": [
            "2974it [01:29, 33.21it/s]\n",
            "0it [00:00, ?it/s]<ipython-input-37-fe085e23dcfd>:67: FutureWarning: The frame.append method is deprecated and will be removed from pandas in a future version. Use pandas.concat instead.\n",
            "  final_df1 = final_df1.append(row, ignore_index=True)\n",
            "2974it [00:02, 1394.56it/s]\n"
          ]
        },
        {
          "output_type": "stream",
          "name": "stdout",
          "text": [
            "hffinal_df (7731, 28)\n"
          ]
        },
        {
          "output_type": "stream",
          "name": "stderr",
          "text": [
            "1627it [00:42, 38.26it/s]\n"
          ]
        },
        {
          "output_type": "stream",
          "name": "stdout",
          "text": [
            "common_df (3079, 13)\n",
            "hfqtl_df (4299, 19)\n"
          ]
        },
        {
          "output_type": "stream",
          "name": "stderr",
          "text": [
            "3079it [01:13, 41.91it/s]\n",
            "0it [00:00, ?it/s]<ipython-input-37-fe085e23dcfd>:67: FutureWarning: The frame.append method is deprecated and will be removed from pandas in a future version. Use pandas.concat instead.\n",
            "  final_df1 = final_df1.append(row, ignore_index=True)\n",
            "3079it [00:01, 1664.93it/s]\n"
          ]
        },
        {
          "output_type": "stream",
          "name": "stdout",
          "text": [
            "hffinal_df (7045, 28)\n"
          ]
        },
        {
          "output_type": "stream",
          "name": "stderr",
          "text": [
            "2269it [00:52, 43.42it/s]\n"
          ]
        },
        {
          "output_type": "stream",
          "name": "stdout",
          "text": [
            "common_df (3602, 13)\n",
            "hfqtl_df (2219, 19)\n"
          ]
        },
        {
          "output_type": "stream",
          "name": "stderr",
          "text": [
            "3602it [01:16, 47.10it/s]\n",
            "3602it [00:01, 1898.12it/s]\n"
          ]
        },
        {
          "output_type": "stream",
          "name": "stdout",
          "text": [
            "hffinal_df (7752, 28)\n"
          ]
        },
        {
          "output_type": "stream",
          "name": "stderr",
          "text": [
            "1148it [00:30, 37.19it/s]\n"
          ]
        },
        {
          "output_type": "stream",
          "name": "stdout",
          "text": [
            "common_df (2347, 13)\n",
            "hfqtl_df (7514, 19)\n"
          ]
        },
        {
          "output_type": "stream",
          "name": "stderr",
          "text": [
            "2347it [01:16, 30.61it/s]\n",
            "0it [00:00, ?it/s]<ipython-input-37-fe085e23dcfd>:67: FutureWarning: The frame.append method is deprecated and will be removed from pandas in a future version. Use pandas.concat instead.\n",
            "  final_df1 = final_df1.append(row, ignore_index=True)\n",
            "2347it [00:02, 1099.00it/s]\n"
          ]
        },
        {
          "output_type": "stream",
          "name": "stdout",
          "text": [
            "hffinal_df (5983, 28)\n"
          ]
        },
        {
          "output_type": "stream",
          "name": "stderr",
          "text": [
            "2001it [00:49, 40.41it/s]\n"
          ]
        },
        {
          "output_type": "stream",
          "name": "stdout",
          "text": [
            "common_df (3254, 13)\n",
            "hfqtl_df (12249, 19)\n"
          ]
        },
        {
          "output_type": "stream",
          "name": "stderr",
          "text": [
            "3254it [06:36,  8.20it/s]\n",
            "3254it [00:18, 180.26it/s]\n"
          ]
        },
        {
          "output_type": "stream",
          "name": "stdout",
          "text": [
            "hffinal_df (10983, 28)\n"
          ]
        },
        {
          "output_type": "stream",
          "name": "stderr",
          "text": [
            "1144it [00:47, 24.05it/s]\n"
          ]
        },
        {
          "output_type": "stream",
          "name": "stdout",
          "text": [
            "common_df (2883, 13)\n",
            "hfqtl_df (3762, 19)\n"
          ]
        },
        {
          "output_type": "stream",
          "name": "stderr",
          "text": [
            "2883it [00:58, 49.12it/s]\n",
            "2883it [00:01, 2059.13it/s]\n"
          ]
        },
        {
          "output_type": "stream",
          "name": "stdout",
          "text": [
            "hffinal_df (7008, 28)\n"
          ]
        },
        {
          "output_type": "stream",
          "name": "stderr",
          "text": [
            "2022it [00:43, 46.96it/s]\n"
          ]
        },
        {
          "output_type": "stream",
          "name": "stdout",
          "text": [
            "common_df (3380, 13)\n",
            "hfqtl_df (2233, 19)\n"
          ]
        },
        {
          "output_type": "stream",
          "name": "stderr",
          "text": [
            "3380it [01:32, 36.42it/s]\n",
            "3380it [00:02, 1266.44it/s]\n"
          ]
        },
        {
          "output_type": "stream",
          "name": "stdout",
          "text": [
            "hffinal_df (8128, 28)\n"
          ]
        },
        {
          "output_type": "stream",
          "name": "stderr",
          "text": [
            "1255it [00:35, 35.14it/s]\n"
          ]
        },
        {
          "output_type": "stream",
          "name": "stdout",
          "text": [
            "common_df (2349, 13)\n",
            "hfqtl_df (1960, 19)\n"
          ]
        },
        {
          "output_type": "stream",
          "name": "stderr",
          "text": [
            "2349it [01:05, 35.68it/s]\n",
            "2349it [00:01, 1958.87it/s]\n"
          ]
        },
        {
          "output_type": "stream",
          "name": "stdout",
          "text": [
            "hffinal_df (6462, 28)\n"
          ]
        },
        {
          "output_type": "stream",
          "name": "stderr",
          "text": [
            "778it [00:17, 45.41it/s]\n"
          ]
        },
        {
          "output_type": "stream",
          "name": "stdout",
          "text": [
            "common_df (2649, 13)\n",
            "hfqtl_df (3005, 19)\n"
          ]
        },
        {
          "output_type": "stream",
          "name": "stderr",
          "text": [
            "2649it [00:56, 46.74it/s]\n",
            "2649it [00:01, 2011.80it/s]\n"
          ]
        },
        {
          "output_type": "stream",
          "name": "stdout",
          "text": [
            "hffinal_df (6702, 28)\n"
          ]
        },
        {
          "output_type": "stream",
          "name": "stderr",
          "text": [
            "1553it [00:36, 42.49it/s]\n"
          ]
        },
        {
          "output_type": "stream",
          "name": "stdout",
          "text": [
            "common_df (2288, 13)\n",
            "hfqtl_df (4621, 19)\n"
          ]
        },
        {
          "output_type": "stream",
          "name": "stderr",
          "text": [
            "2288it [00:53, 42.85it/s]\n",
            "2288it [00:01, 1786.62it/s]\n"
          ]
        },
        {
          "output_type": "stream",
          "name": "stdout",
          "text": [
            "hffinal_df (5868, 28)\n"
          ]
        },
        {
          "output_type": "stream",
          "name": "stderr",
          "text": [
            "1587it [00:34, 45.41it/s]\n"
          ]
        },
        {
          "output_type": "stream",
          "name": "stdout",
          "text": [
            "common_df (2181, 13)\n",
            "hfqtl_df (1651, 19)\n"
          ]
        },
        {
          "output_type": "stream",
          "name": "stderr",
          "text": [
            "2181it [00:41, 53.09it/s]\n",
            "2181it [00:01, 1384.92it/s]\n"
          ]
        },
        {
          "output_type": "stream",
          "name": "stdout",
          "text": [
            "hffinal_df (5350, 28)\n"
          ]
        },
        {
          "output_type": "stream",
          "name": "stderr",
          "text": [
            "623it [00:12, 51.42it/s]\n"
          ]
        },
        {
          "output_type": "stream",
          "name": "stdout",
          "text": [
            "common_df (2142, 13)\n",
            "hfqtl_df (2911, 19)\n"
          ]
        },
        {
          "output_type": "stream",
          "name": "stderr",
          "text": [
            "2142it [00:54, 39.52it/s]\n",
            "2142it [00:01, 1123.24it/s]\n"
          ]
        },
        {
          "output_type": "stream",
          "name": "stdout",
          "text": [
            "hffinal_df (5282, 28)\n"
          ]
        },
        {
          "output_type": "stream",
          "name": "stderr",
          "text": [
            "1315it [00:25, 51.29it/s]\n"
          ]
        },
        {
          "output_type": "stream",
          "name": "stdout",
          "text": [
            "common_df (1925, 13)\n",
            "hfqtl_df (8490, 19)\n"
          ]
        },
        {
          "output_type": "stream",
          "name": "stderr",
          "text": [
            "1925it [02:46, 11.57it/s]\n",
            "1925it [00:08, 230.23it/s]\n"
          ]
        },
        {
          "output_type": "stream",
          "name": "stdout",
          "text": [
            "hffinal_df (6317, 28)\n"
          ]
        },
        {
          "output_type": "stream",
          "name": "stderr",
          "text": [
            "681it [00:16, 42.14it/s]\n"
          ]
        },
        {
          "output_type": "stream",
          "name": "stdout",
          "text": [
            "common_df (2814, 13)\n",
            "hfqtl_df (3026, 19)\n"
          ]
        },
        {
          "output_type": "stream",
          "name": "stderr",
          "text": [
            "2814it [01:02, 44.67it/s]\n",
            "2814it [00:01, 2186.13it/s]\n"
          ]
        },
        {
          "output_type": "stream",
          "name": "stdout",
          "text": [
            "hffinal_df (6277, 28)\n"
          ]
        },
        {
          "output_type": "stream",
          "name": "stderr",
          "text": [
            "1533it [00:33, 45.59it/s]\n"
          ]
        },
        {
          "output_type": "stream",
          "name": "stdout",
          "text": [
            "common_df (2282, 13)\n",
            "hfqtl_df (2580, 19)\n"
          ]
        },
        {
          "output_type": "stream",
          "name": "stderr",
          "text": [
            "2282it [00:48, 46.86it/s]\n",
            "2282it [00:01, 1888.81it/s]\n"
          ]
        },
        {
          "output_type": "stream",
          "name": "stdout",
          "text": [
            "hffinal_df (5777, 28)\n"
          ]
        },
        {
          "output_type": "stream",
          "name": "stderr",
          "text": [
            "976it [00:24, 39.24it/s]\n"
          ]
        },
        {
          "output_type": "stream",
          "name": "stdout",
          "text": [
            "common_df (2027, 13)\n",
            "hfqtl_df (4396, 19)\n"
          ]
        },
        {
          "output_type": "stream",
          "name": "stderr",
          "text": [
            "2027it [00:50, 40.12it/s]\n",
            "0it [00:00, ?it/s]<ipython-input-37-fe085e23dcfd>:67: FutureWarning: The frame.append method is deprecated and will be removed from pandas in a future version. Use pandas.concat instead.\n",
            "  final_df1 = final_df1.append(row, ignore_index=True)\n",
            "2027it [00:02, 823.97it/s]\n"
          ]
        },
        {
          "output_type": "stream",
          "name": "stdout",
          "text": [
            "hffinal_df (5637, 28)\n"
          ]
        },
        {
          "output_type": "stream",
          "name": "stderr",
          "text": [
            "994it [00:22, 44.99it/s]\n"
          ]
        },
        {
          "output_type": "stream",
          "name": "stdout",
          "text": [
            "common_df (2083, 13)\n",
            "hfqtl_df (3023, 19)\n"
          ]
        },
        {
          "output_type": "stream",
          "name": "stderr",
          "text": [
            "2083it [00:35, 59.32it/s]\n",
            "2083it [00:00, 3717.76it/s]\n"
          ]
        },
        {
          "output_type": "stream",
          "name": "stdout",
          "text": [
            "hffinal_df (3603, 28)\n"
          ]
        },
        {
          "output_type": "stream",
          "name": "stderr",
          "text": [
            "1973it [00:28, 69.34it/s]\n"
          ]
        },
        {
          "output_type": "stream",
          "name": "stdout",
          "text": [
            "common_df (1500, 13)\n",
            "hfqtl_df (3535, 19)\n"
          ]
        },
        {
          "output_type": "stream",
          "name": "stderr",
          "text": [
            "1500it [00:25, 58.98it/s]\n",
            "1456it [00:00, 3315.44it/s]<ipython-input-37-fe085e23dcfd>:67: FutureWarning: The frame.append method is deprecated and will be removed from pandas in a future version. Use pandas.concat instead.\n",
            "  final_df1 = final_df1.append(row, ignore_index=True)\n",
            "1500it [00:00, 3334.17it/s]\n"
          ]
        },
        {
          "output_type": "stream",
          "name": "stdout",
          "text": [
            "hffinal_df (3036, 28)\n"
          ]
        },
        {
          "output_type": "stream",
          "name": "stderr",
          "text": [
            "2072it [00:30, 68.04it/s]\n"
          ]
        },
        {
          "output_type": "stream",
          "name": "stdout",
          "text": [
            "common_df (2254, 13)\n",
            "hfqtl_df (4198, 19)\n"
          ]
        },
        {
          "output_type": "stream",
          "name": "stderr",
          "text": [
            "2254it [01:51, 20.21it/s]\n",
            "2254it [00:05, 390.57it/s]\n"
          ]
        },
        {
          "output_type": "stream",
          "name": "stdout",
          "text": [
            "hffinal_df (7775, 28)\n"
          ]
        },
        {
          "output_type": "stream",
          "name": "stderr",
          "text": [
            "480it [00:12, 37.07it/s]\n"
          ]
        },
        {
          "output_type": "stream",
          "name": "stdout",
          "text": [
            "common_df (1772, 13)\n",
            "hfqtl_df (3498, 19)\n"
          ]
        },
        {
          "output_type": "stream",
          "name": "stderr",
          "text": [
            "1772it [00:33, 52.46it/s]\n",
            "1772it [00:01, 1702.00it/s]\n"
          ]
        },
        {
          "output_type": "stream",
          "name": "stdout",
          "text": [
            "hffinal_df (4327, 28)\n"
          ]
        },
        {
          "output_type": "stream",
          "name": "stderr",
          "text": [
            "837it [00:14, 59.00it/s]\n"
          ]
        },
        {
          "output_type": "stream",
          "name": "stdout",
          "text": [
            "common_df (1630, 13)\n",
            "hfqtl_df (1637, 19)\n"
          ]
        },
        {
          "output_type": "stream",
          "name": "stderr",
          "text": [
            "1630it [00:31, 51.71it/s]\n",
            "1630it [00:00, 2799.51it/s]\n"
          ]
        },
        {
          "output_type": "stream",
          "name": "stdout",
          "text": [
            "hffinal_df (4371, 28)\n"
          ]
        },
        {
          "output_type": "stream",
          "name": "stderr",
          "text": [
            "1016it [00:19, 50.92it/s]\n"
          ]
        },
        {
          "output_type": "stream",
          "name": "stdout",
          "text": [
            "common_df (959, 13)\n",
            "hfqtl_df (2540, 19)\n"
          ]
        },
        {
          "output_type": "stream",
          "name": "stderr",
          "text": [
            "959it [00:15, 63.32it/s]\n",
            "959it [00:00, 3577.73it/s]\n"
          ]
        },
        {
          "output_type": "stream",
          "name": "stdout",
          "text": [
            "hffinal_df (2197, 28)\n"
          ]
        },
        {
          "output_type": "stream",
          "name": "stderr",
          "text": [
            "1147it [00:13, 87.97it/s]\n"
          ]
        },
        {
          "output_type": "stream",
          "name": "stdout",
          "text": [
            "common_df (1078, 13)\n",
            "hfqtl_df (1149, 19)\n"
          ]
        },
        {
          "output_type": "stream",
          "name": "stderr",
          "text": [
            "1078it [00:16, 64.54it/s]\n",
            "1078it [00:00, 2661.27it/s]\n"
          ]
        },
        {
          "output_type": "stream",
          "name": "stdout",
          "text": [
            "hffinal_df (2515, 28)\n"
          ]
        },
        {
          "output_type": "stream",
          "name": "stderr",
          "text": [
            "561it [00:06, 89.15it/s]\n"
          ]
        },
        {
          "output_type": "stream",
          "name": "stdout",
          "text": [
            "common_df (1000, 13)\n",
            "hfqtl_df (3391, 19)\n"
          ]
        },
        {
          "output_type": "stream",
          "name": "stderr",
          "text": [
            "1000it [00:20, 49.28it/s]\n",
            "1000it [00:00, 2843.20it/s]\n"
          ]
        },
        {
          "output_type": "stream",
          "name": "stdout",
          "text": [
            "hffinal_df (2436, 28)\n"
          ]
        },
        {
          "output_type": "stream",
          "name": "stderr",
          "text": [
            "1240it [00:15, 80.21it/s]\n"
          ]
        },
        {
          "output_type": "stream",
          "name": "stdout",
          "text": [
            "common_df (1511, 13)\n",
            "hfqtl_df (5274, 19)\n"
          ]
        },
        {
          "output_type": "stream",
          "name": "stderr",
          "text": [
            "1511it [01:37, 15.51it/s]\n",
            "1511it [00:09, 160.20it/s]\n"
          ]
        },
        {
          "output_type": "stream",
          "name": "stdout",
          "text": [
            "hffinal_df (5032, 28)\n"
          ]
        },
        {
          "output_type": "stream",
          "name": "stderr",
          "text": [
            "718it [00:17, 41.96it/s]\n"
          ]
        },
        {
          "output_type": "stream",
          "name": "stdout",
          "text": [
            "common_df (1268, 13)\n",
            "hfqtl_df (1515, 19)\n"
          ]
        },
        {
          "output_type": "stream",
          "name": "stderr",
          "text": [
            "1268it [00:21, 58.66it/s]\n",
            "1268it [00:00, 2903.91it/s]\n"
          ]
        },
        {
          "output_type": "stream",
          "name": "stdout",
          "text": [
            "hffinal_df (3315, 28)\n"
          ]
        },
        {
          "output_type": "stream",
          "name": "stderr",
          "text": [
            "356it [00:05, 65.17it/s]\n"
          ]
        },
        {
          "output_type": "stream",
          "name": "stdout",
          "text": [
            "common_df (1270, 13)\n",
            "hfqtl_df (1023, 19)\n"
          ]
        },
        {
          "output_type": "stream",
          "name": "stderr",
          "text": [
            "1270it [00:21, 59.07it/s]\n",
            "1270it [00:00, 2940.73it/s]\n"
          ]
        },
        {
          "output_type": "stream",
          "name": "stdout",
          "text": [
            "hffinal_df (3507, 28)\n"
          ]
        },
        {
          "output_type": "stream",
          "name": "stderr",
          "text": [
            "578it [00:08, 71.01it/s]\n"
          ]
        },
        {
          "output_type": "stream",
          "name": "stdout",
          "text": [
            "common_df (1954, 13)\n",
            "hfqtl_df (3908, 19)\n"
          ]
        },
        {
          "output_type": "stream",
          "name": "stderr",
          "text": [
            "1954it [01:44, 18.78it/s]\n",
            "1954it [00:05, 340.43it/s]\n"
          ]
        },
        {
          "output_type": "stream",
          "name": "stdout",
          "text": [
            "hffinal_df (5721, 28)\n"
          ]
        },
        {
          "output_type": "stream",
          "name": "stderr",
          "text": [
            "970it [00:25, 37.60it/s]\n"
          ]
        },
        {
          "output_type": "stream",
          "name": "stdout",
          "text": [
            "common_df (3321, 13)\n",
            "hfqtl_df (9880, 19)\n"
          ]
        },
        {
          "output_type": "stream",
          "name": "stderr",
          "text": [
            "3321it [01:01, 53.79it/s]\n",
            "3321it [00:01, 1927.73it/s]\n"
          ]
        },
        {
          "output_type": "stream",
          "name": "stdout",
          "text": [
            "hffinal_df (4451, 28)\n"
          ]
        },
        {
          "output_type": "stream",
          "name": "stderr",
          "text": [
            "993it [00:18, 54.66it/s]\n"
          ]
        }
      ],
      "source": [
        "def map_keywords(str_sentence):\n",
        "    list_keywords = [\n",
        "        \"immunoglobulin\",\"immunoreceptor\",\"autoimmune\",\"TLR\",\"IgG\",\n",
        "        \"autoimmune\",\"autophagy\",\"immunogen\",\"immune\",\"innate\",\"T-cell\",\"NF-kappa\", \"antigen\",\n",
        "        \"B-cell\",\"lymphocyte\",\"histocompatibility\",\"CD24\",\"CD4\",\"LY96\", \"BCR\",\n",
        "        \"IFIT3\",\"PGLYRP1\",\"NKG2D\",\"UL16\",\"leukocyte\",\"cytokine\", \"interleukin\",\"interferon\"\n",
        "        \"antimicrobial peptide\",\"beta-defensin 2\",\"IL16\",\"IL2\",\"chemokine\", \"antibody\"\n",
        "    ]\n",
        "    bool_found = bool(\n",
        "        [\n",
        "            i for i in list_keywords if i.lower() in str_sentence.lower()\n",
        "        ]\n",
        "    )\n",
        "    return bool_found\n",
        "\n",
        "\n",
        "\n",
        "\n",
        "import pandas as pd\n",
        "from tqdm import tqdm\n",
        "import shutil\n",
        "\n",
        "Chr_list=[1, 2, 3, 4, 5, 6, 7, 8, 9, 10, 11, 12, 13, 14, 15, 16, 17, 18, 19, 20, 21, 22, 23, 24, 25, 26, 27, 28, 29, \"X\"]\n",
        "for chr in Chr_list:\n",
        "  in_file1=f\"/content/drive/MyDrive/gene_ext/ins/{chr}/common_wd{chr}.csv\"\n",
        "  in_file2=f\"/content/drive/MyDrive/Hereford_VarAnalysis/Hereford_qtl/{chr}/HF_QTL{chr}.csv\"\n",
        "  outloc=f\"/content/drive/MyDrive/Hereford_VarAnalysis/Hereford_chrVar/ins/{chr}\"\n",
        "  common_df=pd.read_csv(in_file1)\n",
        "  hfqtl_df=pd.read_csv(in_file2)\n",
        "\n",
        "  print(\"common_df\", common_df.shape)\n",
        "  print(\"hfqtl_df\", hfqtl_df.shape)\n",
        "\n",
        "\n",
        "  common_df[\"LOV\"]=abs(common_df[\"endpos.q\"]-common_df[\"startpos.q\"])\n",
        "  out_f1=f\"common{chr}_LOV.csv\"\n",
        "\n",
        "  common_df.to_csv(out_f1)\n",
        "  shutil.copy(out_f1, outloc)\n",
        "\n",
        "  hfqtl_df[\"keyword_found\"] = hfqtl_df.apply(lambda row: map_keywords(row[\"Name\"]),axis=1)\n",
        "  out_f2=f\"hfqtlprot{chr}.csv\"\n",
        "\n",
        "  hfqtl_df.to_csv(out_f2)\n",
        "  shutil.copy(out_f2, outloc)\n",
        "\n",
        "  hfqtl_VarAnal(common_df, hfqtl_df, chr, outloc)\n"
      ]
    },
    {
      "cell_type": "code",
      "source": [
        "# QTL Analysis - Hereford only\n",
        "import pandas as pd"
      ],
      "metadata": {
        "id": "wNzfoaeI97Dv"
      },
      "execution_count": null,
      "outputs": []
    },
    {
      "cell_type": "code",
      "source": [
        "df_anal=pd.read_csv(\"/content/drive/MyDrive/Hereford_VarAnalysis/Hereford_chrVar/ins/1/hf_within_gene1.csv\")"
      ],
      "metadata": {
        "id": "X8KcenH--Apl"
      },
      "execution_count": null,
      "outputs": []
    },
    {
      "cell_type": "code",
      "source": [
        "df_anal.shape"
      ],
      "metadata": {
        "colab": {
          "base_uri": "https://localhost:8080/"
        },
        "id": "TFYVWGdw-YKv",
        "outputId": "f24293e4-32eb-4c92-fb98-8db0eb48f315"
      },
      "execution_count": null,
      "outputs": [
        {
          "output_type": "execute_result",
          "data": {
            "text/plain": [
              "(5285, 29)"
            ]
          },
          "metadata": {},
          "execution_count": 40
        }
      ]
    },
    {
      "cell_type": "code",
      "source": [
        "ins_anal=df_anal[df_anal[\"LOV\"]>=10]"
      ],
      "metadata": {
        "id": "mVVgTsly-cuk"
      },
      "execution_count": null,
      "outputs": []
    },
    {
      "cell_type": "code",
      "source": [
        "ins_anal.to_csv(\"ins_anal.csv\")"
      ],
      "metadata": {
        "id": "q_MCotHR_wdh"
      },
      "execution_count": null,
      "outputs": []
    },
    {
      "cell_type": "code",
      "source": [
        "filter_qtl=ins_anal[ins_anal[\"QTL Class\"]!=\"Nil\"]"
      ],
      "metadata": {
        "id": "9dOsRxjsA_cE"
      },
      "execution_count": null,
      "outputs": []
    },
    {
      "cell_type": "code",
      "source": [
        "filter_qtl.to_csv(\"ins_qtl.csv\")"
      ],
      "metadata": {
        "id": "_xeGFbc4BP09"
      },
      "execution_count": null,
      "outputs": []
    },
    {
      "cell_type": "code",
      "source": [
        "ins_qtl=filter_qtl[filter_qtl[\"qtlgene_type\"]==\"within_gene\"]"
      ],
      "metadata": {
        "id": "PfpyotqcCME5"
      },
      "execution_count": null,
      "outputs": []
    },
    {
      "cell_type": "code",
      "source": [
        "ins_qtl.to_csv(\"ins_qtl1.csv\")"
      ],
      "metadata": {
        "id": "gaicLk5QCYug"
      },
      "execution_count": null,
      "outputs": []
    },
    {
      "cell_type": "code",
      "source": [
        "ins_qtl.columns"
      ],
      "metadata": {
        "colab": {
          "base_uri": "https://localhost:8080/"
        },
        "id": "BhRaPqPRFOda",
        "outputId": "306bb9ff-c433-4c44-bec4-4fade26434c7"
      },
      "execution_count": null,
      "outputs": [
        {
          "output_type": "execute_result",
          "data": {
            "text/plain": [
              "Index(['Unnamed: 0', 'Accession', 'Begin', 'End', 'Chromosome', 'Orientation',\n",
              "       'Name', 'Symbol', 'Gene ID', 'Gene Type', 'Transcripts accession',\n",
              "       'Protein accession', 'Protein length', 'Locus tag',\n",
              "       'hfstart_of_next_gene', 'qtlgene_type', 'QTL Class', 'QTL Span1',\n",
              "       'QTL Span2', 'Description', 'keyword_found', 'HFgene_type',\n",
              "       'startpos.r', 'endpos.r', 'startpos.q', 'endpos.q', 'seq.r', 'seq.q',\n",
              "       'LOV'],\n",
              "      dtype='object')"
            ]
          },
          "metadata": {},
          "execution_count": 17
        }
      ]
    },
    {
      "cell_type": "code",
      "source": [
        "\n",
        "# Group by 'Name' and 'Symbol' and aggregate the 'QTL Class' values into a list\n",
        "grouped_df = ins_qtl.groupby(['Name', 'Symbol'])['QTL Class'].agg(list).reset_index()\n",
        "\n",
        "# Convert the lists to strings\n",
        "grouped_df['QTL Class'] = grouped_df['QTL Class'].apply(', '.join)\n",
        "\n",
        "# # Save the result to a new CSV file\n",
        "grouped_df.to_csv(\"your_new_file.csv\", index=False)"
      ],
      "metadata": {
        "id": "PTxfE-OVEoSw"
      },
      "execution_count": null,
      "outputs": []
    },
    {
      "cell_type": "code",
      "source": [
        "grouped_df"
      ],
      "metadata": {
        "id": "232vdPj_ExjM"
      },
      "execution_count": null,
      "outputs": []
    },
    {
      "cell_type": "code",
      "source": [
        "# import pandas as pd\n",
        "\n",
        "# # Read the original CSV file\n",
        "# df = pd.read_csv('your_original_file.csv')\n",
        "\n",
        "# Group by 'Name' and 'Symbol' and aggregate the sum of 'LOV' and join 'QTL Class'\n",
        "result_df = ins_qtl.groupby(['Name', 'Symbol']).agg({'LOV': 'sum', 'QTL Class': ', '.join}).reset_index()\n",
        "\n",
        "# Save the result to a new CSV file\n",
        "result_df.to_csv('your_result_file.csv', index=False)"
      ],
      "metadata": {
        "id": "-stgdLV4IUbW"
      },
      "execution_count": null,
      "outputs": []
    },
    {
      "cell_type": "code",
      "source": [
        "result_df=result_df[result_df[\"LOV\"]>=50]"
      ],
      "metadata": {
        "id": "S_dLvwrDI7WI"
      },
      "execution_count": null,
      "outputs": []
    },
    {
      "cell_type": "code",
      "source": [
        "result_df.shape"
      ],
      "metadata": {
        "colab": {
          "base_uri": "https://localhost:8080/"
        },
        "id": "Q3mEJ5_TJEQY",
        "outputId": "f23a82fb-792f-4b9a-edbe-f489d3cb86fe"
      },
      "execution_count": null,
      "outputs": [
        {
          "output_type": "execute_result",
          "data": {
            "text/plain": [
              "(25, 4)"
            ]
          },
          "metadata": {},
          "execution_count": 24
        }
      ]
    },
    {
      "cell_type": "code",
      "source": [
        "# QTL with insertions analysis\n",
        "import pandas as pd\n",
        "import shutil\n",
        "\n",
        "chr=[1,2,3,4,5,6,7,8,9,10,11,12,13,14,15,16,17,18,19,20,21,22,23,24,25,26,27,28,29,\"X\"]\n",
        "# chr=[1]\n",
        "for i in chr:\n",
        "  print(f\"Chromosome{i}\")\n",
        "\n",
        "  # set the file path\n",
        "  in_f1=f'/content/drive/MyDrive/Hereford_VarAnalysis/Hereford_chrVar/ins/{i}/hf_within_gene{i}.csv'\n",
        "  out_loc=f\"/content/drive/MyDrive/Hereford_VarAnalysis/Hereford_chrVar/ins/{i}\"\n",
        "\n",
        "  # read the file\n",
        "  df=pd.read_csv(in_f1)\n",
        "  print(in_f1)\n",
        "  print(\"file:\", df.shape)\n",
        "  # print(df)\n",
        "\n",
        "  # ignore the qtl class has nil value\n",
        "  filter_qtl=df[df[\"QTL Class\"]!=\"Nil\"]\n",
        "  print(\"filter_qtl:\", filter_qtl.shape)\n",
        "\n",
        "  # filter the qtlgenetype has within gene type\n",
        "  filter_qtl=filter_qtl[filter_qtl[\"qtlgene_type\"]==\"within_gene\"]\n",
        "  filter_qtl.shape\n",
        "  print(\"filter_qtl:\", filter_qtl.shape)\n",
        "\n",
        "  # filter the LOV is greater than or equal to 10\n",
        "  insqtl_lov10=filter_qtl[filter_qtl[\"LOV\"]>=10]\n",
        "  print(\"lov10:\", insqtl_lov10.shape)\n",
        "\n",
        "  # Group by 'Name' and 'Symbol' and aggregate the sum of 'LOV' and join 'QTL Class'\n",
        "  ins_qtl=insqtl_lov10.groupby([\"Name\", \"Symbol\", \"LOV\"]).agg({\"QTL Class\": \",\".join}).reset_index()\n",
        "\n",
        "  # save the file into destination\n",
        "  out_f1=f\"inslov10_qtl{i}.csv\"\n",
        "  ins_qtl.to_csv(out_f1)\n",
        "  print(\"ins_qtl:\", ins_qtl.shape)\n",
        "  shutil.copy(out_f1, out_loc)\n",
        "\n",
        "  # filter the LOV has greater than or equal to 50\n",
        "  inslov50_qtl=ins_qtl[ins_qtl[\"LOV\"]>=50]\n",
        "\n",
        "  # save the file into destination\n",
        "  out_f2=f\"inslov50_qtl{i}.csv\"\n",
        "  inslov50_qtl.to_csv(out_f2)\n",
        "  print(\"inslov50_qtl\", inslov50_qtl.shape)\n",
        "  shutil.copy(out_f2, out_loc)\n",
        "\n"
      ],
      "metadata": {
        "colab": {
          "base_uri": "https://localhost:8080/"
        },
        "id": "Gm3BKukeJTXC",
        "outputId": "66c60bab-40e3-4442-beab-b333d4a4cc33"
      },
      "execution_count": null,
      "outputs": [
        {
          "output_type": "stream",
          "name": "stdout",
          "text": [
            "Chromosome1\n",
            "/content/drive/MyDrive/Hereford_VarAnalysis/Hereford_chrVar/ins/1/hf_within_gene1.csv\n",
            "file: (5285, 29)\n",
            "filter_qtl: (4879, 29)\n",
            "filter_qtl: (4484, 29)\n",
            "lov10: (237, 29)\n",
            "ins_qtl: (78, 4)\n",
            "inslov50_qtl (1, 4)\n",
            "Chromosome2\n",
            "/content/drive/MyDrive/Hereford_VarAnalysis/Hereford_chrVar/ins/2/hf_within_gene2.csv\n",
            "file: (3506, 29)\n",
            "filter_qtl: (3211, 29)\n",
            "filter_qtl: (2919, 29)\n",
            "lov10: (117, 29)\n",
            "ins_qtl: (39, 4)\n",
            "inslov50_qtl (1, 4)\n",
            "Chromosome3\n",
            "/content/drive/MyDrive/Hereford_VarAnalysis/Hereford_chrVar/ins/3/hf_within_gene3.csv\n",
            "file: (3031, 29)\n",
            "filter_qtl: (2645, 29)\n",
            "filter_qtl: (2414, 29)\n",
            "lov10: (106, 29)\n",
            "ins_qtl: (37, 4)\n",
            "inslov50_qtl (2, 4)\n",
            "Chromosome4\n",
            "/content/drive/MyDrive/Hereford_VarAnalysis/Hereford_chrVar/ins/4/hf_within_gene4.csv\n",
            "file: (4485, 29)\n",
            "filter_qtl: (4200, 29)\n",
            "filter_qtl: (3962, 29)\n",
            "lov10: (221, 29)\n",
            "ins_qtl: (85, 4)\n",
            "inslov50_qtl (3, 4)\n",
            "Chromosome5\n",
            "/content/drive/MyDrive/Hereford_VarAnalysis/Hereford_chrVar/ins/5/hf_within_gene5.csv\n",
            "file: (3117, 29)\n",
            "filter_qtl: (2873, 29)\n",
            "filter_qtl: (2603, 29)\n",
            "lov10: (131, 29)\n",
            "ins_qtl: (45, 4)\n",
            "inslov50_qtl (1, 4)\n",
            "Chromosome6\n",
            "/content/drive/MyDrive/Hereford_VarAnalysis/Hereford_chrVar/ins/6/hf_within_gene6.csv\n",
            "file: (4128, 29)\n",
            "filter_qtl: (3946, 29)\n",
            "filter_qtl: (3629, 29)\n",
            "lov10: (200, 29)\n",
            "ins_qtl: (64, 4)\n",
            "inslov50_qtl (3, 4)\n",
            "Chromosome7\n",
            "/content/drive/MyDrive/Hereford_VarAnalysis/Hereford_chrVar/ins/7/hf_within_gene7.csv\n",
            "file: (3067, 29)\n",
            "filter_qtl: (2817, 29)\n",
            "filter_qtl: (2543, 29)\n",
            "lov10: (156, 29)\n",
            "ins_qtl: (59, 4)\n",
            "inslov50_qtl (3, 4)\n",
            "Chromosome8\n",
            "/content/drive/MyDrive/Hereford_VarAnalysis/Hereford_chrVar/ins/8/hf_within_gene8.csv\n",
            "file: (3883, 29)\n",
            "filter_qtl: (3580, 29)\n",
            "filter_qtl: (3348, 29)\n",
            "lov10: (215, 29)\n",
            "ins_qtl: (61, 4)\n",
            "inslov50_qtl (4, 4)\n",
            "Chromosome9\n",
            "/content/drive/MyDrive/Hereford_VarAnalysis/Hereford_chrVar/ins/9/hf_within_gene9.csv\n",
            "file: (2175, 29)\n",
            "filter_qtl: (2004, 29)\n",
            "filter_qtl: (1773, 29)\n",
            "lov10: (84, 29)\n",
            "ins_qtl: (33, 4)\n",
            "inslov50_qtl (2, 4)\n",
            "Chromosome10\n",
            "/content/drive/MyDrive/Hereford_VarAnalysis/Hereford_chrVar/ins/10/hf_within_gene10.csv\n",
            "file: (3379, 29)\n",
            "filter_qtl: (3152, 29)\n",
            "filter_qtl: (2969, 29)\n",
            "lov10: (151, 29)\n",
            "ins_qtl: (51, 4)\n",
            "inslov50_qtl (1, 4)\n",
            "Chromosome11\n",
            "/content/drive/MyDrive/Hereford_VarAnalysis/Hereford_chrVar/ins/11/hf_within_gene11.csv\n",
            "file: (2831, 29)\n",
            "filter_qtl: (2600, 29)\n",
            "filter_qtl: (2399, 29)\n",
            "lov10: (113, 29)\n",
            "ins_qtl: (39, 4)\n",
            "inslov50_qtl (1, 4)\n",
            "Chromosome12\n",
            "/content/drive/MyDrive/Hereford_VarAnalysis/Hereford_chrVar/ins/12/hf_within_gene12.csv\n",
            "file: (1931, 29)\n",
            "filter_qtl: (1739, 29)\n",
            "filter_qtl: (1569, 29)\n",
            "lov10: (98, 29)\n",
            "ins_qtl: (35, 4)\n",
            "inslov50_qtl (2, 4)\n",
            "Chromosome13\n",
            "/content/drive/MyDrive/Hereford_VarAnalysis/Hereford_chrVar/ins/13/hf_within_gene13.csv\n",
            "file: (2958, 29)\n",
            "filter_qtl: (2676, 29)\n",
            "filter_qtl: (2513, 29)\n",
            "lov10: (142, 29)\n",
            "ins_qtl: (38, 4)\n",
            "inslov50_qtl (1, 4)\n",
            "Chromosome14\n",
            "/content/drive/MyDrive/Hereford_VarAnalysis/Hereford_chrVar/ins/14/hf_within_gene14.csv\n",
            "file: (2238, 29)\n",
            "filter_qtl: (2201, 29)\n",
            "filter_qtl: (1897, 29)\n",
            "lov10: (111, 29)\n",
            "ins_qtl: (35, 4)\n",
            "inslov50_qtl (1, 4)\n",
            "Chromosome15\n",
            "/content/drive/MyDrive/Hereford_VarAnalysis/Hereford_chrVar/ins/15/hf_within_gene15.csv\n",
            "file: (2883, 29)\n",
            "filter_qtl: (2618, 29)\n",
            "filter_qtl: (2422, 29)\n",
            "lov10: (125, 29)\n",
            "ins_qtl: (44, 4)\n",
            "inslov50_qtl (2, 4)\n",
            "Chromosome16\n",
            "/content/drive/MyDrive/Hereford_VarAnalysis/Hereford_chrVar/ins/16/hf_within_gene16.csv\n",
            "file: (3083, 29)\n",
            "filter_qtl: (2889, 29)\n",
            "filter_qtl: (2695, 29)\n",
            "lov10: (195, 29)\n",
            "ins_qtl: (58, 4)\n",
            "inslov50_qtl (0, 4)\n",
            "Chromosome17\n",
            "/content/drive/MyDrive/Hereford_VarAnalysis/Hereford_chrVar/ins/17/hf_within_gene17.csv\n",
            "file: (2754, 29)\n",
            "filter_qtl: (2593, 29)\n",
            "filter_qtl: (2300, 29)\n",
            "lov10: (106, 29)\n",
            "ins_qtl: (39, 4)\n",
            "inslov50_qtl (4, 4)\n",
            "Chromosome18\n",
            "/content/drive/MyDrive/Hereford_VarAnalysis/Hereford_chrVar/ins/18/hf_within_gene18.csv\n",
            "file: (1775, 29)\n",
            "filter_qtl: (1229, 29)\n",
            "filter_qtl: (1040, 29)\n",
            "lov10: (69, 29)\n",
            "ins_qtl: (32, 4)\n",
            "inslov50_qtl (3, 4)\n",
            "Chromosome19\n",
            "/content/drive/MyDrive/Hereford_VarAnalysis/Hereford_chrVar/ins/19/hf_within_gene19.csv\n",
            "file: (1852, 29)\n",
            "filter_qtl: (1598, 29)\n",
            "filter_qtl: (1522, 29)\n",
            "lov10: (76, 29)\n",
            "ins_qtl: (29, 4)\n",
            "inslov50_qtl (2, 4)\n",
            "Chromosome20\n",
            "/content/drive/MyDrive/Hereford_VarAnalysis/Hereford_chrVar/ins/20/hf_within_gene20.csv\n",
            "file: (2552, 29)\n",
            "filter_qtl: (2482, 29)\n",
            "filter_qtl: (2240, 29)\n",
            "lov10: (93, 29)\n",
            "ins_qtl: (28, 4)\n",
            "inslov50_qtl (2, 4)\n",
            "Chromosome21\n",
            "/content/drive/MyDrive/Hereford_VarAnalysis/Hereford_chrVar/ins/21/hf_within_gene21.csv\n",
            "file: (1727, 29)\n",
            "filter_qtl: (1470, 29)\n",
            "filter_qtl: (1301, 29)\n",
            "lov10: (113, 29)\n",
            "ins_qtl: (38, 4)\n",
            "inslov50_qtl (4, 4)\n",
            "Chromosome22\n",
            "/content/drive/MyDrive/Hereford_VarAnalysis/Hereford_chrVar/ins/22/hf_within_gene22.csv\n",
            "file: (3213, 29)\n",
            "filter_qtl: (2986, 29)\n",
            "filter_qtl: (2927, 29)\n",
            "lov10: (150, 29)\n",
            "ins_qtl: (42, 4)\n",
            "inslov50_qtl (2, 4)\n",
            "Chromosome23\n",
            "/content/drive/MyDrive/Hereford_VarAnalysis/Hereford_chrVar/ins/23/hf_within_gene23.csv\n",
            "file: (1213, 29)\n",
            "filter_qtl: (1089, 29)\n",
            "filter_qtl: (969, 29)\n",
            "lov10: (83, 29)\n",
            "ins_qtl: (23, 4)\n",
            "inslov50_qtl (1, 4)\n",
            "Chromosome24\n",
            "/content/drive/MyDrive/Hereford_VarAnalysis/Hereford_chrVar/ins/24/hf_within_gene24.csv\n",
            "file: (1066, 29)\n",
            "filter_qtl: (969, 29)\n",
            "filter_qtl: (875, 29)\n",
            "lov10: (23, 29)\n",
            "ins_qtl: (11, 4)\n",
            "inslov50_qtl (1, 4)\n",
            "Chromosome25\n",
            "/content/drive/MyDrive/Hereford_VarAnalysis/Hereford_chrVar/ins/25/hf_within_gene25.csv\n",
            "file: (1658, 29)\n",
            "filter_qtl: (1469, 29)\n",
            "filter_qtl: (1405, 29)\n",
            "lov10: (62, 29)\n",
            "ins_qtl: (21, 4)\n",
            "inslov50_qtl (0, 4)\n",
            "Chromosome26\n",
            "/content/drive/MyDrive/Hereford_VarAnalysis/Hereford_chrVar/ins/26/hf_within_gene26.csv\n",
            "file: (2427, 29)\n",
            "filter_qtl: (2368, 29)\n",
            "filter_qtl: (2148, 29)\n",
            "lov10: (95, 29)\n",
            "ins_qtl: (30, 4)\n",
            "inslov50_qtl (1, 4)\n",
            "Chromosome27\n",
            "/content/drive/MyDrive/Hereford_VarAnalysis/Hereford_chrVar/ins/27/hf_within_gene27.csv\n",
            "file: (1371, 29)\n",
            "filter_qtl: (1221, 29)\n",
            "filter_qtl: (1113, 29)\n",
            "lov10: (84, 29)\n",
            "ins_qtl: (21, 4)\n",
            "inslov50_qtl (3, 4)\n",
            "Chromosome28\n",
            "/content/drive/MyDrive/Hereford_VarAnalysis/Hereford_chrVar/ins/28/hf_within_gene28.csv\n",
            "file: (2230, 29)\n",
            "filter_qtl: (2105, 29)\n",
            "filter_qtl: (1978, 29)\n",
            "lov10: (155, 29)\n",
            "ins_qtl: (50, 4)\n",
            "inslov50_qtl (4, 4)\n",
            "Chromosome29\n",
            "/content/drive/MyDrive/Hereford_VarAnalysis/Hereford_chrVar/ins/29/hf_within_gene29.csv\n",
            "file: (3284, 29)\n",
            "filter_qtl: (3153, 29)\n",
            "filter_qtl: (2997, 29)\n",
            "lov10: (189, 29)\n",
            "ins_qtl: (36, 4)\n",
            "inslov50_qtl (4, 4)\n",
            "ChromosomeX\n",
            "/content/drive/MyDrive/Hereford_VarAnalysis/Hereford_chrVar/ins/X/hf_within_geneX.csv\n",
            "file: (723, 29)\n",
            "filter_qtl: (456, 29)\n",
            "filter_qtl: (377, 29)\n",
            "lov10: (3, 29)\n",
            "ins_qtl: (3, 4)\n",
            "inslov50_qtl (0, 4)\n"
          ]
        }
      ]
    },
    {
      "cell_type": "code",
      "source": [
        "# Table preparations\n",
        "\n",
        "df1=pd.read_csv(\"/content/drive/MyDrive/Hereford_VarAnalysis/Hereford_chrVar/ins/1/inslov50_qtl1.csv\")\n",
        "df2=pd.read_csv(\"/content/drive/MyDrive/Hereford_VarAnalysis/Hereford_chrVar/ins/2/inslov50_qtl2.csv\")\n",
        "df3=pd.read_csv(\"/content/drive/MyDrive/Hereford_VarAnalysis/Hereford_chrVar/ins/3/inslov50_qtl3.csv\")\n",
        "df4=pd.read_csv(\"/content/drive/MyDrive/Hereford_VarAnalysis/Hereford_chrVar/ins/4/inslov50_qtl4.csv\")\n",
        "df5=pd.read_csv(\"/content/drive/MyDrive/Hereford_VarAnalysis/Hereford_chrVar/ins/5/inslov50_qtl5.csv\")\n",
        "df6=pd.read_csv(\"/content/drive/MyDrive/Hereford_VarAnalysis/Hereford_chrVar/ins/6/inslov50_qtl6.csv\")\n",
        "df7=pd.read_csv(\"/content/drive/MyDrive/Hereford_VarAnalysis/Hereford_chrVar/ins/7/inslov50_qtl7.csv\")\n",
        "df8=pd.read_csv(\"/content/drive/MyDrive/Hereford_VarAnalysis/Hereford_chrVar/ins/8/inslov50_qtl8.csv\")\n",
        "df9=pd.read_csv(\"/content/drive/MyDrive/Hereford_VarAnalysis/Hereford_chrVar/ins/9/inslov50_qtl9.csv\")\n",
        "df10=pd.read_csv(\"/content/drive/MyDrive/Hereford_VarAnalysis/Hereford_chrVar/ins/10/inslov50_qtl10.csv\")\n",
        "df11=pd.read_csv(\"/content/drive/MyDrive/Hereford_VarAnalysis/Hereford_chrVar/ins/11/inslov50_qtl11.csv\")\n",
        "df12=pd.read_csv(\"/content/drive/MyDrive/Hereford_VarAnalysis/Hereford_chrVar/ins/12/inslov50_qtl12.csv\")\n",
        "df13=pd.read_csv(\"/content/drive/MyDrive/Hereford_VarAnalysis/Hereford_chrVar/ins/13/inslov50_qtl13.csv\")\n",
        "df14=pd.read_csv(\"/content/drive/MyDrive/Hereford_VarAnalysis/Hereford_chrVar/ins/14/inslov50_qtl14.csv\")\n",
        "df15=pd.read_csv(\"/content/drive/MyDrive/Hereford_VarAnalysis/Hereford_chrVar/ins/15/inslov50_qtl15.csv\")\n",
        "df16=pd.read_csv(\"/content/drive/MyDrive/Hereford_VarAnalysis/Hereford_chrVar/ins/16/inslov50_qtl16.csv\")\n",
        "df17=pd.read_csv(\"/content/drive/MyDrive/Hereford_VarAnalysis/Hereford_chrVar/ins/17/inslov50_qtl17.csv\")\n",
        "df18=pd.read_csv(\"/content/drive/MyDrive/Hereford_VarAnalysis/Hereford_chrVar/ins/18/inslov50_qtl18.csv\")\n",
        "df19=pd.read_csv(\"/content/drive/MyDrive/Hereford_VarAnalysis/Hereford_chrVar/ins/19/inslov50_qtl19.csv\")\n",
        "df20=pd.read_csv(\"/content/drive/MyDrive/Hereford_VarAnalysis/Hereford_chrVar/ins/20/inslov50_qtl20.csv\")\n",
        "df21=pd.read_csv(\"/content/drive/MyDrive/Hereford_VarAnalysis/Hereford_chrVar/ins/21/inslov50_qtl21.csv\")\n",
        "df22=pd.read_csv(\"/content/drive/MyDrive/Hereford_VarAnalysis/Hereford_chrVar/ins/22/inslov50_qtl22.csv\")\n",
        "df23=pd.read_csv(\"/content/drive/MyDrive/Hereford_VarAnalysis/Hereford_chrVar/ins/23/inslov50_qtl23.csv\")\n",
        "df24=pd.read_csv(\"/content/drive/MyDrive/Hereford_VarAnalysis/Hereford_chrVar/ins/24/inslov50_qtl24.csv\")\n",
        "df25=pd.read_csv(\"/content/drive/MyDrive/Hereford_VarAnalysis/Hereford_chrVar/ins/25/inslov50_qtl25.csv\")\n",
        "df26=pd.read_csv(\"/content/drive/MyDrive/Hereford_VarAnalysis/Hereford_chrVar/ins/26/inslov50_qtl26.csv\")\n",
        "df27=pd.read_csv(\"/content/drive/MyDrive/Hereford_VarAnalysis/Hereford_chrVar/ins/27/inslov50_qtl27.csv\")\n",
        "df28=pd.read_csv(\"/content/drive/MyDrive/Hereford_VarAnalysis/Hereford_chrVar/ins/28/inslov50_qtl28.csv\")\n",
        "df29=pd.read_csv(\"/content/drive/MyDrive/Hereford_VarAnalysis/Hereford_chrVar/ins/29/inslov50_qtl29.csv\")\n",
        "dfX=pd.read_csv(\"/content/drive/MyDrive/Hereford_VarAnalysis/Hereford_chrVar/ins/X/inslov50_qtlX.csv\")"
      ],
      "metadata": {
        "id": "DQUdkXB4hxDM"
      },
      "execution_count": null,
      "outputs": []
    },
    {
      "cell_type": "code",
      "source": [
        "table_insqtl50=pd.DataFrame(columns=[\"Chromosome number\"]+list(df1))\n",
        "table_insqtl50"
      ],
      "metadata": {
        "colab": {
          "base_uri": "https://localhost:8080/",
          "height": 53
        },
        "id": "dvnHE75skVru",
        "outputId": "b58dfac1-b3fa-4ebb-a16b-584303e04be5"
      },
      "execution_count": null,
      "outputs": [
        {
          "output_type": "execute_result",
          "data": {
            "text/plain": [
              "Empty DataFrame\n",
              "Columns: [Chromosome number, Unnamed: 0, Name, Symbol, LOV, QTL Class]\n",
              "Index: []"
            ],
            "text/html": [
              "\n",
              "  <div id=\"df-da1022f8-defc-4a95-aaec-d85c57057772\" class=\"colab-df-container\">\n",
              "    <div>\n",
              "<style scoped>\n",
              "    .dataframe tbody tr th:only-of-type {\n",
              "        vertical-align: middle;\n",
              "    }\n",
              "\n",
              "    .dataframe tbody tr th {\n",
              "        vertical-align: top;\n",
              "    }\n",
              "\n",
              "    .dataframe thead th {\n",
              "        text-align: right;\n",
              "    }\n",
              "</style>\n",
              "<table border=\"1\" class=\"dataframe\">\n",
              "  <thead>\n",
              "    <tr style=\"text-align: right;\">\n",
              "      <th></th>\n",
              "      <th>Chromosome number</th>\n",
              "      <th>Unnamed: 0</th>\n",
              "      <th>Name</th>\n",
              "      <th>Symbol</th>\n",
              "      <th>LOV</th>\n",
              "      <th>QTL Class</th>\n",
              "    </tr>\n",
              "  </thead>\n",
              "  <tbody>\n",
              "  </tbody>\n",
              "</table>\n",
              "</div>\n",
              "    <div class=\"colab-df-buttons\">\n",
              "\n",
              "  <div class=\"colab-df-container\">\n",
              "    <button class=\"colab-df-convert\" onclick=\"convertToInteractive('df-da1022f8-defc-4a95-aaec-d85c57057772')\"\n",
              "            title=\"Convert this dataframe to an interactive table.\"\n",
              "            style=\"display:none;\">\n",
              "\n",
              "  <svg xmlns=\"http://www.w3.org/2000/svg\" height=\"24px\" viewBox=\"0 -960 960 960\">\n",
              "    <path d=\"M120-120v-720h720v720H120Zm60-500h600v-160H180v160Zm220 220h160v-160H400v160Zm0 220h160v-160H400v160ZM180-400h160v-160H180v160Zm440 0h160v-160H620v160ZM180-180h160v-160H180v160Zm440 0h160v-160H620v160Z\"/>\n",
              "  </svg>\n",
              "    </button>\n",
              "\n",
              "  <style>\n",
              "    .colab-df-container {\n",
              "      display:flex;\n",
              "      gap: 12px;\n",
              "    }\n",
              "\n",
              "    .colab-df-convert {\n",
              "      background-color: #E8F0FE;\n",
              "      border: none;\n",
              "      border-radius: 50%;\n",
              "      cursor: pointer;\n",
              "      display: none;\n",
              "      fill: #1967D2;\n",
              "      height: 32px;\n",
              "      padding: 0 0 0 0;\n",
              "      width: 32px;\n",
              "    }\n",
              "\n",
              "    .colab-df-convert:hover {\n",
              "      background-color: #E2EBFA;\n",
              "      box-shadow: 0px 1px 2px rgba(60, 64, 67, 0.3), 0px 1px 3px 1px rgba(60, 64, 67, 0.15);\n",
              "      fill: #174EA6;\n",
              "    }\n",
              "\n",
              "    .colab-df-buttons div {\n",
              "      margin-bottom: 4px;\n",
              "    }\n",
              "\n",
              "    [theme=dark] .colab-df-convert {\n",
              "      background-color: #3B4455;\n",
              "      fill: #D2E3FC;\n",
              "    }\n",
              "\n",
              "    [theme=dark] .colab-df-convert:hover {\n",
              "      background-color: #434B5C;\n",
              "      box-shadow: 0px 1px 3px 1px rgba(0, 0, 0, 0.15);\n",
              "      filter: drop-shadow(0px 1px 2px rgba(0, 0, 0, 0.3));\n",
              "      fill: #FFFFFF;\n",
              "    }\n",
              "  </style>\n",
              "\n",
              "    <script>\n",
              "      const buttonEl =\n",
              "        document.querySelector('#df-da1022f8-defc-4a95-aaec-d85c57057772 button.colab-df-convert');\n",
              "      buttonEl.style.display =\n",
              "        google.colab.kernel.accessAllowed ? 'block' : 'none';\n",
              "\n",
              "      async function convertToInteractive(key) {\n",
              "        const element = document.querySelector('#df-da1022f8-defc-4a95-aaec-d85c57057772');\n",
              "        const dataTable =\n",
              "          await google.colab.kernel.invokeFunction('convertToInteractive',\n",
              "                                                    [key], {});\n",
              "        if (!dataTable) return;\n",
              "\n",
              "        const docLinkHtml = 'Like what you see? Visit the ' +\n",
              "          '<a target=\"_blank\" href=https://colab.research.google.com/notebooks/data_table.ipynb>data table notebook</a>'\n",
              "          + ' to learn more about interactive tables.';\n",
              "        element.innerHTML = '';\n",
              "        dataTable['output_type'] = 'display_data';\n",
              "        await google.colab.output.renderOutput(dataTable, element);\n",
              "        const docLink = document.createElement('div');\n",
              "        docLink.innerHTML = docLinkHtml;\n",
              "        element.appendChild(docLink);\n",
              "      }\n",
              "    </script>\n",
              "  </div>\n",
              "\n",
              "    </div>\n",
              "  </div>\n"
            ]
          },
          "metadata": {},
          "execution_count": 164
        }
      ]
    },
    {
      "cell_type": "code",
      "source": [
        "df1[\"Chromosome number\"]=1\n",
        "df2[\"Chromosome number\"]=2\n",
        "df3[\"Chromosome number\"]=3\n",
        "df4[\"Chromosome number\"]=4\n",
        "df5[\"Chromosome number\"]=5\n",
        "df6[\"Chromosome number\"]=6\n",
        "df7[\"Chromosome number\"]=7\n",
        "df8[\"Chromosome number\"]=8\n",
        "df9[\"Chromosome number\"]=9\n",
        "df10[\"Chromosome number\"]=10\n",
        "df11[\"Chromosome number\"]=11\n",
        "df12[\"Chromosome number\"]=12\n",
        "df13[\"Chromosome number\"]=13\n",
        "df14[\"Chromosome number\"]=14\n",
        "df15[\"Chromosome number\"]=15\n",
        "df16[\"Chromosome number\"]=16\n",
        "df17[\"Chromosome number\"]=17\n",
        "df18[\"Chromosome number\"]=18\n",
        "df19[\"Chromosome number\"]=19\n",
        "df20[\"Chromosome number\"]=20\n",
        "df21[\"Chromosome number\"]=21\n",
        "df22[\"Chromosome number\"]=22\n",
        "df23[\"Chromosome number\"]=23\n",
        "df24[\"Chromosome number\"]=24\n",
        "df25[\"Chromosome number\"]=25\n",
        "df26[\"Chromosome number\"]=26\n",
        "df27[\"Chromosome number\"]=27\n",
        "df28[\"Chromosome number\"]=28\n",
        "df29[\"Chromosome number\"]=29\n",
        "dfX[\"Chromosome number\"]=\"X\""
      ],
      "metadata": {
        "id": "HWk62L0Bkj_b"
      },
      "execution_count": null,
      "outputs": []
    },
    {
      "cell_type": "code",
      "source": [
        "table_insqtl50=pd.concat([table_insqtl50, df1, df2, df3, df4, df5, df6, df7, df8, df9, df10, df11, df12, df13, df14, df15, df16, df17, df18, df19, df20, df21, df22, df23, df24, df25, df26, df27, df28, df29, dfX])"
      ],
      "metadata": {
        "id": "QmHudp0XlNvq"
      },
      "execution_count": null,
      "outputs": []
    },
    {
      "cell_type": "code",
      "source": [
        "table_insqtl50.shape"
      ],
      "metadata": {
        "colab": {
          "base_uri": "https://localhost:8080/"
        },
        "id": "J6Ak4rS-lvry",
        "outputId": "e1cf4813-2350-4ffe-b488-ed80c749f558"
      },
      "execution_count": null,
      "outputs": [
        {
          "output_type": "execute_result",
          "data": {
            "text/plain": [
              "(59, 6)"
            ]
          },
          "metadata": {},
          "execution_count": 167
        }
      ]
    },
    {
      "cell_type": "code",
      "source": [
        "table_insqtl50.to_csv(\"hftable_insqtl50.csv\")\n",
        "shutil.copy(\"hftable_insqtl50.csv\", \"/content/drive/MyDrive/Hereford_VarAnalysis/Hereford_chrVar\")"
      ],
      "metadata": {
        "colab": {
          "base_uri": "https://localhost:8080/",
          "height": 36
        },
        "id": "aBNb4ZwsmS7R",
        "outputId": "856e6bab-7df3-49d2-ffb9-dc31a6ee89b7"
      },
      "execution_count": null,
      "outputs": [
        {
          "output_type": "execute_result",
          "data": {
            "text/plain": [
              "'/content/drive/MyDrive/Hereford_VarAnalysis/Hereford_chrVar/hftable_insqtl50.csv'"
            ],
            "application/vnd.google.colaboratory.intrinsic+json": {
              "type": "string"
            }
          },
          "metadata": {},
          "execution_count": 76
        }
      ]
    },
    {
      "cell_type": "code",
      "source": [
        "table_insqtl100=table_insqtl50[table_insqtl50[\"LOV\"]>=100]"
      ],
      "metadata": {
        "id": "oGAxxssrl6GU"
      },
      "execution_count": null,
      "outputs": []
    },
    {
      "cell_type": "code",
      "source": [
        "table_insqtl100.shape"
      ],
      "metadata": {
        "colab": {
          "base_uri": "https://localhost:8080/"
        },
        "id": "sXVsgUyumG25",
        "outputId": "526e8363-c7a9-497f-fd65-59be5f249445"
      },
      "execution_count": null,
      "outputs": [
        {
          "output_type": "execute_result",
          "data": {
            "text/plain": [
              "(128, 6)"
            ]
          },
          "metadata": {},
          "execution_count": 64
        }
      ]
    },
    {
      "cell_type": "code",
      "source": [
        "table_insqtl100.to_csv(\"hftable_insqtl100.csv\")\n",
        "shutil.copy(\"hftable_insqtl100.csv\", \"/content/drive/MyDrive/Hereford_VarAnalysis/Hereford_chrVar\" )"
      ],
      "metadata": {
        "colab": {
          "base_uri": "https://localhost:8080/",
          "height": 36
        },
        "id": "r1iwvyqnnivK",
        "outputId": "c930b35e-b217-41e5-b478-258398a90e18"
      },
      "execution_count": null,
      "outputs": [
        {
          "output_type": "execute_result",
          "data": {
            "text/plain": [
              "'/content/drive/MyDrive/Hereford_VarAnalysis/Hereford_chrVar/hftable_insqtl100.csv'"
            ],
            "application/vnd.google.colaboratory.intrinsic+json": {
              "type": "string"
            }
          },
          "metadata": {},
          "execution_count": 77
        }
      ]
    },
    {
      "cell_type": "code",
      "source": [
        "# QTL Analysis - Hereford Immune\n",
        "import pandas as pd\n",
        "import shutil\n",
        "\n",
        "chr=[1,2,3,4,5,6,7,8,9,10,11,12,13,14,15,16,17,18,19,20,21,22,23,24,25,26,27,28,29,\"X\"]\n",
        "# chr=[1]\n",
        "for i in chr:\n",
        "  print(f\"Chromosome{i}\")\n",
        "\n",
        "  # set the file path\n",
        "  in_f1=f'/content/drive/MyDrive/Hereford_VarAnalysis/Hereford_chrVar/ins/{i}/hfimm_within_gene{i}.csv'\n",
        "  out_loc=f\"/content/drive/MyDrive/Hereford_VarAnalysis/Hereford_chrVar/ins/{i}\"\n",
        "\n",
        "  # read the file\n",
        "  df=pd.read_csv(in_f1)\n",
        "  print(in_f1)\n",
        "  print(\"file:\", df.shape)\n",
        "  # print(df)\n",
        "\n",
        "  # ignore the qtl class has nil value\n",
        "  filter_qtl=df[df[\"QTL Class\"]!=\"Nil\"]\n",
        "  print(\"filter_qtl:\", filter_qtl.shape)\n",
        "\n",
        "  # filter the qtlgenetype has within gene type\n",
        "  filter_qtl=filter_qtl[filter_qtl[\"qtlgene_type\"]==\"within_gene\"]\n",
        "  filter_qtl.shape\n",
        "  print(\"filter_qtl:\", filter_qtl.shape)\n",
        "\n",
        "  # filter the LOV is greater than or equal to 10\n",
        "  insqtl_lov10=filter_qtl[filter_qtl[\"LOV\"]>=10]\n",
        "  print(\"lov10:\", insqtl_lov10.shape)\n",
        "\n",
        "  # Group by 'Name' and 'Symbol' and aggregate the sum of 'LOV' and join 'QTL Class'\n",
        "  ins_qtl=insqtl_lov10.groupby([\"Name\", \"Symbol\", \"LOV\"]).agg({\"QTL Class\": \",\".join}).reset_index()\n",
        "\n",
        "  # save the file into destination\n",
        "  out_f1=f\"inslov10_qtlimm{i}.csv\"\n",
        "  ins_qtl.to_csv(out_f1)\n",
        "  print(\"ins_qtl:\", ins_qtl.shape)\n",
        "  shutil.copy(out_f1, out_loc)\n",
        "\n",
        "  # filter the LOV has greater than or equal to 50\n",
        "  inslov50_qtl=ins_qtl[ins_qtl[\"LOV\"]>=50]\n",
        "\n",
        "  # save the file into destination\n",
        "  out_f2=f\"inslov50_qtlimm{i}.csv\"\n",
        "  inslov50_qtl.to_csv(out_f2)\n",
        "  print(\"inslov50_qtl\", inslov50_qtl.shape)\n",
        "  shutil.copy(out_f2, out_loc)"
      ],
      "metadata": {
        "colab": {
          "base_uri": "https://localhost:8080/"
        },
        "id": "5b7-ReOZrrzY",
        "outputId": "da6cd4bb-7e64-4b88-fef7-e7da887bfa3f"
      },
      "execution_count": null,
      "outputs": [
        {
          "output_type": "stream",
          "name": "stdout",
          "text": [
            "Chromosome1\n",
            "/content/drive/MyDrive/Hereford_VarAnalysis/Hereford_chrVar/ins/1/hfimm_within_gene1.csv\n",
            "file: (91, 29)\n",
            "filter_qtl: (82, 29)\n",
            "filter_qtl: (81, 29)\n",
            "lov10: (4, 29)\n",
            "ins_qtl: (2, 4)\n",
            "inslov50_qtl (0, 4)\n",
            "Chromosome2\n",
            "/content/drive/MyDrive/Hereford_VarAnalysis/Hereford_chrVar/ins/2/hfimm_within_gene2.csv\n",
            "file: (112, 29)\n",
            "filter_qtl: (112, 29)\n",
            "filter_qtl: (100, 29)\n",
            "lov10: (5, 29)\n",
            "ins_qtl: (1, 4)\n",
            "inslov50_qtl (0, 4)\n",
            "Chromosome3\n",
            "/content/drive/MyDrive/Hereford_VarAnalysis/Hereford_chrVar/ins/3/hfimm_within_gene3.csv\n",
            "file: (66, 29)\n",
            "filter_qtl: (55, 29)\n",
            "filter_qtl: (47, 29)\n",
            "lov10: (1, 29)\n",
            "ins_qtl: (1, 4)\n",
            "inslov50_qtl (0, 4)\n",
            "Chromosome4\n",
            "/content/drive/MyDrive/Hereford_VarAnalysis/Hereford_chrVar/ins/4/hfimm_within_gene4.csv\n",
            "file: (80, 29)\n",
            "filter_qtl: (68, 29)\n",
            "filter_qtl: (68, 29)\n",
            "lov10: (13, 29)\n",
            "ins_qtl: (3, 4)\n",
            "inslov50_qtl (0, 4)\n",
            "Chromosome5\n",
            "/content/drive/MyDrive/Hereford_VarAnalysis/Hereford_chrVar/ins/5/hfimm_within_gene5.csv\n",
            "file: (85, 29)\n",
            "filter_qtl: (66, 29)\n",
            "filter_qtl: (64, 29)\n",
            "lov10: (9, 29)\n",
            "ins_qtl: (3, 4)\n",
            "inslov50_qtl (0, 4)\n",
            "Chromosome6\n",
            "/content/drive/MyDrive/Hereford_VarAnalysis/Hereford_chrVar/ins/6/hfimm_within_gene6.csv\n",
            "file: (26, 29)\n",
            "filter_qtl: (26, 29)\n",
            "filter_qtl: (26, 29)\n",
            "lov10: (0, 29)\n",
            "ins_qtl: (0, 4)\n",
            "inslov50_qtl (0, 4)\n",
            "Chromosome7\n",
            "/content/drive/MyDrive/Hereford_VarAnalysis/Hereford_chrVar/ins/7/hfimm_within_gene7.csv\n",
            "file: (37, 29)\n",
            "filter_qtl: (34, 29)\n",
            "filter_qtl: (31, 29)\n",
            "lov10: (0, 29)\n",
            "ins_qtl: (0, 4)\n",
            "inslov50_qtl (0, 4)\n",
            "Chromosome8\n",
            "/content/drive/MyDrive/Hereford_VarAnalysis/Hereford_chrVar/ins/8/hfimm_within_gene8.csv\n",
            "file: (77, 29)\n",
            "filter_qtl: (65, 29)\n",
            "filter_qtl: (65, 29)\n",
            "lov10: (15, 29)\n",
            "ins_qtl: (2, 4)\n",
            "inslov50_qtl (0, 4)\n",
            "Chromosome9\n",
            "/content/drive/MyDrive/Hereford_VarAnalysis/Hereford_chrVar/ins/9/hfimm_within_gene9.csv\n",
            "file: (8, 29)\n",
            "filter_qtl: (1, 29)\n",
            "filter_qtl: (1, 29)\n",
            "lov10: (0, 29)\n",
            "ins_qtl: (0, 4)\n",
            "inslov50_qtl (0, 4)\n",
            "Chromosome10\n",
            "/content/drive/MyDrive/Hereford_VarAnalysis/Hereford_chrVar/ins/10/hfimm_within_gene10.csv\n",
            "file: (3, 29)\n",
            "filter_qtl: (2, 29)\n",
            "filter_qtl: (2, 29)\n",
            "lov10: (0, 29)\n",
            "ins_qtl: (0, 4)\n",
            "inslov50_qtl (0, 4)\n",
            "Chromosome11\n",
            "/content/drive/MyDrive/Hereford_VarAnalysis/Hereford_chrVar/ins/11/hfimm_within_gene11.csv\n",
            "file: (10, 29)\n",
            "filter_qtl: (9, 29)\n",
            "filter_qtl: (6, 29)\n",
            "lov10: (1, 29)\n",
            "ins_qtl: (1, 4)\n",
            "inslov50_qtl (0, 4)\n",
            "Chromosome12\n",
            "/content/drive/MyDrive/Hereford_VarAnalysis/Hereford_chrVar/ins/12/hfimm_within_gene12.csv\n",
            "file: (10, 29)\n",
            "filter_qtl: (7, 29)\n",
            "filter_qtl: (7, 29)\n",
            "lov10: (0, 29)\n",
            "ins_qtl: (0, 4)\n",
            "inslov50_qtl (0, 4)\n",
            "Chromosome13\n",
            "/content/drive/MyDrive/Hereford_VarAnalysis/Hereford_chrVar/ins/13/hfimm_within_gene13.csv\n",
            "file: (8, 29)\n",
            "filter_qtl: (2, 29)\n",
            "filter_qtl: (2, 29)\n",
            "lov10: (0, 29)\n",
            "ins_qtl: (0, 4)\n",
            "inslov50_qtl (0, 4)\n",
            "Chromosome14\n",
            "/content/drive/MyDrive/Hereford_VarAnalysis/Hereford_chrVar/ins/14/hfimm_within_gene14.csv\n",
            "file: (12, 29)\n",
            "filter_qtl: (12, 29)\n",
            "filter_qtl: (12, 29)\n",
            "lov10: (0, 29)\n",
            "ins_qtl: (0, 4)\n",
            "inslov50_qtl (0, 4)\n",
            "Chromosome15\n",
            "/content/drive/MyDrive/Hereford_VarAnalysis/Hereford_chrVar/ins/15/hfimm_within_gene15.csv\n",
            "file: (26, 29)\n",
            "filter_qtl: (26, 29)\n",
            "filter_qtl: (26, 29)\n",
            "lov10: (0, 29)\n",
            "ins_qtl: (0, 4)\n",
            "inslov50_qtl (0, 4)\n",
            "Chromosome16\n",
            "/content/drive/MyDrive/Hereford_VarAnalysis/Hereford_chrVar/ins/16/hfimm_within_gene16.csv\n",
            "file: (11, 29)\n",
            "filter_qtl: (10, 29)\n",
            "filter_qtl: (10, 29)\n",
            "lov10: (0, 29)\n",
            "ins_qtl: (0, 4)\n",
            "inslov50_qtl (0, 4)\n",
            "Chromosome17\n",
            "/content/drive/MyDrive/Hereford_VarAnalysis/Hereford_chrVar/ins/17/hfimm_within_gene17.csv\n",
            "file: (346, 29)\n",
            "filter_qtl: (341, 29)\n",
            "filter_qtl: (341, 29)\n",
            "lov10: (5, 29)\n",
            "ins_qtl: (1, 4)\n",
            "inslov50_qtl (0, 4)\n",
            "Chromosome18\n",
            "/content/drive/MyDrive/Hereford_VarAnalysis/Hereford_chrVar/ins/18/hfimm_within_gene18.csv\n",
            "file: (18, 29)\n",
            "filter_qtl: (8, 29)\n",
            "filter_qtl: (8, 29)\n",
            "lov10: (0, 29)\n",
            "ins_qtl: (0, 4)\n",
            "inslov50_qtl (0, 4)\n",
            "Chromosome19\n",
            "/content/drive/MyDrive/Hereford_VarAnalysis/Hereford_chrVar/ins/19/hfimm_within_gene19.csv\n",
            "file: (30, 29)\n",
            "filter_qtl: (28, 29)\n",
            "filter_qtl: (27, 29)\n",
            "lov10: (0, 29)\n",
            "ins_qtl: (0, 4)\n",
            "inslov50_qtl (0, 4)\n",
            "Chromosome20\n",
            "/content/drive/MyDrive/Hereford_VarAnalysis/Hereford_chrVar/ins/20/hfimm_within_gene20.csv\n",
            "file: (4, 29)\n",
            "filter_qtl: (4, 29)\n",
            "filter_qtl: (1, 29)\n",
            "lov10: (0, 29)\n",
            "ins_qtl: (0, 4)\n",
            "inslov50_qtl (0, 4)\n",
            "Chromosome21\n",
            "/content/drive/MyDrive/Hereford_VarAnalysis/Hereford_chrVar/ins/21/hfimm_within_gene21.csv\n",
            "file: (8, 29)\n",
            "filter_qtl: (0, 29)\n",
            "filter_qtl: (0, 29)\n",
            "lov10: (0, 29)\n",
            "ins_qtl: (0, 4)\n",
            "inslov50_qtl (0, 4)\n",
            "Chromosome22\n",
            "/content/drive/MyDrive/Hereford_VarAnalysis/Hereford_chrVar/ins/22/hfimm_within_gene22.csv\n",
            "file: (61, 29)\n",
            "filter_qtl: (53, 29)\n",
            "filter_qtl: (53, 29)\n",
            "lov10: (0, 29)\n",
            "ins_qtl: (0, 4)\n",
            "inslov50_qtl (0, 4)\n",
            "Chromosome23\n",
            "/content/drive/MyDrive/Hereford_VarAnalysis/Hereford_chrVar/ins/23/hfimm_within_gene23.csv\n",
            "file: (56, 29)\n",
            "filter_qtl: (53, 29)\n",
            "filter_qtl: (17, 29)\n",
            "lov10: (2, 29)\n",
            "ins_qtl: (2, 4)\n",
            "inslov50_qtl (0, 4)\n",
            "Chromosome24\n",
            "/content/drive/MyDrive/Hereford_VarAnalysis/Hereford_chrVar/ins/24/hfimm_within_gene24.csv\n",
            "file: (0, 29)\n",
            "filter_qtl: (0, 29)\n",
            "filter_qtl: (0, 29)\n",
            "lov10: (0, 29)\n",
            "ins_qtl: (0, 4)\n",
            "inslov50_qtl (0, 4)\n",
            "Chromosome25\n",
            "/content/drive/MyDrive/Hereford_VarAnalysis/Hereford_chrVar/ins/25/hfimm_within_gene25.csv\n",
            "file: (6, 29)\n",
            "filter_qtl: (5, 29)\n",
            "filter_qtl: (5, 29)\n",
            "lov10: (0, 29)\n",
            "ins_qtl: (0, 4)\n",
            "inslov50_qtl (0, 4)\n",
            "Chromosome26\n",
            "/content/drive/MyDrive/Hereford_VarAnalysis/Hereford_chrVar/ins/26/hfimm_within_gene26.csv\n",
            "file: (145, 29)\n",
            "filter_qtl: (145, 29)\n",
            "filter_qtl: (145, 29)\n",
            "lov10: (10, 29)\n",
            "ins_qtl: (2, 4)\n",
            "inslov50_qtl (0, 4)\n",
            "Chromosome27\n",
            "/content/drive/MyDrive/Hereford_VarAnalysis/Hereford_chrVar/ins/27/hfimm_within_gene27.csv\n",
            "file: (0, 29)\n",
            "filter_qtl: (0, 29)\n",
            "filter_qtl: (0, 29)\n",
            "lov10: (0, 29)\n",
            "ins_qtl: (0, 4)\n",
            "inslov50_qtl (0, 4)\n",
            "Chromosome28\n",
            "/content/drive/MyDrive/Hereford_VarAnalysis/Hereford_chrVar/ins/28/hfimm_within_gene28.csv\n",
            "file: (7, 29)\n",
            "filter_qtl: (7, 29)\n",
            "filter_qtl: (7, 29)\n",
            "lov10: (2, 29)\n",
            "ins_qtl: (2, 4)\n",
            "inslov50_qtl (0, 4)\n",
            "Chromosome29\n",
            "/content/drive/MyDrive/Hereford_VarAnalysis/Hereford_chrVar/ins/29/hfimm_within_gene29.csv\n",
            "file: (6, 29)\n",
            "filter_qtl: (2, 29)\n",
            "filter_qtl: (2, 29)\n",
            "lov10: (0, 29)\n",
            "ins_qtl: (0, 4)\n",
            "inslov50_qtl (0, 4)\n",
            "ChromosomeX\n",
            "/content/drive/MyDrive/Hereford_VarAnalysis/Hereford_chrVar/ins/X/hfimm_within_geneX.csv\n",
            "file: (22, 29)\n",
            "filter_qtl: (6, 29)\n",
            "filter_qtl: (6, 29)\n",
            "lov10: (1, 29)\n",
            "ins_qtl: (1, 4)\n",
            "inslov50_qtl (0, 4)\n"
          ]
        }
      ]
    },
    {
      "cell_type": "code",
      "source": [
        "# Table preparations\n",
        "\n",
        "dff1=pd.read_csv(\"/content/drive/MyDrive/Hereford_VarAnalysis/Hereford_chrVar/ins/1/inslov10_qtlimm1.csv\")\n",
        "dff2=pd.read_csv(\"/content/drive/MyDrive/Hereford_VarAnalysis/Hereford_chrVar/ins/2/inslov10_qtlimm2.csv\")\n",
        "dff3=pd.read_csv(\"/content/drive/MyDrive/Hereford_VarAnalysis/Hereford_chrVar/ins/3/inslov10_qtlimm3.csv\")\n",
        "dff4=pd.read_csv(\"/content/drive/MyDrive/Hereford_VarAnalysis/Hereford_chrVar/ins/4/inslov10_qtlimm4.csv\")\n",
        "dff5=pd.read_csv(\"/content/drive/MyDrive/Hereford_VarAnalysis/Hereford_chrVar/ins/5/inslov10_qtlimm5.csv\")\n",
        "dff6=pd.read_csv(\"/content/drive/MyDrive/Hereford_VarAnalysis/Hereford_chrVar/ins/6/inslov10_qtlimm6.csv\")\n",
        "dff7=pd.read_csv(\"/content/drive/MyDrive/Hereford_VarAnalysis/Hereford_chrVar/ins/7/inslov10_qtlimm7.csv\")\n",
        "dff8=pd.read_csv(\"/content/drive/MyDrive/Hereford_VarAnalysis/Hereford_chrVar/ins/8/inslov10_qtlimm8.csv\")\n",
        "dff9=pd.read_csv(\"/content/drive/MyDrive/Hereford_VarAnalysis/Hereford_chrVar/ins/9/inslov10_qtlimm9.csv\")\n",
        "dff10=pd.read_csv(\"/content/drive/MyDrive/Hereford_VarAnalysis/Hereford_chrVar/ins/10/inslov10_qtlimm10.csv\")\n",
        "dff11=pd.read_csv(\"/content/drive/MyDrive/Hereford_VarAnalysis/Hereford_chrVar/ins/11/inslov10_qtlimm11.csv\")\n",
        "dff12=pd.read_csv(\"/content/drive/MyDrive/Hereford_VarAnalysis/Hereford_chrVar/ins/12/inslov10_qtlimm12.csv\")\n",
        "dff13=pd.read_csv(\"/content/drive/MyDrive/Hereford_VarAnalysis/Hereford_chrVar/ins/13/inslov10_qtlimm13.csv\")\n",
        "dff14=pd.read_csv(\"/content/drive/MyDrive/Hereford_VarAnalysis/Hereford_chrVar/ins/14/inslov10_qtlimm14.csv\")\n",
        "dff15=pd.read_csv(\"/content/drive/MyDrive/Hereford_VarAnalysis/Hereford_chrVar/ins/15/inslov10_qtlimm15.csv\")\n",
        "dff16=pd.read_csv(\"/content/drive/MyDrive/Hereford_VarAnalysis/Hereford_chrVar/ins/16/inslov10_qtlimm16.csv\")\n",
        "dff17=pd.read_csv(\"/content/drive/MyDrive/Hereford_VarAnalysis/Hereford_chrVar/ins/17/inslov10_qtlimm17.csv\")\n",
        "dff18=pd.read_csv(\"/content/drive/MyDrive/Hereford_VarAnalysis/Hereford_chrVar/ins/18/inslov10_qtlimm18.csv\")\n",
        "dff19=pd.read_csv(\"/content/drive/MyDrive/Hereford_VarAnalysis/Hereford_chrVar/ins/19/inslov10_qtlimm19.csv\")\n",
        "dff20=pd.read_csv(\"/content/drive/MyDrive/Hereford_VarAnalysis/Hereford_chrVar/ins/20/inslov10_qtlimm20.csv\")\n",
        "dff21=pd.read_csv(\"/content/drive/MyDrive/Hereford_VarAnalysis/Hereford_chrVar/ins/21/inslov10_qtlimm21.csv\")\n",
        "dff22=pd.read_csv(\"/content/drive/MyDrive/Hereford_VarAnalysis/Hereford_chrVar/ins/22/inslov10_qtlimm22.csv\")\n",
        "dff23=pd.read_csv(\"/content/drive/MyDrive/Hereford_VarAnalysis/Hereford_chrVar/ins/23/inslov10_qtlimm23.csv\")\n",
        "dff24=pd.read_csv(\"/content/drive/MyDrive/Hereford_VarAnalysis/Hereford_chrVar/ins/24/inslov10_qtlimm24.csv\")\n",
        "dff25=pd.read_csv(\"/content/drive/MyDrive/Hereford_VarAnalysis/Hereford_chrVar/ins/25/inslov10_qtlimm25.csv\")\n",
        "dff26=pd.read_csv(\"/content/drive/MyDrive/Hereford_VarAnalysis/Hereford_chrVar/ins/26/inslov10_qtlimm26.csv\")\n",
        "dff27=pd.read_csv(\"/content/drive/MyDrive/Hereford_VarAnalysis/Hereford_chrVar/ins/27/inslov10_qtlimm27.csv\")\n",
        "dff28=pd.read_csv(\"/content/drive/MyDrive/Hereford_VarAnalysis/Hereford_chrVar/ins/28/inslov10_qtlimm28.csv\")\n",
        "dff29=pd.read_csv(\"/content/drive/MyDrive/Hereford_VarAnalysis/Hereford_chrVar/ins/29/inslov10_qtlimm29.csv\")\n",
        "dffX=pd.read_csv(\"/content/drive/MyDrive/Hereford_VarAnalysis/Hereford_chrVar/ins/X/inslov10_qtlimmX.csv\")"
      ],
      "metadata": {
        "id": "wPVoMlwKsQz5"
      },
      "execution_count": null,
      "outputs": []
    },
    {
      "cell_type": "code",
      "source": [
        "table_insqtlimm=pd.DataFrame(columns=[\"Chromosome number\"]+list(dff1))"
      ],
      "metadata": {
        "id": "SNaDU11btZ2v"
      },
      "execution_count": null,
      "outputs": []
    },
    {
      "cell_type": "code",
      "source": [
        "dff1[\"Chromosome number\"]=1\n",
        "dff2[\"Chromosome number\"]=2\n",
        "dff3[\"Chromosome number\"]=3\n",
        "dff4[\"Chromosome number\"]=4\n",
        "dff5[\"Chromosome number\"]=5\n",
        "dff6[\"Chromosome number\"]=6\n",
        "dff7[\"Chromosome number\"]=7\n",
        "dff8[\"Chromosome number\"]=8\n",
        "dff9[\"Chromosome number\"]=9\n",
        "dff10[\"Chromosome number\"]=10\n",
        "dff11[\"Chromosome number\"]=11\n",
        "dff12[\"Chromosome number\"]=12\n",
        "dff13[\"Chromosome number\"]=13\n",
        "dff14[\"Chromosome number\"]=14\n",
        "dff15[\"Chromosome number\"]=15\n",
        "dff16[\"Chromosome number\"]=16\n",
        "dff17[\"Chromosome number\"]=17\n",
        "dff18[\"Chromosome number\"]=18\n",
        "dff19[\"Chromosome number\"]=19\n",
        "dff20[\"Chromosome number\"]=20\n",
        "dff21[\"Chromosome number\"]=21\n",
        "dff22[\"Chromosome number\"]=22\n",
        "dff23[\"Chromosome number\"]=23\n",
        "dff24[\"Chromosome number\"]=24\n",
        "dff25[\"Chromosome number\"]=25\n",
        "dff26[\"Chromosome number\"]=26\n",
        "dff27[\"Chromosome number\"]=27\n",
        "dff28[\"Chromosome number\"]=28\n",
        "dff29[\"Chromosome number\"]=29\n",
        "dffX[\"Chromosome number\"]=\"X\""
      ],
      "metadata": {
        "id": "hNfZJZKlt2BQ"
      },
      "execution_count": null,
      "outputs": []
    },
    {
      "cell_type": "code",
      "source": [
        "table_insqtlimm=pd.concat([table_insqtlimm, dff1, dff2, dff3, dff4, dff5, dff6, dff7, dff8, dff9, dff10, dff11, dff12, dff13, dff14, dff15, dff16, dff17, dff18, dff19, dff20, dff21, dff22, dff23, dff24, dff25, dff26, dff27, dff28, dff29, dffX])"
      ],
      "metadata": {
        "id": "8iB81lUSuEwP"
      },
      "execution_count": null,
      "outputs": []
    },
    {
      "cell_type": "code",
      "source": [
        "table_insqtlimm.shape"
      ],
      "metadata": {
        "colab": {
          "base_uri": "https://localhost:8080/"
        },
        "id": "qcyhqvKduVoJ",
        "outputId": "5376b004-9ef1-477b-b0f5-7324c64024a0"
      },
      "execution_count": null,
      "outputs": [
        {
          "output_type": "execute_result",
          "data": {
            "text/plain": [
              "(21, 6)"
            ]
          },
          "metadata": {},
          "execution_count": 173
        }
      ]
    },
    {
      "cell_type": "code",
      "source": [
        "table_insqtlimm.to_csv(\"table_insqtlimm.csv\")\n",
        "shutil.copy(\"table_insqtlimm.csv\", \"/content/drive/MyDrive/Hereford_VarAnalysis/Hereford_chrVar\")"
      ],
      "metadata": {
        "colab": {
          "base_uri": "https://localhost:8080/",
          "height": 36
        },
        "id": "eXBCQAAaucA9",
        "outputId": "42497680-1072-42fc-89bc-0586fb9b64e2"
      },
      "execution_count": null,
      "outputs": [
        {
          "output_type": "execute_result",
          "data": {
            "text/plain": [
              "'/content/drive/MyDrive/Hereford_VarAnalysis/Hereford_chrVar/table_insqtlimm.csv'"
            ],
            "application/vnd.google.colaboratory.intrinsic+json": {
              "type": "string"
            }
          },
          "metadata": {},
          "execution_count": 90
        }
      ]
    },
    {
      "cell_type": "code",
      "source": [
        "# QTL Analysis - Hereford + Nelore\n",
        "\n",
        "fl1=pd.read_csv(\"/content/drive/MyDrive/Hereford_VarAnalysis/Hereford_chrVar/ins/1/hfqtl_NelVar1.csv\")"
      ],
      "metadata": {
        "id": "Y0ijmvT1rBIV"
      },
      "execution_count": null,
      "outputs": []
    },
    {
      "cell_type": "code",
      "source": [
        "fl1.shape"
      ],
      "metadata": {
        "colab": {
          "base_uri": "https://localhost:8080/"
        },
        "id": "6Z3eELKsvS9H",
        "outputId": "06b0244b-5170-48ae-bf3e-b9698809021a"
      },
      "execution_count": null,
      "outputs": [
        {
          "output_type": "execute_result",
          "data": {
            "text/plain": [
              "(9583, 36)"
            ]
          },
          "metadata": {},
          "execution_count": 15
        }
      ]
    },
    {
      "cell_type": "code",
      "source": [
        "filter_qtl=fl1[fl1[\"QTL Class\"]!=\"Nil\"]\n",
        "filter_qtl.shape"
      ],
      "metadata": {
        "colab": {
          "base_uri": "https://localhost:8080/"
        },
        "id": "6StBwY2pviTY",
        "outputId": "c36566be-eb5e-46b0-e352-cd64ab3127c4"
      },
      "execution_count": null,
      "outputs": [
        {
          "output_type": "execute_result",
          "data": {
            "text/plain": [
              "(8661, 36)"
            ]
          },
          "metadata": {},
          "execution_count": 16
        }
      ]
    },
    {
      "cell_type": "code",
      "source": [
        "filter_qtl=filter_qtl[filter_qtl[\"qtlgene_type\"]==\"within_gene\"]\n",
        "filter_qtl.shape"
      ],
      "metadata": {
        "colab": {
          "base_uri": "https://localhost:8080/"
        },
        "id": "NSD3AzK7vvaE",
        "outputId": "90830127-0800-4e01-f402-febb1891d347"
      },
      "execution_count": null,
      "outputs": [
        {
          "output_type": "execute_result",
          "data": {
            "text/plain": [
              "(5868, 36)"
            ]
          },
          "metadata": {},
          "execution_count": 17
        }
      ]
    },
    {
      "cell_type": "code",
      "source": [
        "filter_hf=filter_qtl[filter_qtl[\"HFgene_type\"]==\"within_gene\"]\n",
        "filter_hf.shape"
      ],
      "metadata": {
        "colab": {
          "base_uri": "https://localhost:8080/"
        },
        "id": "MzyboR2Tv5Ll",
        "outputId": "c879703a-8d2b-4fb0-bd0f-98dc17b8e78a"
      },
      "execution_count": null,
      "outputs": [
        {
          "output_type": "execute_result",
          "data": {
            "text/plain": [
              "(5741, 36)"
            ]
          },
          "metadata": {},
          "execution_count": 18
        }
      ]
    },
    {
      "cell_type": "code",
      "source": [
        "filter_nel=filter_hf[filter_hf[\"Nelgene_type\"]==\"within_gene\"]\n",
        "filter_nel.shape"
      ],
      "metadata": {
        "colab": {
          "base_uri": "https://localhost:8080/"
        },
        "id": "5BObUExvwPk2",
        "outputId": "e83ced33-45ad-4e39-8f63-e35375a33bd2"
      },
      "execution_count": null,
      "outputs": [
        {
          "output_type": "execute_result",
          "data": {
            "text/plain": [
              "(5270, 36)"
            ]
          },
          "metadata": {},
          "execution_count": 19
        }
      ]
    },
    {
      "cell_type": "code",
      "source": [
        "filter_lov10=filter_nel[filter_nel[\"LOV\"]>=10]\n",
        "filter_lov10.shape"
      ],
      "metadata": {
        "colab": {
          "base_uri": "https://localhost:8080/"
        },
        "id": "ItpHGdVbHFa3",
        "outputId": "feae42e5-13e3-4df1-db12-6b93fd526314"
      },
      "execution_count": null,
      "outputs": [
        {
          "output_type": "execute_result",
          "data": {
            "text/plain": [
              "(312, 36)"
            ]
          },
          "metadata": {},
          "execution_count": 21
        }
      ]
    },
    {
      "cell_type": "code",
      "source": [
        "ins_qtlimm=filter_lov10.groupby([\"Name\", \"Symbol\", \"NelLocus\", \"NelProt\", \"LOV\"]).agg({\"QTL Class\": \",\".join}).reset_index()"
      ],
      "metadata": {
        "id": "vB0EQ-lpyE1h"
      },
      "execution_count": null,
      "outputs": []
    },
    {
      "cell_type": "code",
      "source": [
        "ins_qtlimm.shape"
      ],
      "metadata": {
        "colab": {
          "base_uri": "https://localhost:8080/"
        },
        "id": "KglQJtXrzl_J",
        "outputId": "1cc78980-516d-4087-d2d7-fe8115d7a213"
      },
      "execution_count": null,
      "outputs": [
        {
          "output_type": "execute_result",
          "data": {
            "text/plain": [
              "(118, 6)"
            ]
          },
          "metadata": {},
          "execution_count": 23
        }
      ]
    },
    {
      "cell_type": "code",
      "source": [
        "ins_qtlimm.head()"
      ],
      "metadata": {
        "colab": {
          "base_uri": "https://localhost:8080/",
          "height": 206
        },
        "id": "Xy9DoC-FNsyX",
        "outputId": "b8b7cef4-246d-439b-d088-a0568dc95553"
      },
      "execution_count": null,
      "outputs": [
        {
          "output_type": "execute_result",
          "data": {
            "text/plain": [
              "                                  Name  Symbol NelLocus  \\\n",
              "0  ABI family member 3 binding protein  ABI3BP   ABI3BP   \n",
              "1  ABI family member 3 binding protein  ABI3BP   ABI3BP   \n",
              "2  ABI family member 3 binding protein  ABI3BP   ABI3BP   \n",
              "3  ABI family member 3 binding protein  ABI3BP   ABI3BP   \n",
              "4  ABI family member 3 binding protein  ABI3BP   ABI3BP   \n",
              "\n",
              "                                     NelProt  LOV                 QTL Class  \n",
              "0   PREDICTED: target of Nesh-SH3 isoform X1   12  Reproduction_Association  \n",
              "1   PREDICTED: target of Nesh-SH3 isoform X1   14  Reproduction_Association  \n",
              "2  PREDICTED: target of Nesh-SH3 isoform X10   12  Reproduction_Association  \n",
              "3  PREDICTED: target of Nesh-SH3 isoform X10   14  Reproduction_Association  \n",
              "4  PREDICTED: target of Nesh-SH3 isoform X11   12  Reproduction_Association  "
            ],
            "text/html": [
              "\n",
              "  <div id=\"df-a7d13e30-cdc5-434c-8c1c-2782b9536327\" class=\"colab-df-container\">\n",
              "    <div>\n",
              "<style scoped>\n",
              "    .dataframe tbody tr th:only-of-type {\n",
              "        vertical-align: middle;\n",
              "    }\n",
              "\n",
              "    .dataframe tbody tr th {\n",
              "        vertical-align: top;\n",
              "    }\n",
              "\n",
              "    .dataframe thead th {\n",
              "        text-align: right;\n",
              "    }\n",
              "</style>\n",
              "<table border=\"1\" class=\"dataframe\">\n",
              "  <thead>\n",
              "    <tr style=\"text-align: right;\">\n",
              "      <th></th>\n",
              "      <th>Name</th>\n",
              "      <th>Symbol</th>\n",
              "      <th>NelLocus</th>\n",
              "      <th>NelProt</th>\n",
              "      <th>LOV</th>\n",
              "      <th>QTL Class</th>\n",
              "    </tr>\n",
              "  </thead>\n",
              "  <tbody>\n",
              "    <tr>\n",
              "      <th>0</th>\n",
              "      <td>ABI family member 3 binding protein</td>\n",
              "      <td>ABI3BP</td>\n",
              "      <td>ABI3BP</td>\n",
              "      <td>PREDICTED: target of Nesh-SH3 isoform X1</td>\n",
              "      <td>12</td>\n",
              "      <td>Reproduction_Association</td>\n",
              "    </tr>\n",
              "    <tr>\n",
              "      <th>1</th>\n",
              "      <td>ABI family member 3 binding protein</td>\n",
              "      <td>ABI3BP</td>\n",
              "      <td>ABI3BP</td>\n",
              "      <td>PREDICTED: target of Nesh-SH3 isoform X1</td>\n",
              "      <td>14</td>\n",
              "      <td>Reproduction_Association</td>\n",
              "    </tr>\n",
              "    <tr>\n",
              "      <th>2</th>\n",
              "      <td>ABI family member 3 binding protein</td>\n",
              "      <td>ABI3BP</td>\n",
              "      <td>ABI3BP</td>\n",
              "      <td>PREDICTED: target of Nesh-SH3 isoform X10</td>\n",
              "      <td>12</td>\n",
              "      <td>Reproduction_Association</td>\n",
              "    </tr>\n",
              "    <tr>\n",
              "      <th>3</th>\n",
              "      <td>ABI family member 3 binding protein</td>\n",
              "      <td>ABI3BP</td>\n",
              "      <td>ABI3BP</td>\n",
              "      <td>PREDICTED: target of Nesh-SH3 isoform X10</td>\n",
              "      <td>14</td>\n",
              "      <td>Reproduction_Association</td>\n",
              "    </tr>\n",
              "    <tr>\n",
              "      <th>4</th>\n",
              "      <td>ABI family member 3 binding protein</td>\n",
              "      <td>ABI3BP</td>\n",
              "      <td>ABI3BP</td>\n",
              "      <td>PREDICTED: target of Nesh-SH3 isoform X11</td>\n",
              "      <td>12</td>\n",
              "      <td>Reproduction_Association</td>\n",
              "    </tr>\n",
              "  </tbody>\n",
              "</table>\n",
              "</div>\n",
              "    <div class=\"colab-df-buttons\">\n",
              "\n",
              "  <div class=\"colab-df-container\">\n",
              "    <button class=\"colab-df-convert\" onclick=\"convertToInteractive('df-a7d13e30-cdc5-434c-8c1c-2782b9536327')\"\n",
              "            title=\"Convert this dataframe to an interactive table.\"\n",
              "            style=\"display:none;\">\n",
              "\n",
              "  <svg xmlns=\"http://www.w3.org/2000/svg\" height=\"24px\" viewBox=\"0 -960 960 960\">\n",
              "    <path d=\"M120-120v-720h720v720H120Zm60-500h600v-160H180v160Zm220 220h160v-160H400v160Zm0 220h160v-160H400v160ZM180-400h160v-160H180v160Zm440 0h160v-160H620v160ZM180-180h160v-160H180v160Zm440 0h160v-160H620v160Z\"/>\n",
              "  </svg>\n",
              "    </button>\n",
              "\n",
              "  <style>\n",
              "    .colab-df-container {\n",
              "      display:flex;\n",
              "      gap: 12px;\n",
              "    }\n",
              "\n",
              "    .colab-df-convert {\n",
              "      background-color: #E8F0FE;\n",
              "      border: none;\n",
              "      border-radius: 50%;\n",
              "      cursor: pointer;\n",
              "      display: none;\n",
              "      fill: #1967D2;\n",
              "      height: 32px;\n",
              "      padding: 0 0 0 0;\n",
              "      width: 32px;\n",
              "    }\n",
              "\n",
              "    .colab-df-convert:hover {\n",
              "      background-color: #E2EBFA;\n",
              "      box-shadow: 0px 1px 2px rgba(60, 64, 67, 0.3), 0px 1px 3px 1px rgba(60, 64, 67, 0.15);\n",
              "      fill: #174EA6;\n",
              "    }\n",
              "\n",
              "    .colab-df-buttons div {\n",
              "      margin-bottom: 4px;\n",
              "    }\n",
              "\n",
              "    [theme=dark] .colab-df-convert {\n",
              "      background-color: #3B4455;\n",
              "      fill: #D2E3FC;\n",
              "    }\n",
              "\n",
              "    [theme=dark] .colab-df-convert:hover {\n",
              "      background-color: #434B5C;\n",
              "      box-shadow: 0px 1px 3px 1px rgba(0, 0, 0, 0.15);\n",
              "      filter: drop-shadow(0px 1px 2px rgba(0, 0, 0, 0.3));\n",
              "      fill: #FFFFFF;\n",
              "    }\n",
              "  </style>\n",
              "\n",
              "    <script>\n",
              "      const buttonEl =\n",
              "        document.querySelector('#df-a7d13e30-cdc5-434c-8c1c-2782b9536327 button.colab-df-convert');\n",
              "      buttonEl.style.display =\n",
              "        google.colab.kernel.accessAllowed ? 'block' : 'none';\n",
              "\n",
              "      async function convertToInteractive(key) {\n",
              "        const element = document.querySelector('#df-a7d13e30-cdc5-434c-8c1c-2782b9536327');\n",
              "        const dataTable =\n",
              "          await google.colab.kernel.invokeFunction('convertToInteractive',\n",
              "                                                    [key], {});\n",
              "        if (!dataTable) return;\n",
              "\n",
              "        const docLinkHtml = 'Like what you see? Visit the ' +\n",
              "          '<a target=\"_blank\" href=https://colab.research.google.com/notebooks/data_table.ipynb>data table notebook</a>'\n",
              "          + ' to learn more about interactive tables.';\n",
              "        element.innerHTML = '';\n",
              "        dataTable['output_type'] = 'display_data';\n",
              "        await google.colab.output.renderOutput(dataTable, element);\n",
              "        const docLink = document.createElement('div');\n",
              "        docLink.innerHTML = docLinkHtml;\n",
              "        element.appendChild(docLink);\n",
              "      }\n",
              "    </script>\n",
              "  </div>\n",
              "\n",
              "\n",
              "<div id=\"df-17e63f53-0799-439e-b554-e51f0dece2b7\">\n",
              "  <button class=\"colab-df-quickchart\" onclick=\"quickchart('df-17e63f53-0799-439e-b554-e51f0dece2b7')\"\n",
              "            title=\"Suggest charts\"\n",
              "            style=\"display:none;\">\n",
              "\n",
              "<svg xmlns=\"http://www.w3.org/2000/svg\" height=\"24px\"viewBox=\"0 0 24 24\"\n",
              "     width=\"24px\">\n",
              "    <g>\n",
              "        <path d=\"M19 3H5c-1.1 0-2 .9-2 2v14c0 1.1.9 2 2 2h14c1.1 0 2-.9 2-2V5c0-1.1-.9-2-2-2zM9 17H7v-7h2v7zm4 0h-2V7h2v10zm4 0h-2v-4h2v4z\"/>\n",
              "    </g>\n",
              "</svg>\n",
              "  </button>\n",
              "\n",
              "<style>\n",
              "  .colab-df-quickchart {\n",
              "      --bg-color: #E8F0FE;\n",
              "      --fill-color: #1967D2;\n",
              "      --hover-bg-color: #E2EBFA;\n",
              "      --hover-fill-color: #174EA6;\n",
              "      --disabled-fill-color: #AAA;\n",
              "      --disabled-bg-color: #DDD;\n",
              "  }\n",
              "\n",
              "  [theme=dark] .colab-df-quickchart {\n",
              "      --bg-color: #3B4455;\n",
              "      --fill-color: #D2E3FC;\n",
              "      --hover-bg-color: #434B5C;\n",
              "      --hover-fill-color: #FFFFFF;\n",
              "      --disabled-bg-color: #3B4455;\n",
              "      --disabled-fill-color: #666;\n",
              "  }\n",
              "\n",
              "  .colab-df-quickchart {\n",
              "    background-color: var(--bg-color);\n",
              "    border: none;\n",
              "    border-radius: 50%;\n",
              "    cursor: pointer;\n",
              "    display: none;\n",
              "    fill: var(--fill-color);\n",
              "    height: 32px;\n",
              "    padding: 0;\n",
              "    width: 32px;\n",
              "  }\n",
              "\n",
              "  .colab-df-quickchart:hover {\n",
              "    background-color: var(--hover-bg-color);\n",
              "    box-shadow: 0 1px 2px rgba(60, 64, 67, 0.3), 0 1px 3px 1px rgba(60, 64, 67, 0.15);\n",
              "    fill: var(--button-hover-fill-color);\n",
              "  }\n",
              "\n",
              "  .colab-df-quickchart-complete:disabled,\n",
              "  .colab-df-quickchart-complete:disabled:hover {\n",
              "    background-color: var(--disabled-bg-color);\n",
              "    fill: var(--disabled-fill-color);\n",
              "    box-shadow: none;\n",
              "  }\n",
              "\n",
              "  .colab-df-spinner {\n",
              "    border: 2px solid var(--fill-color);\n",
              "    border-color: transparent;\n",
              "    border-bottom-color: var(--fill-color);\n",
              "    animation:\n",
              "      spin 1s steps(1) infinite;\n",
              "  }\n",
              "\n",
              "  @keyframes spin {\n",
              "    0% {\n",
              "      border-color: transparent;\n",
              "      border-bottom-color: var(--fill-color);\n",
              "      border-left-color: var(--fill-color);\n",
              "    }\n",
              "    20% {\n",
              "      border-color: transparent;\n",
              "      border-left-color: var(--fill-color);\n",
              "      border-top-color: var(--fill-color);\n",
              "    }\n",
              "    30% {\n",
              "      border-color: transparent;\n",
              "      border-left-color: var(--fill-color);\n",
              "      border-top-color: var(--fill-color);\n",
              "      border-right-color: var(--fill-color);\n",
              "    }\n",
              "    40% {\n",
              "      border-color: transparent;\n",
              "      border-right-color: var(--fill-color);\n",
              "      border-top-color: var(--fill-color);\n",
              "    }\n",
              "    60% {\n",
              "      border-color: transparent;\n",
              "      border-right-color: var(--fill-color);\n",
              "    }\n",
              "    80% {\n",
              "      border-color: transparent;\n",
              "      border-right-color: var(--fill-color);\n",
              "      border-bottom-color: var(--fill-color);\n",
              "    }\n",
              "    90% {\n",
              "      border-color: transparent;\n",
              "      border-bottom-color: var(--fill-color);\n",
              "    }\n",
              "  }\n",
              "</style>\n",
              "\n",
              "  <script>\n",
              "    async function quickchart(key) {\n",
              "      const quickchartButtonEl =\n",
              "        document.querySelector('#' + key + ' button');\n",
              "      quickchartButtonEl.disabled = true;  // To prevent multiple clicks.\n",
              "      quickchartButtonEl.classList.add('colab-df-spinner');\n",
              "      try {\n",
              "        const charts = await google.colab.kernel.invokeFunction(\n",
              "            'suggestCharts', [key], {});\n",
              "      } catch (error) {\n",
              "        console.error('Error during call to suggestCharts:', error);\n",
              "      }\n",
              "      quickchartButtonEl.classList.remove('colab-df-spinner');\n",
              "      quickchartButtonEl.classList.add('colab-df-quickchart-complete');\n",
              "    }\n",
              "    (() => {\n",
              "      let quickchartButtonEl =\n",
              "        document.querySelector('#df-17e63f53-0799-439e-b554-e51f0dece2b7 button');\n",
              "      quickchartButtonEl.style.display =\n",
              "        google.colab.kernel.accessAllowed ? 'block' : 'none';\n",
              "    })();\n",
              "  </script>\n",
              "</div>\n",
              "    </div>\n",
              "  </div>\n"
            ]
          },
          "metadata": {},
          "execution_count": 25
        }
      ]
    },
    {
      "cell_type": "code",
      "source": [
        "# Drop duplicate values in the 'QTL Class' column\n",
        "ins_qtlimm['QTL Class'] = ins_qtlimm['QTL Class'].apply(lambda x: ', '.join(pd.unique(x.split(','))))"
      ],
      "metadata": {
        "id": "-_Gf0IjIMAm6"
      },
      "execution_count": null,
      "outputs": []
    },
    {
      "cell_type": "code",
      "source": [
        "ins_qtlimm.to_csv(\"eg.csv\")"
      ],
      "metadata": {
        "id": "lx6_hC3nIGQp"
      },
      "execution_count": null,
      "outputs": []
    },
    {
      "cell_type": "code",
      "source": [
        "a=ins_qtlimm[\"Name\"].unique()"
      ],
      "metadata": {
        "id": "bPqSsayXHiSV"
      },
      "execution_count": null,
      "outputs": []
    },
    {
      "cell_type": "code",
      "source": [
        "a.shape"
      ],
      "metadata": {
        "colab": {
          "base_uri": "https://localhost:8080/"
        },
        "id": "tDjYzxbFH1Xx",
        "outputId": "021e3fd7-3527-4b65-e3f4-b839666a8535"
      },
      "execution_count": null,
      "outputs": [
        {
          "output_type": "execute_result",
          "data": {
            "text/plain": [
              "(41,)"
            ]
          },
          "metadata": {},
          "execution_count": 144
        }
      ]
    },
    {
      "cell_type": "code",
      "source": [
        "ins_qtlimm50=ins_qtlimm[ins_qtlimm[\"LOV\"]>=50]"
      ],
      "metadata": {
        "id": "Hai4_aeVzpgB"
      },
      "execution_count": null,
      "outputs": []
    },
    {
      "cell_type": "code",
      "source": [
        "ins_qtlimm50.shape"
      ],
      "metadata": {
        "colab": {
          "base_uri": "https://localhost:8080/"
        },
        "id": "azCwnmXazzEh",
        "outputId": "87bfe014-b186-4e4e-fad1-ae0b308c43ee"
      },
      "execution_count": null,
      "outputs": [
        {
          "output_type": "execute_result",
          "data": {
            "text/plain": [
              "(0, 6)"
            ]
          },
          "metadata": {},
          "execution_count": 27
        }
      ]
    },
    {
      "cell_type": "code",
      "source": [
        "# Drop duplicate values in the 'QTL Class' column\n",
        "ins_qtlimm50['QTL Class'] = ins_qtlimm50['QTL Class'].apply(lambda x: ', '.join(pd.unique(x.split(','))))"
      ],
      "metadata": {
        "colab": {
          "base_uri": "https://localhost:8080/"
        },
        "id": "mgnKnEa2CbIo",
        "outputId": "d5719a72-2522-4a1b-deb7-5bac7f8b0951"
      },
      "execution_count": null,
      "outputs": [
        {
          "output_type": "stream",
          "name": "stderr",
          "text": [
            "<ipython-input-127-76edd9092022>:2: SettingWithCopyWarning: \n",
            "A value is trying to be set on a copy of a slice from a DataFrame.\n",
            "Try using .loc[row_indexer,col_indexer] = value instead\n",
            "\n",
            "See the caveats in the documentation: https://pandas.pydata.org/pandas-docs/stable/user_guide/indexing.html#returning-a-view-versus-a-copy\n",
            "  ins_qtlimm50['QTL Class'] = ins_qtlimm50['QTL Class'].apply(lambda x: ', '.join(pd.unique(x.split(','))))\n"
          ]
        }
      ]
    },
    {
      "cell_type": "code",
      "source": [
        "ins_qtlimm50.to_csv(\"ins_qtlimm50.csv\")"
      ],
      "metadata": {
        "id": "AWJXAPyKz6p4"
      },
      "execution_count": null,
      "outputs": []
    },
    {
      "cell_type": "code",
      "source": [
        "import pandas as pd\n",
        "import shutil\n",
        "\n",
        "chr=[1,2,3,4,5,6,7,8,9,10,11,12,13,14,15,16,17,18,19,20,21,22,23,24,25,26,27,28,29,\"X\"]\n",
        "# chr=[1]\n",
        "for i in chr:\n",
        "  print(f\"Chromosome{i}\")\n",
        "\n",
        "  # set the file path\n",
        "  inp_f1=f'/content/drive/MyDrive/Hereford_VarAnalysis/Hereford_chrVar/ins/{i}/hfqtl_NelVar{i}.csv'\n",
        "  outp_loc=f\"/content/drive/MyDrive/Hereford_VarAnalysis/Hereford_chrVar/ins/{i}\"\n",
        "\n",
        "  # read the file\n",
        "  dff=pd.read_csv(inp_f1)\n",
        "  # print(in_f1)\n",
        "  print(\"file:\", dff.shape)\n",
        "  # print(df)\n",
        "\n",
        "  # filter the LOV has greater than equal to 10\n",
        "  filter_lov10=dff[dff[\"LOV\"]>=10]\n",
        "\n",
        "  # ignore the qtl class has nil value\n",
        "  filter_qtl=filter_lov10[filter_lov10[\"QTL Class\"]!=\"Nil\"]\n",
        "  print(\"filter_qtl:\", filter_qtl.shape)\n",
        "\n",
        "  # filter the qtlgenetype has within gene type\n",
        "  filter_qtl=filter_qtl[filter_qtl[\"qtlgene_type\"]==\"within_gene\"]\n",
        "  filter_qtl.shape\n",
        "  print(\"filter_qtl:\", filter_qtl.shape)\n",
        "\n",
        "  # filter the HFgenetype has within gene type\n",
        "  filter_hf=filter_qtl[filter_qtl[\"HFgene_type\"]==\"within_gene\"]\n",
        "  filter_hf.shape\n",
        "  print(\"filte_hf:\", filter_hf.shape)\n",
        "\n",
        "  # filter the Nelgenetype has within gene type\n",
        "  filter_nel=filter_hf[filter_hf[\"Nelgene_type\"]==\"within_gene\"]\n",
        "  filter_nel.shape\n",
        "  print(\"filter_nel:\", filter_nel.shape)\n",
        "\n",
        "  filter_nel=filter_nel.drop_duplicates(subset=[\"Symbol\", \"QTL Class\", \"startpos.q\", \"endpos.q\", \"LOV\"]).reset_index()\n",
        "  filter_nelq=filter_nel.groupby([\"Name\", \"Symbol\", \"NelLocus\", \"NelProt\", \"startpos.q\", \"endpos.q\", \"LOV\"]).agg({\"QTL Class\": lambda x: \",\".join(set(x))}).reset_index()\n",
        "\n",
        "  # Group by 'Name' and 'Symbol' and aggregate the sum of 'LOV' and join 'QTL Class'\n",
        "  ins_qtlHN=filter_nelq.groupby([\"Symbol\", \"Name\", \"NelLocus\", \"NelProt\",  \"LOV\"]).agg({\"QTL Class\": \",\".join}).reset_index()\n",
        "\n",
        "  # Drop duplicate values in the 'QTL Class' column\n",
        "  ins_qtlHN['QTL Class'] = ins_qtlHN['QTL Class'].apply(lambda x: ', '.join(pd.unique(x.split(','))))\n",
        "\n",
        "  # save the file into destination\n",
        "  out_f1=f\"ins_qtlHN{i}.csv\"\n",
        "  ins_qtlHN.to_csv(out_f1)\n",
        "  print(\"ins_qtlHN:\", ins_qtlHN.shape)\n",
        "  shutil.copy(out_f1, outp_loc)\n",
        "\n",
        "  # Save the file into destination\n",
        "  ins_qtlHN50=ins_qtlHN[ins_qtlHN[\"LOV\"]>=50]\n",
        "  out_f2=f\"ins_qtl50HN{i}.csv\"\n",
        "  ins_qtlHN50.to_csv(out_f2)\n",
        "  print(\"ins_qtlHN50:\", ins_qtlHN50.shape)\n",
        "  shutil.copy(out_f2, outp_loc)"
      ],
      "metadata": {
        "colab": {
          "base_uri": "https://localhost:8080/"
        },
        "id": "Tmw7SgzbDJU_",
        "outputId": "e3c9c923-8a25-4682-9060-95465dd13352"
      },
      "execution_count": null,
      "outputs": [
        {
          "output_type": "stream",
          "name": "stdout",
          "text": [
            "Chromosome1\n",
            "file: (9583, 36)\n",
            "filter_qtl: (466, 36)\n",
            "filter_qtl: (333, 36)\n",
            "filte_hf: (329, 36)\n",
            "filter_nel: (312, 36)\n",
            "ins_qtlHN: (55, 6)\n",
            "ins_qtlHN50: (0, 6)\n",
            "Chromosome2\n",
            "file: (6229, 36)\n",
            "filter_qtl: (176, 36)\n",
            "filter_qtl: (117, 36)\n",
            "filte_hf: (110, 36)\n",
            "filter_nel: (87, 36)\n",
            "ins_qtlHN: (24, 6)\n",
            "ins_qtlHN50: (0, 6)\n",
            "Chromosome3\n",
            "file: (6135, 36)\n",
            "filter_qtl: (232, 36)\n",
            "filter_qtl: (165, 36)\n",
            "filte_hf: (152, 36)\n",
            "filter_nel: (102, 36)\n",
            "ins_qtlHN: (25, 6)\n",
            "ins_qtlHN50: (2, 6)\n",
            "Chromosome4\n",
            "file: (8728, 36)\n",
            "filter_qtl: (371, 36)\n",
            "filter_qtl: (325, 36)\n",
            "filte_hf: (316, 36)\n",
            "filter_nel: (270, 36)\n",
            "ins_qtlHN: (55, 6)\n",
            "ins_qtlHN50: (1, 6)\n",
            "Chromosome5\n",
            "file: (5981, 36)\n",
            "filter_qtl: (421, 36)\n",
            "filter_qtl: (363, 36)\n",
            "filte_hf: (351, 36)\n",
            "filter_nel: (338, 36)\n",
            "ins_qtlHN: (32, 6)\n",
            "ins_qtlHN50: (0, 6)\n",
            "Chromosome6\n",
            "file: (10566, 36)\n",
            "filter_qtl: (708, 36)\n",
            "filter_qtl: (516, 36)\n",
            "filte_hf: (486, 36)\n",
            "filter_nel: (443, 36)\n",
            "ins_qtlHN: (48, 6)\n",
            "ins_qtlHN50: (1, 6)\n",
            "Chromosome7\n",
            "file: (6838, 36)\n",
            "filter_qtl: (350, 36)\n",
            "filter_qtl: (237, 36)\n",
            "filte_hf: (228, 36)\n",
            "filter_nel: (193, 36)\n",
            "ins_qtlHN: (33, 6)\n",
            "ins_qtlHN50: (3, 6)\n",
            "Chromosome8\n",
            "file: (8420, 36)\n",
            "filter_qtl: (489, 36)\n",
            "filter_qtl: (399, 36)\n",
            "filte_hf: (391, 36)\n",
            "filter_nel: (331, 36)\n",
            "ins_qtlHN: (44, 6)\n",
            "ins_qtlHN50: (3, 6)\n",
            "Chromosome9\n",
            "file: (3871, 36)\n",
            "filter_qtl: (168, 36)\n",
            "filter_qtl: (92, 36)\n",
            "filte_hf: (87, 36)\n",
            "filter_nel: (84, 36)\n",
            "ins_qtlHN: (19, 6)\n",
            "ins_qtlHN50: (1, 6)\n",
            "Chromosome10\n",
            "file: (13108, 36)\n",
            "filter_qtl: (234, 36)\n",
            "filter_qtl: (176, 36)\n",
            "filte_hf: (165, 36)\n",
            "filter_nel: (140, 36)\n",
            "ins_qtlHN: (35, 6)\n",
            "ins_qtlHN50: (1, 6)\n",
            "Chromosome11\n",
            "file: (6945, 36)\n",
            "filter_qtl: (298, 36)\n",
            "filter_qtl: (191, 36)\n",
            "filte_hf: (183, 36)\n",
            "filter_nel: (168, 36)\n",
            "ins_qtlHN: (30, 6)\n",
            "ins_qtlHN50: (1, 6)\n",
            "Chromosome12\n",
            "file: (5122, 36)\n",
            "filter_qtl: (296, 36)\n",
            "filter_qtl: (194, 36)\n",
            "filte_hf: (188, 36)\n",
            "filter_nel: (176, 36)\n",
            "ins_qtlHN: (25, 6)\n",
            "ins_qtlHN50: (2, 6)\n",
            "Chromosome13\n",
            "file: (4763, 36)\n",
            "filter_qtl: (302, 36)\n",
            "filter_qtl: (238, 36)\n",
            "filte_hf: (231, 36)\n",
            "filter_nel: (202, 36)\n",
            "ins_qtlHN: (26, 6)\n",
            "ins_qtlHN50: (1, 6)\n",
            "Chromosome14\n",
            "file: (3740, 36)\n",
            "filter_qtl: (229, 36)\n",
            "filter_qtl: (130, 36)\n",
            "filte_hf: (124, 36)\n",
            "filter_nel: (102, 36)\n",
            "ins_qtlHN: (20, 6)\n",
            "ins_qtlHN50: (0, 6)\n",
            "Chromosome15\n",
            "file: (5793, 36)\n",
            "filter_qtl: (230, 36)\n",
            "filter_qtl: (168, 36)\n",
            "filte_hf: (166, 36)\n",
            "filter_nel: (148, 36)\n",
            "ins_qtlHN: (30, 6)\n",
            "ins_qtlHN50: (2, 6)\n",
            "Chromosome16\n",
            "file: (6484, 36)\n",
            "filter_qtl: (519, 36)\n",
            "filter_qtl: (371, 36)\n",
            "filte_hf: (354, 36)\n",
            "filter_nel: (341, 36)\n",
            "ins_qtlHN: (46, 6)\n",
            "ins_qtlHN50: (0, 6)\n",
            "Chromosome17\n",
            "file: (4261, 36)\n",
            "filter_qtl: (188, 36)\n",
            "filter_qtl: (121, 36)\n",
            "filte_hf: (116, 36)\n",
            "filter_nel: (86, 36)\n",
            "ins_qtlHN: (21, 6)\n",
            "ins_qtlHN50: (2, 6)\n",
            "Chromosome18\n",
            "file: (3302, 36)\n",
            "filter_qtl: (144, 36)\n",
            "filter_qtl: (84, 36)\n",
            "filte_hf: (76, 36)\n",
            "filter_nel: (47, 36)\n",
            "ins_qtlHN: (18, 6)\n",
            "ins_qtlHN50: (2, 6)\n",
            "Chromosome19\n",
            "file: (3552, 36)\n",
            "filter_qtl: (172, 36)\n",
            "filter_qtl: (131, 36)\n",
            "filte_hf: (122, 36)\n",
            "filter_nel: (93, 36)\n",
            "ins_qtlHN: (19, 6)\n",
            "ins_qtlHN50: (0, 6)\n",
            "Chromosome20\n",
            "file: (6441, 36)\n",
            "filter_qtl: (367, 36)\n",
            "filter_qtl: (143, 36)\n",
            "filte_hf: (124, 36)\n",
            "filter_nel: (75, 36)\n",
            "ins_qtlHN: (13, 6)\n",
            "ins_qtlHN50: (2, 6)\n",
            "Chromosome21\n",
            "file: (3831, 36)\n",
            "filter_qtl: (230, 36)\n",
            "filter_qtl: (128, 36)\n",
            "filte_hf: (128, 36)\n",
            "filter_nel: (119, 36)\n",
            "ins_qtlHN: (24, 6)\n",
            "ins_qtlHN50: (3, 6)\n",
            "Chromosome22\n",
            "file: (6196, 36)\n",
            "filter_qtl: (250, 36)\n",
            "filter_qtl: (230, 36)\n",
            "filte_hf: (228, 36)\n",
            "filter_nel: (222, 36)\n",
            "ins_qtlHN: (30, 6)\n",
            "ins_qtlHN50: (2, 6)\n",
            "Chromosome23\n",
            "file: (2152, 36)\n",
            "filter_qtl: (152, 36)\n",
            "filter_qtl: (122, 36)\n",
            "filte_hf: (116, 36)\n",
            "filter_nel: (79, 36)\n",
            "ins_qtlHN: (17, 6)\n",
            "ins_qtlHN50: (1, 6)\n",
            "Chromosome24\n",
            "file: (2139, 36)\n",
            "filter_qtl: (92, 36)\n",
            "filter_qtl: (55, 36)\n",
            "filte_hf: (55, 36)\n",
            "filter_nel: (55, 36)\n",
            "ins_qtlHN: (10, 6)\n",
            "ins_qtlHN50: (1, 6)\n",
            "Chromosome25\n",
            "file: (2718, 36)\n",
            "filter_qtl: (124, 36)\n",
            "filter_qtl: (97, 36)\n",
            "filte_hf: (96, 36)\n",
            "filter_nel: (83, 36)\n",
            "ins_qtlHN: (16, 6)\n",
            "ins_qtlHN50: (0, 6)\n",
            "Chromosome26\n",
            "file: (5235, 36)\n",
            "filter_qtl: (220, 36)\n",
            "filter_qtl: (141, 36)\n",
            "filte_hf: (134, 36)\n",
            "filter_nel: (109, 36)\n",
            "ins_qtlHN: (25, 6)\n",
            "ins_qtlHN50: (1, 6)\n",
            "Chromosome27\n",
            "file: (2699, 36)\n",
            "filter_qtl: (182, 36)\n",
            "filter_qtl: (99, 36)\n",
            "filte_hf: (98, 36)\n",
            "filter_nel: (56, 36)\n",
            "ins_qtlHN: (6, 6)\n",
            "ins_qtlHN50: (1, 6)\n",
            "Chromosome28\n",
            "file: (3494, 36)\n",
            "filter_qtl: (267, 36)\n",
            "filter_qtl: (209, 36)\n",
            "filte_hf: (203, 36)\n",
            "filter_nel: (185, 36)\n",
            "ins_qtlHN: (35, 6)\n",
            "ins_qtlHN50: (3, 6)\n",
            "Chromosome29\n",
            "file: (5017, 36)\n",
            "filter_qtl: (268, 36)\n",
            "filter_qtl: (168, 36)\n",
            "filte_hf: (164, 36)\n",
            "filter_nel: (121, 36)\n",
            "ins_qtlHN: (22, 6)\n",
            "ins_qtlHN50: (1, 6)\n",
            "ChromosomeX\n",
            "file: (5710, 36)\n",
            "filter_qtl: (29, 36)\n",
            "filter_qtl: (3, 36)\n",
            "filte_hf: (3, 36)\n",
            "filter_nel: (0, 36)\n",
            "ins_qtlHN: (0, 6)\n",
            "ins_qtlHN50: (0, 6)\n"
          ]
        }
      ]
    },
    {
      "cell_type": "code",
      "source": [
        "# Table preparations\n",
        "\n",
        "f1=pd.read_csv(\"/content/drive/MyDrive/Hereford_VarAnalysis/Hereford_chrVar/ins/1/ins_qtl50HN1.csv\")\n",
        "f2=pd.read_csv(\"/content/drive/MyDrive/Hereford_VarAnalysis/Hereford_chrVar/ins/2/ins_qtl50HN2.csv\")\n",
        "f3=pd.read_csv(\"/content/drive/MyDrive/Hereford_VarAnalysis/Hereford_chrVar/ins/3/ins_qtl50HN3.csv\")\n",
        "f4=pd.read_csv(\"/content/drive/MyDrive/Hereford_VarAnalysis/Hereford_chrVar/ins/4/ins_qtl50HN4.csv\")\n",
        "f5=pd.read_csv(\"/content/drive/MyDrive/Hereford_VarAnalysis/Hereford_chrVar/ins/5/ins_qtl50HN5.csv\")\n",
        "f6=pd.read_csv(\"/content/drive/MyDrive/Hereford_VarAnalysis/Hereford_chrVar/ins/6/ins_qtl50HN6.csv\")\n",
        "f7=pd.read_csv(\"/content/drive/MyDrive/Hereford_VarAnalysis/Hereford_chrVar/ins/7/ins_qtl50HN7.csv\")\n",
        "f8=pd.read_csv(\"/content/drive/MyDrive/Hereford_VarAnalysis/Hereford_chrVar/ins/8/ins_qtl50HN8.csv\")\n",
        "f9=pd.read_csv(\"/content/drive/MyDrive/Hereford_VarAnalysis/Hereford_chrVar/ins/9/ins_qtl50HN9.csv\")\n",
        "f10=pd.read_csv(\"/content/drive/MyDrive/Hereford_VarAnalysis/Hereford_chrVar/ins/10/ins_qtl50HN10.csv\")\n",
        "f11=pd.read_csv(\"/content/drive/MyDrive/Hereford_VarAnalysis/Hereford_chrVar/ins/11/ins_qtl50HN11.csv\")\n",
        "f12=pd.read_csv(\"/content/drive/MyDrive/Hereford_VarAnalysis/Hereford_chrVar/ins/12/ins_qtl50HN12.csv\")\n",
        "f13=pd.read_csv(\"/content/drive/MyDrive/Hereford_VarAnalysis/Hereford_chrVar/ins/13/ins_qtl50HN13.csv\")\n",
        "f14=pd.read_csv(\"/content/drive/MyDrive/Hereford_VarAnalysis/Hereford_chrVar/ins/14/ins_qtl50HN14.csv\")\n",
        "f15=pd.read_csv(\"/content/drive/MyDrive/Hereford_VarAnalysis/Hereford_chrVar/ins/15/ins_qtl50HN15.csv\")\n",
        "f16=pd.read_csv(\"/content/drive/MyDrive/Hereford_VarAnalysis/Hereford_chrVar/ins/16/ins_qtl50HN16.csv\")\n",
        "f17=pd.read_csv(\"/content/drive/MyDrive/Hereford_VarAnalysis/Hereford_chrVar/ins/17/ins_qtl50HN17.csv\")\n",
        "f18=pd.read_csv(\"/content/drive/MyDrive/Hereford_VarAnalysis/Hereford_chrVar/ins/18/ins_qtl50HN18.csv\")\n",
        "f19=pd.read_csv(\"/content/drive/MyDrive/Hereford_VarAnalysis/Hereford_chrVar/ins/19/ins_qtl50HN19.csv\")\n",
        "f20=pd.read_csv(\"/content/drive/MyDrive/Hereford_VarAnalysis/Hereford_chrVar/ins/20/ins_qtl50HN20.csv\")\n",
        "f21=pd.read_csv(\"/content/drive/MyDrive/Hereford_VarAnalysis/Hereford_chrVar/ins/21/ins_qtl50HN21.csv\")\n",
        "f22=pd.read_csv(\"/content/drive/MyDrive/Hereford_VarAnalysis/Hereford_chrVar/ins/22/ins_qtl50HN22.csv\")\n",
        "f23=pd.read_csv(\"/content/drive/MyDrive/Hereford_VarAnalysis/Hereford_chrVar/ins/23/ins_qtl50HN23.csv\")\n",
        "f24=pd.read_csv(\"/content/drive/MyDrive/Hereford_VarAnalysis/Hereford_chrVar/ins/24/ins_qtl50HN24.csv\")\n",
        "f25=pd.read_csv(\"/content/drive/MyDrive/Hereford_VarAnalysis/Hereford_chrVar/ins/25/ins_qtl50HN25.csv\")\n",
        "f26=pd.read_csv(\"/content/drive/MyDrive/Hereford_VarAnalysis/Hereford_chrVar/ins/26/ins_qtl50HN26.csv\")\n",
        "f27=pd.read_csv(\"/content/drive/MyDrive/Hereford_VarAnalysis/Hereford_chrVar/ins/27/ins_qtl50HN27.csv\")\n",
        "f28=pd.read_csv(\"/content/drive/MyDrive/Hereford_VarAnalysis/Hereford_chrVar/ins/28/ins_qtl50HN28.csv\")\n",
        "f29=pd.read_csv(\"/content/drive/MyDrive/Hereford_VarAnalysis/Hereford_chrVar/ins/29/ins_qtl50HN29.csv\")\n",
        "fX=pd.read_csv(\"/content/drive/MyDrive/Hereford_VarAnalysis/Hereford_chrVar/ins/X/ins_qtl50HNX.csv\")"
      ],
      "metadata": {
        "id": "TkfmyoAQT9zZ"
      },
      "execution_count": null,
      "outputs": []
    },
    {
      "cell_type": "code",
      "source": [
        "table_insqtl50HN=pd.DataFrame(columns=[\"Chromosome number\"]+list(f1))"
      ],
      "metadata": {
        "id": "sIrBegBWVAKj"
      },
      "execution_count": null,
      "outputs": []
    },
    {
      "cell_type": "code",
      "source": [
        "f1[\"Chromosome number\"]=1\n",
        "f2[\"Chromosome number\"]=2\n",
        "f3[\"Chromosome number\"]=3\n",
        "f4[\"Chromosome number\"]=4\n",
        "f5[\"Chromosome number\"]=5\n",
        "f6[\"Chromosome number\"]=6\n",
        "f7[\"Chromosome number\"]=7\n",
        "f8[\"Chromosome number\"]=8\n",
        "f9[\"Chromosome number\"]=9\n",
        "f10[\"Chromosome number\"]=10\n",
        "f11[\"Chromosome number\"]=11\n",
        "f12[\"Chromosome number\"]=12\n",
        "f13[\"Chromosome number\"]=13\n",
        "f14[\"Chromosome number\"]=14\n",
        "f15[\"Chromosome number\"]=15\n",
        "f16[\"Chromosome number\"]=16\n",
        "f17[\"Chromosome number\"]=17\n",
        "f18[\"Chromosome number\"]=18\n",
        "f19[\"Chromosome number\"]=19\n",
        "f20[\"Chromosome number\"]=20\n",
        "f21[\"Chromosome number\"]=21\n",
        "f22[\"Chromosome number\"]=22\n",
        "f23[\"Chromosome number\"]=23\n",
        "f24[\"Chromosome number\"]=24\n",
        "f25[\"Chromosome number\"]=25\n",
        "f26[\"Chromosome number\"]=26\n",
        "f27[\"Chromosome number\"]=27\n",
        "f28[\"Chromosome number\"]=28\n",
        "f29[\"Chromosome number\"]=29\n",
        "fX[\"Chromosome number\"]=\"X\""
      ],
      "metadata": {
        "id": "TU-Xcvt5VKFz"
      },
      "execution_count": null,
      "outputs": []
    },
    {
      "cell_type": "code",
      "source": [
        "table_insqtl50HN=pd.concat([table_insqtl50HN, f1, f2, f3, f4, f5, f6, f7, f8, f9, f10, f11, f12, f13, f14, f15, f16, f17, f18, f19, f20, f21, f22, f23, f24, f25, f26, f27, f28, f29, fX])"
      ],
      "metadata": {
        "id": "yn4JGQaTVPxM"
      },
      "execution_count": null,
      "outputs": []
    },
    {
      "cell_type": "code",
      "source": [
        "table_insqtl50HN.shape"
      ],
      "metadata": {
        "colab": {
          "base_uri": "https://localhost:8080/"
        },
        "id": "feRp0ZaOXqf0",
        "outputId": "d5c1ef7d-40e3-4cb9-a28e-c0aad1f6a640"
      },
      "execution_count": null,
      "outputs": [
        {
          "output_type": "execute_result",
          "data": {
            "text/plain": [
              "(37, 8)"
            ]
          },
          "metadata": {},
          "execution_count": 16
        }
      ]
    },
    {
      "cell_type": "code",
      "source": [
        "table_insqtl50HN"
      ],
      "metadata": {
        "colab": {
          "base_uri": "https://localhost:8080/",
          "height": 1000
        },
        "id": "gIUYA-OfPVCZ",
        "outputId": "a310ede9-5910-4142-ed43-f2444e856cef"
      },
      "execution_count": null,
      "outputs": [
        {
          "output_type": "execute_result",
          "data": {
            "text/plain": [
              "  Chromosome number Unnamed: 0     Symbol  \\\n",
              "0                 3          3      ASH1L   \n",
              "1                 3         13      LPAR3   \n",
              "0                 4         44     PTPRZ1   \n",
              "0                 6         34      PRDM5   \n",
              "0                 7         11     GEMIN5   \n",
              "1                 7         15      LSM11   \n",
              "2                 7         18      MUC16   \n",
              "0                 8          0   ADAMTSL1   \n",
              "1                 8         14      FRMD3   \n",
              "2                 8         27       INVS   \n",
              "0                 9         18       UTRN   \n",
              "0                10          1      AP3B1   \n",
              "0                11          1     COMMD1   \n",
              "0                12         18  LOC515333   \n",
              "1                12         22      RASA3   \n",
              "0                13         16      PLCB1   \n",
              "0                15          1      ACER3   \n",
              "1                15         26       SOX6   \n",
              "0                17          0    ANAPC10   \n",
              "1                17          3     CCDC60   \n",
              "0                18          2      CDH13   \n",
              "1                18         13     NECAB2   \n",
              "0                20          1      ADCY2   \n",
              "1                20         11     RICTOR   \n",
              "0                21          0      ABHD2   \n",
              "1                21          1   ADAMTSL3   \n",
              "2                21         11      FBLN5   \n",
              "0                22         10       GRM7   \n",
              "1                22         14     LANCL2   \n",
              "0                23          7      FARS2   \n",
              "0                24          1    LDLRAD4   \n",
              "0                26         13     PCDH15   \n",
              "0                27          4      TENM3   \n",
              "0                28          3       CHAT   \n",
              "1                28         14      GRID1   \n",
              "2                28         34      WDFY4   \n",
              "0                29         14       NOX4   \n",
              "\n",
              "                                                Name      NelLocus  \\\n",
              "0         ASH1 like histone lysine methyltransferase         ASH1L   \n",
              "1                   lysophosphatidic acid receptor 3         LPAR3   \n",
              "0      protein tyrosine phosphatase receptor type Z1        PTPRZ1   \n",
              "0                                    PR/SET domain 5         PRDM5   \n",
              "0         gem nuclear organelle associated protein 5        GEMIN5   \n",
              "1             LSM11, U7 small nuclear RNA associated         LSM11   \n",
              "2                  mucin 16, cell surface associated  LOC109561556   \n",
              "0                                      ADAMTS like 1      ADAMTSL1   \n",
              "1                           FERM domain containing 3         FRMD3   \n",
              "2                                           inversin          INVS   \n",
              "0                                           utrophin          UTRN   \n",
              "0   adaptor related protein complex 3 subunit beta 1         AP3B1   \n",
              "0              copper metabolism domain containing 1        COMMD1   \n",
              "0         ATP-binding cassette sub-family C member 4  LOC109566910   \n",
              "1                        RAS p21 protein activator 3         RASA3   \n",
              "0                             phospholipase C beta 1         PLCB1   \n",
              "0                              alkaline ceramidase 3         ACER3   \n",
              "1                     SRY-box transcription factor 6          SOX6   \n",
              "0              anaphase promoting complex subunit 10       ANAPC10   \n",
              "1                   coiled-coil domain containing 60        CCDC60   \n",
              "0                                        cadherin 13         CDH13   \n",
              "1       N-terminal EF-hand calcium binding protein 2        NECAB2   \n",
              "0                                adenylate cyclase 2         ADCY2   \n",
              "1      RPTOR independent companion of MTOR complex 2        RICTOR   \n",
              "0  abhydrolase domain containing 2, acylglycerol ...         ABHD2   \n",
              "1                                      ADAMTS like 3      ADAMTSL3   \n",
              "2                                          fibulin 5         FBLN5   \n",
              "0                  glutamate metabotropic receptor 7  LOC109575846   \n",
              "1              LanC like glutathione S-transferase 2        LANCL2   \n",
              "0      phenylalanyl-tRNA synthetase 2, mitochondrial         FARS2   \n",
              "0  low density lipoprotein receptor class A domai...       LDLRAD4   \n",
              "0                           protocadherin related 15        PCDH15   \n",
              "0                   teneurin transmembrane protein 3  LOC109553472   \n",
              "0                        choline O-acetyltransferase          CHAT   \n",
              "1  glutamate ionotropic receptor delta type subun...         GRID1   \n",
              "2                               WDFY family member 4         WDFY4   \n",
              "0                                    NADPH oxidase 4          NOX4   \n",
              "\n",
              "                                             NelProt  LOV  \\\n",
              "0  PREDICTED: histone-lysine N-methyltransferase ...   61   \n",
              "1        PREDICTED: lysophosphatidic acid receptor 3   56   \n",
              "0  PREDICTED: receptor-type tyrosine-protein phos...   67   \n",
              "0  PREDICTED: PR domain zinc finger protein 5 iso...   96   \n",
              "0     PREDICTED: gem-associated protein 5 isoform X4   54   \n",
              "1  PREDICTED: U7 snRNA-associated Sm-like protein...   63   \n",
              "2                           PREDICTED: mucin-16-like  111   \n",
              "0                   PREDICTED: ADAMTS-like protein 1   68   \n",
              "1  PREDICTED: LOW QUALITY PROTEIN: FERM domain-co...   86   \n",
              "2                     PREDICTED: inversin isoform X2  266   \n",
              "0                                PREDICTED: utrophin   65   \n",
              "0             PREDICTED: AP-3 complex subunit beta-1  181   \n",
              "0  PREDICTED: COMM domain-containing protein 1 is...   75   \n",
              "0  PREDICTED: multidrug resistance-associated pro...   62   \n",
              "1  PREDICTED: ras GTPase-activating protein 3 iso...   60   \n",
              "0  PREDICTED: 1-phosphatidylinositol 4,5-bisphosp...   81   \n",
              "0        PREDICTED: alkaline ceramidase 3 isoform X2   59   \n",
              "1   PREDICTED: transcription factor SOX-6 isoform X4   80   \n",
              "0   PREDICTED: anaphase-promoting complex subunit 10   74   \n",
              "1  PREDICTED: coiled-coil domain-containing prote...   56   \n",
              "0                             PREDICTED: cadherin-13   72   \n",
              "1  PREDICTED: N-terminal EF-hand calcium-binding ...   57   \n",
              "0                PREDICTED: adenylate cyclase type 2   68   \n",
              "1  PREDICTED: rapamycin-insensitive companion of ...   73   \n",
              "0           PREDICTED: monoacylglycerol lipase ABHD2  105   \n",
              "1                   PREDICTED: ADAMTS-like protein 3   78   \n",
              "2                    PREDICTED: fibulin-5 isoform X2   85   \n",
              "0       PREDICTED: metabotropic glutamate receptor 7   65   \n",
              "1          PREDICTED: lanC-like protein 2 isoform X2   52   \n",
              "0  PREDICTED: phenylalanine--tRNA ligase, mitocho...   51   \n",
              "0  PREDICTED: low-density lipoprotein receptor cl...   61   \n",
              "0                        PREDICTED: protocadherin-15   50   \n",
              "0                   PREDICTED: teneurin-3 isoform X1   62   \n",
              "0             PREDICTED: choline O-acetyltransferase   58   \n",
              "1  PREDICTED: glutamate receptor ionotropic, delta-1   99   \n",
              "2  PREDICTED: WD repeat- and FYVE domain-containi...   61   \n",
              "0              PREDICTED: NADPH oxidase 4 isoform X1   51   \n",
              "\n",
              "                                           QTL Class  \n",
              "0                                         Health_QTL  \n",
              "1                           Reproduction_Association  \n",
              "0                       Meat_and_Carcass_Association  \n",
              "0         Reproduction_Association, Milk_Association  \n",
              "0  Meat_and_Carcass_Association, Production_Assoc...  \n",
              "1                                 Health_Association  \n",
              "2           Milk_Association, Production_Association  \n",
              "0  Exterior_Association, Health_Association, Milk...  \n",
              "1  Reproduction_Association, Exterior_Association...  \n",
              "2   Meat_and_Carcass_Association, Health_Association  \n",
              "0                           Reproduction_Association  \n",
              "0  Exterior_Association, Health_Association, Meat...  \n",
              "0                             Production_Association  \n",
              "0  Health_QTL, Health_Association, Milk_Associati...  \n",
              "1  Exterior_Association, Health_Association, Prod...  \n",
              "0  Exterior_Association, Milk_Association, Health...  \n",
              "0                       Meat_and_Carcass_Association  \n",
              "1  Meat_and_Carcass_Association, Production_Assoc...  \n",
              "0                                 Health_Association  \n",
              "1  Meat_and_Carcass_Association, Milk_Association...  \n",
              "0  Milk_Association, Production_Association, Prod...  \n",
              "1                                   Milk_Association  \n",
              "0                                   Milk_Association  \n",
              "1  Meat_and_Carcass_Association, Milk_Association...  \n",
              "0  Exterior_Association, Milk_Association, Meat_a...  \n",
              "1  Meat_and_Carcass_Association, Health_Associati...  \n",
              "2  Reproduction_Association, Exterior_Association...  \n",
              "0  Exterior_Association, Health_Association, Milk...  \n",
              "1                                   Milk_Association  \n",
              "0  Meat_and_Carcass_Association, Milk_Association...  \n",
              "0       Reproduction_Association, Health_Association  \n",
              "0  Reproduction_Association, Health_Association, ...  \n",
              "0  Exterior_Association, Milk_Association, Meat_a...  \n",
              "0                                   Reproduction_QTL  \n",
              "1       Meat_and_Carcass_Association, Production_QTL  \n",
              "2               Health_Association, Milk_Association  \n",
              "0  Reproduction_Association, Exterior_Association...  "
            ],
            "text/html": [
              "\n",
              "  <div id=\"df-8ff25170-9b0d-44a9-931a-aa2fc492dff8\" class=\"colab-df-container\">\n",
              "    <div>\n",
              "<style scoped>\n",
              "    .dataframe tbody tr th:only-of-type {\n",
              "        vertical-align: middle;\n",
              "    }\n",
              "\n",
              "    .dataframe tbody tr th {\n",
              "        vertical-align: top;\n",
              "    }\n",
              "\n",
              "    .dataframe thead th {\n",
              "        text-align: right;\n",
              "    }\n",
              "</style>\n",
              "<table border=\"1\" class=\"dataframe\">\n",
              "  <thead>\n",
              "    <tr style=\"text-align: right;\">\n",
              "      <th></th>\n",
              "      <th>Chromosome number</th>\n",
              "      <th>Unnamed: 0</th>\n",
              "      <th>Symbol</th>\n",
              "      <th>Name</th>\n",
              "      <th>NelLocus</th>\n",
              "      <th>NelProt</th>\n",
              "      <th>LOV</th>\n",
              "      <th>QTL Class</th>\n",
              "    </tr>\n",
              "  </thead>\n",
              "  <tbody>\n",
              "    <tr>\n",
              "      <th>0</th>\n",
              "      <td>3</td>\n",
              "      <td>3</td>\n",
              "      <td>ASH1L</td>\n",
              "      <td>ASH1 like histone lysine methyltransferase</td>\n",
              "      <td>ASH1L</td>\n",
              "      <td>PREDICTED: histone-lysine N-methyltransferase ...</td>\n",
              "      <td>61</td>\n",
              "      <td>Health_QTL</td>\n",
              "    </tr>\n",
              "    <tr>\n",
              "      <th>1</th>\n",
              "      <td>3</td>\n",
              "      <td>13</td>\n",
              "      <td>LPAR3</td>\n",
              "      <td>lysophosphatidic acid receptor 3</td>\n",
              "      <td>LPAR3</td>\n",
              "      <td>PREDICTED: lysophosphatidic acid receptor 3</td>\n",
              "      <td>56</td>\n",
              "      <td>Reproduction_Association</td>\n",
              "    </tr>\n",
              "    <tr>\n",
              "      <th>0</th>\n",
              "      <td>4</td>\n",
              "      <td>44</td>\n",
              "      <td>PTPRZ1</td>\n",
              "      <td>protein tyrosine phosphatase receptor type Z1</td>\n",
              "      <td>PTPRZ1</td>\n",
              "      <td>PREDICTED: receptor-type tyrosine-protein phos...</td>\n",
              "      <td>67</td>\n",
              "      <td>Meat_and_Carcass_Association</td>\n",
              "    </tr>\n",
              "    <tr>\n",
              "      <th>0</th>\n",
              "      <td>6</td>\n",
              "      <td>34</td>\n",
              "      <td>PRDM5</td>\n",
              "      <td>PR/SET domain 5</td>\n",
              "      <td>PRDM5</td>\n",
              "      <td>PREDICTED: PR domain zinc finger protein 5 iso...</td>\n",
              "      <td>96</td>\n",
              "      <td>Reproduction_Association, Milk_Association</td>\n",
              "    </tr>\n",
              "    <tr>\n",
              "      <th>0</th>\n",
              "      <td>7</td>\n",
              "      <td>11</td>\n",
              "      <td>GEMIN5</td>\n",
              "      <td>gem nuclear organelle associated protein 5</td>\n",
              "      <td>GEMIN5</td>\n",
              "      <td>PREDICTED: gem-associated protein 5 isoform X4</td>\n",
              "      <td>54</td>\n",
              "      <td>Meat_and_Carcass_Association, Production_Assoc...</td>\n",
              "    </tr>\n",
              "    <tr>\n",
              "      <th>1</th>\n",
              "      <td>7</td>\n",
              "      <td>15</td>\n",
              "      <td>LSM11</td>\n",
              "      <td>LSM11, U7 small nuclear RNA associated</td>\n",
              "      <td>LSM11</td>\n",
              "      <td>PREDICTED: U7 snRNA-associated Sm-like protein...</td>\n",
              "      <td>63</td>\n",
              "      <td>Health_Association</td>\n",
              "    </tr>\n",
              "    <tr>\n",
              "      <th>2</th>\n",
              "      <td>7</td>\n",
              "      <td>18</td>\n",
              "      <td>MUC16</td>\n",
              "      <td>mucin 16, cell surface associated</td>\n",
              "      <td>LOC109561556</td>\n",
              "      <td>PREDICTED: mucin-16-like</td>\n",
              "      <td>111</td>\n",
              "      <td>Milk_Association, Production_Association</td>\n",
              "    </tr>\n",
              "    <tr>\n",
              "      <th>0</th>\n",
              "      <td>8</td>\n",
              "      <td>0</td>\n",
              "      <td>ADAMTSL1</td>\n",
              "      <td>ADAMTS like 1</td>\n",
              "      <td>ADAMTSL1</td>\n",
              "      <td>PREDICTED: ADAMTS-like protein 1</td>\n",
              "      <td>68</td>\n",
              "      <td>Exterior_Association, Health_Association, Milk...</td>\n",
              "    </tr>\n",
              "    <tr>\n",
              "      <th>1</th>\n",
              "      <td>8</td>\n",
              "      <td>14</td>\n",
              "      <td>FRMD3</td>\n",
              "      <td>FERM domain containing 3</td>\n",
              "      <td>FRMD3</td>\n",
              "      <td>PREDICTED: LOW QUALITY PROTEIN: FERM domain-co...</td>\n",
              "      <td>86</td>\n",
              "      <td>Reproduction_Association, Exterior_Association...</td>\n",
              "    </tr>\n",
              "    <tr>\n",
              "      <th>2</th>\n",
              "      <td>8</td>\n",
              "      <td>27</td>\n",
              "      <td>INVS</td>\n",
              "      <td>inversin</td>\n",
              "      <td>INVS</td>\n",
              "      <td>PREDICTED: inversin isoform X2</td>\n",
              "      <td>266</td>\n",
              "      <td>Meat_and_Carcass_Association, Health_Association</td>\n",
              "    </tr>\n",
              "    <tr>\n",
              "      <th>0</th>\n",
              "      <td>9</td>\n",
              "      <td>18</td>\n",
              "      <td>UTRN</td>\n",
              "      <td>utrophin</td>\n",
              "      <td>UTRN</td>\n",
              "      <td>PREDICTED: utrophin</td>\n",
              "      <td>65</td>\n",
              "      <td>Reproduction_Association</td>\n",
              "    </tr>\n",
              "    <tr>\n",
              "      <th>0</th>\n",
              "      <td>10</td>\n",
              "      <td>1</td>\n",
              "      <td>AP3B1</td>\n",
              "      <td>adaptor related protein complex 3 subunit beta 1</td>\n",
              "      <td>AP3B1</td>\n",
              "      <td>PREDICTED: AP-3 complex subunit beta-1</td>\n",
              "      <td>181</td>\n",
              "      <td>Exterior_Association, Health_Association, Meat...</td>\n",
              "    </tr>\n",
              "    <tr>\n",
              "      <th>0</th>\n",
              "      <td>11</td>\n",
              "      <td>1</td>\n",
              "      <td>COMMD1</td>\n",
              "      <td>copper metabolism domain containing 1</td>\n",
              "      <td>COMMD1</td>\n",
              "      <td>PREDICTED: COMM domain-containing protein 1 is...</td>\n",
              "      <td>75</td>\n",
              "      <td>Production_Association</td>\n",
              "    </tr>\n",
              "    <tr>\n",
              "      <th>0</th>\n",
              "      <td>12</td>\n",
              "      <td>18</td>\n",
              "      <td>LOC515333</td>\n",
              "      <td>ATP-binding cassette sub-family C member 4</td>\n",
              "      <td>LOC109566910</td>\n",
              "      <td>PREDICTED: multidrug resistance-associated pro...</td>\n",
              "      <td>62</td>\n",
              "      <td>Health_QTL, Health_Association, Milk_Associati...</td>\n",
              "    </tr>\n",
              "    <tr>\n",
              "      <th>1</th>\n",
              "      <td>12</td>\n",
              "      <td>22</td>\n",
              "      <td>RASA3</td>\n",
              "      <td>RAS p21 protein activator 3</td>\n",
              "      <td>RASA3</td>\n",
              "      <td>PREDICTED: ras GTPase-activating protein 3 iso...</td>\n",
              "      <td>60</td>\n",
              "      <td>Exterior_Association, Health_Association, Prod...</td>\n",
              "    </tr>\n",
              "    <tr>\n",
              "      <th>0</th>\n",
              "      <td>13</td>\n",
              "      <td>16</td>\n",
              "      <td>PLCB1</td>\n",
              "      <td>phospholipase C beta 1</td>\n",
              "      <td>PLCB1</td>\n",
              "      <td>PREDICTED: 1-phosphatidylinositol 4,5-bisphosp...</td>\n",
              "      <td>81</td>\n",
              "      <td>Exterior_Association, Milk_Association, Health...</td>\n",
              "    </tr>\n",
              "    <tr>\n",
              "      <th>0</th>\n",
              "      <td>15</td>\n",
              "      <td>1</td>\n",
              "      <td>ACER3</td>\n",
              "      <td>alkaline ceramidase 3</td>\n",
              "      <td>ACER3</td>\n",
              "      <td>PREDICTED: alkaline ceramidase 3 isoform X2</td>\n",
              "      <td>59</td>\n",
              "      <td>Meat_and_Carcass_Association</td>\n",
              "    </tr>\n",
              "    <tr>\n",
              "      <th>1</th>\n",
              "      <td>15</td>\n",
              "      <td>26</td>\n",
              "      <td>SOX6</td>\n",
              "      <td>SRY-box transcription factor 6</td>\n",
              "      <td>SOX6</td>\n",
              "      <td>PREDICTED: transcription factor SOX-6 isoform X4</td>\n",
              "      <td>80</td>\n",
              "      <td>Meat_and_Carcass_Association, Production_Assoc...</td>\n",
              "    </tr>\n",
              "    <tr>\n",
              "      <th>0</th>\n",
              "      <td>17</td>\n",
              "      <td>0</td>\n",
              "      <td>ANAPC10</td>\n",
              "      <td>anaphase promoting complex subunit 10</td>\n",
              "      <td>ANAPC10</td>\n",
              "      <td>PREDICTED: anaphase-promoting complex subunit 10</td>\n",
              "      <td>74</td>\n",
              "      <td>Health_Association</td>\n",
              "    </tr>\n",
              "    <tr>\n",
              "      <th>1</th>\n",
              "      <td>17</td>\n",
              "      <td>3</td>\n",
              "      <td>CCDC60</td>\n",
              "      <td>coiled-coil domain containing 60</td>\n",
              "      <td>CCDC60</td>\n",
              "      <td>PREDICTED: coiled-coil domain-containing prote...</td>\n",
              "      <td>56</td>\n",
              "      <td>Meat_and_Carcass_Association, Milk_Association...</td>\n",
              "    </tr>\n",
              "    <tr>\n",
              "      <th>0</th>\n",
              "      <td>18</td>\n",
              "      <td>2</td>\n",
              "      <td>CDH13</td>\n",
              "      <td>cadherin 13</td>\n",
              "      <td>CDH13</td>\n",
              "      <td>PREDICTED: cadherin-13</td>\n",
              "      <td>72</td>\n",
              "      <td>Milk_Association, Production_Association, Prod...</td>\n",
              "    </tr>\n",
              "    <tr>\n",
              "      <th>1</th>\n",
              "      <td>18</td>\n",
              "      <td>13</td>\n",
              "      <td>NECAB2</td>\n",
              "      <td>N-terminal EF-hand calcium binding protein 2</td>\n",
              "      <td>NECAB2</td>\n",
              "      <td>PREDICTED: N-terminal EF-hand calcium-binding ...</td>\n",
              "      <td>57</td>\n",
              "      <td>Milk_Association</td>\n",
              "    </tr>\n",
              "    <tr>\n",
              "      <th>0</th>\n",
              "      <td>20</td>\n",
              "      <td>1</td>\n",
              "      <td>ADCY2</td>\n",
              "      <td>adenylate cyclase 2</td>\n",
              "      <td>ADCY2</td>\n",
              "      <td>PREDICTED: adenylate cyclase type 2</td>\n",
              "      <td>68</td>\n",
              "      <td>Milk_Association</td>\n",
              "    </tr>\n",
              "    <tr>\n",
              "      <th>1</th>\n",
              "      <td>20</td>\n",
              "      <td>11</td>\n",
              "      <td>RICTOR</td>\n",
              "      <td>RPTOR independent companion of MTOR complex 2</td>\n",
              "      <td>RICTOR</td>\n",
              "      <td>PREDICTED: rapamycin-insensitive companion of ...</td>\n",
              "      <td>73</td>\n",
              "      <td>Meat_and_Carcass_Association, Milk_Association...</td>\n",
              "    </tr>\n",
              "    <tr>\n",
              "      <th>0</th>\n",
              "      <td>21</td>\n",
              "      <td>0</td>\n",
              "      <td>ABHD2</td>\n",
              "      <td>abhydrolase domain containing 2, acylglycerol ...</td>\n",
              "      <td>ABHD2</td>\n",
              "      <td>PREDICTED: monoacylglycerol lipase ABHD2</td>\n",
              "      <td>105</td>\n",
              "      <td>Exterior_Association, Milk_Association, Meat_a...</td>\n",
              "    </tr>\n",
              "    <tr>\n",
              "      <th>1</th>\n",
              "      <td>21</td>\n",
              "      <td>1</td>\n",
              "      <td>ADAMTSL3</td>\n",
              "      <td>ADAMTS like 3</td>\n",
              "      <td>ADAMTSL3</td>\n",
              "      <td>PREDICTED: ADAMTS-like protein 3</td>\n",
              "      <td>78</td>\n",
              "      <td>Meat_and_Carcass_Association, Health_Associati...</td>\n",
              "    </tr>\n",
              "    <tr>\n",
              "      <th>2</th>\n",
              "      <td>21</td>\n",
              "      <td>11</td>\n",
              "      <td>FBLN5</td>\n",
              "      <td>fibulin 5</td>\n",
              "      <td>FBLN5</td>\n",
              "      <td>PREDICTED: fibulin-5 isoform X2</td>\n",
              "      <td>85</td>\n",
              "      <td>Reproduction_Association, Exterior_Association...</td>\n",
              "    </tr>\n",
              "    <tr>\n",
              "      <th>0</th>\n",
              "      <td>22</td>\n",
              "      <td>10</td>\n",
              "      <td>GRM7</td>\n",
              "      <td>glutamate metabotropic receptor 7</td>\n",
              "      <td>LOC109575846</td>\n",
              "      <td>PREDICTED: metabotropic glutamate receptor 7</td>\n",
              "      <td>65</td>\n",
              "      <td>Exterior_Association, Health_Association, Milk...</td>\n",
              "    </tr>\n",
              "    <tr>\n",
              "      <th>1</th>\n",
              "      <td>22</td>\n",
              "      <td>14</td>\n",
              "      <td>LANCL2</td>\n",
              "      <td>LanC like glutathione S-transferase 2</td>\n",
              "      <td>LANCL2</td>\n",
              "      <td>PREDICTED: lanC-like protein 2 isoform X2</td>\n",
              "      <td>52</td>\n",
              "      <td>Milk_Association</td>\n",
              "    </tr>\n",
              "    <tr>\n",
              "      <th>0</th>\n",
              "      <td>23</td>\n",
              "      <td>7</td>\n",
              "      <td>FARS2</td>\n",
              "      <td>phenylalanyl-tRNA synthetase 2, mitochondrial</td>\n",
              "      <td>FARS2</td>\n",
              "      <td>PREDICTED: phenylalanine--tRNA ligase, mitocho...</td>\n",
              "      <td>51</td>\n",
              "      <td>Meat_and_Carcass_Association, Milk_Association...</td>\n",
              "    </tr>\n",
              "    <tr>\n",
              "      <th>0</th>\n",
              "      <td>24</td>\n",
              "      <td>1</td>\n",
              "      <td>LDLRAD4</td>\n",
              "      <td>low density lipoprotein receptor class A domai...</td>\n",
              "      <td>LDLRAD4</td>\n",
              "      <td>PREDICTED: low-density lipoprotein receptor cl...</td>\n",
              "      <td>61</td>\n",
              "      <td>Reproduction_Association, Health_Association</td>\n",
              "    </tr>\n",
              "    <tr>\n",
              "      <th>0</th>\n",
              "      <td>26</td>\n",
              "      <td>13</td>\n",
              "      <td>PCDH15</td>\n",
              "      <td>protocadherin related 15</td>\n",
              "      <td>PCDH15</td>\n",
              "      <td>PREDICTED: protocadherin-15</td>\n",
              "      <td>50</td>\n",
              "      <td>Reproduction_Association, Health_Association, ...</td>\n",
              "    </tr>\n",
              "    <tr>\n",
              "      <th>0</th>\n",
              "      <td>27</td>\n",
              "      <td>4</td>\n",
              "      <td>TENM3</td>\n",
              "      <td>teneurin transmembrane protein 3</td>\n",
              "      <td>LOC109553472</td>\n",
              "      <td>PREDICTED: teneurin-3 isoform X1</td>\n",
              "      <td>62</td>\n",
              "      <td>Exterior_Association, Milk_Association, Meat_a...</td>\n",
              "    </tr>\n",
              "    <tr>\n",
              "      <th>0</th>\n",
              "      <td>28</td>\n",
              "      <td>3</td>\n",
              "      <td>CHAT</td>\n",
              "      <td>choline O-acetyltransferase</td>\n",
              "      <td>CHAT</td>\n",
              "      <td>PREDICTED: choline O-acetyltransferase</td>\n",
              "      <td>58</td>\n",
              "      <td>Reproduction_QTL</td>\n",
              "    </tr>\n",
              "    <tr>\n",
              "      <th>1</th>\n",
              "      <td>28</td>\n",
              "      <td>14</td>\n",
              "      <td>GRID1</td>\n",
              "      <td>glutamate ionotropic receptor delta type subun...</td>\n",
              "      <td>GRID1</td>\n",
              "      <td>PREDICTED: glutamate receptor ionotropic, delta-1</td>\n",
              "      <td>99</td>\n",
              "      <td>Meat_and_Carcass_Association, Production_QTL</td>\n",
              "    </tr>\n",
              "    <tr>\n",
              "      <th>2</th>\n",
              "      <td>28</td>\n",
              "      <td>34</td>\n",
              "      <td>WDFY4</td>\n",
              "      <td>WDFY family member 4</td>\n",
              "      <td>WDFY4</td>\n",
              "      <td>PREDICTED: WD repeat- and FYVE domain-containi...</td>\n",
              "      <td>61</td>\n",
              "      <td>Health_Association, Milk_Association</td>\n",
              "    </tr>\n",
              "    <tr>\n",
              "      <th>0</th>\n",
              "      <td>29</td>\n",
              "      <td>14</td>\n",
              "      <td>NOX4</td>\n",
              "      <td>NADPH oxidase 4</td>\n",
              "      <td>NOX4</td>\n",
              "      <td>PREDICTED: NADPH oxidase 4 isoform X1</td>\n",
              "      <td>51</td>\n",
              "      <td>Reproduction_Association, Exterior_Association...</td>\n",
              "    </tr>\n",
              "  </tbody>\n",
              "</table>\n",
              "</div>\n",
              "    <div class=\"colab-df-buttons\">\n",
              "\n",
              "  <div class=\"colab-df-container\">\n",
              "    <button class=\"colab-df-convert\" onclick=\"convertToInteractive('df-8ff25170-9b0d-44a9-931a-aa2fc492dff8')\"\n",
              "            title=\"Convert this dataframe to an interactive table.\"\n",
              "            style=\"display:none;\">\n",
              "\n",
              "  <svg xmlns=\"http://www.w3.org/2000/svg\" height=\"24px\" viewBox=\"0 -960 960 960\">\n",
              "    <path d=\"M120-120v-720h720v720H120Zm60-500h600v-160H180v160Zm220 220h160v-160H400v160Zm0 220h160v-160H400v160ZM180-400h160v-160H180v160Zm440 0h160v-160H620v160ZM180-180h160v-160H180v160Zm440 0h160v-160H620v160Z\"/>\n",
              "  </svg>\n",
              "    </button>\n",
              "\n",
              "  <style>\n",
              "    .colab-df-container {\n",
              "      display:flex;\n",
              "      gap: 12px;\n",
              "    }\n",
              "\n",
              "    .colab-df-convert {\n",
              "      background-color: #E8F0FE;\n",
              "      border: none;\n",
              "      border-radius: 50%;\n",
              "      cursor: pointer;\n",
              "      display: none;\n",
              "      fill: #1967D2;\n",
              "      height: 32px;\n",
              "      padding: 0 0 0 0;\n",
              "      width: 32px;\n",
              "    }\n",
              "\n",
              "    .colab-df-convert:hover {\n",
              "      background-color: #E2EBFA;\n",
              "      box-shadow: 0px 1px 2px rgba(60, 64, 67, 0.3), 0px 1px 3px 1px rgba(60, 64, 67, 0.15);\n",
              "      fill: #174EA6;\n",
              "    }\n",
              "\n",
              "    .colab-df-buttons div {\n",
              "      margin-bottom: 4px;\n",
              "    }\n",
              "\n",
              "    [theme=dark] .colab-df-convert {\n",
              "      background-color: #3B4455;\n",
              "      fill: #D2E3FC;\n",
              "    }\n",
              "\n",
              "    [theme=dark] .colab-df-convert:hover {\n",
              "      background-color: #434B5C;\n",
              "      box-shadow: 0px 1px 3px 1px rgba(0, 0, 0, 0.15);\n",
              "      filter: drop-shadow(0px 1px 2px rgba(0, 0, 0, 0.3));\n",
              "      fill: #FFFFFF;\n",
              "    }\n",
              "  </style>\n",
              "\n",
              "    <script>\n",
              "      const buttonEl =\n",
              "        document.querySelector('#df-8ff25170-9b0d-44a9-931a-aa2fc492dff8 button.colab-df-convert');\n",
              "      buttonEl.style.display =\n",
              "        google.colab.kernel.accessAllowed ? 'block' : 'none';\n",
              "\n",
              "      async function convertToInteractive(key) {\n",
              "        const element = document.querySelector('#df-8ff25170-9b0d-44a9-931a-aa2fc492dff8');\n",
              "        const dataTable =\n",
              "          await google.colab.kernel.invokeFunction('convertToInteractive',\n",
              "                                                    [key], {});\n",
              "        if (!dataTable) return;\n",
              "\n",
              "        const docLinkHtml = 'Like what you see? Visit the ' +\n",
              "          '<a target=\"_blank\" href=https://colab.research.google.com/notebooks/data_table.ipynb>data table notebook</a>'\n",
              "          + ' to learn more about interactive tables.';\n",
              "        element.innerHTML = '';\n",
              "        dataTable['output_type'] = 'display_data';\n",
              "        await google.colab.output.renderOutput(dataTable, element);\n",
              "        const docLink = document.createElement('div');\n",
              "        docLink.innerHTML = docLinkHtml;\n",
              "        element.appendChild(docLink);\n",
              "      }\n",
              "    </script>\n",
              "  </div>\n",
              "\n",
              "\n",
              "<div id=\"df-3a1df847-7251-4eeb-a534-52553b4061db\">\n",
              "  <button class=\"colab-df-quickchart\" onclick=\"quickchart('df-3a1df847-7251-4eeb-a534-52553b4061db')\"\n",
              "            title=\"Suggest charts\"\n",
              "            style=\"display:none;\">\n",
              "\n",
              "<svg xmlns=\"http://www.w3.org/2000/svg\" height=\"24px\"viewBox=\"0 0 24 24\"\n",
              "     width=\"24px\">\n",
              "    <g>\n",
              "        <path d=\"M19 3H5c-1.1 0-2 .9-2 2v14c0 1.1.9 2 2 2h14c1.1 0 2-.9 2-2V5c0-1.1-.9-2-2-2zM9 17H7v-7h2v7zm4 0h-2V7h2v10zm4 0h-2v-4h2v4z\"/>\n",
              "    </g>\n",
              "</svg>\n",
              "  </button>\n",
              "\n",
              "<style>\n",
              "  .colab-df-quickchart {\n",
              "      --bg-color: #E8F0FE;\n",
              "      --fill-color: #1967D2;\n",
              "      --hover-bg-color: #E2EBFA;\n",
              "      --hover-fill-color: #174EA6;\n",
              "      --disabled-fill-color: #AAA;\n",
              "      --disabled-bg-color: #DDD;\n",
              "  }\n",
              "\n",
              "  [theme=dark] .colab-df-quickchart {\n",
              "      --bg-color: #3B4455;\n",
              "      --fill-color: #D2E3FC;\n",
              "      --hover-bg-color: #434B5C;\n",
              "      --hover-fill-color: #FFFFFF;\n",
              "      --disabled-bg-color: #3B4455;\n",
              "      --disabled-fill-color: #666;\n",
              "  }\n",
              "\n",
              "  .colab-df-quickchart {\n",
              "    background-color: var(--bg-color);\n",
              "    border: none;\n",
              "    border-radius: 50%;\n",
              "    cursor: pointer;\n",
              "    display: none;\n",
              "    fill: var(--fill-color);\n",
              "    height: 32px;\n",
              "    padding: 0;\n",
              "    width: 32px;\n",
              "  }\n",
              "\n",
              "  .colab-df-quickchart:hover {\n",
              "    background-color: var(--hover-bg-color);\n",
              "    box-shadow: 0 1px 2px rgba(60, 64, 67, 0.3), 0 1px 3px 1px rgba(60, 64, 67, 0.15);\n",
              "    fill: var(--button-hover-fill-color);\n",
              "  }\n",
              "\n",
              "  .colab-df-quickchart-complete:disabled,\n",
              "  .colab-df-quickchart-complete:disabled:hover {\n",
              "    background-color: var(--disabled-bg-color);\n",
              "    fill: var(--disabled-fill-color);\n",
              "    box-shadow: none;\n",
              "  }\n",
              "\n",
              "  .colab-df-spinner {\n",
              "    border: 2px solid var(--fill-color);\n",
              "    border-color: transparent;\n",
              "    border-bottom-color: var(--fill-color);\n",
              "    animation:\n",
              "      spin 1s steps(1) infinite;\n",
              "  }\n",
              "\n",
              "  @keyframes spin {\n",
              "    0% {\n",
              "      border-color: transparent;\n",
              "      border-bottom-color: var(--fill-color);\n",
              "      border-left-color: var(--fill-color);\n",
              "    }\n",
              "    20% {\n",
              "      border-color: transparent;\n",
              "      border-left-color: var(--fill-color);\n",
              "      border-top-color: var(--fill-color);\n",
              "    }\n",
              "    30% {\n",
              "      border-color: transparent;\n",
              "      border-left-color: var(--fill-color);\n",
              "      border-top-color: var(--fill-color);\n",
              "      border-right-color: var(--fill-color);\n",
              "    }\n",
              "    40% {\n",
              "      border-color: transparent;\n",
              "      border-right-color: var(--fill-color);\n",
              "      border-top-color: var(--fill-color);\n",
              "    }\n",
              "    60% {\n",
              "      border-color: transparent;\n",
              "      border-right-color: var(--fill-color);\n",
              "    }\n",
              "    80% {\n",
              "      border-color: transparent;\n",
              "      border-right-color: var(--fill-color);\n",
              "      border-bottom-color: var(--fill-color);\n",
              "    }\n",
              "    90% {\n",
              "      border-color: transparent;\n",
              "      border-bottom-color: var(--fill-color);\n",
              "    }\n",
              "  }\n",
              "</style>\n",
              "\n",
              "  <script>\n",
              "    async function quickchart(key) {\n",
              "      const quickchartButtonEl =\n",
              "        document.querySelector('#' + key + ' button');\n",
              "      quickchartButtonEl.disabled = true;  // To prevent multiple clicks.\n",
              "      quickchartButtonEl.classList.add('colab-df-spinner');\n",
              "      try {\n",
              "        const charts = await google.colab.kernel.invokeFunction(\n",
              "            'suggestCharts', [key], {});\n",
              "      } catch (error) {\n",
              "        console.error('Error during call to suggestCharts:', error);\n",
              "      }\n",
              "      quickchartButtonEl.classList.remove('colab-df-spinner');\n",
              "      quickchartButtonEl.classList.add('colab-df-quickchart-complete');\n",
              "    }\n",
              "    (() => {\n",
              "      let quickchartButtonEl =\n",
              "        document.querySelector('#df-3a1df847-7251-4eeb-a534-52553b4061db button');\n",
              "      quickchartButtonEl.style.display =\n",
              "        google.colab.kernel.accessAllowed ? 'block' : 'none';\n",
              "    })();\n",
              "  </script>\n",
              "</div>\n",
              "    </div>\n",
              "  </div>\n"
            ]
          },
          "metadata": {},
          "execution_count": 19
        }
      ]
    },
    {
      "cell_type": "code",
      "source": [
        "table_insqtl50HN.to_csv(\"table_insqtl50HN.csv\")\n",
        "shutil.copy(\"table_insqtl50HN.csv\", \"/content/drive/MyDrive/Hereford_VarAnalysis/Hereford_chrVar\")"
      ],
      "metadata": {
        "id": "L6Ax3m_cXw7C",
        "colab": {
          "base_uri": "https://localhost:8080/",
          "height": 36
        },
        "outputId": "8f3d75b9-4298-48e7-b990-b449611488df"
      },
      "execution_count": null,
      "outputs": [
        {
          "output_type": "execute_result",
          "data": {
            "text/plain": [
              "'/content/drive/MyDrive/Hereford_VarAnalysis/Hereford_chrVar/table_insqtl50HN.csv'"
            ],
            "application/vnd.google.colaboratory.intrinsic+json": {
              "type": "string"
            }
          },
          "metadata": {},
          "execution_count": 21
        }
      ]
    }
  ],
  "metadata": {
    "colab": {
      "provenance": []
    },
    "kernelspec": {
      "display_name": "Python 3",
      "name": "python3"
    },
    "language_info": {
      "name": "python"
    }
  },
  "nbformat": 4,
  "nbformat_minor": 0
}