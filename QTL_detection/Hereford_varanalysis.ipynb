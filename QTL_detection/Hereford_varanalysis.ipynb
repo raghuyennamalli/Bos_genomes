{
  "nbformat": 4,
  "nbformat_minor": 0,
  "metadata": {
    "colab": {
      "provenance": []
    },
    "kernelspec": {
      "name": "python3",
      "display_name": "Python 3"
    },
    "language_info": {
      "name": "python"
    }
  },
  "cells": [
    {
      "cell_type": "code",
      "execution_count": null,
      "metadata": {
        "id": "6QGUh5-NG0jR"
      },
      "outputs": [],
      "source": [
        "from google.colab import drive\n",
        "drive.mount(\"/content/drive\")"
      ]
    },
    {
      "cell_type": "code",
      "source": [
        "import pandas as pd\n",
        "import shutil\n",
        "from tqdm import tqdm"
      ],
      "metadata": {
        "id": "UvvZyDgW2t4J"
      },
      "execution_count": null,
      "outputs": []
    },
    {
      "cell_type": "code",
      "source": [
        "f1=pd.read_csv(\"/content/drive/MyDrive/Hereford_VarAnalysis/Hereford_raw_data/Hereford_protein.tsv\", delimiter='\\t')"
      ],
      "metadata": {
        "id": "MgrabN722wC0"
      },
      "execution_count": null,
      "outputs": []
    },
    {
      "cell_type": "code",
      "source": [
        "f1.columns"
      ],
      "metadata": {
        "colab": {
          "base_uri": "https://localhost:8080/"
        },
        "id": "PNObBdXu35jF",
        "outputId": "3a3e14f8-38f6-4dff-992c-18bdf8297b12"
      },
      "execution_count": null,
      "outputs": [
        {
          "output_type": "execute_result",
          "data": {
            "text/plain": [
              "Index(['Accession', 'Begin', 'End', 'Chromosome', 'Orientation', 'Name',\n",
              "       'Symbol', 'Gene ID', 'Gene Type', 'Transcripts accession',\n",
              "       'Protein accession', 'Protein length', 'Locus tag'],\n",
              "      dtype='object')"
            ]
          },
          "metadata": {},
          "execution_count": 6
        }
      ]
    },
    {
      "cell_type": "code",
      "source": [
        "unique_chr=f1[\"Chromosome\"].unique()\n",
        "unique_chr"
      ],
      "metadata": {
        "colab": {
          "base_uri": "https://localhost:8080/"
        },
        "id": "Sp8Fq-wA38BT",
        "outputId": "84728e94-9d1c-4d5a-96de-10addd323d06"
      },
      "execution_count": null,
      "outputs": [
        {
          "output_type": "execute_result",
          "data": {
            "text/plain": [
              "array(['MT', '1', '2', '3', '4', '5', '6', '7', '8', '9', '10', '11',\n",
              "       '12', '13', '14', '15', '16', '17', '18', '19', '20', '21', '22',\n",
              "       '23', '24', '25', '26', '27', '28', '29', 'X', 'Y', nan],\n",
              "      dtype=object)"
            ]
          },
          "metadata": {},
          "execution_count": 7
        }
      ]
    },
    {
      "cell_type": "code",
      "source": [
        "for chr in unique_chr:\n",
        "  # extract the data as chromosome wise\n",
        "  chr_df=f1[f1[\"Chromosome\"]==chr]\n",
        "\n",
        "  # save the out file of hereford(HF) based on chromosome\n",
        "  out_file=f\"HF{chr}.txt\"\n",
        "\n",
        "  # save the DataFrame as a seperate file\n",
        "  chr_df.to_csv(out_file, sep='\\t', index=False)\n",
        "\n",
        "  # save the out file into drive\n",
        "  shutil.copy(out_file, \"/content/drive/MyDrive/Hereford_VarAnalysis/Hereford_Protein\" )"
      ],
      "metadata": {
        "id": "HuqQS9Gr4-8m"
      },
      "execution_count": null,
      "outputs": []
    },
    {
      "cell_type": "code",
      "source": [
        "qtl_df=pd.read_csv('/content/drive/MyDrive/QTL_analysis_051223/QTL_ARS_UCD1_2/qtl_data_Chr.1.txt', delimiter='\\t', encoding='latin1')"
      ],
      "metadata": {
        "id": "9J50B9MnBx7-"
      },
      "execution_count": null,
      "outputs": []
    },
    {
      "cell_type": "code",
      "source": [
        "qtl_df.shape"
      ],
      "metadata": {
        "colab": {
          "base_uri": "https://localhost:8080/"
        },
        "id": "2z167cJFCupW",
        "outputId": "2517d97d-9ef2-4ae1-f21e-9fe907f1c9ac"
      },
      "execution_count": null,
      "outputs": [
        {
          "output_type": "execute_result",
          "data": {
            "text/plain": [
              "(3579, 6)"
            ]
          },
          "metadata": {},
          "execution_count": 9
        }
      ]
    },
    {
      "cell_type": "code",
      "source": [
        "qtl_df.head()"
      ],
      "metadata": {
        "colab": {
          "base_uri": "https://localhost:8080/",
          "height": 206
        },
        "id": "tkK2x4jSEZPi",
        "outputId": "e4c0b1a4-e7fa-4cdf-a228-fe75ec69b1db"
      },
      "execution_count": null,
      "outputs": [
        {
          "output_type": "execute_result",
          "data": {
            "text/plain": [
              "  Chromosome        Source                     QTL Class  QTL Span1  \\\n",
              "0      Chr.2  Animal QTLdb  Meat_and_Carcass_Association      90562   \n",
              "1      Chr.2  Animal QTLdb      Reproduction_Association     292762   \n",
              "2      Chr.2  Animal QTLdb      Reproduction_Association     292762   \n",
              "3      Chr.2  Animal QTLdb        Production_Association     292762   \n",
              "4      Chr.2  Animal QTLdb          Exterior_Association     292762   \n",
              "\n",
              "   QTL Span2                                        Description  \n",
              "0      90566  QTL_ID=225243;Name=Shear force;Abbrev=;PUBMED_...  \n",
              "1     292766  QTL_ID=39029;Name=Pregnancy rate;Abbrev=;PUBME...  \n",
              "2     292766  QTL_ID=39030;Name=Stillbirth;Abbrev=;PUBMED_ID...  \n",
              "3     292766  QTL_ID=39031;Name=PTA type;Abbrev=;PUBMED_ID=2...  \n",
              "4     292766  QTL_ID=39032;Name=Udder attachment;Abbrev=;PUB...  "
            ],
            "text/html": [
              "\n",
              "  <div id=\"df-26ee8a07-f65f-40a0-aea2-5861ec196ee7\" class=\"colab-df-container\">\n",
              "    <div>\n",
              "<style scoped>\n",
              "    .dataframe tbody tr th:only-of-type {\n",
              "        vertical-align: middle;\n",
              "    }\n",
              "\n",
              "    .dataframe tbody tr th {\n",
              "        vertical-align: top;\n",
              "    }\n",
              "\n",
              "    .dataframe thead th {\n",
              "        text-align: right;\n",
              "    }\n",
              "</style>\n",
              "<table border=\"1\" class=\"dataframe\">\n",
              "  <thead>\n",
              "    <tr style=\"text-align: right;\">\n",
              "      <th></th>\n",
              "      <th>Chromosome</th>\n",
              "      <th>Source</th>\n",
              "      <th>QTL Class</th>\n",
              "      <th>QTL Span1</th>\n",
              "      <th>QTL Span2</th>\n",
              "      <th>Description</th>\n",
              "    </tr>\n",
              "  </thead>\n",
              "  <tbody>\n",
              "    <tr>\n",
              "      <th>0</th>\n",
              "      <td>Chr.2</td>\n",
              "      <td>Animal QTLdb</td>\n",
              "      <td>Meat_and_Carcass_Association</td>\n",
              "      <td>90562</td>\n",
              "      <td>90566</td>\n",
              "      <td>QTL_ID=225243;Name=Shear force;Abbrev=;PUBMED_...</td>\n",
              "    </tr>\n",
              "    <tr>\n",
              "      <th>1</th>\n",
              "      <td>Chr.2</td>\n",
              "      <td>Animal QTLdb</td>\n",
              "      <td>Reproduction_Association</td>\n",
              "      <td>292762</td>\n",
              "      <td>292766</td>\n",
              "      <td>QTL_ID=39029;Name=Pregnancy rate;Abbrev=;PUBME...</td>\n",
              "    </tr>\n",
              "    <tr>\n",
              "      <th>2</th>\n",
              "      <td>Chr.2</td>\n",
              "      <td>Animal QTLdb</td>\n",
              "      <td>Reproduction_Association</td>\n",
              "      <td>292762</td>\n",
              "      <td>292766</td>\n",
              "      <td>QTL_ID=39030;Name=Stillbirth;Abbrev=;PUBMED_ID...</td>\n",
              "    </tr>\n",
              "    <tr>\n",
              "      <th>3</th>\n",
              "      <td>Chr.2</td>\n",
              "      <td>Animal QTLdb</td>\n",
              "      <td>Production_Association</td>\n",
              "      <td>292762</td>\n",
              "      <td>292766</td>\n",
              "      <td>QTL_ID=39031;Name=PTA type;Abbrev=;PUBMED_ID=2...</td>\n",
              "    </tr>\n",
              "    <tr>\n",
              "      <th>4</th>\n",
              "      <td>Chr.2</td>\n",
              "      <td>Animal QTLdb</td>\n",
              "      <td>Exterior_Association</td>\n",
              "      <td>292762</td>\n",
              "      <td>292766</td>\n",
              "      <td>QTL_ID=39032;Name=Udder attachment;Abbrev=;PUB...</td>\n",
              "    </tr>\n",
              "  </tbody>\n",
              "</table>\n",
              "</div>\n",
              "    <div class=\"colab-df-buttons\">\n",
              "\n",
              "  <div class=\"colab-df-container\">\n",
              "    <button class=\"colab-df-convert\" onclick=\"convertToInteractive('df-26ee8a07-f65f-40a0-aea2-5861ec196ee7')\"\n",
              "            title=\"Convert this dataframe to an interactive table.\"\n",
              "            style=\"display:none;\">\n",
              "\n",
              "  <svg xmlns=\"http://www.w3.org/2000/svg\" height=\"24px\" viewBox=\"0 -960 960 960\">\n",
              "    <path d=\"M120-120v-720h720v720H120Zm60-500h600v-160H180v160Zm220 220h160v-160H400v160Zm0 220h160v-160H400v160ZM180-400h160v-160H180v160Zm440 0h160v-160H620v160ZM180-180h160v-160H180v160Zm440 0h160v-160H620v160Z\"/>\n",
              "  </svg>\n",
              "    </button>\n",
              "\n",
              "  <style>\n",
              "    .colab-df-container {\n",
              "      display:flex;\n",
              "      gap: 12px;\n",
              "    }\n",
              "\n",
              "    .colab-df-convert {\n",
              "      background-color: #E8F0FE;\n",
              "      border: none;\n",
              "      border-radius: 50%;\n",
              "      cursor: pointer;\n",
              "      display: none;\n",
              "      fill: #1967D2;\n",
              "      height: 32px;\n",
              "      padding: 0 0 0 0;\n",
              "      width: 32px;\n",
              "    }\n",
              "\n",
              "    .colab-df-convert:hover {\n",
              "      background-color: #E2EBFA;\n",
              "      box-shadow: 0px 1px 2px rgba(60, 64, 67, 0.3), 0px 1px 3px 1px rgba(60, 64, 67, 0.15);\n",
              "      fill: #174EA6;\n",
              "    }\n",
              "\n",
              "    .colab-df-buttons div {\n",
              "      margin-bottom: 4px;\n",
              "    }\n",
              "\n",
              "    [theme=dark] .colab-df-convert {\n",
              "      background-color: #3B4455;\n",
              "      fill: #D2E3FC;\n",
              "    }\n",
              "\n",
              "    [theme=dark] .colab-df-convert:hover {\n",
              "      background-color: #434B5C;\n",
              "      box-shadow: 0px 1px 3px 1px rgba(0, 0, 0, 0.15);\n",
              "      filter: drop-shadow(0px 1px 2px rgba(0, 0, 0, 0.3));\n",
              "      fill: #FFFFFF;\n",
              "    }\n",
              "  </style>\n",
              "\n",
              "    <script>\n",
              "      const buttonEl =\n",
              "        document.querySelector('#df-26ee8a07-f65f-40a0-aea2-5861ec196ee7 button.colab-df-convert');\n",
              "      buttonEl.style.display =\n",
              "        google.colab.kernel.accessAllowed ? 'block' : 'none';\n",
              "\n",
              "      async function convertToInteractive(key) {\n",
              "        const element = document.querySelector('#df-26ee8a07-f65f-40a0-aea2-5861ec196ee7');\n",
              "        const dataTable =\n",
              "          await google.colab.kernel.invokeFunction('convertToInteractive',\n",
              "                                                    [key], {});\n",
              "        if (!dataTable) return;\n",
              "\n",
              "        const docLinkHtml = 'Like what you see? Visit the ' +\n",
              "          '<a target=\"_blank\" href=https://colab.research.google.com/notebooks/data_table.ipynb>data table notebook</a>'\n",
              "          + ' to learn more about interactive tables.';\n",
              "        element.innerHTML = '';\n",
              "        dataTable['output_type'] = 'display_data';\n",
              "        await google.colab.output.renderOutput(dataTable, element);\n",
              "        const docLink = document.createElement('div');\n",
              "        docLink.innerHTML = docLinkHtml;\n",
              "        element.appendChild(docLink);\n",
              "      }\n",
              "    </script>\n",
              "  </div>\n",
              "\n",
              "\n",
              "<div id=\"df-0796c4bb-b7c7-4e17-aa8b-46c6841a7972\">\n",
              "  <button class=\"colab-df-quickchart\" onclick=\"quickchart('df-0796c4bb-b7c7-4e17-aa8b-46c6841a7972')\"\n",
              "            title=\"Suggest charts\"\n",
              "            style=\"display:none;\">\n",
              "\n",
              "<svg xmlns=\"http://www.w3.org/2000/svg\" height=\"24px\"viewBox=\"0 0 24 24\"\n",
              "     width=\"24px\">\n",
              "    <g>\n",
              "        <path d=\"M19 3H5c-1.1 0-2 .9-2 2v14c0 1.1.9 2 2 2h14c1.1 0 2-.9 2-2V5c0-1.1-.9-2-2-2zM9 17H7v-7h2v7zm4 0h-2V7h2v10zm4 0h-2v-4h2v4z\"/>\n",
              "    </g>\n",
              "</svg>\n",
              "  </button>\n",
              "\n",
              "<style>\n",
              "  .colab-df-quickchart {\n",
              "      --bg-color: #E8F0FE;\n",
              "      --fill-color: #1967D2;\n",
              "      --hover-bg-color: #E2EBFA;\n",
              "      --hover-fill-color: #174EA6;\n",
              "      --disabled-fill-color: #AAA;\n",
              "      --disabled-bg-color: #DDD;\n",
              "  }\n",
              "\n",
              "  [theme=dark] .colab-df-quickchart {\n",
              "      --bg-color: #3B4455;\n",
              "      --fill-color: #D2E3FC;\n",
              "      --hover-bg-color: #434B5C;\n",
              "      --hover-fill-color: #FFFFFF;\n",
              "      --disabled-bg-color: #3B4455;\n",
              "      --disabled-fill-color: #666;\n",
              "  }\n",
              "\n",
              "  .colab-df-quickchart {\n",
              "    background-color: var(--bg-color);\n",
              "    border: none;\n",
              "    border-radius: 50%;\n",
              "    cursor: pointer;\n",
              "    display: none;\n",
              "    fill: var(--fill-color);\n",
              "    height: 32px;\n",
              "    padding: 0;\n",
              "    width: 32px;\n",
              "  }\n",
              "\n",
              "  .colab-df-quickchart:hover {\n",
              "    background-color: var(--hover-bg-color);\n",
              "    box-shadow: 0 1px 2px rgba(60, 64, 67, 0.3), 0 1px 3px 1px rgba(60, 64, 67, 0.15);\n",
              "    fill: var(--button-hover-fill-color);\n",
              "  }\n",
              "\n",
              "  .colab-df-quickchart-complete:disabled,\n",
              "  .colab-df-quickchart-complete:disabled:hover {\n",
              "    background-color: var(--disabled-bg-color);\n",
              "    fill: var(--disabled-fill-color);\n",
              "    box-shadow: none;\n",
              "  }\n",
              "\n",
              "  .colab-df-spinner {\n",
              "    border: 2px solid var(--fill-color);\n",
              "    border-color: transparent;\n",
              "    border-bottom-color: var(--fill-color);\n",
              "    animation:\n",
              "      spin 1s steps(1) infinite;\n",
              "  }\n",
              "\n",
              "  @keyframes spin {\n",
              "    0% {\n",
              "      border-color: transparent;\n",
              "      border-bottom-color: var(--fill-color);\n",
              "      border-left-color: var(--fill-color);\n",
              "    }\n",
              "    20% {\n",
              "      border-color: transparent;\n",
              "      border-left-color: var(--fill-color);\n",
              "      border-top-color: var(--fill-color);\n",
              "    }\n",
              "    30% {\n",
              "      border-color: transparent;\n",
              "      border-left-color: var(--fill-color);\n",
              "      border-top-color: var(--fill-color);\n",
              "      border-right-color: var(--fill-color);\n",
              "    }\n",
              "    40% {\n",
              "      border-color: transparent;\n",
              "      border-right-color: var(--fill-color);\n",
              "      border-top-color: var(--fill-color);\n",
              "    }\n",
              "    60% {\n",
              "      border-color: transparent;\n",
              "      border-right-color: var(--fill-color);\n",
              "    }\n",
              "    80% {\n",
              "      border-color: transparent;\n",
              "      border-right-color: var(--fill-color);\n",
              "      border-bottom-color: var(--fill-color);\n",
              "    }\n",
              "    90% {\n",
              "      border-color: transparent;\n",
              "      border-bottom-color: var(--fill-color);\n",
              "    }\n",
              "  }\n",
              "</style>\n",
              "\n",
              "  <script>\n",
              "    async function quickchart(key) {\n",
              "      const quickchartButtonEl =\n",
              "        document.querySelector('#' + key + ' button');\n",
              "      quickchartButtonEl.disabled = true;  // To prevent multiple clicks.\n",
              "      quickchartButtonEl.classList.add('colab-df-spinner');\n",
              "      try {\n",
              "        const charts = await google.colab.kernel.invokeFunction(\n",
              "            'suggestCharts', [key], {});\n",
              "      } catch (error) {\n",
              "        console.error('Error during call to suggestCharts:', error);\n",
              "      }\n",
              "      quickchartButtonEl.classList.remove('colab-df-spinner');\n",
              "      quickchartButtonEl.classList.add('colab-df-quickchart-complete');\n",
              "    }\n",
              "    (() => {\n",
              "      let quickchartButtonEl =\n",
              "        document.querySelector('#df-0796c4bb-b7c7-4e17-aa8b-46c6841a7972 button');\n",
              "      quickchartButtonEl.style.display =\n",
              "        google.colab.kernel.accessAllowed ? 'block' : 'none';\n",
              "    })();\n",
              "  </script>\n",
              "</div>\n",
              "    </div>\n",
              "  </div>\n"
            ]
          },
          "metadata": {},
          "execution_count": 46
        }
      ]
    },
    {
      "cell_type": "code",
      "source": [
        "hf_df=pd.read_csv(\"/content/drive/MyDrive/Hereford_VarAnalysis/Hereford_Protein/HF1.txt\", delimiter=\"\\t\")"
      ],
      "metadata": {
        "id": "JR9uwDpkCxxR"
      },
      "execution_count": null,
      "outputs": []
    },
    {
      "cell_type": "code",
      "source": [
        "hf_df.shape"
      ],
      "metadata": {
        "colab": {
          "base_uri": "https://localhost:8080/"
        },
        "id": "qHTHdb1GC9m0",
        "outputId": "b456f72c-aa53-4621-e457-15ce7125b6ab"
      },
      "execution_count": null,
      "outputs": [
        {
          "output_type": "execute_result",
          "data": {
            "text/plain": [
              "(1643, 13)"
            ]
          },
          "metadata": {},
          "execution_count": 18
        }
      ]
    },
    {
      "cell_type": "code",
      "source": [
        "# Add column as start of next gene to find variation in intergenic region\n",
        "hf_df[\"start_of_next_gene\"] = hf_df[\"Begin\"].shift(-1).fillna(0)"
      ],
      "metadata": {
        "id": "CrQRCQpvDn_j"
      },
      "execution_count": null,
      "outputs": []
    },
    {
      "cell_type": "code",
      "source": [
        "hf_df.shape"
      ],
      "metadata": {
        "colab": {
          "base_uri": "https://localhost:8080/"
        },
        "id": "oGU8-6GeD3C3",
        "outputId": "234bed66-cd0b-4ded-85a4-0eb7be557b80"
      },
      "execution_count": null,
      "outputs": [
        {
          "output_type": "execute_result",
          "data": {
            "text/plain": [
              "(1566, 14)"
            ]
          },
          "metadata": {},
          "execution_count": 50
        }
      ]
    },
    {
      "cell_type": "code",
      "source": [
        "hf_df.head()"
      ],
      "metadata": {
        "colab": {
          "base_uri": "https://localhost:8080/",
          "height": 327
        },
        "id": "4TpVX7kjD2Tk",
        "outputId": "cb96ae74-7a45-4723-c5fe-38eab5172ca7"
      },
      "execution_count": null,
      "outputs": [
        {
          "output_type": "execute_result",
          "data": {
            "text/plain": [
              "     Accession   Begin     End  Chromosome Orientation  \\\n",
              "0  NC_037328.1  207933  217580           1       minus   \n",
              "1  NC_037328.1  228440  283123           1       minus   \n",
              "2  NC_037328.1  284711  290531           1       minus   \n",
              "3  NC_037328.1  328577  347809           1       minus   \n",
              "4  NC_037328.1  419848  423189           1       minus   \n",
              "\n",
              "                                               Name        Symbol    Gene ID  \\\n",
              "0  ankyrin repeat domain-containing protein 26-like  LOC112447009  112447009   \n",
              "1                      uncharacterized LOC101903639  LOC101903639  101903639   \n",
              "2                      uncharacterized LOC112447074  LOC112447074  112447074   \n",
              "3                      uncharacterized LOC112447010  LOC112447010  112447010   \n",
              "4                      uncharacterized LOC100138661  LOC100138661  100138661   \n",
              "\n",
              "        Gene Type Transcripts accession Protein accession  Protein length  \\\n",
              "0      pseudogene                   NaN               NaN             NaN   \n",
              "1          lncRNA        XR_003035135.2               NaN             NaN   \n",
              "2          lncRNA        XR_003035148.2               NaN             NaN   \n",
              "3  protein-coding        XM_059890683.1    XP_059746666.1           375.0   \n",
              "4          lncRNA        XR_003035143.2               NaN             NaN   \n",
              "\n",
              "   Locus tag  \n",
              "0        NaN  \n",
              "1        NaN  \n",
              "2        NaN  \n",
              "3        NaN  \n",
              "4        NaN  "
            ],
            "text/html": [
              "\n",
              "  <div id=\"df-bbf613c8-c992-4547-aa5f-f7def164dc1a\" class=\"colab-df-container\">\n",
              "    <div>\n",
              "<style scoped>\n",
              "    .dataframe tbody tr th:only-of-type {\n",
              "        vertical-align: middle;\n",
              "    }\n",
              "\n",
              "    .dataframe tbody tr th {\n",
              "        vertical-align: top;\n",
              "    }\n",
              "\n",
              "    .dataframe thead th {\n",
              "        text-align: right;\n",
              "    }\n",
              "</style>\n",
              "<table border=\"1\" class=\"dataframe\">\n",
              "  <thead>\n",
              "    <tr style=\"text-align: right;\">\n",
              "      <th></th>\n",
              "      <th>Accession</th>\n",
              "      <th>Begin</th>\n",
              "      <th>End</th>\n",
              "      <th>Chromosome</th>\n",
              "      <th>Orientation</th>\n",
              "      <th>Name</th>\n",
              "      <th>Symbol</th>\n",
              "      <th>Gene ID</th>\n",
              "      <th>Gene Type</th>\n",
              "      <th>Transcripts accession</th>\n",
              "      <th>Protein accession</th>\n",
              "      <th>Protein length</th>\n",
              "      <th>Locus tag</th>\n",
              "    </tr>\n",
              "  </thead>\n",
              "  <tbody>\n",
              "    <tr>\n",
              "      <th>0</th>\n",
              "      <td>NC_037328.1</td>\n",
              "      <td>207933</td>\n",
              "      <td>217580</td>\n",
              "      <td>1</td>\n",
              "      <td>minus</td>\n",
              "      <td>ankyrin repeat domain-containing protein 26-like</td>\n",
              "      <td>LOC112447009</td>\n",
              "      <td>112447009</td>\n",
              "      <td>pseudogene</td>\n",
              "      <td>NaN</td>\n",
              "      <td>NaN</td>\n",
              "      <td>NaN</td>\n",
              "      <td>NaN</td>\n",
              "    </tr>\n",
              "    <tr>\n",
              "      <th>1</th>\n",
              "      <td>NC_037328.1</td>\n",
              "      <td>228440</td>\n",
              "      <td>283123</td>\n",
              "      <td>1</td>\n",
              "      <td>minus</td>\n",
              "      <td>uncharacterized LOC101903639</td>\n",
              "      <td>LOC101903639</td>\n",
              "      <td>101903639</td>\n",
              "      <td>lncRNA</td>\n",
              "      <td>XR_003035135.2</td>\n",
              "      <td>NaN</td>\n",
              "      <td>NaN</td>\n",
              "      <td>NaN</td>\n",
              "    </tr>\n",
              "    <tr>\n",
              "      <th>2</th>\n",
              "      <td>NC_037328.1</td>\n",
              "      <td>284711</td>\n",
              "      <td>290531</td>\n",
              "      <td>1</td>\n",
              "      <td>minus</td>\n",
              "      <td>uncharacterized LOC112447074</td>\n",
              "      <td>LOC112447074</td>\n",
              "      <td>112447074</td>\n",
              "      <td>lncRNA</td>\n",
              "      <td>XR_003035148.2</td>\n",
              "      <td>NaN</td>\n",
              "      <td>NaN</td>\n",
              "      <td>NaN</td>\n",
              "    </tr>\n",
              "    <tr>\n",
              "      <th>3</th>\n",
              "      <td>NC_037328.1</td>\n",
              "      <td>328577</td>\n",
              "      <td>347809</td>\n",
              "      <td>1</td>\n",
              "      <td>minus</td>\n",
              "      <td>uncharacterized LOC112447010</td>\n",
              "      <td>LOC112447010</td>\n",
              "      <td>112447010</td>\n",
              "      <td>protein-coding</td>\n",
              "      <td>XM_059890683.1</td>\n",
              "      <td>XP_059746666.1</td>\n",
              "      <td>375.0</td>\n",
              "      <td>NaN</td>\n",
              "    </tr>\n",
              "    <tr>\n",
              "      <th>4</th>\n",
              "      <td>NC_037328.1</td>\n",
              "      <td>419848</td>\n",
              "      <td>423189</td>\n",
              "      <td>1</td>\n",
              "      <td>minus</td>\n",
              "      <td>uncharacterized LOC100138661</td>\n",
              "      <td>LOC100138661</td>\n",
              "      <td>100138661</td>\n",
              "      <td>lncRNA</td>\n",
              "      <td>XR_003035143.2</td>\n",
              "      <td>NaN</td>\n",
              "      <td>NaN</td>\n",
              "      <td>NaN</td>\n",
              "    </tr>\n",
              "  </tbody>\n",
              "</table>\n",
              "</div>\n",
              "    <div class=\"colab-df-buttons\">\n",
              "\n",
              "  <div class=\"colab-df-container\">\n",
              "    <button class=\"colab-df-convert\" onclick=\"convertToInteractive('df-bbf613c8-c992-4547-aa5f-f7def164dc1a')\"\n",
              "            title=\"Convert this dataframe to an interactive table.\"\n",
              "            style=\"display:none;\">\n",
              "\n",
              "  <svg xmlns=\"http://www.w3.org/2000/svg\" height=\"24px\" viewBox=\"0 -960 960 960\">\n",
              "    <path d=\"M120-120v-720h720v720H120Zm60-500h600v-160H180v160Zm220 220h160v-160H400v160Zm0 220h160v-160H400v160ZM180-400h160v-160H180v160Zm440 0h160v-160H620v160ZM180-180h160v-160H180v160Zm440 0h160v-160H620v160Z\"/>\n",
              "  </svg>\n",
              "    </button>\n",
              "\n",
              "  <style>\n",
              "    .colab-df-container {\n",
              "      display:flex;\n",
              "      gap: 12px;\n",
              "    }\n",
              "\n",
              "    .colab-df-convert {\n",
              "      background-color: #E8F0FE;\n",
              "      border: none;\n",
              "      border-radius: 50%;\n",
              "      cursor: pointer;\n",
              "      display: none;\n",
              "      fill: #1967D2;\n",
              "      height: 32px;\n",
              "      padding: 0 0 0 0;\n",
              "      width: 32px;\n",
              "    }\n",
              "\n",
              "    .colab-df-convert:hover {\n",
              "      background-color: #E2EBFA;\n",
              "      box-shadow: 0px 1px 2px rgba(60, 64, 67, 0.3), 0px 1px 3px 1px rgba(60, 64, 67, 0.15);\n",
              "      fill: #174EA6;\n",
              "    }\n",
              "\n",
              "    .colab-df-buttons div {\n",
              "      margin-bottom: 4px;\n",
              "    }\n",
              "\n",
              "    [theme=dark] .colab-df-convert {\n",
              "      background-color: #3B4455;\n",
              "      fill: #D2E3FC;\n",
              "    }\n",
              "\n",
              "    [theme=dark] .colab-df-convert:hover {\n",
              "      background-color: #434B5C;\n",
              "      box-shadow: 0px 1px 3px 1px rgba(0, 0, 0, 0.15);\n",
              "      filter: drop-shadow(0px 1px 2px rgba(0, 0, 0, 0.3));\n",
              "      fill: #FFFFFF;\n",
              "    }\n",
              "  </style>\n",
              "\n",
              "    <script>\n",
              "      const buttonEl =\n",
              "        document.querySelector('#df-bbf613c8-c992-4547-aa5f-f7def164dc1a button.colab-df-convert');\n",
              "      buttonEl.style.display =\n",
              "        google.colab.kernel.accessAllowed ? 'block' : 'none';\n",
              "\n",
              "      async function convertToInteractive(key) {\n",
              "        const element = document.querySelector('#df-bbf613c8-c992-4547-aa5f-f7def164dc1a');\n",
              "        const dataTable =\n",
              "          await google.colab.kernel.invokeFunction('convertToInteractive',\n",
              "                                                    [key], {});\n",
              "        if (!dataTable) return;\n",
              "\n",
              "        const docLinkHtml = 'Like what you see? Visit the ' +\n",
              "          '<a target=\"_blank\" href=https://colab.research.google.com/notebooks/data_table.ipynb>data table notebook</a>'\n",
              "          + ' to learn more about interactive tables.';\n",
              "        element.innerHTML = '';\n",
              "        dataTable['output_type'] = 'display_data';\n",
              "        await google.colab.output.renderOutput(dataTable, element);\n",
              "        const docLink = document.createElement('div');\n",
              "        docLink.innerHTML = docLinkHtml;\n",
              "        element.appendChild(docLink);\n",
              "      }\n",
              "    </script>\n",
              "  </div>\n",
              "\n",
              "\n",
              "<div id=\"df-c9d1b86f-d8c0-40a6-a523-205722700149\">\n",
              "  <button class=\"colab-df-quickchart\" onclick=\"quickchart('df-c9d1b86f-d8c0-40a6-a523-205722700149')\"\n",
              "            title=\"Suggest charts\"\n",
              "            style=\"display:none;\">\n",
              "\n",
              "<svg xmlns=\"http://www.w3.org/2000/svg\" height=\"24px\"viewBox=\"0 0 24 24\"\n",
              "     width=\"24px\">\n",
              "    <g>\n",
              "        <path d=\"M19 3H5c-1.1 0-2 .9-2 2v14c0 1.1.9 2 2 2h14c1.1 0 2-.9 2-2V5c0-1.1-.9-2-2-2zM9 17H7v-7h2v7zm4 0h-2V7h2v10zm4 0h-2v-4h2v4z\"/>\n",
              "    </g>\n",
              "</svg>\n",
              "  </button>\n",
              "\n",
              "<style>\n",
              "  .colab-df-quickchart {\n",
              "      --bg-color: #E8F0FE;\n",
              "      --fill-color: #1967D2;\n",
              "      --hover-bg-color: #E2EBFA;\n",
              "      --hover-fill-color: #174EA6;\n",
              "      --disabled-fill-color: #AAA;\n",
              "      --disabled-bg-color: #DDD;\n",
              "  }\n",
              "\n",
              "  [theme=dark] .colab-df-quickchart {\n",
              "      --bg-color: #3B4455;\n",
              "      --fill-color: #D2E3FC;\n",
              "      --hover-bg-color: #434B5C;\n",
              "      --hover-fill-color: #FFFFFF;\n",
              "      --disabled-bg-color: #3B4455;\n",
              "      --disabled-fill-color: #666;\n",
              "  }\n",
              "\n",
              "  .colab-df-quickchart {\n",
              "    background-color: var(--bg-color);\n",
              "    border: none;\n",
              "    border-radius: 50%;\n",
              "    cursor: pointer;\n",
              "    display: none;\n",
              "    fill: var(--fill-color);\n",
              "    height: 32px;\n",
              "    padding: 0;\n",
              "    width: 32px;\n",
              "  }\n",
              "\n",
              "  .colab-df-quickchart:hover {\n",
              "    background-color: var(--hover-bg-color);\n",
              "    box-shadow: 0 1px 2px rgba(60, 64, 67, 0.3), 0 1px 3px 1px rgba(60, 64, 67, 0.15);\n",
              "    fill: var(--button-hover-fill-color);\n",
              "  }\n",
              "\n",
              "  .colab-df-quickchart-complete:disabled,\n",
              "  .colab-df-quickchart-complete:disabled:hover {\n",
              "    background-color: var(--disabled-bg-color);\n",
              "    fill: var(--disabled-fill-color);\n",
              "    box-shadow: none;\n",
              "  }\n",
              "\n",
              "  .colab-df-spinner {\n",
              "    border: 2px solid var(--fill-color);\n",
              "    border-color: transparent;\n",
              "    border-bottom-color: var(--fill-color);\n",
              "    animation:\n",
              "      spin 1s steps(1) infinite;\n",
              "  }\n",
              "\n",
              "  @keyframes spin {\n",
              "    0% {\n",
              "      border-color: transparent;\n",
              "      border-bottom-color: var(--fill-color);\n",
              "      border-left-color: var(--fill-color);\n",
              "    }\n",
              "    20% {\n",
              "      border-color: transparent;\n",
              "      border-left-color: var(--fill-color);\n",
              "      border-top-color: var(--fill-color);\n",
              "    }\n",
              "    30% {\n",
              "      border-color: transparent;\n",
              "      border-left-color: var(--fill-color);\n",
              "      border-top-color: var(--fill-color);\n",
              "      border-right-color: var(--fill-color);\n",
              "    }\n",
              "    40% {\n",
              "      border-color: transparent;\n",
              "      border-right-color: var(--fill-color);\n",
              "      border-top-color: var(--fill-color);\n",
              "    }\n",
              "    60% {\n",
              "      border-color: transparent;\n",
              "      border-right-color: var(--fill-color);\n",
              "    }\n",
              "    80% {\n",
              "      border-color: transparent;\n",
              "      border-right-color: var(--fill-color);\n",
              "      border-bottom-color: var(--fill-color);\n",
              "    }\n",
              "    90% {\n",
              "      border-color: transparent;\n",
              "      border-bottom-color: var(--fill-color);\n",
              "    }\n",
              "  }\n",
              "</style>\n",
              "\n",
              "  <script>\n",
              "    async function quickchart(key) {\n",
              "      const quickchartButtonEl =\n",
              "        document.querySelector('#' + key + ' button');\n",
              "      quickchartButtonEl.disabled = true;  // To prevent multiple clicks.\n",
              "      quickchartButtonEl.classList.add('colab-df-spinner');\n",
              "      try {\n",
              "        const charts = await google.colab.kernel.invokeFunction(\n",
              "            'suggestCharts', [key], {});\n",
              "      } catch (error) {\n",
              "        console.error('Error during call to suggestCharts:', error);\n",
              "      }\n",
              "      quickchartButtonEl.classList.remove('colab-df-spinner');\n",
              "      quickchartButtonEl.classList.add('colab-df-quickchart-complete');\n",
              "    }\n",
              "    (() => {\n",
              "      let quickchartButtonEl =\n",
              "        document.querySelector('#df-c9d1b86f-d8c0-40a6-a523-205722700149 button');\n",
              "      quickchartButtonEl.style.display =\n",
              "        google.colab.kernel.accessAllowed ? 'block' : 'none';\n",
              "    })();\n",
              "  </script>\n",
              "</div>\n",
              "    </div>\n",
              "  </div>\n"
            ]
          },
          "metadata": {},
          "execution_count": 19
        }
      ]
    },
    {
      "cell_type": "code",
      "source": [
        "Chr_list=[1, 2, 3, 4, 5, 6, 7, 8, 9, 10, 11, 12, 13, 14, 15, 16, 17, 18, 19, 20, 21, 22, 23, 24, 25, 26, 27, 28, 29, \"X\"]"
      ],
      "metadata": {
        "id": "Q7kQzzrPQr6Z"
      },
      "execution_count": null,
      "outputs": []
    },
    {
      "cell_type": "code",
      "source": [
        "def hf_qtl(qtl_df, hf_df, chr, out_loc):\n",
        "  final_df=pd.DataFrame(columns=list(hf_df)+[\"qtlgene_type\"]+[\"QTL Class\"]+[\"QTL Span1\"]+[\"QTL Span2\"]+[\"Description\"])\n",
        "  # Finding the presence of QTL in Hereford annoted protein\n",
        "  for i, row in tqdm(qtl_df.iterrows()):\n",
        "    # Check for the at Begin\n",
        "    if hf_df[(hf_df[\"Begin\"]==row[\"QTL Span1\"]) & (hf_df[\"End\"]>row[\"QTL Span2\"])].shape[0]>=1:\n",
        "        tmp_df = hf_df[(hf_df[\"Begin\"]==row[\"QTL Span1\"]) & (hf_df[\"End\"]>row[\"QTL Span2\"])].copy(deep=True)\n",
        "        tmp_df[\"qtlgene_type\"] = \"at_start\"\n",
        "        tmp_df[\"QTL Class\"] = row[\"QTL Class\"]\n",
        "        tmp_df[\"QTL Span1\"] = row[\"QTL Span1\"]\n",
        "        tmp_df[\"QTL Span2\"] = row[\"QTL Span2\"]\n",
        "        tmp_df[\"Description\"] = row[\"Description\"]\n",
        "        final_df = pd.concat([final_df,tmp_df]).reset_index(drop=True)\n",
        "    # check for the at end\n",
        "    elif hf_df[(hf_df[\"Begin\"]<row[\"QTL Span1\"]) & (hf_df[\"End\"]==row[\"QTL Span2\"])].shape[0]>=1:\n",
        "        tmp_df = hf_df[(hf_df[\"Begin\"]<row[\"QTL Span1\"]) & (hf_df[\"End\"]==row[\"QTL Span2\"])].copy(deep=True)\n",
        "        tmp_df[\"qtlgene_type\"] = \"at_end\"\n",
        "        tmp_df[\"QTL Class\"] = row[\"QTL Class\"]\n",
        "        tmp_df[\"QTL Span1\"] = row[\"QTL Span1\"]\n",
        "        tmp_df[\"QTL Span2\"] = row[\"QTL Span2\"]\n",
        "        tmp_df[\"Description\"] = row[\"Description\"]\n",
        "        final_df = pd.concat([final_df,tmp_df]).reset_index(drop=True)\n",
        "    # Check for the within gene\n",
        "    elif hf_df[(hf_df[\"Begin\"]<row[\"QTL Span1\"]) & (hf_df[\"End\"]>row[\"QTL Span2\"])].shape[0]>=1:\n",
        "        tmp_df = hf_df[(hf_df[\"Begin\"]<row[\"QTL Span1\"]) & (hf_df[\"End\"]>row[\"QTL Span2\"])].copy(deep=True)\n",
        "        tmp_df[\"qtlgene_type\"] = \"within_gene\"\n",
        "        tmp_df[\"QTL Class\"] = row[\"QTL Class\"]\n",
        "        tmp_df[\"QTL Span1\"] = row[\"QTL Span1\"]\n",
        "        tmp_df[\"QTL Span2\"] = row[\"QTL Span2\"]\n",
        "        tmp_df[\"Description\"] = row[\"Description\"]\n",
        "        final_df = pd.concat([final_df,tmp_df]).reset_index(drop=True)\n",
        "    # Check for the near Begin gene with integenic\n",
        "    elif hf_df[(hf_df[\"Begin\"]>row[\"QTL Span1\"]) & (hf_df[\"Begin\"]<row[\"QTL Span2\"])].shape[0]>=1:\n",
        "        tmp_df = hf_df[(hf_df[\"Begin\"]>row[\"QTL Span1\"]) & (hf_df[\"Begin\"]<row[\"QTL Span2\"])].copy(deep=True)\n",
        "        tmp_df[\"qtlgene_type\"] = \"near_start_gene with intergenic\"\n",
        "        tmp_df[\"QTL Class\"] = row[\"QTL Class\"]\n",
        "        tmp_df[\"QTL Span1\"] = row[\"QTL Span1\"]\n",
        "        tmp_df[\"QTL Span2\"] = row[\"QTL Span2\"]\n",
        "        tmp_df[\"Description\"] = row[\"Description\"]\n",
        "        final_df = pd.concat([final_df,tmp_df]).reset_index(drop=True)\n",
        "    # Check for the near End gene with intergenic\n",
        "    elif hf_df[(hf_df[\"End\"]>row[\"QTL Span1\"]) & (hf_df[\"End\"]<row[\"QTL Span2\"])].shape[0]>=1:\n",
        "        tmp_df = hf_df[(hf_df[\"End\"]>row[\"QTL Span1\"]) & (hf_df[\"End\"]<row[\"QTL Span2\"])].copy(deep=True)\n",
        "        tmp_df[\"qtlgene_type\"] = \"near_stop_gene with intergenic\"\n",
        "        tmp_df[\"QTL Class\"] = row[\"QTL Class\"]\n",
        "        tmp_df[\"QTL Span1\"] = row[\"QTL Span1\"]\n",
        "        tmp_df[\"QTL Span2\"] = row[\"QTL Span2\"]\n",
        "        tmp_df[\"Description\"] = row[\"Description\"]\n",
        "        final_df = pd.concat([final_df,tmp_df]).reset_index(drop=True)\n",
        "    # Check for the at Begin with intergenic gene\n",
        "    elif hf_df[(hf_df[\"Begin\"]>row[\"QTL Span1\"]) & (hf_df[\"Begin\"]==row[\"QTL Span2\"])].shape[0]>=1:\n",
        "        tmp_df = hf_df[(hf_df[\"Begin\"]>row[\"QTL Span1\"]) & (hf_df[\"Begin\"]==row[\"QTL Span2\"])].copy(deep=True)\n",
        "        tmp_df[\"qtlgene_type\"] = \"at_start with intergenic_gene\"\n",
        "        tmp_df[\"QTL Class\"] = row[\"QTL Class\"]\n",
        "        tmp_df[\"QTL Span1\"] = row[\"QTL Span1\"]\n",
        "        tmp_df[\"QTL Span2\"] = row[\"QTL Span2\"]\n",
        "        tmp_df[\"Description\"] = row[\"Description\"]\n",
        "        final_df = pd.concat([final_df,tmp_df]).reset_index(drop=True)\n",
        "    # check for the at end with intergenic\n",
        "    elif hf_df[(hf_df[\"End\"]==row[\"QTL Span1\"]) & (hf_df[\"End\"]<row[\"QTL Span2\"])].shape[0]>=1:\n",
        "        tmp_df = hf_df[(hf_df[\"End\"]==row[\"QTL Span1\"]) & (hf_df[\"End\"]<row[\"QTL Span2\"])].copy(deep=True)\n",
        "        tmp_df[\"qtlgene_type\"] = \"at_end with intergenic_gene\"\n",
        "        tmp_df[\"QTL Class\"] = row[\"QTL Class\"]\n",
        "        tmp_df[\"QTL Span1\"] = row[\"QTL Span1\"]\n",
        "        tmp_df[\"QTL Span2\"] = row[\"QTL Span2\"]\n",
        "        tmp_df[\"Description\"] = row[\"Description\"]\n",
        "        final_df = pd.concat([final_df,tmp_df]).reset_index(drop=True)\n",
        "    # Check for the intergenic gene\n",
        "    elif hf_df[(hf_df[\"End\"]<row[\"QTL Span1\"]) & (hf_df[\"hfstart_of_next_gene\"]>row[\"QTL Span2\"])].shape[0]>=1:\n",
        "        tmp_df = hf_df[(hf_df[\"End\"]<row[\"QTL Span1\"]) & (hf_df[\"hfstart_of_next_gene\"]>row[\"QTL Span2\"])].copy(deep=True)\n",
        "        tmp_df[\"qtlgene_type\"] = \"intergenic_gene\"\n",
        "        tmp_df[\"QTL Class\"] = row[\"QTL Class\"]\n",
        "        tmp_df[\"QTL Span1\"] = row[\"QTL Span1\"]\n",
        "        tmp_df[\"QTL Span2\"] = row[\"QTL Span2\"]\n",
        "        tmp_df[\"Description\"] = row[\"Description\"]\n",
        "        final_df = pd.concat([final_df,tmp_df]).reset_index(drop=True)\n",
        "    else:\n",
        "        pass\n",
        "\n",
        "  # Generate output file\n",
        "  print(\"hfqtl\", final_df.shape)\n",
        "  out_file=f\"hf_qtl{chr}.csv\"\n",
        "  final_df.to_csv(out_file)\n",
        "  shutil.copy(out_file, out_loc)\n",
        "\n",
        "  # remove duplicates\n",
        "  hfqtl_wd = final_df.drop_duplicates(subset=['Symbol', 'QTL Class', 'QTL Span1', \"QTL Span2\"])\n",
        "  print(\"hfqtl_wd\", hfqtl_wd.shape)\n",
        "  out_file1=f\"hf_qtl_wd{chr}.csv\"\n",
        "  hfqtl_wd.to_csv(out_file1)\n",
        "  shutil.copy(out_file1, out_loc)\n",
        "\n",
        "  # find variation not present in gene and intergene region called as other non coding region\n",
        "  final_df1 = pd.DataFrame(columns=hf_df.columns)\n",
        "  for index, row in tqdm(hf_df.iterrows()):\n",
        "    # Check if 'startpos.q' is present in any row of file2\n",
        "    if row['Begin'] not in final_df['Begin'].values:\n",
        "        # Append the row to the DataFrame if not found\n",
        "        final_df1 = final_df1.append(row, ignore_index=True)\n",
        "\n",
        "  # Save the DataFrame with rows not found in file2 to a new CSV file\n",
        "  out_file2=f\"hfnon_qtl{chr}.csv\"\n",
        "  final_df1[\"QTL Class\"]=\"Nil\"\n",
        "  final_df1.to_csv(out_file2, index=False)\n",
        "  shutil.copy(out_file2, out_loc)\n",
        "  print(\"hf_nonqtl\", final_df1.shape)\n",
        "\n",
        "  # Merge the data has QTL and non QTL\n",
        "  HF_QTL=pd.DataFrame(columns=list(hfqtl_wd))\n",
        "  HF_QTL=pd.concat([HF_QTL, hfqtl_wd, final_df1])\n",
        "  print(\"HF_QTL\", HF_QTL.shape)\n",
        "  out_file3=f\"HF_QTL{chr}.csv\"\n",
        "  HF_QTL.to_csv(out_file3, index=False)\n",
        "  shutil.copy(out_file3, out_loc)\n"
      ],
      "metadata": {
        "id": "G7NLpmOriI-3"
      },
      "execution_count": null,
      "outputs": []
    },
    {
      "cell_type": "code",
      "source": [
        "Chr_list=[1, 2, 3, 4, 5, 6, 7, 8, 9, 10, 11, 12, 13, 14, 15, 16, 17, 18, 19, 20, 21, 22, 23, 24, 25, 26, 27, 28, 29, \"X\"]"
      ],
      "metadata": {
        "id": "LhaWVvc5HZWC"
      },
      "execution_count": null,
      "outputs": []
    },
    {
      "cell_type": "code",
      "source": [
        "for chr in Chr_list:\n",
        "  in_file1=f\"/content/drive/MyDrive/QTL_analysis_051223/QTL_ARS_UCD1_2/qtl_data_Chr.{chr}.txt\"\n",
        "  in_file2=f\"/content/drive/MyDrive/Hereford_VarAnalysis/Hereford_Protein/HF{chr}.txt\"\n",
        "  out_loc=f\"/content/drive/MyDrive/Hereford_VarAnalysis/Hereford_qtl/{chr}\"\n",
        "  qtl_df=pd.read_csv(in_file1, delimiter=\"\\t\", encoding='latin1')\n",
        "  hf_df=pd.read_csv(in_file2, delimiter=\"\\t\")\n",
        "  hf_df[\"hfstart_of_next_gene\"] = hf_df[\"Begin\"].shift(-1).fillna(0)\n",
        "  print(\"hf_df\", hf_df.shape)\n",
        "  hf_qtl(qtl_df, hf_df, chr, out_loc)"
      ],
      "metadata": {
        "colab": {
          "base_uri": "https://localhost:8080/"
        },
        "id": "UazXVeEtVTfd",
        "outputId": "d4464298-0367-4f66-cadc-d1d107e2fbea"
      },
      "execution_count": null,
      "outputs": [
        {
          "output_type": "stream",
          "name": "stdout",
          "text": [
            "hf_df (1643, 14)\n"
          ]
        },
        {
          "output_type": "stream",
          "name": "stderr",
          "text": [
            "3579it [00:39, 90.26it/s]\n"
          ]
        },
        {
          "output_type": "stream",
          "name": "stdout",
          "text": [
            "hfqtl (3657, 19)\n",
            "hfqtl_wd (2441, 19)\n"
          ]
        },
        {
          "output_type": "stream",
          "name": "stderr",
          "text": [
            "0it [00:00, ?it/s]<ipython-input-64-8ad4a36f5561>:99: FutureWarning: The frame.append method is deprecated and will be removed from pandas in a future version. Use pandas.concat instead.\n",
            "  final_df1 = final_df1.append(row, ignore_index=True)\n",
            "1643it [00:03, 487.40it/s]\n"
          ]
        },
        {
          "output_type": "stream",
          "name": "stdout",
          "text": [
            "hf_nonqtl (994, 15)\n",
            "HF_QTL (3435, 19)\n",
            "hf_df (1566, 14)\n"
          ]
        },
        {
          "output_type": "stream",
          "name": "stderr",
          "text": [
            "3895it [00:43, 89.48it/s]\n"
          ]
        },
        {
          "output_type": "stream",
          "name": "stdout",
          "text": [
            "hfqtl (3954, 19)\n",
            "hfqtl_wd (3010, 19)\n"
          ]
        },
        {
          "output_type": "stream",
          "name": "stderr",
          "text": [
            "0it [00:00, ?it/s]<ipython-input-64-8ad4a36f5561>:99: FutureWarning: The frame.append method is deprecated and will be removed from pandas in a future version. Use pandas.concat instead.\n",
            "  final_df1 = final_df1.append(row, ignore_index=True)\n",
            "1566it [00:03, 497.54it/s]\n"
          ]
        },
        {
          "output_type": "stream",
          "name": "stdout",
          "text": [
            "hf_nonqtl (888, 15)\n",
            "HF_QTL (3898, 19)\n",
            "hf_df (2303, 14)\n"
          ]
        },
        {
          "output_type": "stream",
          "name": "stderr",
          "text": [
            "3933it [00:43, 90.63it/s]\n"
          ]
        },
        {
          "output_type": "stream",
          "name": "stdout",
          "text": [
            "hfqtl (4094, 19)\n",
            "hfqtl_wd (2759, 19)\n"
          ]
        },
        {
          "output_type": "stream",
          "name": "stderr",
          "text": [
            "0it [00:00, ?it/s]<ipython-input-64-8ad4a36f5561>:99: FutureWarning: The frame.append method is deprecated and will be removed from pandas in a future version. Use pandas.concat instead.\n",
            "  final_df1 = final_df1.append(row, ignore_index=True)\n",
            "2303it [00:05, 398.88it/s]\n"
          ]
        },
        {
          "output_type": "stream",
          "name": "stdout",
          "text": [
            "hf_nonqtl (1540, 15)\n",
            "HF_QTL (4299, 19)\n",
            "hf_df (1366, 14)\n"
          ]
        },
        {
          "output_type": "stream",
          "name": "stderr",
          "text": [
            "1819it [00:16, 107.36it/s]\n"
          ]
        },
        {
          "output_type": "stream",
          "name": "stdout",
          "text": [
            "hfqtl (1863, 19)\n",
            "hfqtl_wd (1357, 19)\n"
          ]
        },
        {
          "output_type": "stream",
          "name": "stderr",
          "text": [
            "0it [00:00, ?it/s]<ipython-input-64-8ad4a36f5561>:99: FutureWarning: The frame.append method is deprecated and will be removed from pandas in a future version. Use pandas.concat instead.\n",
            "  final_df1 = final_df1.append(row, ignore_index=True)\n",
            "1366it [00:02, 520.59it/s]\n"
          ]
        },
        {
          "output_type": "stream",
          "name": "stdout",
          "text": [
            "hf_nonqtl (862, 15)\n",
            "HF_QTL (2219, 19)\n",
            "hf_df (2116, 14)\n"
          ]
        },
        {
          "output_type": "stream",
          "name": "stderr",
          "text": [
            "8906it [02:00, 74.15it/s]\n"
          ]
        },
        {
          "output_type": "stream",
          "name": "stdout",
          "text": [
            "hfqtl (9041, 19)\n",
            "hfqtl_wd (6273, 19)\n"
          ]
        },
        {
          "output_type": "stream",
          "name": "stderr",
          "text": [
            "0it [00:00, ?it/s]<ipython-input-64-8ad4a36f5561>:99: FutureWarning: The frame.append method is deprecated and will be removed from pandas in a future version. Use pandas.concat instead.\n",
            "  final_df1 = final_df1.append(row, ignore_index=True)\n",
            "2116it [00:05, 384.27it/s]\n"
          ]
        },
        {
          "output_type": "stream",
          "name": "stdout",
          "text": [
            "hf_nonqtl (1241, 15)\n",
            "HF_QTL (7514, 19)\n",
            "hf_df (1162, 14)\n"
          ]
        },
        {
          "output_type": "stream",
          "name": "stderr",
          "text": [
            "22533it [07:52, 47.74it/s]\n"
          ]
        },
        {
          "output_type": "stream",
          "name": "stdout",
          "text": [
            "hfqtl (22792, 19)\n",
            "hfqtl_wd (11782, 19)\n"
          ]
        },
        {
          "output_type": "stream",
          "name": "stderr",
          "text": [
            "0it [00:00, ?it/s]<ipython-input-64-8ad4a36f5561>:99: FutureWarning: The frame.append method is deprecated and will be removed from pandas in a future version. Use pandas.concat instead.\n",
            "  final_df1 = final_df1.append(row, ignore_index=True)\n",
            "1162it [00:02, 510.61it/s]\n"
          ]
        },
        {
          "output_type": "stream",
          "name": "stdout",
          "text": [
            "hf_nonqtl (467, 15)\n",
            "HF_QTL (12249, 19)\n",
            "hf_df (2175, 14)\n"
          ]
        },
        {
          "output_type": "stream",
          "name": "stderr",
          "text": [
            "3407it [00:36, 94.61it/s]\n"
          ]
        },
        {
          "output_type": "stream",
          "name": "stdout",
          "text": [
            "hfqtl (3495, 19)\n",
            "hfqtl_wd (2262, 19)\n"
          ]
        },
        {
          "output_type": "stream",
          "name": "stderr",
          "text": [
            "0it [00:00, ?it/s]<ipython-input-64-8ad4a36f5561>:99: FutureWarning: The frame.append method is deprecated and will be removed from pandas in a future version. Use pandas.concat instead.\n",
            "  final_df1 = final_df1.append(row, ignore_index=True)\n",
            "2175it [00:06, 335.99it/s]\n"
          ]
        },
        {
          "output_type": "stream",
          "name": "stdout",
          "text": [
            "hf_nonqtl (1500, 15)\n",
            "HF_QTL (3762, 19)\n",
            "hf_df (1320, 14)\n"
          ]
        },
        {
          "output_type": "stream",
          "name": "stderr",
          "text": [
            "1822it [00:17, 101.75it/s]\n"
          ]
        },
        {
          "output_type": "stream",
          "name": "stdout",
          "text": [
            "hfqtl (1851, 19)\n",
            "hfqtl_wd (1392, 19)\n"
          ]
        },
        {
          "output_type": "stream",
          "name": "stderr",
          "text": [
            "0it [00:00, ?it/s]<ipython-input-64-8ad4a36f5561>:99: FutureWarning: The frame.append method is deprecated and will be removed from pandas in a future version. Use pandas.concat instead.\n",
            "  final_df1 = final_df1.append(row, ignore_index=True)\n",
            "1320it [00:02, 534.82it/s]\n"
          ]
        },
        {
          "output_type": "stream",
          "name": "stdout",
          "text": [
            "hf_nonqtl (841, 15)\n",
            "HF_QTL (2233, 19)\n",
            "hf_df (996, 14)\n"
          ]
        },
        {
          "output_type": "stream",
          "name": "stderr",
          "text": [
            "1996it [00:19, 101.10it/s]\n"
          ]
        },
        {
          "output_type": "stream",
          "name": "stdout",
          "text": [
            "hfqtl (2015, 19)\n",
            "hfqtl_wd (1387, 19)\n"
          ]
        },
        {
          "output_type": "stream",
          "name": "stderr",
          "text": [
            "0it [00:00, ?it/s]<ipython-input-64-8ad4a36f5561>:99: FutureWarning: The frame.append method is deprecated and will be removed from pandas in a future version. Use pandas.concat instead.\n",
            "  final_df1 = final_df1.append(row, ignore_index=True)\n",
            "996it [00:01, 543.06it/s]\n"
          ]
        },
        {
          "output_type": "stream",
          "name": "stdout",
          "text": [
            "hf_nonqtl (573, 15)\n",
            "HF_QTL (1960, 19)\n",
            "hf_df (1644, 14)\n"
          ]
        },
        {
          "output_type": "stream",
          "name": "stderr",
          "text": [
            "2830it [00:29, 95.32it/s] \n"
          ]
        },
        {
          "output_type": "stream",
          "name": "stdout",
          "text": [
            "hfqtl (2888, 19)\n",
            "hfqtl_wd (1955, 19)\n"
          ]
        },
        {
          "output_type": "stream",
          "name": "stderr",
          "text": [
            "0it [00:00, ?it/s]<ipython-input-64-8ad4a36f5561>:99: FutureWarning: The frame.append method is deprecated and will be removed from pandas in a future version. Use pandas.concat instead.\n",
            "  final_df1 = final_df1.append(row, ignore_index=True)\n",
            "1644it [00:03, 488.34it/s]\n"
          ]
        },
        {
          "output_type": "stream",
          "name": "stdout",
          "text": [
            "hf_nonqtl (1050, 15)\n",
            "HF_QTL (3005, 19)\n",
            "hf_df (1611, 14)\n"
          ]
        },
        {
          "output_type": "stream",
          "name": "stderr",
          "text": [
            "5506it [01:03, 86.80it/s]\n"
          ]
        },
        {
          "output_type": "stream",
          "name": "stdout",
          "text": [
            "hfqtl (5606, 19)\n",
            "hfqtl_wd (3769, 19)\n"
          ]
        },
        {
          "output_type": "stream",
          "name": "stderr",
          "text": [
            "0it [00:00, ?it/s]<ipython-input-64-8ad4a36f5561>:99: FutureWarning: The frame.append method is deprecated and will be removed from pandas in a future version. Use pandas.concat instead.\n",
            "  final_df1 = final_df1.append(row, ignore_index=True)\n",
            "1611it [00:02, 552.11it/s]\n"
          ]
        },
        {
          "output_type": "stream",
          "name": "stdout",
          "text": [
            "hf_nonqtl (852, 15)\n",
            "HF_QTL (4621, 19)\n",
            "hf_df (821, 14)\n"
          ]
        },
        {
          "output_type": "stream",
          "name": "stderr",
          "text": [
            "1558it [00:15, 102.24it/s]\n"
          ]
        },
        {
          "output_type": "stream",
          "name": "stdout",
          "text": [
            "hfqtl (1579, 19)\n",
            "hfqtl_wd (1156, 19)\n"
          ]
        },
        {
          "output_type": "stream",
          "name": "stderr",
          "text": [
            "0it [00:00, ?it/s]<ipython-input-64-8ad4a36f5561>:99: FutureWarning: The frame.append method is deprecated and will be removed from pandas in a future version. Use pandas.concat instead.\n",
            "  final_df1 = final_df1.append(row, ignore_index=True)\n",
            "821it [00:01, 485.38it/s]\n"
          ]
        },
        {
          "output_type": "stream",
          "name": "stdout",
          "text": [
            "hf_nonqtl (495, 15)\n",
            "HF_QTL (1651, 19)\n",
            "hf_df (1383, 14)\n"
          ]
        },
        {
          "output_type": "stream",
          "name": "stderr",
          "text": [
            "3341it [00:33, 100.28it/s]\n"
          ]
        },
        {
          "output_type": "stream",
          "name": "stdout",
          "text": [
            "hfqtl (3465, 19)\n",
            "hfqtl_wd (2065, 19)\n"
          ]
        },
        {
          "output_type": "stream",
          "name": "stderr",
          "text": [
            "0it [00:00, ?it/s]<ipython-input-64-8ad4a36f5561>:99: FutureWarning: The frame.append method is deprecated and will be removed from pandas in a future version. Use pandas.concat instead.\n",
            "  final_df1 = final_df1.append(row, ignore_index=True)\n",
            "1383it [00:03, 347.69it/s]\n"
          ]
        },
        {
          "output_type": "stream",
          "name": "stdout",
          "text": [
            "hf_nonqtl (846, 15)\n",
            "HF_QTL (2911, 19)\n",
            "hf_df (909, 14)\n"
          ]
        },
        {
          "output_type": "stream",
          "name": "stderr",
          "text": [
            "20606it [06:31, 52.66it/s]\n"
          ]
        },
        {
          "output_type": "stream",
          "name": "stdout",
          "text": [
            "hfqtl (21177, 19)\n",
            "hfqtl_wd (8216, 19)\n"
          ]
        },
        {
          "output_type": "stream",
          "name": "stderr",
          "text": [
            "0it [00:00, ?it/s]<ipython-input-64-8ad4a36f5561>:99: FutureWarning: The frame.append method is deprecated and will be removed from pandas in a future version. Use pandas.concat instead.\n",
            "  final_df1 = final_df1.append(row, ignore_index=True)\n",
            "909it [00:01, 535.37it/s]\n"
          ]
        },
        {
          "output_type": "stream",
          "name": "stdout",
          "text": [
            "hf_nonqtl (274, 15)\n",
            "HF_QTL (8490, 19)\n",
            "hf_df (1780, 14)\n"
          ]
        },
        {
          "output_type": "stream",
          "name": "stderr",
          "text": [
            "2419it [00:22, 105.84it/s]\n"
          ]
        },
        {
          "output_type": "stream",
          "name": "stdout",
          "text": [
            "hfqtl (2469, 19)\n",
            "hfqtl_wd (1806, 19)\n"
          ]
        },
        {
          "output_type": "stream",
          "name": "stderr",
          "text": [
            "0it [00:00, ?it/s]<ipython-input-64-8ad4a36f5561>:99: FutureWarning: The frame.append method is deprecated and will be removed from pandas in a future version. Use pandas.concat instead.\n",
            "  final_df1 = final_df1.append(row, ignore_index=True)\n",
            "1780it [00:04, 379.52it/s]\n"
          ]
        },
        {
          "output_type": "stream",
          "name": "stdout",
          "text": [
            "hf_nonqtl (1220, 15)\n",
            "HF_QTL (3026, 19)\n",
            "hf_df (1177, 14)\n"
          ]
        },
        {
          "output_type": "stream",
          "name": "stderr",
          "text": [
            "2712it [00:26, 100.70it/s]\n"
          ]
        },
        {
          "output_type": "stream",
          "name": "stdout",
          "text": [
            "hfqtl (2754, 19)\n",
            "hfqtl_wd (1832, 19)\n"
          ]
        },
        {
          "output_type": "stream",
          "name": "stderr",
          "text": [
            "0it [00:00, ?it/s]<ipython-input-64-8ad4a36f5561>:99: FutureWarning: The frame.append method is deprecated and will be removed from pandas in a future version. Use pandas.concat instead.\n",
            "  final_df1 = final_df1.append(row, ignore_index=True)\n",
            "1177it [00:02, 518.29it/s]\n"
          ]
        },
        {
          "output_type": "stream",
          "name": "stdout",
          "text": [
            "hf_nonqtl (748, 15)\n",
            "HF_QTL (2580, 19)\n",
            "hf_df (1098, 14)\n"
          ]
        },
        {
          "output_type": "stream",
          "name": "stderr",
          "text": [
            "5511it [01:02, 88.72it/s]\n"
          ]
        },
        {
          "output_type": "stream",
          "name": "stdout",
          "text": [
            "hfqtl (5590, 19)\n",
            "hfqtl_wd (3809, 19)\n"
          ]
        },
        {
          "output_type": "stream",
          "name": "stderr",
          "text": [
            "0it [00:00, ?it/s]<ipython-input-64-8ad4a36f5561>:99: FutureWarning: The frame.append method is deprecated and will be removed from pandas in a future version. Use pandas.concat instead.\n",
            "  final_df1 = final_df1.append(row, ignore_index=True)\n",
            "1098it [00:01, 591.20it/s]\n"
          ]
        },
        {
          "output_type": "stream",
          "name": "stdout",
          "text": [
            "hf_nonqtl (587, 15)\n",
            "HF_QTL (4396, 19)\n",
            "hf_df (1909, 14)\n"
          ]
        },
        {
          "output_type": "stream",
          "name": "stderr",
          "text": [
            "2580it [00:26, 98.60it/s] \n"
          ]
        },
        {
          "output_type": "stream",
          "name": "stdout",
          "text": [
            "hfqtl (2667, 19)\n",
            "hfqtl_wd (1662, 19)\n"
          ]
        },
        {
          "output_type": "stream",
          "name": "stderr",
          "text": [
            "0it [00:00, ?it/s]<ipython-input-64-8ad4a36f5561>:99: FutureWarning: The frame.append method is deprecated and will be removed from pandas in a future version. Use pandas.concat instead.\n",
            "  final_df1 = final_df1.append(row, ignore_index=True)\n",
            "1909it [00:04, 426.40it/s]\n"
          ]
        },
        {
          "output_type": "stream",
          "name": "stdout",
          "text": [
            "hf_nonqtl (1361, 15)\n",
            "HF_QTL (3023, 19)\n",
            "hf_df (1951, 14)\n"
          ]
        },
        {
          "output_type": "stream",
          "name": "stderr",
          "text": [
            "3643it [00:36, 100.19it/s]\n"
          ]
        },
        {
          "output_type": "stream",
          "name": "stdout",
          "text": [
            "hfqtl (3720, 19)\n",
            "hfqtl_wd (2240, 19)\n"
          ]
        },
        {
          "output_type": "stream",
          "name": "stderr",
          "text": [
            "0it [00:00, ?it/s]<ipython-input-64-8ad4a36f5561>:99: FutureWarning: The frame.append method is deprecated and will be removed from pandas in a future version. Use pandas.concat instead.\n",
            "  final_df1 = final_df1.append(row, ignore_index=True)\n",
            "1951it [00:06, 321.09it/s]\n"
          ]
        },
        {
          "output_type": "stream",
          "name": "stdout",
          "text": [
            "hf_nonqtl (1295, 15)\n",
            "HF_QTL (3535, 19)\n",
            "hf_df (710, 14)\n"
          ]
        },
        {
          "output_type": "stream",
          "name": "stderr",
          "text": [
            "6998it [01:23, 83.56it/s]\n"
          ]
        },
        {
          "output_type": "stream",
          "name": "stdout",
          "text": [
            "hfqtl (7174, 19)\n",
            "hfqtl_wd (3884, 19)\n"
          ]
        },
        {
          "output_type": "stream",
          "name": "stderr",
          "text": [
            "0it [00:00, ?it/s]<ipython-input-64-8ad4a36f5561>:99: FutureWarning: The frame.append method is deprecated and will be removed from pandas in a future version. Use pandas.concat instead.\n",
            "  final_df1 = final_df1.append(row, ignore_index=True)\n",
            "710it [00:01, 607.35it/s]\n"
          ]
        },
        {
          "output_type": "stream",
          "name": "stdout",
          "text": [
            "hf_nonqtl (314, 15)\n",
            "HF_QTL (4198, 19)\n",
            "hf_df (1170, 14)\n"
          ]
        },
        {
          "output_type": "stream",
          "name": "stderr",
          "text": [
            "3482it [00:36, 95.01it/s]\n"
          ]
        },
        {
          "output_type": "stream",
          "name": "stdout",
          "text": [
            "hfqtl (3526, 19)\n",
            "hfqtl_wd (2669, 19)\n"
          ]
        },
        {
          "output_type": "stream",
          "name": "stderr",
          "text": [
            "0it [00:00, ?it/s]<ipython-input-64-8ad4a36f5561>:99: FutureWarning: The frame.append method is deprecated and will be removed from pandas in a future version. Use pandas.concat instead.\n",
            "  final_df1 = final_df1.append(row, ignore_index=True)\n",
            "1170it [00:02, 443.41it/s]\n"
          ]
        },
        {
          "output_type": "stream",
          "name": "stdout",
          "text": [
            "hf_nonqtl (829, 15)\n",
            "HF_QTL (3498, 19)\n",
            "hf_df (894, 14)\n"
          ]
        },
        {
          "output_type": "stream",
          "name": "stderr",
          "text": [
            "1401it [00:13, 107.64it/s]\n"
          ]
        },
        {
          "output_type": "stream",
          "name": "stdout",
          "text": [
            "hfqtl (1450, 19)\n",
            "hfqtl_wd (1060, 19)\n"
          ]
        },
        {
          "output_type": "stream",
          "name": "stderr",
          "text": [
            "0it [00:00, ?it/s]<ipython-input-64-8ad4a36f5561>:99: FutureWarning: The frame.append method is deprecated and will be removed from pandas in a future version. Use pandas.concat instead.\n",
            "  final_df1 = final_df1.append(row, ignore_index=True)\n",
            "894it [00:01, 535.40it/s]\n"
          ]
        },
        {
          "output_type": "stream",
          "name": "stdout",
          "text": [
            "hf_nonqtl (577, 15)\n",
            "HF_QTL (1637, 19)\n",
            "hf_df (1501, 14)\n"
          ]
        },
        {
          "output_type": "stream",
          "name": "stderr",
          "text": [
            "1977it [00:17, 110.45it/s]\n"
          ]
        },
        {
          "output_type": "stream",
          "name": "stdout",
          "text": [
            "hfqtl (2030, 19)\n",
            "hfqtl_wd (1493, 19)\n"
          ]
        },
        {
          "output_type": "stream",
          "name": "stderr",
          "text": [
            "0it [00:00, ?it/s]<ipython-input-64-8ad4a36f5561>:99: FutureWarning: The frame.append method is deprecated and will be removed from pandas in a future version. Use pandas.concat instead.\n",
            "  final_df1 = final_df1.append(row, ignore_index=True)\n",
            "1501it [00:04, 372.19it/s]\n"
          ]
        },
        {
          "output_type": "stream",
          "name": "stdout",
          "text": [
            "hf_nonqtl (1047, 15)\n",
            "HF_QTL (2540, 19)\n",
            "hf_df (606, 14)\n"
          ]
        },
        {
          "output_type": "stream",
          "name": "stderr",
          "text": [
            "1045it [00:10, 103.75it/s]\n"
          ]
        },
        {
          "output_type": "stream",
          "name": "stdout",
          "text": [
            "hfqtl (1050, 19)\n",
            "hfqtl_wd (787, 19)\n"
          ]
        },
        {
          "output_type": "stream",
          "name": "stderr",
          "text": [
            "0it [00:00, ?it/s]<ipython-input-64-8ad4a36f5561>:99: FutureWarning: The frame.append method is deprecated and will be removed from pandas in a future version. Use pandas.concat instead.\n",
            "  final_df1 = final_df1.append(row, ignore_index=True)\n",
            "606it [00:01, 575.99it/s]\n"
          ]
        },
        {
          "output_type": "stream",
          "name": "stdout",
          "text": [
            "hf_nonqtl (362, 15)\n",
            "HF_QTL (1149, 19)\n",
            "hf_df (1139, 14)\n"
          ]
        },
        {
          "output_type": "stream",
          "name": "stderr",
          "text": [
            "3298it [00:33, 99.84it/s]\n"
          ]
        },
        {
          "output_type": "stream",
          "name": "stdout",
          "text": [
            "hfqtl (3387, 19)\n",
            "hfqtl_wd (2645, 19)\n"
          ]
        },
        {
          "output_type": "stream",
          "name": "stderr",
          "text": [
            "0it [00:00, ?it/s]<ipython-input-64-8ad4a36f5561>:99: FutureWarning: The frame.append method is deprecated and will be removed from pandas in a future version. Use pandas.concat instead.\n",
            "  final_df1 = final_df1.append(row, ignore_index=True)\n",
            "1139it [00:02, 511.68it/s]\n"
          ]
        },
        {
          "output_type": "stream",
          "name": "stdout",
          "text": [
            "hf_nonqtl (746, 15)\n",
            "HF_QTL (3391, 19)\n",
            "hf_df (711, 14)\n"
          ]
        },
        {
          "output_type": "stream",
          "name": "stderr",
          "text": [
            "13437it [03:28, 64.59it/s]\n"
          ]
        },
        {
          "output_type": "stream",
          "name": "stdout",
          "text": [
            "hfqtl (13733, 19)\n",
            "hfqtl_wd (4975, 19)\n"
          ]
        },
        {
          "output_type": "stream",
          "name": "stderr",
          "text": [
            "0it [00:00, ?it/s]<ipython-input-64-8ad4a36f5561>:99: FutureWarning: The frame.append method is deprecated and will be removed from pandas in a future version. Use pandas.concat instead.\n",
            "  final_df1 = final_df1.append(row, ignore_index=True)\n",
            "711it [00:01, 549.74it/s]\n"
          ]
        },
        {
          "output_type": "stream",
          "name": "stdout",
          "text": [
            "hf_nonqtl (299, 15)\n",
            "HF_QTL (5274, 19)\n",
            "hf_df (529, 14)\n"
          ]
        },
        {
          "output_type": "stream",
          "name": "stderr",
          "text": [
            "1550it [00:14, 106.56it/s]\n"
          ]
        },
        {
          "output_type": "stream",
          "name": "stdout",
          "text": [
            "hfqtl (1555, 19)\n",
            "hfqtl_wd (1190, 19)\n"
          ]
        },
        {
          "output_type": "stream",
          "name": "stderr",
          "text": [
            "0it [00:00, ?it/s]<ipython-input-64-8ad4a36f5561>:99: FutureWarning: The frame.append method is deprecated and will be removed from pandas in a future version. Use pandas.concat instead.\n",
            "  final_df1 = final_df1.append(row, ignore_index=True)\n",
            "529it [00:00, 583.81it/s]\n"
          ]
        },
        {
          "output_type": "stream",
          "name": "stdout",
          "text": [
            "hf_nonqtl (325, 15)\n",
            "HF_QTL (1515, 19)\n",
            "hf_df (570, 14)\n"
          ]
        },
        {
          "output_type": "stream",
          "name": "stderr",
          "text": [
            "926it [00:08, 110.95it/s]\n"
          ]
        },
        {
          "output_type": "stream",
          "name": "stdout",
          "text": [
            "hfqtl (932, 19)\n",
            "hfqtl_wd (675, 19)\n"
          ]
        },
        {
          "output_type": "stream",
          "name": "stderr",
          "text": [
            "0it [00:00, ?it/s]<ipython-input-64-8ad4a36f5561>:99: FutureWarning: The frame.append method is deprecated and will be removed from pandas in a future version. Use pandas.concat instead.\n",
            "  final_df1 = final_df1.append(row, ignore_index=True)\n",
            "570it [00:01, 359.56it/s]\n"
          ]
        },
        {
          "output_type": "stream",
          "name": "stdout",
          "text": [
            "hf_nonqtl (348, 15)\n",
            "HF_QTL (1023, 19)\n",
            "hf_df (1025, 14)\n"
          ]
        },
        {
          "output_type": "stream",
          "name": "stderr",
          "text": [
            "4956it [00:56, 88.27it/s]\n"
          ]
        },
        {
          "output_type": "stream",
          "name": "stdout",
          "text": [
            "hfqtl (5157, 19)\n",
            "hfqtl_wd (3291, 19)\n"
          ]
        },
        {
          "output_type": "stream",
          "name": "stderr",
          "text": [
            "0it [00:00, ?it/s]<ipython-input-64-8ad4a36f5561>:99: FutureWarning: The frame.append method is deprecated and will be removed from pandas in a future version. Use pandas.concat instead.\n",
            "  final_df1 = final_df1.append(row, ignore_index=True)\n",
            "1025it [00:02, 483.68it/s]\n"
          ]
        },
        {
          "output_type": "stream",
          "name": "stdout",
          "text": [
            "hf_nonqtl (617, 15)\n",
            "HF_QTL (3908, 19)\n",
            "hf_df (1783, 14)\n"
          ]
        },
        {
          "output_type": "stream",
          "name": "stderr",
          "text": [
            "19550it [06:23, 51.00it/s]\n"
          ]
        },
        {
          "output_type": "stream",
          "name": "stdout",
          "text": [
            "hfqtl (19877, 19)\n",
            "hfqtl_wd (8981, 19)\n"
          ]
        },
        {
          "output_type": "stream",
          "name": "stderr",
          "text": [
            "0it [00:00, ?it/s]<ipython-input-64-8ad4a36f5561>:99: FutureWarning: The frame.append method is deprecated and will be removed from pandas in a future version. Use pandas.concat instead.\n",
            "  final_df1 = final_df1.append(row, ignore_index=True)\n",
            "1783it [00:04, 421.28it/s]\n"
          ]
        },
        {
          "output_type": "stream",
          "name": "stdout",
          "text": [
            "hf_nonqtl (899, 15)\n",
            "HF_QTL (9880, 19)\n"
          ]
        }
      ]
    },
    {
      "cell_type": "code",
      "source": [
        "f1=pd.read_csv(\"/content/drive/MyDrive/Hereford_VarAnalysis/Hereford_qtl/hf_qtl_wd1.csv\")\n",
        "f2=pd.read_csv(\"/content/drive/MyDrive/Hereford_VarAnalysis/Hereford_qtl/hfnon_qtl1.csv\")"
      ],
      "metadata": {
        "id": "kUCOYfGFH_JZ"
      },
      "execution_count": null,
      "outputs": []
    },
    {
      "cell_type": "code",
      "source": [
        "f1.shape"
      ],
      "metadata": {
        "colab": {
          "base_uri": "https://localhost:8080/"
        },
        "id": "BoV5v8KmLDlY",
        "outputId": "3b628fe3-baa1-4f22-ae9f-df66ba5b5ec2"
      },
      "execution_count": null,
      "outputs": [
        {
          "output_type": "execute_result",
          "data": {
            "text/plain": [
              "(2441, 20)"
            ]
          },
          "metadata": {},
          "execution_count": 38
        }
      ]
    },
    {
      "cell_type": "code",
      "source": [
        "f2[\"QTL Class\"]= \"Nil\""
      ],
      "metadata": {
        "id": "y6vQ6YcDJFKG"
      },
      "execution_count": null,
      "outputs": []
    },
    {
      "cell_type": "code",
      "source": [
        "2441+994"
      ],
      "metadata": {
        "colab": {
          "base_uri": "https://localhost:8080/"
        },
        "id": "TmbF6oq4Lbdj",
        "outputId": "ac826b02-54d5-4b78-d4dc-8d226b21a1c3"
      },
      "execution_count": null,
      "outputs": [
        {
          "output_type": "execute_result",
          "data": {
            "text/plain": [
              "3435"
            ]
          },
          "metadata": {},
          "execution_count": 40
        }
      ]
    },
    {
      "cell_type": "code",
      "source": [
        "f2.shape"
      ],
      "metadata": {
        "colab": {
          "base_uri": "https://localhost:8080/"
        },
        "id": "qvF6re-sJpeC",
        "outputId": "e2a3f937-8c72-4ada-d26c-08b86993dc04"
      },
      "execution_count": null,
      "outputs": [
        {
          "output_type": "execute_result",
          "data": {
            "text/plain": [
              "(994, 15)"
            ]
          },
          "metadata": {},
          "execution_count": 34
        }
      ]
    },
    {
      "cell_type": "code",
      "source": [
        "hfqtl=pd.DataFrame(columns=list(f1))"
      ],
      "metadata": {
        "id": "GPibdJ4tKGvS"
      },
      "execution_count": null,
      "outputs": []
    },
    {
      "cell_type": "code",
      "source": [
        "hfqtl=pd.concat([hfqtl, f1, f2])"
      ],
      "metadata": {
        "id": "BuBeiIpjKkow"
      },
      "execution_count": null,
      "outputs": []
    },
    {
      "cell_type": "code",
      "source": [
        "hfqtl.shape"
      ],
      "metadata": {
        "colab": {
          "base_uri": "https://localhost:8080/"
        },
        "id": "jSpXd0uHK09p",
        "outputId": "49f7ad8e-190a-4a90-d74b-b19f82391b28"
      },
      "execution_count": null,
      "outputs": [
        {
          "output_type": "execute_result",
          "data": {
            "text/plain": [
              "(3435, 20)"
            ]
          },
          "metadata": {},
          "execution_count": 51
        }
      ]
    },
    {
      "cell_type": "code",
      "source": [
        "hfqtl.to_csv(\"HFQTL1.csv\")\n",
        "shutil.copy(\"HFQTL1.csv\", \"/content/drive/MyDrive/Hereford_VarAnalysis/Hereford_qtl\")"
      ],
      "metadata": {
        "colab": {
          "base_uri": "https://localhost:8080/",
          "height": 36
        },
        "id": "ffML-7BCLWzW",
        "outputId": "b8579a70-790a-491d-9170-bb76aa5bfd56"
      },
      "execution_count": null,
      "outputs": [
        {
          "output_type": "execute_result",
          "data": {
            "text/plain": [
              "'/content/drive/MyDrive/Hereford_VarAnalysis/Hereford_qtl/HFQTL1.csv'"
            ],
            "application/vnd.google.colaboratory.intrinsic+json": {
              "type": "string"
            }
          },
          "metadata": {},
          "execution_count": 56
        }
      ]
    }
  ]
}