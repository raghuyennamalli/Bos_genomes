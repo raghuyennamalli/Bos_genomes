{
  "cells": [
    {
      "cell_type": "code",
      "execution_count": null,
      "metadata": {
        "id": "xeh5jm-_VoOZ",
        "colab": {
          "base_uri": "https://localhost:8080/"
        },
        "outputId": "3865677f-0bbe-40c7-f635-8741d7dd63cd"
      },
      "outputs": [
        {
          "output_type": "stream",
          "name": "stdout",
          "text": [
            "Mounted at /content/drive\n"
          ]
        }
      ],
      "source": [
        "from google.colab import drive\n",
        "drive.mount(\"/content/drive\")"
      ]
    },
    {
      "cell_type": "code",
      "execution_count": null,
      "metadata": {
        "id": "_g1RjI2MMe33"
      },
      "outputs": [],
      "source": [
        "import pandas as pd"
      ]
    },
    {
      "cell_type": "code",
      "execution_count": null,
      "metadata": {
        "id": "BRxXxRGCM0ec"
      },
      "outputs": [],
      "source": [
        "# Remove index_col if there's no extra column or index column at the starting\n",
        "df_common=pd.read_csv(\"/content/drive/MyDrive/gene_ext/del/30/common_wd30.csv\", index_col=\"Unnamed: 0\")\n",
        "df_protein_file = pd.read_csv(\"/content/drive/MyDrive/gene_ext/ind_protein/ind_chr30_prot.csv\")"
      ]
    },
    {
      "cell_type": "code",
      "execution_count": null,
      "metadata": {
        "id": "YyhFrxBTiqUq",
        "colab": {
          "base_uri": "https://localhost:8080/"
        },
        "outputId": "2d0f65d4-d98a-40e7-ed2c-dbc8978a3831"
      },
      "outputs": [
        {
          "output_type": "execute_result",
          "data": {
            "text/plain": [
              "(1913, 12)"
            ]
          },
          "metadata": {},
          "execution_count": 1310
        }
      ],
      "source": [
        "df_common.shape"
      ]
    },
    {
      "cell_type": "code",
      "execution_count": null,
      "metadata": {
        "id": "aValyJhDpKG2"
      },
      "outputs": [],
      "source": [
        "# df_common.columns"
      ]
    },
    {
      "cell_type": "markdown",
      "source": [],
      "metadata": {
        "id": "i2v9iOeE8S0o"
      }
    },
    {
      "cell_type": "code",
      "execution_count": null,
      "metadata": {
        "id": "maSIdn7AoLYZ"
      },
      "outputs": [],
      "source": [
        "# Add column as Length of variations (LOV) in common_wd1.csv\n",
        "df_common[\"LOV\"]=abs(df_common[\"endpos.r\"]-df_common[\"startpos.r\"])"
      ]
    },
    {
      "cell_type": "code",
      "execution_count": null,
      "metadata": {
        "id": "EkUwudqwpahe",
        "colab": {
          "base_uri": "https://localhost:8080/"
        },
        "outputId": "5e9a28c7-ab06-4a6f-c2f3-176f8e182977"
      },
      "outputs": [
        {
          "output_type": "execute_result",
          "data": {
            "text/plain": [
              "(1913, 13)"
            ]
          },
          "metadata": {},
          "execution_count": 1313
        }
      ],
      "source": [
        "df_common.shape"
      ]
    },
    {
      "cell_type": "code",
      "source": [
        "df_common"
      ],
      "metadata": {
        "colab": {
          "base_uri": "https://localhost:8080/",
          "height": 423
        },
        "id": "Q2LnKk1i0K3O",
        "outputId": "94cf4d57-c787-4e5c-fefb-af02219aeffe"
      },
      "execution_count": null,
      "outputs": [
        {
          "output_type": "execute_result",
          "data": {
            "text/plain": [
              "           #CHROM        POS REF ALT        chr.r  startpos.r   endpos.r  \\\n",
              "0     NC_037357.1    5171760  CT   C  NC_037357.1     5171760    5171761   \n",
              "1     NC_037357.1    5171774  GT   G  NC_037357.1     5171774    5171775   \n",
              "2     NC_037357.1    5216510  AG   A  NC_037357.1     5216510    5216511   \n",
              "3     NC_037357.1    6129364  GT   G  NC_037357.1     6129364    6129365   \n",
              "4     NC_037357.1    6210296  TA   T  NC_037357.1     6210296    6210297   \n",
              "...           ...        ...  ..  ..          ...         ...        ...   \n",
              "1920  NC_037357.1  135060534  AG   A  NC_037357.1   135060534  135060535   \n",
              "1921  NC_037357.1  135060914  AG   A  NC_037357.1   135060914  135060915   \n",
              "1922  NC_037357.1  135763649  AT   A  NC_037357.1   135763649  135763650   \n",
              "1923  NC_037357.1  135763689  GC   G  NC_037357.1   135763689  135763690   \n",
              "1924  NC_037357.1  135763707  CA   C  NC_037357.1   135763707  135763708   \n",
              "\n",
              "     seq.r seq.q  startpos.q  endpos.q        chr.q  LOV  \n",
              "0       CT     C      598897    598897  NC_032679.1    1  \n",
              "1       GT     G      598910    598910  NC_032679.1    1  \n",
              "2       AG     A      643467    643467  NC_032679.1    1  \n",
              "3       GT     G     1049068   1049068  NC_032679.1    1  \n",
              "4       TA     T     1129905   1129905  NC_032679.1    1  \n",
              "...    ...   ...         ...       ...          ...  ...  \n",
              "1920    AG     A    86327114  86327114  NC_032679.1    1  \n",
              "1921    AG     A    86327492  86327492  NC_032679.1    1  \n",
              "1922    AT     A    87030217  87030217  NC_032679.1    1  \n",
              "1923    GC     G    87030257  87030257  NC_032679.1    1  \n",
              "1924    CA     C    87030274  87030274  NC_032679.1    1  \n",
              "\n",
              "[1913 rows x 13 columns]"
            ],
            "text/html": [
              "\n",
              "  <div id=\"df-6e51ee96-d354-421c-a1c3-03403cc1dbc0\" class=\"colab-df-container\">\n",
              "    <div>\n",
              "<style scoped>\n",
              "    .dataframe tbody tr th:only-of-type {\n",
              "        vertical-align: middle;\n",
              "    }\n",
              "\n",
              "    .dataframe tbody tr th {\n",
              "        vertical-align: top;\n",
              "    }\n",
              "\n",
              "    .dataframe thead th {\n",
              "        text-align: right;\n",
              "    }\n",
              "</style>\n",
              "<table border=\"1\" class=\"dataframe\">\n",
              "  <thead>\n",
              "    <tr style=\"text-align: right;\">\n",
              "      <th></th>\n",
              "      <th>#CHROM</th>\n",
              "      <th>POS</th>\n",
              "      <th>REF</th>\n",
              "      <th>ALT</th>\n",
              "      <th>chr.r</th>\n",
              "      <th>startpos.r</th>\n",
              "      <th>endpos.r</th>\n",
              "      <th>seq.r</th>\n",
              "      <th>seq.q</th>\n",
              "      <th>startpos.q</th>\n",
              "      <th>endpos.q</th>\n",
              "      <th>chr.q</th>\n",
              "      <th>LOV</th>\n",
              "    </tr>\n",
              "  </thead>\n",
              "  <tbody>\n",
              "    <tr>\n",
              "      <th>0</th>\n",
              "      <td>NC_037357.1</td>\n",
              "      <td>5171760</td>\n",
              "      <td>CT</td>\n",
              "      <td>C</td>\n",
              "      <td>NC_037357.1</td>\n",
              "      <td>5171760</td>\n",
              "      <td>5171761</td>\n",
              "      <td>CT</td>\n",
              "      <td>C</td>\n",
              "      <td>598897</td>\n",
              "      <td>598897</td>\n",
              "      <td>NC_032679.1</td>\n",
              "      <td>1</td>\n",
              "    </tr>\n",
              "    <tr>\n",
              "      <th>1</th>\n",
              "      <td>NC_037357.1</td>\n",
              "      <td>5171774</td>\n",
              "      <td>GT</td>\n",
              "      <td>G</td>\n",
              "      <td>NC_037357.1</td>\n",
              "      <td>5171774</td>\n",
              "      <td>5171775</td>\n",
              "      <td>GT</td>\n",
              "      <td>G</td>\n",
              "      <td>598910</td>\n",
              "      <td>598910</td>\n",
              "      <td>NC_032679.1</td>\n",
              "      <td>1</td>\n",
              "    </tr>\n",
              "    <tr>\n",
              "      <th>2</th>\n",
              "      <td>NC_037357.1</td>\n",
              "      <td>5216510</td>\n",
              "      <td>AG</td>\n",
              "      <td>A</td>\n",
              "      <td>NC_037357.1</td>\n",
              "      <td>5216510</td>\n",
              "      <td>5216511</td>\n",
              "      <td>AG</td>\n",
              "      <td>A</td>\n",
              "      <td>643467</td>\n",
              "      <td>643467</td>\n",
              "      <td>NC_032679.1</td>\n",
              "      <td>1</td>\n",
              "    </tr>\n",
              "    <tr>\n",
              "      <th>3</th>\n",
              "      <td>NC_037357.1</td>\n",
              "      <td>6129364</td>\n",
              "      <td>GT</td>\n",
              "      <td>G</td>\n",
              "      <td>NC_037357.1</td>\n",
              "      <td>6129364</td>\n",
              "      <td>6129365</td>\n",
              "      <td>GT</td>\n",
              "      <td>G</td>\n",
              "      <td>1049068</td>\n",
              "      <td>1049068</td>\n",
              "      <td>NC_032679.1</td>\n",
              "      <td>1</td>\n",
              "    </tr>\n",
              "    <tr>\n",
              "      <th>4</th>\n",
              "      <td>NC_037357.1</td>\n",
              "      <td>6210296</td>\n",
              "      <td>TA</td>\n",
              "      <td>T</td>\n",
              "      <td>NC_037357.1</td>\n",
              "      <td>6210296</td>\n",
              "      <td>6210297</td>\n",
              "      <td>TA</td>\n",
              "      <td>T</td>\n",
              "      <td>1129905</td>\n",
              "      <td>1129905</td>\n",
              "      <td>NC_032679.1</td>\n",
              "      <td>1</td>\n",
              "    </tr>\n",
              "    <tr>\n",
              "      <th>...</th>\n",
              "      <td>...</td>\n",
              "      <td>...</td>\n",
              "      <td>...</td>\n",
              "      <td>...</td>\n",
              "      <td>...</td>\n",
              "      <td>...</td>\n",
              "      <td>...</td>\n",
              "      <td>...</td>\n",
              "      <td>...</td>\n",
              "      <td>...</td>\n",
              "      <td>...</td>\n",
              "      <td>...</td>\n",
              "      <td>...</td>\n",
              "    </tr>\n",
              "    <tr>\n",
              "      <th>1920</th>\n",
              "      <td>NC_037357.1</td>\n",
              "      <td>135060534</td>\n",
              "      <td>AG</td>\n",
              "      <td>A</td>\n",
              "      <td>NC_037357.1</td>\n",
              "      <td>135060534</td>\n",
              "      <td>135060535</td>\n",
              "      <td>AG</td>\n",
              "      <td>A</td>\n",
              "      <td>86327114</td>\n",
              "      <td>86327114</td>\n",
              "      <td>NC_032679.1</td>\n",
              "      <td>1</td>\n",
              "    </tr>\n",
              "    <tr>\n",
              "      <th>1921</th>\n",
              "      <td>NC_037357.1</td>\n",
              "      <td>135060914</td>\n",
              "      <td>AG</td>\n",
              "      <td>A</td>\n",
              "      <td>NC_037357.1</td>\n",
              "      <td>135060914</td>\n",
              "      <td>135060915</td>\n",
              "      <td>AG</td>\n",
              "      <td>A</td>\n",
              "      <td>86327492</td>\n",
              "      <td>86327492</td>\n",
              "      <td>NC_032679.1</td>\n",
              "      <td>1</td>\n",
              "    </tr>\n",
              "    <tr>\n",
              "      <th>1922</th>\n",
              "      <td>NC_037357.1</td>\n",
              "      <td>135763649</td>\n",
              "      <td>AT</td>\n",
              "      <td>A</td>\n",
              "      <td>NC_037357.1</td>\n",
              "      <td>135763649</td>\n",
              "      <td>135763650</td>\n",
              "      <td>AT</td>\n",
              "      <td>A</td>\n",
              "      <td>87030217</td>\n",
              "      <td>87030217</td>\n",
              "      <td>NC_032679.1</td>\n",
              "      <td>1</td>\n",
              "    </tr>\n",
              "    <tr>\n",
              "      <th>1923</th>\n",
              "      <td>NC_037357.1</td>\n",
              "      <td>135763689</td>\n",
              "      <td>GC</td>\n",
              "      <td>G</td>\n",
              "      <td>NC_037357.1</td>\n",
              "      <td>135763689</td>\n",
              "      <td>135763690</td>\n",
              "      <td>GC</td>\n",
              "      <td>G</td>\n",
              "      <td>87030257</td>\n",
              "      <td>87030257</td>\n",
              "      <td>NC_032679.1</td>\n",
              "      <td>1</td>\n",
              "    </tr>\n",
              "    <tr>\n",
              "      <th>1924</th>\n",
              "      <td>NC_037357.1</td>\n",
              "      <td>135763707</td>\n",
              "      <td>CA</td>\n",
              "      <td>C</td>\n",
              "      <td>NC_037357.1</td>\n",
              "      <td>135763707</td>\n",
              "      <td>135763708</td>\n",
              "      <td>CA</td>\n",
              "      <td>C</td>\n",
              "      <td>87030274</td>\n",
              "      <td>87030274</td>\n",
              "      <td>NC_032679.1</td>\n",
              "      <td>1</td>\n",
              "    </tr>\n",
              "  </tbody>\n",
              "</table>\n",
              "<p>1913 rows × 13 columns</p>\n",
              "</div>\n",
              "    <div class=\"colab-df-buttons\">\n",
              "\n",
              "  <div class=\"colab-df-container\">\n",
              "    <button class=\"colab-df-convert\" onclick=\"convertToInteractive('df-6e51ee96-d354-421c-a1c3-03403cc1dbc0')\"\n",
              "            title=\"Convert this dataframe to an interactive table.\"\n",
              "            style=\"display:none;\">\n",
              "\n",
              "  <svg xmlns=\"http://www.w3.org/2000/svg\" height=\"24px\" viewBox=\"0 -960 960 960\">\n",
              "    <path d=\"M120-120v-720h720v720H120Zm60-500h600v-160H180v160Zm220 220h160v-160H400v160Zm0 220h160v-160H400v160ZM180-400h160v-160H180v160Zm440 0h160v-160H620v160ZM180-180h160v-160H180v160Zm440 0h160v-160H620v160Z\"/>\n",
              "  </svg>\n",
              "    </button>\n",
              "\n",
              "  <style>\n",
              "    .colab-df-container {\n",
              "      display:flex;\n",
              "      gap: 12px;\n",
              "    }\n",
              "\n",
              "    .colab-df-convert {\n",
              "      background-color: #E8F0FE;\n",
              "      border: none;\n",
              "      border-radius: 50%;\n",
              "      cursor: pointer;\n",
              "      display: none;\n",
              "      fill: #1967D2;\n",
              "      height: 32px;\n",
              "      padding: 0 0 0 0;\n",
              "      width: 32px;\n",
              "    }\n",
              "\n",
              "    .colab-df-convert:hover {\n",
              "      background-color: #E2EBFA;\n",
              "      box-shadow: 0px 1px 2px rgba(60, 64, 67, 0.3), 0px 1px 3px 1px rgba(60, 64, 67, 0.15);\n",
              "      fill: #174EA6;\n",
              "    }\n",
              "\n",
              "    .colab-df-buttons div {\n",
              "      margin-bottom: 4px;\n",
              "    }\n",
              "\n",
              "    [theme=dark] .colab-df-convert {\n",
              "      background-color: #3B4455;\n",
              "      fill: #D2E3FC;\n",
              "    }\n",
              "\n",
              "    [theme=dark] .colab-df-convert:hover {\n",
              "      background-color: #434B5C;\n",
              "      box-shadow: 0px 1px 3px 1px rgba(0, 0, 0, 0.15);\n",
              "      filter: drop-shadow(0px 1px 2px rgba(0, 0, 0, 0.3));\n",
              "      fill: #FFFFFF;\n",
              "    }\n",
              "  </style>\n",
              "\n",
              "    <script>\n",
              "      const buttonEl =\n",
              "        document.querySelector('#df-6e51ee96-d354-421c-a1c3-03403cc1dbc0 button.colab-df-convert');\n",
              "      buttonEl.style.display =\n",
              "        google.colab.kernel.accessAllowed ? 'block' : 'none';\n",
              "\n",
              "      async function convertToInteractive(key) {\n",
              "        const element = document.querySelector('#df-6e51ee96-d354-421c-a1c3-03403cc1dbc0');\n",
              "        const dataTable =\n",
              "          await google.colab.kernel.invokeFunction('convertToInteractive',\n",
              "                                                    [key], {});\n",
              "        if (!dataTable) return;\n",
              "\n",
              "        const docLinkHtml = 'Like what you see? Visit the ' +\n",
              "          '<a target=\"_blank\" href=https://colab.research.google.com/notebooks/data_table.ipynb>data table notebook</a>'\n",
              "          + ' to learn more about interactive tables.';\n",
              "        element.innerHTML = '';\n",
              "        dataTable['output_type'] = 'display_data';\n",
              "        await google.colab.output.renderOutput(dataTable, element);\n",
              "        const docLink = document.createElement('div');\n",
              "        docLink.innerHTML = docLinkHtml;\n",
              "        element.appendChild(docLink);\n",
              "      }\n",
              "    </script>\n",
              "  </div>\n",
              "\n",
              "\n",
              "<div id=\"df-2f1fc32e-8aea-4a85-ab8a-ab714c4a0d87\">\n",
              "  <button class=\"colab-df-quickchart\" onclick=\"quickchart('df-2f1fc32e-8aea-4a85-ab8a-ab714c4a0d87')\"\n",
              "            title=\"Suggest charts\"\n",
              "            style=\"display:none;\">\n",
              "\n",
              "<svg xmlns=\"http://www.w3.org/2000/svg\" height=\"24px\"viewBox=\"0 0 24 24\"\n",
              "     width=\"24px\">\n",
              "    <g>\n",
              "        <path d=\"M19 3H5c-1.1 0-2 .9-2 2v14c0 1.1.9 2 2 2h14c1.1 0 2-.9 2-2V5c0-1.1-.9-2-2-2zM9 17H7v-7h2v7zm4 0h-2V7h2v10zm4 0h-2v-4h2v4z\"/>\n",
              "    </g>\n",
              "</svg>\n",
              "  </button>\n",
              "\n",
              "<style>\n",
              "  .colab-df-quickchart {\n",
              "      --bg-color: #E8F0FE;\n",
              "      --fill-color: #1967D2;\n",
              "      --hover-bg-color: #E2EBFA;\n",
              "      --hover-fill-color: #174EA6;\n",
              "      --disabled-fill-color: #AAA;\n",
              "      --disabled-bg-color: #DDD;\n",
              "  }\n",
              "\n",
              "  [theme=dark] .colab-df-quickchart {\n",
              "      --bg-color: #3B4455;\n",
              "      --fill-color: #D2E3FC;\n",
              "      --hover-bg-color: #434B5C;\n",
              "      --hover-fill-color: #FFFFFF;\n",
              "      --disabled-bg-color: #3B4455;\n",
              "      --disabled-fill-color: #666;\n",
              "  }\n",
              "\n",
              "  .colab-df-quickchart {\n",
              "    background-color: var(--bg-color);\n",
              "    border: none;\n",
              "    border-radius: 50%;\n",
              "    cursor: pointer;\n",
              "    display: none;\n",
              "    fill: var(--fill-color);\n",
              "    height: 32px;\n",
              "    padding: 0;\n",
              "    width: 32px;\n",
              "  }\n",
              "\n",
              "  .colab-df-quickchart:hover {\n",
              "    background-color: var(--hover-bg-color);\n",
              "    box-shadow: 0 1px 2px rgba(60, 64, 67, 0.3), 0 1px 3px 1px rgba(60, 64, 67, 0.15);\n",
              "    fill: var(--button-hover-fill-color);\n",
              "  }\n",
              "\n",
              "  .colab-df-quickchart-complete:disabled,\n",
              "  .colab-df-quickchart-complete:disabled:hover {\n",
              "    background-color: var(--disabled-bg-color);\n",
              "    fill: var(--disabled-fill-color);\n",
              "    box-shadow: none;\n",
              "  }\n",
              "\n",
              "  .colab-df-spinner {\n",
              "    border: 2px solid var(--fill-color);\n",
              "    border-color: transparent;\n",
              "    border-bottom-color: var(--fill-color);\n",
              "    animation:\n",
              "      spin 1s steps(1) infinite;\n",
              "  }\n",
              "\n",
              "  @keyframes spin {\n",
              "    0% {\n",
              "      border-color: transparent;\n",
              "      border-bottom-color: var(--fill-color);\n",
              "      border-left-color: var(--fill-color);\n",
              "    }\n",
              "    20% {\n",
              "      border-color: transparent;\n",
              "      border-left-color: var(--fill-color);\n",
              "      border-top-color: var(--fill-color);\n",
              "    }\n",
              "    30% {\n",
              "      border-color: transparent;\n",
              "      border-left-color: var(--fill-color);\n",
              "      border-top-color: var(--fill-color);\n",
              "      border-right-color: var(--fill-color);\n",
              "    }\n",
              "    40% {\n",
              "      border-color: transparent;\n",
              "      border-right-color: var(--fill-color);\n",
              "      border-top-color: var(--fill-color);\n",
              "    }\n",
              "    60% {\n",
              "      border-color: transparent;\n",
              "      border-right-color: var(--fill-color);\n",
              "    }\n",
              "    80% {\n",
              "      border-color: transparent;\n",
              "      border-right-color: var(--fill-color);\n",
              "      border-bottom-color: var(--fill-color);\n",
              "    }\n",
              "    90% {\n",
              "      border-color: transparent;\n",
              "      border-bottom-color: var(--fill-color);\n",
              "    }\n",
              "  }\n",
              "</style>\n",
              "\n",
              "  <script>\n",
              "    async function quickchart(key) {\n",
              "      const quickchartButtonEl =\n",
              "        document.querySelector('#' + key + ' button');\n",
              "      quickchartButtonEl.disabled = true;  // To prevent multiple clicks.\n",
              "      quickchartButtonEl.classList.add('colab-df-spinner');\n",
              "      try {\n",
              "        const charts = await google.colab.kernel.invokeFunction(\n",
              "            'suggestCharts', [key], {});\n",
              "      } catch (error) {\n",
              "        console.error('Error during call to suggestCharts:', error);\n",
              "      }\n",
              "      quickchartButtonEl.classList.remove('colab-df-spinner');\n",
              "      quickchartButtonEl.classList.add('colab-df-quickchart-complete');\n",
              "    }\n",
              "    (() => {\n",
              "      let quickchartButtonEl =\n",
              "        document.querySelector('#df-2f1fc32e-8aea-4a85-ab8a-ab714c4a0d87 button');\n",
              "      quickchartButtonEl.style.display =\n",
              "        google.colab.kernel.accessAllowed ? 'block' : 'none';\n",
              "    })();\n",
              "  </script>\n",
              "</div>\n",
              "    </div>\n",
              "  </div>\n"
            ]
          },
          "metadata": {},
          "execution_count": 1314
        }
      ]
    },
    {
      "cell_type": "code",
      "execution_count": null,
      "metadata": {
        "id": "1WAham2lpfPy"
      },
      "outputs": [],
      "source": [
        "df_common.to_csv(\"common30_LOV.csv\")"
      ]
    },
    {
      "cell_type": "code",
      "execution_count": null,
      "metadata": {
        "id": "q6k0nK_YM1ED",
        "colab": {
          "base_uri": "https://localhost:8080/"
        },
        "outputId": "781484a9-43b1-46c3-e843-f45ad513e4e2"
      },
      "outputs": [
        {
          "output_type": "execute_result",
          "data": {
            "text/plain": [
              "(993, 11)"
            ]
          },
          "metadata": {},
          "execution_count": 1316
        }
      ],
      "source": [
        "df_protein_file.shape"
      ]
    },
    {
      "cell_type": "code",
      "execution_count": null,
      "metadata": {
        "id": "179Z6ie7M4jR"
      },
      "outputs": [],
      "source": [
        "def map_keywords(str_sentence):\n",
        "    list_keywords = [\n",
        "        \"immunoglobulin\",\"immunoreceptor\",\"autoimmune\",\"TLR\",\"IgG\",\n",
        "        \"autoimmune\",\"autophagy\",\"immunogen\",\"immune\",\"innate\",\"T-cell\",\"NF-kappa\", \"antigen\",\n",
        "        \"B-cell\",\"lymphocyte\",\"histocompatibility\",\"CD24\",\"CD4\",\"LY96\", \"BCR\",\n",
        "        \"IFIT3\",\"PGLYRP1\",\"NKG2D\",\"UL16\",\"leukocyte\",\"cytokine\", \"interleukin\",\"interferon\"\n",
        "        \"antimicrobial peptide\",\"beta-defensin 2\",\"IL16\",\"IL2\",\"chemokine\", \"antibody\"\n",
        "    ]\n",
        "    bool_found = bool(\n",
        "        [\n",
        "            i for i in list_keywords if i.lower() in str_sentence.lower()\n",
        "        ]\n",
        "    )\n",
        "    return bool_found"
      ]
    },
    {
      "cell_type": "code",
      "execution_count": null,
      "metadata": {
        "id": "vCdpqItqM61L"
      },
      "outputs": [],
      "source": [
        "df_protein_file[\"keyword_found\"] = df_protein_file.apply(lambda row: map_keywords(row[\"Protein Name\"]),axis=1)"
      ]
    },
    {
      "cell_type": "code",
      "execution_count": null,
      "metadata": {
        "id": "qSYLSX5CM7YC",
        "colab": {
          "base_uri": "https://localhost:8080/"
        },
        "outputId": "77d2aef9-31fb-46e6-f99c-60765b606bb3"
      },
      "outputs": [
        {
          "output_type": "execute_result",
          "data": {
            "text/plain": [
              "(61, 12)"
            ]
          },
          "metadata": {},
          "execution_count": 1319
        }
      ],
      "source": [
        "df_protein_file[df_protein_file[\"keyword_found\"]==True].shape"
      ]
    },
    {
      "cell_type": "code",
      "execution_count": null,
      "metadata": {
        "id": "JO1oD09sM_Uw",
        "colab": {
          "base_uri": "https://localhost:8080/"
        },
        "outputId": "9ad051f4-259a-4d49-ea8e-d0d9b743169f"
      },
      "outputs": [
        {
          "output_type": "execute_result",
          "data": {
            "text/plain": [
              "(61, 12)"
            ]
          },
          "metadata": {},
          "execution_count": 1320
        }
      ],
      "source": [
        "df_protein_file[df_protein_file[\"keyword_found\"]==True].drop_duplicates().shape"
      ]
    },
    {
      "cell_type": "code",
      "execution_count": null,
      "metadata": {
        "id": "c1D36epehyNe"
      },
      "outputs": [],
      "source": [
        "# df_protein_file_imm=df_protein_file[df_protein_file[\"keyword_found\"]==True].drop_duplicates()"
      ]
    },
    {
      "cell_type": "code",
      "execution_count": null,
      "metadata": {
        "id": "ts3g6U5rjmmS"
      },
      "outputs": [],
      "source": [
        "df_protein_file[\"start_of_next_gene\"] = df_protein_file[\"Start\"].shift(-1).fillna(0)"
      ]
    },
    {
      "cell_type": "code",
      "execution_count": null,
      "metadata": {
        "id": "eQUSkx2-mMfc"
      },
      "outputs": [],
      "source": [
        "# df_protein_file.head()"
      ]
    },
    {
      "cell_type": "code",
      "execution_count": null,
      "metadata": {
        "id": "-BWYufk8g9RU"
      },
      "outputs": [],
      "source": [
        "df_protein_file.to_csv(\"protein30.csv\")"
      ]
    },
    {
      "cell_type": "code",
      "execution_count": null,
      "metadata": {
        "id": "VUe3bnwFNCf1"
      },
      "outputs": [],
      "source": [
        "a=0\n",
        "b=0\n",
        "c=0\n",
        "d=0\n",
        "e=0\n",
        "f=0"
      ]
    },
    {
      "cell_type": "code",
      "execution_count": null,
      "metadata": {
        "id": "h8ifvIC1OZem"
      },
      "outputs": [],
      "source": [
        "from tqdm import tqdm"
      ]
    },
    {
      "cell_type": "code",
      "execution_count": null,
      "metadata": {
        "colab": {
          "base_uri": "https://localhost:8080/"
        },
        "id": "cC0viq7wNGLT",
        "outputId": "858fba24-1666-49c8-917a-d19fb4dee757"
      },
      "outputs": [
        {
          "output_type": "stream",
          "name": "stderr",
          "text": [
            "1913it [00:19, 99.72it/s]\n"
          ]
        }
      ],
      "source": [
        "final_df = pd.DataFrame(columns=list(df_protein_file.columns)+[\"gene_type\"]+[\"startpos.q\"]+[\"endpos.q\"]+[\"seq.r\"]+[\"seq.q\"]+[\"LOV\"])\n",
        "for i, row in tqdm(df_common.iterrows()):\n",
        "    # Check for the at start\n",
        "    if df_protein_file[(df_protein_file[\"Start\"]==row[\"startpos.q\"]) & (df_protein_file[\"Stop\"]>row[\"endpos.q\"])].shape[0]>=1:\n",
        "        tmp_df = df_protein_file[(df_protein_file[\"Start\"]==row[\"startpos.q\"]) & (df_protein_file[\"Stop\"]>row[\"endpos.q\"])].copy(deep=True)\n",
        "        tmp_df[\"gene_type\"] = \"at_start\"\n",
        "        tmp_df[\"startpos.q\"] = row[\"startpos.q\"]\n",
        "        tmp_df[\"endpos.q\"] = row[\"endpos.q\"]\n",
        "        tmp_df[\"seq.r\"] = row[\"seq.r\"]\n",
        "        tmp_df[\"seq.q\"] = row[\"seq.q\"]\n",
        "        tmp_df[\"LOV\"] = row[\"LOV\"]\n",
        "        final_df = pd.concat([final_df,tmp_df]).reset_index(drop=True)\n",
        "        a=a+1\n",
        "    # check for the at end\n",
        "    elif df_protein_file[(df_protein_file[\"Start\"]<row[\"startpos.q\"]) & (df_protein_file[\"Stop\"]==row[\"endpos.q\"])].shape[0]>=1:\n",
        "        tmp_df = df_protein_file[(df_protein_file[\"Start\"]<row[\"startpos.q\"]) & (df_protein_file[\"Stop\"]==row[\"endpos.q\"])].copy(deep=True)\n",
        "        tmp_df[\"gene_type\"] = \"at_end\"\n",
        "        tmp_df[\"startpos.q\"] = row[\"startpos.q\"]\n",
        "        tmp_df[\"endpos.q\"] = row[\"endpos.q\"]\n",
        "        tmp_df[\"seq.r\"] = row[\"seq.r\"]\n",
        "        tmp_df[\"seq.q\"] = row[\"seq.q\"]\n",
        "        tmp_df[\"LOV\"] = row[\"LOV\"]\n",
        "        final_df = pd.concat([final_df,tmp_df]).reset_index(drop=True)\n",
        "        b=b+1\n",
        "    # Check for the within gene\n",
        "    elif df_protein_file[(df_protein_file[\"Start\"]<row[\"startpos.q\"]) & (df_protein_file[\"Stop\"]>row[\"endpos.q\"])].shape[0]>=1:\n",
        "        tmp_df = df_protein_file[(df_protein_file[\"Start\"]<row[\"startpos.q\"]) & (df_protein_file[\"Stop\"]>row[\"endpos.q\"])].copy(deep=True)\n",
        "        tmp_df[\"gene_type\"] = \"within_gene\"\n",
        "        tmp_df[\"startpos.q\"] = row[\"startpos.q\"]\n",
        "        tmp_df[\"endpos.q\"] = row[\"endpos.q\"]\n",
        "        tmp_df[\"seq.r\"] = row[\"seq.r\"]\n",
        "        tmp_df[\"seq.q\"] = row[\"seq.q\"]\n",
        "        tmp_df[\"LOV\"] = row[\"LOV\"]\n",
        "        final_df = pd.concat([final_df,tmp_df]).reset_index(drop=True)\n",
        "        c=c+1\n",
        "    # Check for the near start gene with integenic\n",
        "    elif df_protein_file[(df_protein_file[\"Start\"]==row[\"endpos.q\"])].shape[0]>=1:\n",
        "        tmp_df = df_protein_file[(df_protein_file[\"Start\"]==row[\"endpos.q\"])].copy(deep=True)\n",
        "        tmp_df[\"gene_type\"] = \"gene_start_with variation end\"\n",
        "        tmp_df[\"startpos.q\"] = row[\"startpos.q\"]\n",
        "        tmp_df[\"endpos.q\"] = row[\"endpos.q\"]\n",
        "        tmp_df[\"seq.r\"] = row[\"seq.r\"]\n",
        "        tmp_df[\"seq.q\"] = row[\"seq.q\"]\n",
        "        tmp_df[\"LOV\"] = row[\"LOV\"]\n",
        "        final_df = pd.concat([final_df,tmp_df]).reset_index(drop=True)\n",
        "        d=d+1\n",
        "    # Check for the near stop gene with intergenic\n",
        "    elif df_protein_file[(df_protein_file[\"Stop\"]==row[\"startpos.q\"])].shape[0]>=1:\n",
        "        tmp_df = df_protein_file[(df_protein_file[\"Stop\"]==row[\"startpos.q\"])].copy(deep=True)\n",
        "        tmp_df[\"gene_type\"] = \"gene_stop_ with variation start\"\n",
        "        tmp_df[\"startpos.q\"] = row[\"startpos.q\"]\n",
        "        tmp_df[\"endpos.q\"] = row[\"endpos.q\"]\n",
        "        tmp_df[\"seq.r\"] = row[\"seq.r\"]\n",
        "        tmp_df[\"seq.q\"] = row[\"seq.q\"]\n",
        "        tmp_df[\"LOV\"] = row[\"LOV\"]\n",
        "        final_df = pd.concat([final_df,tmp_df]).reset_index(drop=True)\n",
        "        e=e+1\n",
        "    # Check for the intergenic gene\n",
        "    elif df_protein_file[(df_protein_file[\"Stop\"]<row[\"startpos.q\"]) & (df_protein_file[\"start_of_next_gene\"]>row[\"endpos.q\"])].shape[0]>=1:\n",
        "        tmp_df = df_protein_file[(df_protein_file[\"Stop\"]<row[\"startpos.q\"]) & (df_protein_file[\"start_of_next_gene\"]>row[\"endpos.q\"])].copy(deep=True)\n",
        "        tmp_df[\"gene_type\"] = \"intergenic_gene\"\n",
        "        tmp_df[\"startpos.q\"] = row[\"startpos.q\"]\n",
        "        tmp_df[\"endpos.q\"] = row[\"endpos.q\"]\n",
        "        tmp_df[\"seq.r\"] = row[\"seq.r\"]\n",
        "        tmp_df[\"seq.q\"] = row[\"seq.q\"]\n",
        "        tmp_df[\"LOV\"] = row[\"LOV\"]\n",
        "        final_df = pd.concat([final_df,tmp_df]).reset_index(drop=True)\n",
        "        f=f+1\n",
        "    else:\n",
        "        pass\n"
      ]
    },
    {
      "cell_type": "code",
      "execution_count": null,
      "metadata": {
        "colab": {
          "base_uri": "https://localhost:8080/"
        },
        "id": "wzSf2stDNLjT",
        "outputId": "c6df08b9-fa77-4c07-c77e-01e245c3b8e1"
      },
      "outputs": [
        {
          "output_type": "stream",
          "name": "stdout",
          "text": [
            "0\n",
            "0\n",
            "381\n",
            "0\n",
            "0\n",
            "1532\n"
          ]
        }
      ],
      "source": [
        "print(a)\n",
        "print(b)\n",
        "print(c)\n",
        "print(d)\n",
        "print(e)\n",
        "print(f)"
      ]
    },
    {
      "cell_type": "code",
      "execution_count": null,
      "metadata": {
        "colab": {
          "base_uri": "https://localhost:8080/"
        },
        "id": "jRUqRsk8xmke",
        "outputId": "cfb3f525-d878-4b68-f195-bbea636cf61c"
      },
      "outputs": [
        {
          "output_type": "execute_result",
          "data": {
            "text/plain": [
              "(2439, 19)"
            ]
          },
          "metadata": {},
          "execution_count": 1329
        }
      ],
      "source": [
        "final_df.shape"
      ]
    },
    {
      "cell_type": "code",
      "execution_count": null,
      "metadata": {
        "colab": {
          "base_uri": "https://localhost:8080/"
        },
        "id": "FHMrtKj6ZSJj",
        "outputId": "824d1d86-5208-4f9f-becb-258dd0757ee5"
      },
      "outputs": [
        {
          "output_type": "execute_result",
          "data": {
            "text/plain": [
              "(2439, 19)"
            ]
          },
          "metadata": {},
          "execution_count": 1330
        }
      ],
      "source": [
        "final_df.drop_duplicates().shape"
      ]
    },
    {
      "cell_type": "code",
      "execution_count": null,
      "metadata": {
        "id": "9Yfm8OznZdZp"
      },
      "outputs": [],
      "source": [
        "final_df.to_csv(\"genesv30.csv\")"
      ]
    },
    {
      "cell_type": "code",
      "execution_count": null,
      "metadata": {
        "colab": {
          "base_uri": "https://localhost:8080/"
        },
        "id": "b8lN74CBMi_D",
        "outputId": "22d59ec2-30ef-4608-a3ac-c3da91bf0e79"
      },
      "outputs": [
        {
          "output_type": "stream",
          "name": "stderr",
          "text": [
            "1913it [00:00, 4834.17it/s]\n"
          ]
        }
      ],
      "source": [
        "# non coding region\n",
        "final_df1 = pd.DataFrame(columns=df_common.columns)\n",
        "for index, row in tqdm(df_common.iterrows()):\n",
        "    # Check if 'startpos.q' is present in any row of file2\n",
        "    if row['startpos.q'] not in final_df['startpos.q'].values:\n",
        "        # Append the row to the DataFrame if not found\n",
        "        final_df1 = final_df1.append(row, ignore_index=True)\n",
        "\n",
        "# Save the DataFrame with rows not found in file2 to a new CSV file\n",
        "final_df1.to_csv(\"non_coding30.csv\", index=False)"
      ]
    },
    {
      "cell_type": "code",
      "execution_count": null,
      "metadata": {
        "colab": {
          "base_uri": "https://localhost:8080/"
        },
        "id": "v4RA0QgYNNrP",
        "outputId": "7bf8a872-c988-4d72-d200-e2740d7d816f"
      },
      "outputs": [
        {
          "output_type": "execute_result",
          "data": {
            "text/plain": [
              "(0, 13)"
            ]
          },
          "metadata": {},
          "execution_count": 1333
        }
      ],
      "source": [
        "final_df1.shape"
      ]
    },
    {
      "cell_type": "code",
      "execution_count": null,
      "metadata": {
        "colab": {
          "base_uri": "https://localhost:8080/"
        },
        "id": "ANcdG8jMZXgv",
        "outputId": "a0dcc133-8728-462d-dc08-a9242de4476e"
      },
      "outputs": [
        {
          "output_type": "execute_result",
          "data": {
            "text/plain": [
              "(0, 13)"
            ]
          },
          "metadata": {},
          "execution_count": 1334
        }
      ],
      "source": [
        "final_df1.drop_duplicates().shape"
      ]
    },
    {
      "cell_type": "code",
      "execution_count": null,
      "metadata": {
        "id": "d9DParmMNaCK"
      },
      "outputs": [],
      "source": [
        "imm = pd.DataFrame\n",
        "imm=final_df[final_df[\"keyword_found\"]==True]"
      ]
    },
    {
      "cell_type": "code",
      "execution_count": null,
      "metadata": {
        "colab": {
          "base_uri": "https://localhost:8080/"
        },
        "id": "bd0981jvrRwA",
        "outputId": "f9b5918b-6557-4077-c4dc-a96d885f70b0"
      },
      "outputs": [
        {
          "output_type": "execute_result",
          "data": {
            "text/plain": [
              "(286, 19)"
            ]
          },
          "metadata": {},
          "execution_count": 1336
        }
      ],
      "source": [
        "imm.shape"
      ]
    },
    {
      "cell_type": "code",
      "execution_count": null,
      "metadata": {
        "colab": {
          "base_uri": "https://localhost:8080/"
        },
        "id": "P8yEWza4NalP",
        "outputId": "03d1d04e-9252-4c22-a221-55412cc7e81d"
      },
      "outputs": [
        {
          "output_type": "execute_result",
          "data": {
            "text/plain": [
              "(286, 19)"
            ]
          },
          "metadata": {},
          "execution_count": 1337
        }
      ],
      "source": [
        "imm.drop_duplicates().shape"
      ]
    },
    {
      "cell_type": "code",
      "execution_count": null,
      "metadata": {
        "id": "A-KbliZTUg0b"
      },
      "outputs": [],
      "source": [
        "imm.drop_duplicates().to_csv(\"immv30.csv\")"
      ]
    },
    {
      "cell_type": "code",
      "execution_count": null,
      "metadata": {
        "id": "l5D4zE9vDE--"
      },
      "outputs": [],
      "source": [
        "# counting the values\n",
        "# Create a new DataFrame with unique combinations of 'Locus', 'startpos.q', and 'endpos.q'\n",
        "locus_counts = final_df.drop_duplicates(subset=['Locus', 'startpos.q', 'endpos.q'])"
      ]
    },
    {
      "cell_type": "code",
      "execution_count": null,
      "metadata": {
        "colab": {
          "base_uri": "https://localhost:8080/"
        },
        "id": "p0466nJZaGSx",
        "outputId": "57278ace-a697-4036-c597-b4a3de6eea9f"
      },
      "outputs": [
        {
          "output_type": "execute_result",
          "data": {
            "text/plain": [
              "(1913, 19)"
            ]
          },
          "metadata": {},
          "execution_count": 1340
        }
      ],
      "source": [
        "locus_counts.shape"
      ]
    },
    {
      "cell_type": "code",
      "execution_count": null,
      "metadata": {
        "id": "sc_3l7PQb-a-"
      },
      "outputs": [],
      "source": [
        "locus_counts.to_csv(\"locus_counts30.csv\")"
      ]
    },
    {
      "cell_type": "code",
      "execution_count": null,
      "metadata": {
        "id": "kBFb5zyqaQfg"
      },
      "outputs": [],
      "source": [
        "locus_counts_imm = imm.drop_duplicates(subset=['Locus', 'startpos.q', 'endpos.q'])"
      ]
    },
    {
      "cell_type": "code",
      "execution_count": null,
      "metadata": {
        "colab": {
          "base_uri": "https://localhost:8080/"
        },
        "id": "ugjCXPWzab7z",
        "outputId": "023c0e2c-30d8-4202-c00a-ec176eab97a6"
      },
      "outputs": [
        {
          "output_type": "execute_result",
          "data": {
            "text/plain": [
              "(286, 19)"
            ]
          },
          "metadata": {},
          "execution_count": 1343
        }
      ],
      "source": [
        "locus_counts_imm.shape"
      ]
    },
    {
      "cell_type": "code",
      "execution_count": null,
      "metadata": {
        "id": "wvNJDQSevtVr"
      },
      "outputs": [],
      "source": [
        "locus_counts_imm.to_csv(\"locus_counts_imm30.csv\")"
      ]
    },
    {
      "cell_type": "code",
      "execution_count": null,
      "metadata": {
        "id": "Td9z2zGOa2kQ"
      },
      "outputs": [],
      "source": [
        "gene_count=locus_counts.groupby([\"gene_type\"]).size().reset_index(name=\"count\")"
      ]
    },
    {
      "cell_type": "code",
      "execution_count": null,
      "metadata": {
        "colab": {
          "base_uri": "https://localhost:8080/",
          "height": 112
        },
        "id": "6ZFXuIz_UFgl",
        "outputId": "e92ab696-7053-45e9-baae-be94b1c1356b"
      },
      "outputs": [
        {
          "output_type": "execute_result",
          "data": {
            "text/plain": [
              "         gene_type  count\n",
              "0  intergenic_gene   1532\n",
              "1      within_gene    381"
            ],
            "text/html": [
              "\n",
              "  <div id=\"df-d632474a-9c19-43b0-8763-356b5b8defda\" class=\"colab-df-container\">\n",
              "    <div>\n",
              "<style scoped>\n",
              "    .dataframe tbody tr th:only-of-type {\n",
              "        vertical-align: middle;\n",
              "    }\n",
              "\n",
              "    .dataframe tbody tr th {\n",
              "        vertical-align: top;\n",
              "    }\n",
              "\n",
              "    .dataframe thead th {\n",
              "        text-align: right;\n",
              "    }\n",
              "</style>\n",
              "<table border=\"1\" class=\"dataframe\">\n",
              "  <thead>\n",
              "    <tr style=\"text-align: right;\">\n",
              "      <th></th>\n",
              "      <th>gene_type</th>\n",
              "      <th>count</th>\n",
              "    </tr>\n",
              "  </thead>\n",
              "  <tbody>\n",
              "    <tr>\n",
              "      <th>0</th>\n",
              "      <td>intergenic_gene</td>\n",
              "      <td>1532</td>\n",
              "    </tr>\n",
              "    <tr>\n",
              "      <th>1</th>\n",
              "      <td>within_gene</td>\n",
              "      <td>381</td>\n",
              "    </tr>\n",
              "  </tbody>\n",
              "</table>\n",
              "</div>\n",
              "    <div class=\"colab-df-buttons\">\n",
              "\n",
              "  <div class=\"colab-df-container\">\n",
              "    <button class=\"colab-df-convert\" onclick=\"convertToInteractive('df-d632474a-9c19-43b0-8763-356b5b8defda')\"\n",
              "            title=\"Convert this dataframe to an interactive table.\"\n",
              "            style=\"display:none;\">\n",
              "\n",
              "  <svg xmlns=\"http://www.w3.org/2000/svg\" height=\"24px\" viewBox=\"0 -960 960 960\">\n",
              "    <path d=\"M120-120v-720h720v720H120Zm60-500h600v-160H180v160Zm220 220h160v-160H400v160Zm0 220h160v-160H400v160ZM180-400h160v-160H180v160Zm440 0h160v-160H620v160ZM180-180h160v-160H180v160Zm440 0h160v-160H620v160Z\"/>\n",
              "  </svg>\n",
              "    </button>\n",
              "\n",
              "  <style>\n",
              "    .colab-df-container {\n",
              "      display:flex;\n",
              "      gap: 12px;\n",
              "    }\n",
              "\n",
              "    .colab-df-convert {\n",
              "      background-color: #E8F0FE;\n",
              "      border: none;\n",
              "      border-radius: 50%;\n",
              "      cursor: pointer;\n",
              "      display: none;\n",
              "      fill: #1967D2;\n",
              "      height: 32px;\n",
              "      padding: 0 0 0 0;\n",
              "      width: 32px;\n",
              "    }\n",
              "\n",
              "    .colab-df-convert:hover {\n",
              "      background-color: #E2EBFA;\n",
              "      box-shadow: 0px 1px 2px rgba(60, 64, 67, 0.3), 0px 1px 3px 1px rgba(60, 64, 67, 0.15);\n",
              "      fill: #174EA6;\n",
              "    }\n",
              "\n",
              "    .colab-df-buttons div {\n",
              "      margin-bottom: 4px;\n",
              "    }\n",
              "\n",
              "    [theme=dark] .colab-df-convert {\n",
              "      background-color: #3B4455;\n",
              "      fill: #D2E3FC;\n",
              "    }\n",
              "\n",
              "    [theme=dark] .colab-df-convert:hover {\n",
              "      background-color: #434B5C;\n",
              "      box-shadow: 0px 1px 3px 1px rgba(0, 0, 0, 0.15);\n",
              "      filter: drop-shadow(0px 1px 2px rgba(0, 0, 0, 0.3));\n",
              "      fill: #FFFFFF;\n",
              "    }\n",
              "  </style>\n",
              "\n",
              "    <script>\n",
              "      const buttonEl =\n",
              "        document.querySelector('#df-d632474a-9c19-43b0-8763-356b5b8defda button.colab-df-convert');\n",
              "      buttonEl.style.display =\n",
              "        google.colab.kernel.accessAllowed ? 'block' : 'none';\n",
              "\n",
              "      async function convertToInteractive(key) {\n",
              "        const element = document.querySelector('#df-d632474a-9c19-43b0-8763-356b5b8defda');\n",
              "        const dataTable =\n",
              "          await google.colab.kernel.invokeFunction('convertToInteractive',\n",
              "                                                    [key], {});\n",
              "        if (!dataTable) return;\n",
              "\n",
              "        const docLinkHtml = 'Like what you see? Visit the ' +\n",
              "          '<a target=\"_blank\" href=https://colab.research.google.com/notebooks/data_table.ipynb>data table notebook</a>'\n",
              "          + ' to learn more about interactive tables.';\n",
              "        element.innerHTML = '';\n",
              "        dataTable['output_type'] = 'display_data';\n",
              "        await google.colab.output.renderOutput(dataTable, element);\n",
              "        const docLink = document.createElement('div');\n",
              "        docLink.innerHTML = docLinkHtml;\n",
              "        element.appendChild(docLink);\n",
              "      }\n",
              "    </script>\n",
              "  </div>\n",
              "\n",
              "\n",
              "<div id=\"df-4b2c6f50-b65a-41d2-9a32-67d3760e1095\">\n",
              "  <button class=\"colab-df-quickchart\" onclick=\"quickchart('df-4b2c6f50-b65a-41d2-9a32-67d3760e1095')\"\n",
              "            title=\"Suggest charts\"\n",
              "            style=\"display:none;\">\n",
              "\n",
              "<svg xmlns=\"http://www.w3.org/2000/svg\" height=\"24px\"viewBox=\"0 0 24 24\"\n",
              "     width=\"24px\">\n",
              "    <g>\n",
              "        <path d=\"M19 3H5c-1.1 0-2 .9-2 2v14c0 1.1.9 2 2 2h14c1.1 0 2-.9 2-2V5c0-1.1-.9-2-2-2zM9 17H7v-7h2v7zm4 0h-2V7h2v10zm4 0h-2v-4h2v4z\"/>\n",
              "    </g>\n",
              "</svg>\n",
              "  </button>\n",
              "\n",
              "<style>\n",
              "  .colab-df-quickchart {\n",
              "      --bg-color: #E8F0FE;\n",
              "      --fill-color: #1967D2;\n",
              "      --hover-bg-color: #E2EBFA;\n",
              "      --hover-fill-color: #174EA6;\n",
              "      --disabled-fill-color: #AAA;\n",
              "      --disabled-bg-color: #DDD;\n",
              "  }\n",
              "\n",
              "  [theme=dark] .colab-df-quickchart {\n",
              "      --bg-color: #3B4455;\n",
              "      --fill-color: #D2E3FC;\n",
              "      --hover-bg-color: #434B5C;\n",
              "      --hover-fill-color: #FFFFFF;\n",
              "      --disabled-bg-color: #3B4455;\n",
              "      --disabled-fill-color: #666;\n",
              "  }\n",
              "\n",
              "  .colab-df-quickchart {\n",
              "    background-color: var(--bg-color);\n",
              "    border: none;\n",
              "    border-radius: 50%;\n",
              "    cursor: pointer;\n",
              "    display: none;\n",
              "    fill: var(--fill-color);\n",
              "    height: 32px;\n",
              "    padding: 0;\n",
              "    width: 32px;\n",
              "  }\n",
              "\n",
              "  .colab-df-quickchart:hover {\n",
              "    background-color: var(--hover-bg-color);\n",
              "    box-shadow: 0 1px 2px rgba(60, 64, 67, 0.3), 0 1px 3px 1px rgba(60, 64, 67, 0.15);\n",
              "    fill: var(--button-hover-fill-color);\n",
              "  }\n",
              "\n",
              "  .colab-df-quickchart-complete:disabled,\n",
              "  .colab-df-quickchart-complete:disabled:hover {\n",
              "    background-color: var(--disabled-bg-color);\n",
              "    fill: var(--disabled-fill-color);\n",
              "    box-shadow: none;\n",
              "  }\n",
              "\n",
              "  .colab-df-spinner {\n",
              "    border: 2px solid var(--fill-color);\n",
              "    border-color: transparent;\n",
              "    border-bottom-color: var(--fill-color);\n",
              "    animation:\n",
              "      spin 1s steps(1) infinite;\n",
              "  }\n",
              "\n",
              "  @keyframes spin {\n",
              "    0% {\n",
              "      border-color: transparent;\n",
              "      border-bottom-color: var(--fill-color);\n",
              "      border-left-color: var(--fill-color);\n",
              "    }\n",
              "    20% {\n",
              "      border-color: transparent;\n",
              "      border-left-color: var(--fill-color);\n",
              "      border-top-color: var(--fill-color);\n",
              "    }\n",
              "    30% {\n",
              "      border-color: transparent;\n",
              "      border-left-color: var(--fill-color);\n",
              "      border-top-color: var(--fill-color);\n",
              "      border-right-color: var(--fill-color);\n",
              "    }\n",
              "    40% {\n",
              "      border-color: transparent;\n",
              "      border-right-color: var(--fill-color);\n",
              "      border-top-color: var(--fill-color);\n",
              "    }\n",
              "    60% {\n",
              "      border-color: transparent;\n",
              "      border-right-color: var(--fill-color);\n",
              "    }\n",
              "    80% {\n",
              "      border-color: transparent;\n",
              "      border-right-color: var(--fill-color);\n",
              "      border-bottom-color: var(--fill-color);\n",
              "    }\n",
              "    90% {\n",
              "      border-color: transparent;\n",
              "      border-bottom-color: var(--fill-color);\n",
              "    }\n",
              "  }\n",
              "</style>\n",
              "\n",
              "  <script>\n",
              "    async function quickchart(key) {\n",
              "      const quickchartButtonEl =\n",
              "        document.querySelector('#' + key + ' button');\n",
              "      quickchartButtonEl.disabled = true;  // To prevent multiple clicks.\n",
              "      quickchartButtonEl.classList.add('colab-df-spinner');\n",
              "      try {\n",
              "        const charts = await google.colab.kernel.invokeFunction(\n",
              "            'suggestCharts', [key], {});\n",
              "      } catch (error) {\n",
              "        console.error('Error during call to suggestCharts:', error);\n",
              "      }\n",
              "      quickchartButtonEl.classList.remove('colab-df-spinner');\n",
              "      quickchartButtonEl.classList.add('colab-df-quickchart-complete');\n",
              "    }\n",
              "    (() => {\n",
              "      let quickchartButtonEl =\n",
              "        document.querySelector('#df-4b2c6f50-b65a-41d2-9a32-67d3760e1095 button');\n",
              "      quickchartButtonEl.style.display =\n",
              "        google.colab.kernel.accessAllowed ? 'block' : 'none';\n",
              "    })();\n",
              "  </script>\n",
              "</div>\n",
              "    </div>\n",
              "  </div>\n"
            ]
          },
          "metadata": {},
          "execution_count": 1346
        }
      ],
      "source": [
        "gene_count"
      ]
    },
    {
      "cell_type": "code",
      "execution_count": null,
      "metadata": {
        "id": "JAnMI0gzbKKo"
      },
      "outputs": [],
      "source": [
        "gene_count.to_csv(\"gene_count30.csv\")"
      ]
    },
    {
      "cell_type": "code",
      "execution_count": null,
      "metadata": {
        "id": "sUQqfRIl5ivx"
      },
      "outputs": [],
      "source": [
        "loc_imm_count=locus_counts_imm.groupby(by=[\"Locus\",\"gene_type\"]).size().reset_index(name=\"count\")\n",
        "# loc_imm_count.columns=[\"Locus\", \"gene_type\", \"count\"]\n",
        "\n",
        "loc_imm_count.to_csv(\"immlocus_gene_type_counts30.csv\", index=False)"
      ]
    },
    {
      "cell_type": "code",
      "source": [
        "loc_imm_count"
      ],
      "metadata": {
        "colab": {
          "base_uri": "https://localhost:8080/",
          "height": 331
        },
        "id": "3GkB5WaKcf6P",
        "outputId": "daa551d9-20b0-4da0-ff7c-fd58b0bd9f33"
      },
      "execution_count": null,
      "outputs": [
        {
          "output_type": "execute_result",
          "data": {
            "text/plain": [
              "          Locus        gene_type  count\n",
              "0          CDR1  intergenic_gene     73\n",
              "1  LOC109554781  intergenic_gene    194\n",
              "2  LOC109554808  intergenic_gene      2\n",
              "3  LOC109554932  intergenic_gene      1\n",
              "4  LOC109554955  intergenic_gene      2\n",
              "5  LOC109555064  intergenic_gene      4\n",
              "6  LOC109555202  intergenic_gene      5\n",
              "7       MAGEB16  intergenic_gene      3\n",
              "8         MCTS1  intergenic_gene      2"
            ],
            "text/html": [
              "\n",
              "  <div id=\"df-69b19268-896b-4b33-b012-7265f644f2d0\" class=\"colab-df-container\">\n",
              "    <div>\n",
              "<style scoped>\n",
              "    .dataframe tbody tr th:only-of-type {\n",
              "        vertical-align: middle;\n",
              "    }\n",
              "\n",
              "    .dataframe tbody tr th {\n",
              "        vertical-align: top;\n",
              "    }\n",
              "\n",
              "    .dataframe thead th {\n",
              "        text-align: right;\n",
              "    }\n",
              "</style>\n",
              "<table border=\"1\" class=\"dataframe\">\n",
              "  <thead>\n",
              "    <tr style=\"text-align: right;\">\n",
              "      <th></th>\n",
              "      <th>Locus</th>\n",
              "      <th>gene_type</th>\n",
              "      <th>count</th>\n",
              "    </tr>\n",
              "  </thead>\n",
              "  <tbody>\n",
              "    <tr>\n",
              "      <th>0</th>\n",
              "      <td>CDR1</td>\n",
              "      <td>intergenic_gene</td>\n",
              "      <td>73</td>\n",
              "    </tr>\n",
              "    <tr>\n",
              "      <th>1</th>\n",
              "      <td>LOC109554781</td>\n",
              "      <td>intergenic_gene</td>\n",
              "      <td>194</td>\n",
              "    </tr>\n",
              "    <tr>\n",
              "      <th>2</th>\n",
              "      <td>LOC109554808</td>\n",
              "      <td>intergenic_gene</td>\n",
              "      <td>2</td>\n",
              "    </tr>\n",
              "    <tr>\n",
              "      <th>3</th>\n",
              "      <td>LOC109554932</td>\n",
              "      <td>intergenic_gene</td>\n",
              "      <td>1</td>\n",
              "    </tr>\n",
              "    <tr>\n",
              "      <th>4</th>\n",
              "      <td>LOC109554955</td>\n",
              "      <td>intergenic_gene</td>\n",
              "      <td>2</td>\n",
              "    </tr>\n",
              "    <tr>\n",
              "      <th>5</th>\n",
              "      <td>LOC109555064</td>\n",
              "      <td>intergenic_gene</td>\n",
              "      <td>4</td>\n",
              "    </tr>\n",
              "    <tr>\n",
              "      <th>6</th>\n",
              "      <td>LOC109555202</td>\n",
              "      <td>intergenic_gene</td>\n",
              "      <td>5</td>\n",
              "    </tr>\n",
              "    <tr>\n",
              "      <th>7</th>\n",
              "      <td>MAGEB16</td>\n",
              "      <td>intergenic_gene</td>\n",
              "      <td>3</td>\n",
              "    </tr>\n",
              "    <tr>\n",
              "      <th>8</th>\n",
              "      <td>MCTS1</td>\n",
              "      <td>intergenic_gene</td>\n",
              "      <td>2</td>\n",
              "    </tr>\n",
              "  </tbody>\n",
              "</table>\n",
              "</div>\n",
              "    <div class=\"colab-df-buttons\">\n",
              "\n",
              "  <div class=\"colab-df-container\">\n",
              "    <button class=\"colab-df-convert\" onclick=\"convertToInteractive('df-69b19268-896b-4b33-b012-7265f644f2d0')\"\n",
              "            title=\"Convert this dataframe to an interactive table.\"\n",
              "            style=\"display:none;\">\n",
              "\n",
              "  <svg xmlns=\"http://www.w3.org/2000/svg\" height=\"24px\" viewBox=\"0 -960 960 960\">\n",
              "    <path d=\"M120-120v-720h720v720H120Zm60-500h600v-160H180v160Zm220 220h160v-160H400v160Zm0 220h160v-160H400v160ZM180-400h160v-160H180v160Zm440 0h160v-160H620v160ZM180-180h160v-160H180v160Zm440 0h160v-160H620v160Z\"/>\n",
              "  </svg>\n",
              "    </button>\n",
              "\n",
              "  <style>\n",
              "    .colab-df-container {\n",
              "      display:flex;\n",
              "      gap: 12px;\n",
              "    }\n",
              "\n",
              "    .colab-df-convert {\n",
              "      background-color: #E8F0FE;\n",
              "      border: none;\n",
              "      border-radius: 50%;\n",
              "      cursor: pointer;\n",
              "      display: none;\n",
              "      fill: #1967D2;\n",
              "      height: 32px;\n",
              "      padding: 0 0 0 0;\n",
              "      width: 32px;\n",
              "    }\n",
              "\n",
              "    .colab-df-convert:hover {\n",
              "      background-color: #E2EBFA;\n",
              "      box-shadow: 0px 1px 2px rgba(60, 64, 67, 0.3), 0px 1px 3px 1px rgba(60, 64, 67, 0.15);\n",
              "      fill: #174EA6;\n",
              "    }\n",
              "\n",
              "    .colab-df-buttons div {\n",
              "      margin-bottom: 4px;\n",
              "    }\n",
              "\n",
              "    [theme=dark] .colab-df-convert {\n",
              "      background-color: #3B4455;\n",
              "      fill: #D2E3FC;\n",
              "    }\n",
              "\n",
              "    [theme=dark] .colab-df-convert:hover {\n",
              "      background-color: #434B5C;\n",
              "      box-shadow: 0px 1px 3px 1px rgba(0, 0, 0, 0.15);\n",
              "      filter: drop-shadow(0px 1px 2px rgba(0, 0, 0, 0.3));\n",
              "      fill: #FFFFFF;\n",
              "    }\n",
              "  </style>\n",
              "\n",
              "    <script>\n",
              "      const buttonEl =\n",
              "        document.querySelector('#df-69b19268-896b-4b33-b012-7265f644f2d0 button.colab-df-convert');\n",
              "      buttonEl.style.display =\n",
              "        google.colab.kernel.accessAllowed ? 'block' : 'none';\n",
              "\n",
              "      async function convertToInteractive(key) {\n",
              "        const element = document.querySelector('#df-69b19268-896b-4b33-b012-7265f644f2d0');\n",
              "        const dataTable =\n",
              "          await google.colab.kernel.invokeFunction('convertToInteractive',\n",
              "                                                    [key], {});\n",
              "        if (!dataTable) return;\n",
              "\n",
              "        const docLinkHtml = 'Like what you see? Visit the ' +\n",
              "          '<a target=\"_blank\" href=https://colab.research.google.com/notebooks/data_table.ipynb>data table notebook</a>'\n",
              "          + ' to learn more about interactive tables.';\n",
              "        element.innerHTML = '';\n",
              "        dataTable['output_type'] = 'display_data';\n",
              "        await google.colab.output.renderOutput(dataTable, element);\n",
              "        const docLink = document.createElement('div');\n",
              "        docLink.innerHTML = docLinkHtml;\n",
              "        element.appendChild(docLink);\n",
              "      }\n",
              "    </script>\n",
              "  </div>\n",
              "\n",
              "\n",
              "<div id=\"df-7b99484d-1716-448d-bad6-50e2eb558f7c\">\n",
              "  <button class=\"colab-df-quickchart\" onclick=\"quickchart('df-7b99484d-1716-448d-bad6-50e2eb558f7c')\"\n",
              "            title=\"Suggest charts\"\n",
              "            style=\"display:none;\">\n",
              "\n",
              "<svg xmlns=\"http://www.w3.org/2000/svg\" height=\"24px\"viewBox=\"0 0 24 24\"\n",
              "     width=\"24px\">\n",
              "    <g>\n",
              "        <path d=\"M19 3H5c-1.1 0-2 .9-2 2v14c0 1.1.9 2 2 2h14c1.1 0 2-.9 2-2V5c0-1.1-.9-2-2-2zM9 17H7v-7h2v7zm4 0h-2V7h2v10zm4 0h-2v-4h2v4z\"/>\n",
              "    </g>\n",
              "</svg>\n",
              "  </button>\n",
              "\n",
              "<style>\n",
              "  .colab-df-quickchart {\n",
              "      --bg-color: #E8F0FE;\n",
              "      --fill-color: #1967D2;\n",
              "      --hover-bg-color: #E2EBFA;\n",
              "      --hover-fill-color: #174EA6;\n",
              "      --disabled-fill-color: #AAA;\n",
              "      --disabled-bg-color: #DDD;\n",
              "  }\n",
              "\n",
              "  [theme=dark] .colab-df-quickchart {\n",
              "      --bg-color: #3B4455;\n",
              "      --fill-color: #D2E3FC;\n",
              "      --hover-bg-color: #434B5C;\n",
              "      --hover-fill-color: #FFFFFF;\n",
              "      --disabled-bg-color: #3B4455;\n",
              "      --disabled-fill-color: #666;\n",
              "  }\n",
              "\n",
              "  .colab-df-quickchart {\n",
              "    background-color: var(--bg-color);\n",
              "    border: none;\n",
              "    border-radius: 50%;\n",
              "    cursor: pointer;\n",
              "    display: none;\n",
              "    fill: var(--fill-color);\n",
              "    height: 32px;\n",
              "    padding: 0;\n",
              "    width: 32px;\n",
              "  }\n",
              "\n",
              "  .colab-df-quickchart:hover {\n",
              "    background-color: var(--hover-bg-color);\n",
              "    box-shadow: 0 1px 2px rgba(60, 64, 67, 0.3), 0 1px 3px 1px rgba(60, 64, 67, 0.15);\n",
              "    fill: var(--button-hover-fill-color);\n",
              "  }\n",
              "\n",
              "  .colab-df-quickchart-complete:disabled,\n",
              "  .colab-df-quickchart-complete:disabled:hover {\n",
              "    background-color: var(--disabled-bg-color);\n",
              "    fill: var(--disabled-fill-color);\n",
              "    box-shadow: none;\n",
              "  }\n",
              "\n",
              "  .colab-df-spinner {\n",
              "    border: 2px solid var(--fill-color);\n",
              "    border-color: transparent;\n",
              "    border-bottom-color: var(--fill-color);\n",
              "    animation:\n",
              "      spin 1s steps(1) infinite;\n",
              "  }\n",
              "\n",
              "  @keyframes spin {\n",
              "    0% {\n",
              "      border-color: transparent;\n",
              "      border-bottom-color: var(--fill-color);\n",
              "      border-left-color: var(--fill-color);\n",
              "    }\n",
              "    20% {\n",
              "      border-color: transparent;\n",
              "      border-left-color: var(--fill-color);\n",
              "      border-top-color: var(--fill-color);\n",
              "    }\n",
              "    30% {\n",
              "      border-color: transparent;\n",
              "      border-left-color: var(--fill-color);\n",
              "      border-top-color: var(--fill-color);\n",
              "      border-right-color: var(--fill-color);\n",
              "    }\n",
              "    40% {\n",
              "      border-color: transparent;\n",
              "      border-right-color: var(--fill-color);\n",
              "      border-top-color: var(--fill-color);\n",
              "    }\n",
              "    60% {\n",
              "      border-color: transparent;\n",
              "      border-right-color: var(--fill-color);\n",
              "    }\n",
              "    80% {\n",
              "      border-color: transparent;\n",
              "      border-right-color: var(--fill-color);\n",
              "      border-bottom-color: var(--fill-color);\n",
              "    }\n",
              "    90% {\n",
              "      border-color: transparent;\n",
              "      border-bottom-color: var(--fill-color);\n",
              "    }\n",
              "  }\n",
              "</style>\n",
              "\n",
              "  <script>\n",
              "    async function quickchart(key) {\n",
              "      const quickchartButtonEl =\n",
              "        document.querySelector('#' + key + ' button');\n",
              "      quickchartButtonEl.disabled = true;  // To prevent multiple clicks.\n",
              "      quickchartButtonEl.classList.add('colab-df-spinner');\n",
              "      try {\n",
              "        const charts = await google.colab.kernel.invokeFunction(\n",
              "            'suggestCharts', [key], {});\n",
              "      } catch (error) {\n",
              "        console.error('Error during call to suggestCharts:', error);\n",
              "      }\n",
              "      quickchartButtonEl.classList.remove('colab-df-spinner');\n",
              "      quickchartButtonEl.classList.add('colab-df-quickchart-complete');\n",
              "    }\n",
              "    (() => {\n",
              "      let quickchartButtonEl =\n",
              "        document.querySelector('#df-7b99484d-1716-448d-bad6-50e2eb558f7c button');\n",
              "      quickchartButtonEl.style.display =\n",
              "        google.colab.kernel.accessAllowed ? 'block' : 'none';\n",
              "    })();\n",
              "  </script>\n",
              "</div>\n",
              "    </div>\n",
              "  </div>\n"
            ]
          },
          "metadata": {},
          "execution_count": 1349
        }
      ]
    },
    {
      "cell_type": "code",
      "execution_count": null,
      "metadata": {
        "id": "7RKCOOKHxIP0"
      },
      "outputs": [],
      "source": [
        "# Calculate value counts\n",
        "count = locus_counts[\"gene_type\"].value_counts().reset_index()\n",
        "count.columns = [\"gene_type\", \"Count\"]\n",
        "count.loc[len(count.index)]=[\"immune_gene\", len(locus_counts_imm)]\n",
        "count.loc[len(count.index)]=[\"non_coding_gene\", len(final_df1)]\n",
        "\n",
        "\n",
        "# Save the result to a CSV file\n",
        "count.to_csv(\"delcounts30.csv\", index=False)"
      ]
    },
    {
      "cell_type": "code",
      "execution_count": null,
      "metadata": {
        "colab": {
          "base_uri": "https://localhost:8080/",
          "height": 36
        },
        "id": "3d_AAv-KFU_g",
        "outputId": "72515fa8-1a9b-4063-dc82-ea0e1074c10e"
      },
      "outputs": [
        {
          "output_type": "execute_result",
          "data": {
            "text/plain": [
              "'/content/drive/MyDrive/gene_ext/del/30/new/delcounts30.csv'"
            ],
            "application/vnd.google.colaboratory.intrinsic+json": {
              "type": "string"
            }
          },
          "metadata": {},
          "execution_count": 1351
        }
      ],
      "source": [
        "import shutil\n",
        "\n",
        "shutil.copy(\"protein30.csv\",\"/content/drive/MyDrive/gene_ext/del/30/new\")\n",
        "shutil.copy(\"common30_LOV.csv\",\"/content/drive/MyDrive/gene_ext/del/30/new/\")\n",
        "shutil.copy(\"genesv30.csv\",\"/content/drive/MyDrive/gene_ext/del/30/new/\")\n",
        "shutil.copy(\"immv30.csv\",\"/content/drive/MyDrive/gene_ext/del/30/new/\")\n",
        "shutil.copy(\"locus_counts30.csv\",\"/content/drive/MyDrive/gene_ext/del/30/new/\")\n",
        "shutil.copy(\"locus_counts_imm30.csv\",\"/content/drive/MyDrive/gene_ext/del/30/new/\")\n",
        "shutil.copy(\"immlocus_gene_type_counts30.csv\",\"/content/drive/MyDrive/gene_ext/del/30/new/\")\n",
        "shutil.copy(\"gene_count30.csv\",\"/content/drive/MyDrive/gene_ext/del/30/new/\")\n",
        "shutil.copy(\"delcounts30.csv\",\"/content/drive/MyDrive/gene_ext/del/30/new/\")"
      ]
    },
    {
      "cell_type": "code",
      "source": [
        "# immune genes information - deletion\n",
        "import shutil\n",
        "\n",
        "Chr_list=[1, 2, 3, 4, 5, 6, 7, 8, 9, 10, 11, 12, 13, 14, 15, 16, 17, 18, 19, 20, 21, 22, 23, 24, 25, 26, 27, 28, 29, \"X\"]\n",
        "# Chr_list = [1]\n",
        "for chr in Chr_list:\n",
        "  print(f\"chromosome:{chr}\")\n",
        "  in_file1=f\"/content/drive/MyDrive/COW_GENOME_RESEARCH/Objective_1/Whole_Genome_Analysis_Existing_Data/gene_ext/del/{chr}/new/immloc_count_within_gene{chr}.csv\"\n",
        "  outloc=f\"/content/drive/MyDrive/COW_GENOME_RESEARCH/Objective_1/Whole_Genome_Analysis_Existing_Data/gene_ext/del/{chr}/new\"\n",
        "  imf1=pd.read_csv(in_file1)\n",
        "\n",
        "  # extract the immune has how many variations and its gene type\n",
        "  locwithin_imm_count=imf1.groupby(by=[\"Locus\"]).size().reset_index(name=\"count\")\n",
        "\n",
        "  # Group by 'Locus' and calculate the sum of 'LOV'\n",
        "  grouped = imf1.groupby('Locus')['LOV'].sum().reset_index()\n",
        "\n",
        "  # Merge the two files on the 'Locus' column\n",
        "  merged_df = pd.merge(locwithin_imm_count, grouped, on='Locus')\n",
        "\n",
        "  # Rename columns for clarity\n",
        "  merged_df.rename(columns={'count': 'No. of Variations', 'LOV': 'Length of Variations'}, inplace=True)\n",
        "\n",
        "  chr_col=f\"{chr}\"\n",
        "\n",
        "  merged_df[\"Chromosome\"] = chr_col\n",
        "\n",
        "  # Reorder columns\n",
        "  reorder_df = merged_df[['Chromosome','Locus', 'No. of Variations', 'Length of Variations']]\n",
        "\n",
        "  out_f1=f\"imm_var_count{chr}.csv\"\n",
        "  reorder_df.to_csv(out_f1)\n",
        "\n",
        "  shutil.copy(out_f1, outloc)\n"
      ],
      "metadata": {
        "colab": {
          "base_uri": "https://localhost:8080/"
        },
        "id": "wn2Ekojawl2Z",
        "outputId": "b4fdd4d3-0af0-4e08-d4f5-7d056642313e"
      },
      "execution_count": null,
      "outputs": [
        {
          "output_type": "stream",
          "name": "stdout",
          "text": [
            "chromosome:1\n",
            "chromosome:2\n",
            "chromosome:3\n",
            "chromosome:4\n",
            "chromosome:5\n",
            "chromosome:6\n",
            "chromosome:7\n",
            "chromosome:8\n",
            "chromosome:9\n",
            "chromosome:10\n",
            "chromosome:11\n",
            "chromosome:12\n",
            "chromosome:13\n",
            "chromosome:14\n",
            "chromosome:15\n",
            "chromosome:16\n",
            "chromosome:17\n",
            "chromosome:18\n",
            "chromosome:19\n",
            "chromosome:20\n",
            "chromosome:21\n",
            "chromosome:22\n",
            "chromosome:23\n",
            "chromosome:24\n",
            "chromosome:25\n",
            "chromosome:26\n",
            "chromosome:27\n",
            "chromosome:28\n",
            "chromosome:29\n",
            "chromosome:X\n"
          ]
        }
      ]
    }
  ],
  "metadata": {
    "colab": {
      "provenance": []
    },
    "kernelspec": {
      "display_name": "Python 3",
      "name": "python3"
    },
    "language_info": {
      "name": "python"
    }
  },
  "nbformat": 4,
  "nbformat_minor": 0
}