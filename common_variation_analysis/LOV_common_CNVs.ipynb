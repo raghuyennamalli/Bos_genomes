{
  "nbformat": 4,
  "nbformat_minor": 0,
  "metadata": {
    "colab": {
      "provenance": []
    },
    "kernelspec": {
      "name": "python3",
      "display_name": "Python 3"
    },
    "language_info": {
      "name": "python"
    }
  },
  "cells": [
    {
      "cell_type": "code",
      "execution_count": null,
      "metadata": {
        "id": "j4mHtg-rHQPX"
      },
      "outputs": [],
      "source": [
        "import os\n",
        "import pandas as pd\n",
        "from google.colab import drive"
      ]
    },
    {
      "cell_type": "code",
      "source": [
        "drive.mount(\"/content/drive\")"
      ],
      "metadata": {
        "colab": {
          "base_uri": "https://localhost:8080/"
        },
        "id": "mn4t97hmJxGQ",
        "outputId": "91db3ee7-e84b-436b-8087-d3cde2d62149"
      },
      "execution_count": null,
      "outputs": [
        {
          "output_type": "stream",
          "name": "stdout",
          "text": [
            "Mounted at /content/drive\n"
          ]
        }
      ]
    },
    {
      "cell_type": "code",
      "source": [
        "a=0\n",
        "b=0\n",
        "c=0\n",
        "d=0\n",
        "e=0"
      ],
      "metadata": {
        "id": "7fk_SBkOOFJi"
      },
      "execution_count": null,
      "outputs": []
    },
    {
      "cell_type": "code",
      "source": [
        "# finaldf=pd.DataFrame(columns=)"
      ],
      "metadata": {
        "id": "110yydlVOi8t"
      },
      "execution_count": null,
      "outputs": []
    },
    {
      "cell_type": "code",
      "source": [
        "dir=\"/content/drive/MyDrive/gene_ext/ins\"\n",
        "for f in os.listdir(dir):\n",
        "  # print(f)\n",
        "  file1=os.path.join(dir, f)\n",
        "  # print(file1)\n",
        "  for f1 in os.listdir(file1):\n",
        "    # print(f1)\n",
        "    if f1.startswith(\"common_wd\") and f1.endswith(\".csv\"):\n",
        "      file2=os.path.join(file1, f1)\n",
        "      print(file2)\n",
        "      df=pd.read_csv(file2)\n",
        "      if df[\"LOV\"]>=10:\n",
        "        a=a+1\n",
        "      elif df[\"LOV\"]>=20:\n",
        "        b=b+1\n",
        "      elif df[\"LOV\"]>=30:\n",
        "        c=c+1\n",
        "      elif df[\"LOV\"]>=40:\n",
        "        d=d+1\n",
        "      elif df[\"LOV\"]>50:\n",
        "        e=e+1\n",
        "      else:\n",
        "        pass\n"
      ],
      "metadata": {
        "id": "aQtMkZfNKA5H"
      },
      "execution_count": null,
      "outputs": []
    },
    {
      "cell_type": "code",
      "source": [
        "a=0\n",
        "b=0\n",
        "c=0\n",
        "d=0\n",
        "e=0"
      ],
      "metadata": {
        "id": "GNccE4QlPrJc"
      },
      "execution_count": null,
      "outputs": []
    },
    {
      "cell_type": "code",
      "source": [
        "df=pd.read_csv(\"/content/common_wd30.csv\", delimiter=\",\")\n",
        "# print(df)\n",
        "column_names = [\"s.no\",\"#CHROM\", \"POS\", \"REF\", \"ALT\", \"chr.r\", \"startpos.r\", \"endpos.r\", \"seq.r\", \"seq.q\", \"startpos.q\", \"endpos.q\", \"LOV\", \"chr.q\"]\n",
        "df.columns=column_names\n",
        "lov_col=df[\"LOV\"]\n",
        "# print(lov_col)\n",
        "for i in lov_col:\n",
        "  # print(i)\n",
        "  if i>=50:\n",
        "    a=a+1\n",
        "  elif i>=40:\n",
        "    b=b+1\n",
        "  elif i>=30:\n",
        "    c=c+1\n",
        "  elif i>=20:\n",
        "    d=d+1\n",
        "  elif i>10:\n",
        "    e=e+1\n",
        "  else:\n",
        "    pass\n",
        "print(a, b, c, d, e)"
      ],
      "metadata": {
        "colab": {
          "base_uri": "https://localhost:8080/"
        },
        "id": "OELmI1UnO9uY",
        "outputId": "d97507c6-fe58-482b-e6d8-580005cd907f"
      },
      "execution_count": null,
      "outputs": [
        {
          "output_type": "stream",
          "name": "stdout",
          "text": [
            "3 1 1 7 17\n"
          ]
        }
      ]
    },
    {
      "cell_type": "code",
      "source": [
        "# Count values greater than or equal to 50\n",
        "count_50_or_more = (df[\"LOV\"] >= 50) #this returns in boolean method\n",
        "print(count_50_or_more)"
      ],
      "metadata": {
        "id": "PxhYZmZ4XhPi"
      },
      "execution_count": null,
      "outputs": []
    },
    {
      "cell_type": "code",
      "source": [
        "counts_df = pd.DataFrame(columns=[\"File Name\", \"LOV >= 50\", \"LOV >= 40\", \"LOV >= 30\", \"LOV >= 20\", \"LOV >= 10\"])\n",
        "# Count values greater than or equal to 50\n",
        "count_50 = (df[\"LOV\"] >= 50).sum() #it counts how many true is there\n",
        "# print(count_50_or_more)\n",
        "\n",
        "# Count values greater than or equal to 40\n",
        "count_40 = (df[\"LOV\"] >= 40).sum()\n",
        "\n",
        "# # Count values greater than or equal to 30\n",
        "count_30 = (df[\"LOV\"] >= 30).sum()\n",
        "\n",
        "# # Count values greater than or equal to 20\n",
        "count_20 = (df[\"LOV\"] >= 20).sum()\n",
        "\n",
        "# # Count values greater than or equal to 10\n",
        "count_10 = (df[\"LOV\"] >= 10).sum()\n",
        "\n",
        "# # Print the counts\n",
        "# print(\"Count of values >= 50:\", count_50_or_more)\n",
        "# print(\"Count of values >= 40:\", count_40_or_more)\n",
        "# print(\"Count of values >= 30:\", count_30_or_more)\n",
        "# print(\"Count of values >= 20:\", count_20_or_more)\n",
        "# print(\"Count of values >= 10:\", count_10_or_more)\n",
        "# # This code will calculate and print the counts of values that meet the specified conditions (greater than or equal to 50, 40, 30, 20, and 10) in your \"LOV\" column.\n",
        "\n",
        " # Add counts to the DataFrame\n",
        "counts_df = counts_df.append({\"File Name\": f1, \"LOV >= 50\": count_50, \"LOV >= 40\": count_40, \"LOV >= 30\": count_30, \"LOV >= 20\": count_20, \"LOV >= 10\": count_10}, ignore_index=True)\n",
        "\n",
        "# Save the DataFrame to a CSV file\n",
        "counts_df.to_csv(\"lov_countstest.csv\", index=False)\n",
        "\n",
        "\n",
        "\n"
      ],
      "metadata": {
        "colab": {
          "base_uri": "https://localhost:8080/"
        },
        "id": "X1QTs-9CW2Qv",
        "outputId": "3630c912-4b65-43cf-94a0-c726186f68f3"
      },
      "execution_count": null,
      "outputs": [
        {
          "output_type": "stream",
          "name": "stderr",
          "text": [
            "<ipython-input-51-ec73d5646fab>:27: FutureWarning: The frame.append method is deprecated and will be removed from pandas in a future version. Use pandas.concat instead.\n",
            "  counts_df = counts_df.append({\"File Name\": f1, \"LOV >= 50\": count_50, \"LOV >= 40\": count_40, \"LOV >= 30\": count_30, \"LOV >= 20\": count_20, \"LOV >= 10\": count_10}, ignore_index=True)\n"
          ]
        }
      ]
    },
    {
      "cell_type": "code",
      "source": [
        "df=pd.read_csv(\"/content/common_wd30.csv\", delimiter=\",\")\n",
        "# print(df)\n",
        "column_names = [\"s.no\",\"#CHROM\", \"POS\", \"REF\", \"ALT\", \"chr.r\", \"startpos.r\", \"endpos.r\", \"seq.r\", \"seq.q\", \"startpos.q\", \"endpos.q\", \"LOV\", \"chr.q\"]\n",
        "df.columns=column_names\n",
        "lov_values=df[\"LOV\"]\n",
        "\n",
        "# Create a dictionary with the counts\n",
        "counts = {\n",
        "    'LOV >= 50': sum(1 for val in lov_values if val >= 50),\n",
        "    'LOV >= 40': sum(1 for val in lov_values if val >= 40),\n",
        "    'LOV >= 30': sum(1 for val in lov_values if val >= 30),\n",
        "    'LOV >= 20': sum(1 for val in lov_values if val >= 20),\n",
        "    'LOV >= 10': sum(1 for val in lov_values if val >= 10)\n",
        "}\n",
        "\n",
        "# Convert the dictionary to a DataFrame\n",
        "counts_df = pd.DataFrame(list(counts.items()), columns=['Condition', 'Count'])\n",
        "\n",
        "# Display the DataFrame\n",
        "print(counts_df)\n",
        "\n",
        "# Save the DataFrame to a CSV file\n",
        "counts_df.to_csv('lov_counts.csv', index=False)"
      ],
      "metadata": {
        "colab": {
          "base_uri": "https://localhost:8080/"
        },
        "id": "p3aASJwdYsl-",
        "outputId": "eee1945a-7530-4be4-dc6d-b6c3698b49a0"
      },
      "execution_count": null,
      "outputs": [
        {
          "output_type": "stream",
          "name": "stdout",
          "text": [
            "   Condition  Count\n",
            "0  LOV >= 50      3\n",
            "1  LOV >= 40      4\n",
            "2  LOV >= 30      5\n",
            "3  LOV >= 20     12\n",
            "4  LOV >= 10     29\n"
          ]
        }
      ]
    },
    {
      "cell_type": "code",
      "source": [
        "counts_df = pd.DataFrame(columns=[\"File Name\", \"LOV >= 50\", \"LOV >= 40\", \"LOV >= 30\", \"LOV >= 20\", \"LOV >= 10\"])\n",
        "\n",
        "dir=\"/content/drive/MyDrive/gene_ext/ins\"\n",
        "for f in os.listdir(dir):\n",
        "  # print(f)\n",
        "  file1=os.path.join(dir, f)\n",
        "  # print(file1)\n",
        "  for f1 in os.listdir(file1):\n",
        "    # print(f1)\n",
        "    if f1.startswith(\"common_wd\") and f1.endswith(\".csv\"):\n",
        "      file2=os.path.join(file1, f1)\n",
        "      print(file2)\n",
        "      df=pd.read_csv(file2, delimiter=\",\")\n",
        "      column_names = [\"#CHROM\", \"POS\", \"REF\", \"ALT\", \"chr.r\", \"startpos.r\", \"endpos.r\", \"seq.r\", \"seq.q\", \"startpos.q\", \"endpos.q\", \"LOV\", \"chr.q\"]\n",
        "      df.columns=column_names\n",
        "      lov_col=df[\"LOV\"]\n",
        "      # Count values greater than or equal to 50\n",
        "      count_50 = (df[\"LOV\"] >= 50).sum() #it counts how many true is there\n",
        "      # print(count_50_or_more)\n",
        "\n",
        "      # Count values greater than or equal to 40\n",
        "      count_40 = (df[\"LOV\"] >= 40).sum()\n",
        "\n",
        "      # # Count values greater than or equal to 30\n",
        "      count_30 = (df[\"LOV\"] >= 30).sum()\n",
        "\n",
        "      # # Count values greater than or equal to 20\n",
        "      count_20 = (df[\"LOV\"] >= 20).sum()\n",
        "\n",
        "      # # Count values greater than or equal to 10\n",
        "      count_10 = (df[\"LOV\"] >= 10).sum()\n",
        "\n",
        "      counts_df = counts_df.append({\"File Name\": f1, \"LOV >= 50\": count_50, \"LOV >= 40\": count_40, \"LOV >= 30\": count_30, \"LOV >= 20\": count_20, \"LOV >= 10\": count_10}, ignore_index=True)\n",
        "\n",
        "\n",
        "# Save the DataFrame to a CSV file\n",
        "counts_df.to_csv('lov_counts.csv', index=False)\n",
        "\n"
      ],
      "metadata": {
        "colab": {
          "base_uri": "https://localhost:8080/",
          "height": 254
        },
        "id": "lbmaYd2cYDVM",
        "outputId": "19a1775c-90ea-47ac-ae89-caa2ea549556"
      },
      "execution_count": null,
      "outputs": [
        {
          "output_type": "error",
          "ename": "NameError",
          "evalue": "ignored",
          "traceback": [
            "\u001b[0;31m---------------------------------------------------------------------------\u001b[0m",
            "\u001b[0;31mNameError\u001b[0m                                 Traceback (most recent call last)",
            "\u001b[0;32m<ipython-input-1-38614e34babc>\u001b[0m in \u001b[0;36m<cell line: 1>\u001b[0;34m()\u001b[0m\n\u001b[0;32m----> 1\u001b[0;31m \u001b[0mcounts_df\u001b[0m \u001b[0;34m=\u001b[0m \u001b[0mpd\u001b[0m\u001b[0;34m.\u001b[0m\u001b[0mDataFrame\u001b[0m\u001b[0;34m(\u001b[0m\u001b[0mcolumns\u001b[0m\u001b[0;34m=\u001b[0m\u001b[0;34m[\u001b[0m\u001b[0;34m\"File Name\"\u001b[0m\u001b[0;34m,\u001b[0m \u001b[0;34m\"LOV >= 50\"\u001b[0m\u001b[0;34m,\u001b[0m \u001b[0;34m\"LOV >= 40\"\u001b[0m\u001b[0;34m,\u001b[0m \u001b[0;34m\"LOV >= 30\"\u001b[0m\u001b[0;34m,\u001b[0m \u001b[0;34m\"LOV >= 20\"\u001b[0m\u001b[0;34m,\u001b[0m \u001b[0;34m\"LOV >= 10\"\u001b[0m\u001b[0;34m]\u001b[0m\u001b[0;34m)\u001b[0m\u001b[0;34m\u001b[0m\u001b[0;34m\u001b[0m\u001b[0m\n\u001b[0m\u001b[1;32m      2\u001b[0m \u001b[0;34m\u001b[0m\u001b[0m\n\u001b[1;32m      3\u001b[0m \u001b[0mdir\u001b[0m\u001b[0;34m=\u001b[0m\u001b[0;34m\"/content/drive/MyDrive/gene_ext/ins\"\u001b[0m\u001b[0;34m\u001b[0m\u001b[0;34m\u001b[0m\u001b[0m\n\u001b[1;32m      4\u001b[0m \u001b[0;32mfor\u001b[0m \u001b[0mf\u001b[0m \u001b[0;32min\u001b[0m \u001b[0mos\u001b[0m\u001b[0;34m.\u001b[0m\u001b[0mlistdir\u001b[0m\u001b[0;34m(\u001b[0m\u001b[0mdir\u001b[0m\u001b[0;34m)\u001b[0m\u001b[0;34m:\u001b[0m\u001b[0;34m\u001b[0m\u001b[0;34m\u001b[0m\u001b[0m\n\u001b[1;32m      5\u001b[0m   \u001b[0;31m# print(f)\u001b[0m\u001b[0;34m\u001b[0m\u001b[0;34m\u001b[0m\u001b[0m\n",
            "\u001b[0;31mNameError\u001b[0m: name 'pd' is not defined"
          ]
        }
      ]
    },
    {
      "cell_type": "code",
      "source": [
        "import pandas as pd\n",
        "df=pd.read_csv(\"/content/common_wd29 - common_wd29.csv\", delimiter=\",\")\n",
        "# print(df)\n",
        "column_names = [\"s.no\",\"#CHROM\", \"POS\", \"REF\", \"ALT\", \"chr.r\", \"startpos.r\", \"endpos.r\", \"LOV\",\"seq.r\", \"seq.q\", \"startpos.q\", \"endpos.q\",  \"chr.q\"]\n",
        "df.columns=column_names\n",
        "lov_col=df[\"LOV\"]\n",
        "\n",
        "counts_df = pd.DataFrame(columns=[\"File Name\", \"LOV >= 50\", \"LOV >= 40\", \"LOV >= 30\", \"LOV >= 20\", \"LOV >= 10\"])\n",
        "# Count values greater than or equal to 50\n",
        "count_50 = (df[\"LOV\"] >= 50).sum() #it counts how many true is there\n",
        "# print(count_50_or_more)\n",
        "\n",
        "# Count values greater than or equal to 40\n",
        "count_40 = (df[\"LOV\"] >= 40).sum()\n",
        "\n",
        "# # Count values greater than or equal to 30\n",
        "count_30 = (df[\"LOV\"] >= 30).sum()\n",
        "\n",
        "# # Count values greater than or equal to 20\n",
        "count_20 = (df[\"LOV\"] >= 20).sum()\n",
        "\n",
        "# # Count values greater than or equal to 10\n",
        "count_10 = (df[\"LOV\"] >= 10).sum()\n",
        "\n",
        "# Print the counts\n",
        "print(\"Count of values >= 50:\", count_50)\n",
        "print(\"Count of values >= 40:\", count_40)\n",
        "print(\"Count of values >= 30:\", count_30)\n",
        "print(\"Count of values >= 20:\", count_20)\n",
        "print(\"Count of values >= 10:\", count_10)\n"
      ],
      "metadata": {
        "colab": {
          "base_uri": "https://localhost:8080/"
        },
        "id": "jmbGCVpqrSRN",
        "outputId": "59c150fe-3eec-4170-b273-a3ffdc8cf1e2"
      },
      "execution_count": null,
      "outputs": [
        {
          "output_type": "stream",
          "name": "stdout",
          "text": [
            "Count of values >= 50: 3\n",
            "Count of values >= 40: 4\n",
            "Count of values >= 30: 6\n",
            "Count of values >= 20: 9\n",
            "Count of values >= 10: 30\n"
          ]
        }
      ]
    }
  ]
}