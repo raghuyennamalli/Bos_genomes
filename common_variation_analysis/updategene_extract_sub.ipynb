{
  "cells": [
    {
      "cell_type": "code",
      "execution_count": null,
      "metadata": {
        "colab": {
          "base_uri": "https://localhost:8080/"
        },
        "id": "xeh5jm-_VoOZ",
        "outputId": "c9919912-33b0-4754-93e2-20e732e9f397"
      },
      "outputs": [
        {
          "output_type": "stream",
          "name": "stdout",
          "text": [
            "Mounted at /content/drive\n"
          ]
        }
      ],
      "source": [
        "from google.colab import drive\n",
        "drive.mount(\"/content/drive\")"
      ]
    },
    {
      "cell_type": "code",
      "execution_count": null,
      "metadata": {
        "id": "_g1RjI2MMe33"
      },
      "outputs": [],
      "source": [
        "import pandas as pd"
      ]
    },
    {
      "cell_type": "code",
      "execution_count": null,
      "metadata": {
        "id": "BRxXxRGCM0ec"
      },
      "outputs": [],
      "source": [
        "# Remove index_col if there's no extra column or index column at the starting\n",
        "df_common=pd.read_csv(\"/content/drive/MyDrive/gene_ext/sub/06/common_wd6.csv\", index_col=\"Unnamed: 0\")\n",
        "df_protein_file = pd.read_csv(\"/content/drive/MyDrive/gene_ext/ind_protein/ind_chr5_prot.csv\")"
      ]
    },
    {
      "cell_type": "code",
      "execution_count": null,
      "metadata": {
        "colab": {
          "base_uri": "https://localhost:8080/"
        },
        "id": "YyhFrxBTiqUq",
        "outputId": "578d00d4-3345-4a0f-c4fb-7157d3471fd4"
      },
      "outputs": [
        {
          "data": {
            "text/plain": [
              "(134491, 12)"
            ]
          },
          "execution_count": 10,
          "metadata": {},
          "output_type": "execute_result"
        }
      ],
      "source": [
        "df_common.shape"
      ]
    },
    {
      "cell_type": "code",
      "execution_count": null,
      "metadata": {
        "id": "aValyJhDpKG2"
      },
      "outputs": [],
      "source": [
        "# df_common.columns"
      ]
    },
    {
      "cell_type": "markdown",
      "metadata": {
        "id": "i2v9iOeE8S0o"
      },
      "source": []
    },
    {
      "cell_type": "code",
      "execution_count": null,
      "metadata": {
        "colab": {
          "base_uri": "https://localhost:8080/",
          "height": 423
        },
        "id": "Q2LnKk1i0K3O",
        "outputId": "e8b0a1d5-e4aa-41f7-faa5-06ca4ef11146"
      },
      "outputs": [
        {
          "data": {
            "text/html": [
              "\n",
              "  <div id=\"df-3280d41f-d2a6-4b44-a7f0-3af3bdeeb3da\" class=\"colab-df-container\">\n",
              "    <div>\n",
              "<style scoped>\n",
              "    .dataframe tbody tr th:only-of-type {\n",
              "        vertical-align: middle;\n",
              "    }\n",
              "\n",
              "    .dataframe tbody tr th {\n",
              "        vertical-align: top;\n",
              "    }\n",
              "\n",
              "    .dataframe thead th {\n",
              "        text-align: right;\n",
              "    }\n",
              "</style>\n",
              "<table border=\"1\" class=\"dataframe\">\n",
              "  <thead>\n",
              "    <tr style=\"text-align: right;\">\n",
              "      <th></th>\n",
              "      <th>#CHROM</th>\n",
              "      <th>POS</th>\n",
              "      <th>REF</th>\n",
              "      <th>ALT</th>\n",
              "      <th>chr.r</th>\n",
              "      <th>startpos.r</th>\n",
              "      <th>endpos.r</th>\n",
              "      <th>seq.r</th>\n",
              "      <th>seq.q</th>\n",
              "      <th>startpos.q</th>\n",
              "      <th>endpos.q</th>\n",
              "      <th>chr.q</th>\n",
              "    </tr>\n",
              "  </thead>\n",
              "  <tbody>\n",
              "    <tr>\n",
              "      <th>0</th>\n",
              "      <td>NC_037328.1</td>\n",
              "      <td>666159</td>\n",
              "      <td>A</td>\n",
              "      <td>c</td>\n",
              "      <td>NC_037328.1</td>\n",
              "      <td>666159</td>\n",
              "      <td>666159</td>\n",
              "      <td>A</td>\n",
              "      <td>c</td>\n",
              "      <td>4258</td>\n",
              "      <td>4258</td>\n",
              "      <td>NC_032650.1</td>\n",
              "    </tr>\n",
              "    <tr>\n",
              "      <th>1</th>\n",
              "      <td>NC_037328.1</td>\n",
              "      <td>667388</td>\n",
              "      <td>T</td>\n",
              "      <td>C</td>\n",
              "      <td>NC_037328.1</td>\n",
              "      <td>667388</td>\n",
              "      <td>667388</td>\n",
              "      <td>T</td>\n",
              "      <td>C</td>\n",
              "      <td>5488</td>\n",
              "      <td>5488</td>\n",
              "      <td>NC_032650.1</td>\n",
              "    </tr>\n",
              "    <tr>\n",
              "      <th>2</th>\n",
              "      <td>NC_037328.1</td>\n",
              "      <td>667947</td>\n",
              "      <td>G</td>\n",
              "      <td>a</td>\n",
              "      <td>NC_037328.1</td>\n",
              "      <td>667947</td>\n",
              "      <td>667947</td>\n",
              "      <td>G</td>\n",
              "      <td>a</td>\n",
              "      <td>6045</td>\n",
              "      <td>6045</td>\n",
              "      <td>NC_032650.1</td>\n",
              "    </tr>\n",
              "    <tr>\n",
              "      <th>3</th>\n",
              "      <td>NC_037328.1</td>\n",
              "      <td>668612</td>\n",
              "      <td>C</td>\n",
              "      <td>T</td>\n",
              "      <td>NC_037328.1</td>\n",
              "      <td>668612</td>\n",
              "      <td>668612</td>\n",
              "      <td>C</td>\n",
              "      <td>T</td>\n",
              "      <td>6710</td>\n",
              "      <td>6710</td>\n",
              "      <td>NC_032650.1</td>\n",
              "    </tr>\n",
              "    <tr>\n",
              "      <th>4</th>\n",
              "      <td>NC_037328.1</td>\n",
              "      <td>669280</td>\n",
              "      <td>G</td>\n",
              "      <td>A</td>\n",
              "      <td>NC_037328.1</td>\n",
              "      <td>669280</td>\n",
              "      <td>669280</td>\n",
              "      <td>G</td>\n",
              "      <td>A</td>\n",
              "      <td>7379</td>\n",
              "      <td>7379</td>\n",
              "      <td>NC_032650.1</td>\n",
              "    </tr>\n",
              "    <tr>\n",
              "      <th>...</th>\n",
              "      <td>...</td>\n",
              "      <td>...</td>\n",
              "      <td>...</td>\n",
              "      <td>...</td>\n",
              "      <td>...</td>\n",
              "      <td>...</td>\n",
              "      <td>...</td>\n",
              "      <td>...</td>\n",
              "      <td>...</td>\n",
              "      <td>...</td>\n",
              "      <td>...</td>\n",
              "      <td>...</td>\n",
              "    </tr>\n",
              "    <tr>\n",
              "      <th>177854</th>\n",
              "      <td>NC_037328.1</td>\n",
              "      <td>157552506</td>\n",
              "      <td>C</td>\n",
              "      <td>T</td>\n",
              "      <td>NC_037328.1</td>\n",
              "      <td>157552506</td>\n",
              "      <td>157552506</td>\n",
              "      <td>C</td>\n",
              "      <td>T</td>\n",
              "      <td>161074678</td>\n",
              "      <td>161074678</td>\n",
              "      <td>NC_032650.1</td>\n",
              "    </tr>\n",
              "    <tr>\n",
              "      <th>177855</th>\n",
              "      <td>NC_037328.1</td>\n",
              "      <td>157555075</td>\n",
              "      <td>C</td>\n",
              "      <td>A</td>\n",
              "      <td>NC_037328.1</td>\n",
              "      <td>157555075</td>\n",
              "      <td>157555075</td>\n",
              "      <td>C</td>\n",
              "      <td>A</td>\n",
              "      <td>161077248</td>\n",
              "      <td>161077248</td>\n",
              "      <td>NC_032650.1</td>\n",
              "    </tr>\n",
              "    <tr>\n",
              "      <th>177856</th>\n",
              "      <td>NC_037328.1</td>\n",
              "      <td>157556980</td>\n",
              "      <td>C</td>\n",
              "      <td>A</td>\n",
              "      <td>NC_037328.1</td>\n",
              "      <td>157556980</td>\n",
              "      <td>157556980</td>\n",
              "      <td>C</td>\n",
              "      <td>A</td>\n",
              "      <td>161079153</td>\n",
              "      <td>161079153</td>\n",
              "      <td>NC_032650.1</td>\n",
              "    </tr>\n",
              "    <tr>\n",
              "      <th>177857</th>\n",
              "      <td>NC_037328.1</td>\n",
              "      <td>157556981</td>\n",
              "      <td>G</td>\n",
              "      <td>A</td>\n",
              "      <td>NC_037328.1</td>\n",
              "      <td>157556981</td>\n",
              "      <td>157556981</td>\n",
              "      <td>G</td>\n",
              "      <td>A</td>\n",
              "      <td>161079154</td>\n",
              "      <td>161079154</td>\n",
              "      <td>NC_032650.1</td>\n",
              "    </tr>\n",
              "    <tr>\n",
              "      <th>177858</th>\n",
              "      <td>NC_037328.1</td>\n",
              "      <td>157560103</td>\n",
              "      <td>G</td>\n",
              "      <td>C</td>\n",
              "      <td>NC_037328.1</td>\n",
              "      <td>157560103</td>\n",
              "      <td>157560103</td>\n",
              "      <td>G</td>\n",
              "      <td>C</td>\n",
              "      <td>161082275</td>\n",
              "      <td>161082275</td>\n",
              "      <td>NC_032650.1</td>\n",
              "    </tr>\n",
              "  </tbody>\n",
              "</table>\n",
              "<p>176517 rows × 12 columns</p>\n",
              "</div>\n",
              "    <div class=\"colab-df-buttons\">\n",
              "\n",
              "  <div class=\"colab-df-container\">\n",
              "    <button class=\"colab-df-convert\" onclick=\"convertToInteractive('df-3280d41f-d2a6-4b44-a7f0-3af3bdeeb3da')\"\n",
              "            title=\"Convert this dataframe to an interactive table.\"\n",
              "            style=\"display:none;\">\n",
              "\n",
              "  <svg xmlns=\"http://www.w3.org/2000/svg\" height=\"24px\" viewBox=\"0 -960 960 960\">\n",
              "    <path d=\"M120-120v-720h720v720H120Zm60-500h600v-160H180v160Zm220 220h160v-160H400v160Zm0 220h160v-160H400v160ZM180-400h160v-160H180v160Zm440 0h160v-160H620v160ZM180-180h160v-160H180v160Zm440 0h160v-160H620v160Z\"/>\n",
              "  </svg>\n",
              "    </button>\n",
              "\n",
              "  <style>\n",
              "    .colab-df-container {\n",
              "      display:flex;\n",
              "      gap: 12px;\n",
              "    }\n",
              "\n",
              "    .colab-df-convert {\n",
              "      background-color: #E8F0FE;\n",
              "      border: none;\n",
              "      border-radius: 50%;\n",
              "      cursor: pointer;\n",
              "      display: none;\n",
              "      fill: #1967D2;\n",
              "      height: 32px;\n",
              "      padding: 0 0 0 0;\n",
              "      width: 32px;\n",
              "    }\n",
              "\n",
              "    .colab-df-convert:hover {\n",
              "      background-color: #E2EBFA;\n",
              "      box-shadow: 0px 1px 2px rgba(60, 64, 67, 0.3), 0px 1px 3px 1px rgba(60, 64, 67, 0.15);\n",
              "      fill: #174EA6;\n",
              "    }\n",
              "\n",
              "    .colab-df-buttons div {\n",
              "      margin-bottom: 4px;\n",
              "    }\n",
              "\n",
              "    [theme=dark] .colab-df-convert {\n",
              "      background-color: #3B4455;\n",
              "      fill: #D2E3FC;\n",
              "    }\n",
              "\n",
              "    [theme=dark] .colab-df-convert:hover {\n",
              "      background-color: #434B5C;\n",
              "      box-shadow: 0px 1px 3px 1px rgba(0, 0, 0, 0.15);\n",
              "      filter: drop-shadow(0px 1px 2px rgba(0, 0, 0, 0.3));\n",
              "      fill: #FFFFFF;\n",
              "    }\n",
              "  </style>\n",
              "\n",
              "    <script>\n",
              "      const buttonEl =\n",
              "        document.querySelector('#df-3280d41f-d2a6-4b44-a7f0-3af3bdeeb3da button.colab-df-convert');\n",
              "      buttonEl.style.display =\n",
              "        google.colab.kernel.accessAllowed ? 'block' : 'none';\n",
              "\n",
              "      async function convertToInteractive(key) {\n",
              "        const element = document.querySelector('#df-3280d41f-d2a6-4b44-a7f0-3af3bdeeb3da');\n",
              "        const dataTable =\n",
              "          await google.colab.kernel.invokeFunction('convertToInteractive',\n",
              "                                                    [key], {});\n",
              "        if (!dataTable) return;\n",
              "\n",
              "        const docLinkHtml = 'Like what you see? Visit the ' +\n",
              "          '<a target=\"_blank\" href=https://colab.research.google.com/notebooks/data_table.ipynb>data table notebook</a>'\n",
              "          + ' to learn more about interactive tables.';\n",
              "        element.innerHTML = '';\n",
              "        dataTable['output_type'] = 'display_data';\n",
              "        await google.colab.output.renderOutput(dataTable, element);\n",
              "        const docLink = document.createElement('div');\n",
              "        docLink.innerHTML = docLinkHtml;\n",
              "        element.appendChild(docLink);\n",
              "      }\n",
              "    </script>\n",
              "  </div>\n",
              "\n",
              "\n",
              "<div id=\"df-56937381-bc93-4dbb-bf9b-2cd020c3eef5\">\n",
              "  <button class=\"colab-df-quickchart\" onclick=\"quickchart('df-56937381-bc93-4dbb-bf9b-2cd020c3eef5')\"\n",
              "            title=\"Suggest charts\"\n",
              "            style=\"display:none;\">\n",
              "\n",
              "<svg xmlns=\"http://www.w3.org/2000/svg\" height=\"24px\"viewBox=\"0 0 24 24\"\n",
              "     width=\"24px\">\n",
              "    <g>\n",
              "        <path d=\"M19 3H5c-1.1 0-2 .9-2 2v14c0 1.1.9 2 2 2h14c1.1 0 2-.9 2-2V5c0-1.1-.9-2-2-2zM9 17H7v-7h2v7zm4 0h-2V7h2v10zm4 0h-2v-4h2v4z\"/>\n",
              "    </g>\n",
              "</svg>\n",
              "  </button>\n",
              "\n",
              "<style>\n",
              "  .colab-df-quickchart {\n",
              "      --bg-color: #E8F0FE;\n",
              "      --fill-color: #1967D2;\n",
              "      --hover-bg-color: #E2EBFA;\n",
              "      --hover-fill-color: #174EA6;\n",
              "      --disabled-fill-color: #AAA;\n",
              "      --disabled-bg-color: #DDD;\n",
              "  }\n",
              "\n",
              "  [theme=dark] .colab-df-quickchart {\n",
              "      --bg-color: #3B4455;\n",
              "      --fill-color: #D2E3FC;\n",
              "      --hover-bg-color: #434B5C;\n",
              "      --hover-fill-color: #FFFFFF;\n",
              "      --disabled-bg-color: #3B4455;\n",
              "      --disabled-fill-color: #666;\n",
              "  }\n",
              "\n",
              "  .colab-df-quickchart {\n",
              "    background-color: var(--bg-color);\n",
              "    border: none;\n",
              "    border-radius: 50%;\n",
              "    cursor: pointer;\n",
              "    display: none;\n",
              "    fill: var(--fill-color);\n",
              "    height: 32px;\n",
              "    padding: 0;\n",
              "    width: 32px;\n",
              "  }\n",
              "\n",
              "  .colab-df-quickchart:hover {\n",
              "    background-color: var(--hover-bg-color);\n",
              "    box-shadow: 0 1px 2px rgba(60, 64, 67, 0.3), 0 1px 3px 1px rgba(60, 64, 67, 0.15);\n",
              "    fill: var(--button-hover-fill-color);\n",
              "  }\n",
              "\n",
              "  .colab-df-quickchart-complete:disabled,\n",
              "  .colab-df-quickchart-complete:disabled:hover {\n",
              "    background-color: var(--disabled-bg-color);\n",
              "    fill: var(--disabled-fill-color);\n",
              "    box-shadow: none;\n",
              "  }\n",
              "\n",
              "  .colab-df-spinner {\n",
              "    border: 2px solid var(--fill-color);\n",
              "    border-color: transparent;\n",
              "    border-bottom-color: var(--fill-color);\n",
              "    animation:\n",
              "      spin 1s steps(1) infinite;\n",
              "  }\n",
              "\n",
              "  @keyframes spin {\n",
              "    0% {\n",
              "      border-color: transparent;\n",
              "      border-bottom-color: var(--fill-color);\n",
              "      border-left-color: var(--fill-color);\n",
              "    }\n",
              "    20% {\n",
              "      border-color: transparent;\n",
              "      border-left-color: var(--fill-color);\n",
              "      border-top-color: var(--fill-color);\n",
              "    }\n",
              "    30% {\n",
              "      border-color: transparent;\n",
              "      border-left-color: var(--fill-color);\n",
              "      border-top-color: var(--fill-color);\n",
              "      border-right-color: var(--fill-color);\n",
              "    }\n",
              "    40% {\n",
              "      border-color: transparent;\n",
              "      border-right-color: var(--fill-color);\n",
              "      border-top-color: var(--fill-color);\n",
              "    }\n",
              "    60% {\n",
              "      border-color: transparent;\n",
              "      border-right-color: var(--fill-color);\n",
              "    }\n",
              "    80% {\n",
              "      border-color: transparent;\n",
              "      border-right-color: var(--fill-color);\n",
              "      border-bottom-color: var(--fill-color);\n",
              "    }\n",
              "    90% {\n",
              "      border-color: transparent;\n",
              "      border-bottom-color: var(--fill-color);\n",
              "    }\n",
              "  }\n",
              "</style>\n",
              "\n",
              "  <script>\n",
              "    async function quickchart(key) {\n",
              "      const quickchartButtonEl =\n",
              "        document.querySelector('#' + key + ' button');\n",
              "      quickchartButtonEl.disabled = true;  // To prevent multiple clicks.\n",
              "      quickchartButtonEl.classList.add('colab-df-spinner');\n",
              "      try {\n",
              "        const charts = await google.colab.kernel.invokeFunction(\n",
              "            'suggestCharts', [key], {});\n",
              "      } catch (error) {\n",
              "        console.error('Error during call to suggestCharts:', error);\n",
              "      }\n",
              "      quickchartButtonEl.classList.remove('colab-df-spinner');\n",
              "      quickchartButtonEl.classList.add('colab-df-quickchart-complete');\n",
              "    }\n",
              "    (() => {\n",
              "      let quickchartButtonEl =\n",
              "        document.querySelector('#df-56937381-bc93-4dbb-bf9b-2cd020c3eef5 button');\n",
              "      quickchartButtonEl.style.display =\n",
              "        google.colab.kernel.accessAllowed ? 'block' : 'none';\n",
              "    })();\n",
              "  </script>\n",
              "</div>\n",
              "    </div>\n",
              "  </div>\n"
            ],
            "text/plain": [
              "             #CHROM        POS REF ALT        chr.r  startpos.r   endpos.r  \\\n",
              "0       NC_037328.1     666159   A   c  NC_037328.1      666159     666159   \n",
              "1       NC_037328.1     667388   T   C  NC_037328.1      667388     667388   \n",
              "2       NC_037328.1     667947   G   a  NC_037328.1      667947     667947   \n",
              "3       NC_037328.1     668612   C   T  NC_037328.1      668612     668612   \n",
              "4       NC_037328.1     669280   G   A  NC_037328.1      669280     669280   \n",
              "...             ...        ...  ..  ..          ...         ...        ...   \n",
              "177854  NC_037328.1  157552506   C   T  NC_037328.1   157552506  157552506   \n",
              "177855  NC_037328.1  157555075   C   A  NC_037328.1   157555075  157555075   \n",
              "177856  NC_037328.1  157556980   C   A  NC_037328.1   157556980  157556980   \n",
              "177857  NC_037328.1  157556981   G   A  NC_037328.1   157556981  157556981   \n",
              "177858  NC_037328.1  157560103   G   C  NC_037328.1   157560103  157560103   \n",
              "\n",
              "       seq.r seq.q  startpos.q   endpos.q        chr.q  \n",
              "0          A     c        4258       4258  NC_032650.1  \n",
              "1          T     C        5488       5488  NC_032650.1  \n",
              "2          G     a        6045       6045  NC_032650.1  \n",
              "3          C     T        6710       6710  NC_032650.1  \n",
              "4          G     A        7379       7379  NC_032650.1  \n",
              "...      ...   ...         ...        ...          ...  \n",
              "177854     C     T   161074678  161074678  NC_032650.1  \n",
              "177855     C     A   161077248  161077248  NC_032650.1  \n",
              "177856     C     A   161079153  161079153  NC_032650.1  \n",
              "177857     G     A   161079154  161079154  NC_032650.1  \n",
              "177858     G     C   161082275  161082275  NC_032650.1  \n",
              "\n",
              "[176517 rows x 12 columns]"
            ]
          },
          "execution_count": 6,
          "metadata": {},
          "output_type": "execute_result"
        }
      ],
      "source": [
        "df_common"
      ]
    },
    {
      "cell_type": "code",
      "execution_count": null,
      "metadata": {
        "colab": {
          "base_uri": "https://localhost:8080/"
        },
        "id": "q6k0nK_YM1ED",
        "outputId": "856b873a-592b-4d60-9355-fcc19e9eab9e"
      },
      "outputs": [
        {
          "data": {
            "text/plain": [
              "(2001, 11)"
            ]
          },
          "execution_count": 11,
          "metadata": {},
          "output_type": "execute_result"
        }
      ],
      "source": [
        "df_protein_file.shape"
      ]
    },
    {
      "cell_type": "code",
      "execution_count": null,
      "metadata": {
        "id": "179Z6ie7M4jR"
      },
      "outputs": [],
      "source": [
        "def map_keywords(str_sentence):\n",
        "    list_keywords = [\n",
        "        \"immunoglobulin\",\"immunoreceptor\",\"autoimmune\",\"TLR\",\"IgG\",\n",
        "        \"autoimmune\",\"autophagy\",\"immunogen\",\"immune\",\"innate\",\"T-cell\",\"NF-kappa\", \"antigen\",\n",
        "        \"B-cell\",\"lymphocyte\",\"histocompatibility\",\"CD24\",\"CD4\",\"LY96\", \"BCR\",\n",
        "        \"IFIT3\",\"PGLYRP1\",\"NKG2D\",\"UL16\",\"leukocyte\",\"cytokine\", \"interleukin\",\"interferon\"\n",
        "        \"antimicrobial peptide\",\"beta-defensin 2\",\"IL16\",\"IL2\",\"chemokine\", \"antibody\"\n",
        "    ]\n",
        "    bool_found = bool(\n",
        "        [\n",
        "            i for i in list_keywords if i.lower() in str_sentence.lower()\n",
        "        ]\n",
        "    )\n",
        "    return bool_found"
      ]
    },
    {
      "cell_type": "code",
      "execution_count": null,
      "metadata": {
        "id": "vCdpqItqM61L"
      },
      "outputs": [],
      "source": [
        "df_protein_file[\"keyword_found\"] = df_protein_file.apply(lambda row: map_keywords(row[\"Protein Name\"]),axis=1)"
      ]
    },
    {
      "cell_type": "code",
      "execution_count": null,
      "metadata": {
        "colab": {
          "base_uri": "https://localhost:8080/"
        },
        "id": "qSYLSX5CM7YC",
        "outputId": "d2f388a6-f9ae-441d-ef12-76991e016b50"
      },
      "outputs": [
        {
          "data": {
            "text/plain": [
              "(54, 12)"
            ]
          },
          "execution_count": 14,
          "metadata": {},
          "output_type": "execute_result"
        }
      ],
      "source": [
        "df_protein_file[df_protein_file[\"keyword_found\"]==True].shape"
      ]
    },
    {
      "cell_type": "code",
      "execution_count": null,
      "metadata": {
        "colab": {
          "base_uri": "https://localhost:8080/"
        },
        "id": "JO1oD09sM_Uw",
        "outputId": "f43f4ee1-f67e-47bd-8b9d-391218c4427e"
      },
      "outputs": [
        {
          "data": {
            "text/plain": [
              "(54, 12)"
            ]
          },
          "execution_count": 15,
          "metadata": {},
          "output_type": "execute_result"
        }
      ],
      "source": [
        "df_protein_file[df_protein_file[\"keyword_found\"]==True].drop_duplicates().shape"
      ]
    },
    {
      "cell_type": "code",
      "execution_count": null,
      "metadata": {
        "id": "c1D36epehyNe"
      },
      "outputs": [],
      "source": [
        "# df_protein_file_imm=df_protein_file[df_protein_file[\"keyword_found\"]==True].drop_duplicates()"
      ]
    },
    {
      "cell_type": "code",
      "execution_count": null,
      "metadata": {
        "id": "ts3g6U5rjmmS"
      },
      "outputs": [],
      "source": [
        "df_protein_file[\"start_of_next_gene\"] = df_protein_file[\"Start\"].shift(-1).fillna(0)"
      ]
    },
    {
      "cell_type": "code",
      "execution_count": null,
      "metadata": {
        "id": "eQUSkx2-mMfc"
      },
      "outputs": [],
      "source": [
        "# df_protein_file.head()"
      ]
    },
    {
      "cell_type": "code",
      "execution_count": null,
      "metadata": {
        "id": "-BWYufk8g9RU"
      },
      "outputs": [],
      "source": [
        "df_protein_file.to_csv(\"protein1.csv\")"
      ]
    },
    {
      "cell_type": "code",
      "execution_count": null,
      "metadata": {
        "id": "VUe3bnwFNCf1"
      },
      "outputs": [],
      "source": [
        "a=0\n",
        "b=0\n",
        "c=0\n",
        "d=0\n",
        "e=0\n",
        "f=0"
      ]
    },
    {
      "cell_type": "code",
      "execution_count": null,
      "metadata": {
        "id": "h8ifvIC1OZem"
      },
      "outputs": [],
      "source": [
        "from tqdm import tqdm"
      ]
    },
    {
      "cell_type": "code",
      "execution_count": null,
      "metadata": {
        "colab": {
          "background_save": true,
          "base_uri": "https://localhost:8080/"
        },
        "id": "cC0viq7wNGLT",
        "outputId": "85267173-81d9-4df3-8551-b728f37db73a"
      },
      "outputs": [
        {
          "name": "stderr",
          "output_type": "stream",
          "text": [
            "102471it [2:30:03,  5.88it/s]"
          ]
        }
      ],
      "source": [
        "final_df = pd.DataFrame(columns=list(df_protein_file.columns)+[\"gene_type\"]+[\"startpos.q\"]+[\"endpos.q\"]+[\"seq.r\"]+[\"seq.q\"]+[\"LOV\"])\n",
        "for i, row in tqdm(df_common.iterrows()):\n",
        "    # Check for the at start\n",
        "    if df_protein_file[(df_protein_file[\"Start\"]==row[\"startpos.q\"]) & (df_protein_file[\"Stop\"]>row[\"endpos.q\"])].shape[0]>=1:\n",
        "        tmp_df = df_protein_file[(df_protein_file[\"Start\"]==row[\"startpos.q\"]) & (df_protein_file[\"Stop\"]>row[\"endpos.q\"])].copy(deep=True)\n",
        "        tmp_df[\"gene_type\"] = \"at_start\"\n",
        "        tmp_df[\"startpos.q\"] = row[\"startpos.q\"]\n",
        "        tmp_df[\"endpos.q\"] = row[\"endpos.q\"]\n",
        "        tmp_df[\"seq.r\"] = row[\"seq.r\"]\n",
        "        tmp_df[\"seq.q\"] = row[\"seq.q\"]\n",
        "        final_df = pd.concat([final_df,tmp_df]).reset_index(drop=True)\n",
        "        a=a+1\n",
        "    # check for the at end\n",
        "    elif df_protein_file[(df_protein_file[\"Start\"]<row[\"startpos.q\"]) & (df_protein_file[\"Stop\"]==row[\"endpos.q\"])].shape[0]>=1:\n",
        "        tmp_df = df_protein_file[(df_protein_file[\"Start\"]<row[\"startpos.q\"]) & (df_protein_file[\"Stop\"]==row[\"endpos.q\"])].copy(deep=True)\n",
        "        tmp_df[\"gene_type\"] = \"at_end\"\n",
        "        tmp_df[\"startpos.q\"] = row[\"startpos.q\"]\n",
        "        tmp_df[\"endpos.q\"] = row[\"endpos.q\"]\n",
        "        tmp_df[\"seq.r\"] = row[\"seq.r\"]\n",
        "        tmp_df[\"seq.q\"] = row[\"seq.q\"]\n",
        "        final_df = pd.concat([final_df,tmp_df]).reset_index(drop=True)\n",
        "        b=b+1\n",
        "    # Check for the within gene\n",
        "    elif df_protein_file[(df_protein_file[\"Start\"]<row[\"startpos.q\"]) & (df_protein_file[\"Stop\"]>row[\"endpos.q\"])].shape[0]>=1:\n",
        "        tmp_df = df_protein_file[(df_protein_file[\"Start\"]<row[\"startpos.q\"]) & (df_protein_file[\"Stop\"]>row[\"endpos.q\"])].copy(deep=True)\n",
        "        tmp_df[\"gene_type\"] = \"within_gene\"\n",
        "        tmp_df[\"startpos.q\"] = row[\"startpos.q\"]\n",
        "        tmp_df[\"endpos.q\"] = row[\"endpos.q\"]\n",
        "        tmp_df[\"seq.r\"] = row[\"seq.r\"]\n",
        "        tmp_df[\"seq.q\"] = row[\"seq.q\"]\n",
        "        final_df = pd.concat([final_df,tmp_df]).reset_index(drop=True)\n",
        "        c=c+1\n",
        "    # Check for the gene_start_with variation end\n",
        "    elif df_protein_file[(df_protein_file[\"Start\"]==row[\"endpos.q\"])].shape[0]>=1:\n",
        "        tmp_df = df_protein_file[(df_protein_file[\"Start\"]==row[\"endpos.q\"])].copy(deep=True)\n",
        "        tmp_df[\"gene_type\"] = \"gene_start_with variation end\"\n",
        "        tmp_df[\"startpos.q\"] = row[\"startpos.q\"]\n",
        "        tmp_df[\"endpos.q\"] = row[\"endpos.q\"]\n",
        "        tmp_df[\"seq.r\"] = row[\"seq.r\"]\n",
        "        tmp_df[\"seq.q\"] = row[\"seq.q\"]\n",
        "        final_df = pd.concat([final_df,tmp_df]).reset_index(drop=True)\n",
        "        d=d+1\n",
        "    # Check for the gene_stop_ with variation start\n",
        "    elif df_protein_file[(df_protein_file[\"Stop\"]==row[\"startpos.q\"])].shape[0]>=1:\n",
        "        tmp_df = df_protein_file[(df_protein_file[\"Stop\"]==row[\"startpos.q\"])].copy(deep=True)\n",
        "        tmp_df[\"gene_type\"] = \"gene_stop_ with variation start\"\n",
        "        tmp_df[\"startpos.q\"] = row[\"startpos.q\"]\n",
        "        tmp_df[\"endpos.q\"] = row[\"endpos.q\"]\n",
        "        tmp_df[\"seq.r\"] = row[\"seq.r\"]\n",
        "        tmp_df[\"seq.q\"] = row[\"seq.q\"]\n",
        "        final_df = pd.concat([final_df,tmp_df]).reset_index(drop=True)\n",
        "        e=e+1\n",
        "    # Check for the intergenic gene\n",
        "    elif df_protein_file[(df_protein_file[\"Stop\"]<row[\"startpos.q\"]) & (df_protein_file[\"start_of_next_gene\"]>row[\"endpos.q\"])].shape[0]>=1:\n",
        "        tmp_df = df_protein_file[(df_protein_file[\"Stop\"]<row[\"startpos.q\"]) & (df_protein_file[\"start_of_next_gene\"]>row[\"endpos.q\"])].copy(deep=True)\n",
        "        tmp_df[\"gene_type\"] = \"intergenic_gene\"\n",
        "        tmp_df[\"startpos.q\"] = row[\"startpos.q\"]\n",
        "        tmp_df[\"endpos.q\"] = row[\"endpos.q\"]\n",
        "        tmp_df[\"seq.r\"] = row[\"seq.r\"]\n",
        "        tmp_df[\"seq.q\"] = row[\"seq.q\"]\n",
        "        final_df = pd.concat([final_df,tmp_df]).reset_index(drop=True)\n",
        "        f=f+1\n",
        "    else:\n",
        "        pass\n"
      ]
    },
    {
      "cell_type": "code",
      "execution_count": null,
      "metadata": {
        "id": "wzSf2stDNLjT"
      },
      "outputs": [],
      "source": [
        "print(a)\n",
        "print(b)\n",
        "print(c)\n",
        "print(d)\n",
        "print(e)\n",
        "print(f)"
      ]
    },
    {
      "cell_type": "code",
      "execution_count": null,
      "metadata": {
        "id": "jRUqRsk8xmke"
      },
      "outputs": [],
      "source": [
        "final_df.shape"
      ]
    },
    {
      "cell_type": "code",
      "execution_count": null,
      "metadata": {
        "id": "FHMrtKj6ZSJj"
      },
      "outputs": [],
      "source": [
        "final_df.drop_duplicates().shape"
      ]
    },
    {
      "cell_type": "code",
      "execution_count": null,
      "metadata": {
        "id": "9Yfm8OznZdZp"
      },
      "outputs": [],
      "source": [
        "final_df.to_csv(\"genesv1.csv\")"
      ]
    },
    {
      "cell_type": "code",
      "execution_count": null,
      "metadata": {
        "id": "b8lN74CBMi_D"
      },
      "outputs": [],
      "source": [
        "# non coding region\n",
        "final_df1 = pd.DataFrame(columns=df_common.columns)\n",
        "for index, row in tqdm(df_common.iterrows()):\n",
        "    # Check if 'startpos.q' is present in any row of file2\n",
        "    if row['startpos.q'] not in final_df['startpos.q'].values:\n",
        "        # Append the row to the DataFrame if not found\n",
        "        final_df1 = final_df1.append(row, ignore_index=True)\n",
        "\n",
        "# Save the DataFrame with rows not found in file2 to a new CSV file\n",
        "final_df1.to_csv(\"non_coding1.csv\", index=False)"
      ]
    },
    {
      "cell_type": "code",
      "execution_count": null,
      "metadata": {
        "id": "v4RA0QgYNNrP"
      },
      "outputs": [],
      "source": [
        "final_df1.shape"
      ]
    },
    {
      "cell_type": "code",
      "execution_count": null,
      "metadata": {
        "id": "ANcdG8jMZXgv"
      },
      "outputs": [],
      "source": [
        "final_df1.drop_duplicates().shape"
      ]
    },
    {
      "cell_type": "code",
      "execution_count": null,
      "metadata": {
        "id": "d9DParmMNaCK"
      },
      "outputs": [],
      "source": [
        "imm = pd.DataFrame\n",
        "imm=final_df[final_df[\"keyword_found\"]==True]"
      ]
    },
    {
      "cell_type": "code",
      "execution_count": null,
      "metadata": {
        "id": "bd0981jvrRwA"
      },
      "outputs": [],
      "source": [
        "imm.shape"
      ]
    },
    {
      "cell_type": "code",
      "execution_count": null,
      "metadata": {
        "id": "P8yEWza4NalP"
      },
      "outputs": [],
      "source": [
        "imm.drop_duplicates().shape"
      ]
    },
    {
      "cell_type": "code",
      "execution_count": null,
      "metadata": {
        "id": "A-KbliZTUg0b"
      },
      "outputs": [],
      "source": [
        "imm.drop_duplicates().to_csv(\"immv1.csv\")"
      ]
    },
    {
      "cell_type": "code",
      "execution_count": null,
      "metadata": {
        "id": "l5D4zE9vDE--"
      },
      "outputs": [],
      "source": [
        "# counting the values\n",
        "# Create a new DataFrame with unique combinations of 'Locus', 'startpos.q', and 'endpos.q'\n",
        "locus_counts = final_df.drop_duplicates(subset=['Locus', 'startpos.q', 'endpos.q'])"
      ]
    },
    {
      "cell_type": "code",
      "execution_count": null,
      "metadata": {
        "id": "p0466nJZaGSx"
      },
      "outputs": [],
      "source": [
        "locus_counts.shape"
      ]
    },
    {
      "cell_type": "code",
      "execution_count": null,
      "metadata": {
        "id": "sc_3l7PQb-a-"
      },
      "outputs": [],
      "source": [
        "locus_counts.to_csv(\"locus_counts1.csv\")"
      ]
    },
    {
      "cell_type": "code",
      "execution_count": null,
      "metadata": {
        "id": "kBFb5zyqaQfg"
      },
      "outputs": [],
      "source": [
        "locus_counts_imm = imm.drop_duplicates(subset=['Locus', 'startpos.q', 'endpos.q'])"
      ]
    },
    {
      "cell_type": "code",
      "execution_count": null,
      "metadata": {
        "id": "ugjCXPWzab7z"
      },
      "outputs": [],
      "source": [
        "locus_counts_imm.shape"
      ]
    },
    {
      "cell_type": "code",
      "execution_count": null,
      "metadata": {
        "id": "wvNJDQSevtVr"
      },
      "outputs": [],
      "source": [
        "locus_counts_imm.to_csv(\"locus_counts_imm1.csv\")"
      ]
    },
    {
      "cell_type": "code",
      "execution_count": null,
      "metadata": {
        "id": "Td9z2zGOa2kQ"
      },
      "outputs": [],
      "source": [
        "gene_count=locus_counts.groupby([\"gene_type\"]).size().reset_index(name=\"count\")"
      ]
    },
    {
      "cell_type": "code",
      "execution_count": null,
      "metadata": {
        "id": "6ZFXuIz_UFgl"
      },
      "outputs": [],
      "source": [
        "gene_count"
      ]
    },
    {
      "cell_type": "code",
      "execution_count": null,
      "metadata": {
        "id": "JAnMI0gzbKKo"
      },
      "outputs": [],
      "source": [
        "gene_count.to_csv(\"gene_count1.csv\")"
      ]
    },
    {
      "cell_type": "code",
      "execution_count": null,
      "metadata": {
        "id": "sUQqfRIl5ivx"
      },
      "outputs": [],
      "source": [
        "loc_imm_count=locus_counts_imm.groupby(by=[\"Locus\",\"gene_type\"]).size().reset_index(name=\"count\")\n",
        "# loc_imm_count.columns=[\"Locus\", \"gene_type\", \"count\"]\n",
        "\n",
        "loc_imm_count.to_csv(\"immlocus_gene_type_counts1.csv\", index=False)"
      ]
    },
    {
      "cell_type": "code",
      "execution_count": null,
      "metadata": {
        "id": "3GkB5WaKcf6P"
      },
      "outputs": [],
      "source": [
        "loc_imm_count"
      ]
    },
    {
      "cell_type": "code",
      "execution_count": null,
      "metadata": {
        "id": "7RKCOOKHxIP0"
      },
      "outputs": [],
      "source": [
        "# Calculate value counts\n",
        "count = locus_counts[\"gene_type\"].value_counts().reset_index()\n",
        "count.columns = [\"gene_type\", \"Count\"]\n",
        "count.loc[len(count.index)]=[\"immune_gene\", len(locus_counts_imm)]\n",
        "count.loc[len(count.index)]=[\"non_coding_gene\", len(final_df1)]\n",
        "\n",
        "\n",
        "# Save the result to a CSV file\n",
        "count.to_csv(\"subcounts1.csv\", index=False)"
      ]
    },
    {
      "cell_type": "code",
      "execution_count": null,
      "metadata": {
        "id": "3d_AAv-KFU_g"
      },
      "outputs": [],
      "source": [
        "import shutil\n",
        "\n",
        "shutil.copy(\"protein1.csv\",\"/content/drive/MyDrive/gene_ext/sub/01/new\")\n",
        "shutil.copy(\"genesv1.csv\",\"/content/drive/MyDrive/gene_ext/sub/01/new/\")\n",
        "shutil.copy(\"immv1.csv\",\"/content/drive/MyDrive/gene_ext/sub/01/new/\")\n",
        "shutil.copy(\"locus_counts1.csv\",\"/content/drive/MyDrive/gene_ext/sub/01/new/\")\n",
        "shutil.copy(\"locus_counts_imm1.csv\",\"/content/drive/MyDrive/gene_ext/sub/01/new/\")\n",
        "shutil.copy(\"immlocus_gene_type_counts1.csv\",\"/content/drive/MyDrive/gene_ext/sub/01/new/\")\n",
        "shutil.copy(\"gene_count1.csv\",\"/content/drive/MyDrive/gene_ext/sub/01/new/\")\n",
        "shutil.copy(\"subcounts1.csv\",\"/content/drive/MyDrive/gene_ext/sub/01/new/\")"
      ]
    },
    {
      "cell_type": "code",
      "source": [
        "# extract within gene information\n",
        "import pandas as pd\n",
        "loc_count=pd.read_csv(\"/content/drive/MyDrive/gene_ext/del/1/new/locus_counts1.csv\")\n",
        "# loc_count=pd.read_csv(\"/content/drive/MyDrive/gene_ext/ins/1/new/locus_counts1.csv\")"
      ],
      "metadata": {
        "id": "jG0ObGTJK9yZ"
      },
      "execution_count": null,
      "outputs": []
    },
    {
      "cell_type": "code",
      "source": [
        "loc_count.shape"
      ],
      "metadata": {
        "id": "-hZnLvcfLAHW"
      },
      "execution_count": null,
      "outputs": []
    },
    {
      "cell_type": "code",
      "source": [
        "locus_count_within_gene=loc_count[loc_count[\"gene_type\"]==\"within_gene\"]\n",
        "locus_count_inter_gene=loc_count[loc_count[\"gene_type\"]==\"intergenic_gene\"]\n"
      ],
      "metadata": {
        "id": "8umEz80jLB4e"
      },
      "execution_count": null,
      "outputs": []
    },
    {
      "cell_type": "code",
      "source": [
        "locus_count_within_gene.shape"
      ],
      "metadata": {
        "id": "MC8a1HXMLEw2"
      },
      "execution_count": null,
      "outputs": []
    },
    {
      "cell_type": "code",
      "source": [
        "locus_count_inter_gene.shape"
      ],
      "metadata": {
        "id": "hJ1V9BG8LHtF"
      },
      "execution_count": null,
      "outputs": []
    },
    {
      "cell_type": "code",
      "source": [
        "# Create a new DataFrame with unique combinations of 'Locus', 'startpos.q', and 'endpos.q'\n",
        "unique_counts = locus_count_within_gene.drop_duplicates(subset=['Locus', 'startpos.q', 'endpos.q'])\n",
        "counts=unique_counts.groupby([\"Locus\"]).size().reset_index(name=\"count\")\n",
        "\n",
        "counts.to_csv(\"loc_subs_counts1.csv\")\n",
        "loc50_subs=counts[counts[\"count\"]>=50]"
      ],
      "metadata": {
        "id": "AgPB32NqLInG"
      },
      "execution_count": null,
      "outputs": []
    },
    {
      "cell_type": "code",
      "source": [
        "loc50_subs=counts[counts[\"count\"]>=50]"
      ],
      "metadata": {
        "id": "3k-w98P4LikR"
      },
      "execution_count": null,
      "outputs": []
    },
    {
      "cell_type": "code",
      "source": [
        "loc50_subs.shape"
      ],
      "metadata": {
        "id": "P4KghJvOL4wn"
      },
      "execution_count": null,
      "outputs": []
    },
    {
      "cell_type": "code",
      "source": [
        "locus_count_within_gene.to_csv(\"locus_within_gene1.csv\")\n",
        "locus_count_inter_gene.to_csv(\"locus_inter_gene1.csv\")\n",
        "loc50_subs.to_csv(\"loc50_subs1.csv\")"
      ],
      "metadata": {
        "id": "FDa6Bl_ML60p"
      },
      "execution_count": null,
      "outputs": []
    },
    {
      "cell_type": "code",
      "source": [
        "# immune genes information - deletion\n",
        "import shutil\n",
        "\n",
        "Chr_list=[1, 2, 3, 4, 5, 6, 7, 8, 9, 10, 11, 12, 13, 14, 15, 16, 17, 18, 19, 20, 21, 22, 23, 24, 25, 26, 27, 28, 29, \"X\"]\n",
        "# Chr_list = [1]\n",
        "for chr in Chr_list:\n",
        "  print(f\"chromosome:{chr}\")\n",
        "  in_file1=f\"/content/drive/MyDrive/COW_GENOME_RESEARCH/Objective_1/Whole_Genome_Analysis_Existing_Data/gene_ext/sub/{chr}/new/immloc_count_within_gene{chr}.csv\"\n",
        "  outloc=f\"/content/drive/MyDrive/COW_GENOME_RESEARCH/Objective_1/Whole_Genome_Analysis_Existing_Data/gene_ext/sub/{chr}/new\"\n",
        "  imf1=pd.read_csv(in_file1)\n",
        "\n",
        "  # extract the immune has how many variations and its gene type\n",
        "  locwithin_imm_count=imf1.groupby(by=[\"Locus\"]).size().reset_index(name=\"count\")\n",
        "\n",
        "  # Group by 'Locus' and calculate the sum of 'LOV'\n",
        "  grouped = imf1.groupby('Locus')['LOV'].sum().reset_index()\n",
        "\n",
        "  # Merge the two files on the 'Locus' column\n",
        "  merged_df = pd.merge(locwithin_imm_count, grouped, on='Locus')\n",
        "\n",
        "  # Rename columns for clarity\n",
        "  merged_df.rename(columns={'count': 'No. of Variations', 'LOV': 'Length of Variations'}, inplace=True)\n",
        "\n",
        "  chr_col=f\"{chr}\"\n",
        "\n",
        "  merged_df[\"Chromosome\"] = chr_col\n",
        "\n",
        "  # Reorder columns\n",
        "  reorder_df = merged_df[['Chromosome','Locus', 'No. of Variations', 'Length of Variations']]\n",
        "\n",
        "  out_f1=f\"imm_var_count{chr}.csv\"\n",
        "  reorder_df.to_csv(out_f1)\n",
        "\n",
        "  shutil.copy(out_f1, outloc)\n"
      ],
      "metadata": {
        "id": "82AaP9ksxYQg"
      },
      "execution_count": null,
      "outputs": []
    }
  ],
  "metadata": {
    "colab": {
      "provenance": []
    },
    "kernelspec": {
      "display_name": "Python 3",
      "name": "python3"
    },
    "language_info": {
      "name": "python"
    }
  },
  "nbformat": 4,
  "nbformat_minor": 0
}