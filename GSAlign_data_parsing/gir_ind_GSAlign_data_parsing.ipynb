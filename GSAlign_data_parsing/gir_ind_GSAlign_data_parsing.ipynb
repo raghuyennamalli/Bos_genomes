{
  "cells": [
    {
      "cell_type": "markdown",
      "metadata": {
        "id": "0mB-KqbM9fZb"
      },
      "source": [
        "GSAlign o/p analysis"
      ]
    },
    {
      "cell_type": "code",
      "execution_count": null,
      "metadata": {
        "id": "gp8BLRiYIUjy"
      },
      "outputs": [],
      "source": []
    },
    {
      "cell_type": "code",
      "execution_count": null,
      "metadata": {
        "colab": {
          "base_uri": "https://localhost:8080/"
        },
        "id": "uPA-5kQbIVCr",
        "outputId": "8df34419-ae16-4af0-c46c-b9b0f3cdb7a6"
      },
      "outputs": [
        {
          "output_type": "stream",
          "name": "stdout",
          "text": [
            "Mounted at /content/drive\n"
          ]
        }
      ],
      "source": [
        "from google.colab import drive\n",
        "drive.mount('/content/drive')"
      ]
    },
    {
      "cell_type": "code",
      "execution_count": null,
      "metadata": {
        "colab": {
          "base_uri": "https://localhost:8080/"
        },
        "id": "Ac3mW3NUd8WI",
        "outputId": "67f6fcaa-49aa-4a56-f6e4-3ab4f793597b"
      },
      "outputs": [
        {
          "output_type": "execute_result",
          "data": {
            "text/plain": [
              "357727"
            ]
          },
          "metadata": {},
          "execution_count": 2
        }
      ],
      "source": [
        "import pandas as pd\n",
        "df = pd.read_csv(\"/content/drive/MyDrive/GSAlign_gind_out_vcf/Output_gind30.vcf\",sep = \"\\t\")\n",
        "df.to_csv(\"df30.csv\")\n",
        "len(df[\"INFO\"])"
      ]
    },
    {
      "cell_type": "code",
      "execution_count": null,
      "metadata": {
        "colab": {
          "base_uri": "https://localhost:8080/"
        },
        "id": "pymDlHP8dG6U",
        "outputId": "9346e786-35c9-4586-ab0f-baafc8c2460a"
      },
      "outputs": [
        {
          "output_type": "stream",
          "name": "stdout",
          "text": [
            "             #CHROM       POS ID  REF ALT  QUAL FILTER             INFO\n",
            "0       NC_032679.1     26683  .    G   c   100      *  TYPE=SUBSTITUTE\n",
            "1       NC_032679.1     26685  .    A   g   100      *  TYPE=SUBSTITUTE\n",
            "2       NC_032679.1     26722  .    C   t   100      *  TYPE=SUBSTITUTE\n",
            "3       NC_032679.1     26747  .    A   c   100      *  TYPE=SUBSTITUTE\n",
            "4       NC_032679.1     26748  .    G   a   100      *  TYPE=SUBSTITUTE\n",
            "...             ...       ... ..  ...  ..   ...    ...              ...\n",
            "357722  NC_032679.1  88510914  .    G  GA   100      *      TYPE=INSERT\n",
            "357723  NC_032679.1  88510915  .    T   C   100      *  TYPE=SUBSTITUTE\n",
            "357724  NC_032679.1  88510920  .    T   C   100      *  TYPE=SUBSTITUTE\n",
            "357725  NC_032679.1  88511928  .  ACA   A   100      *      TYPE=DELETE\n",
            "357726  NC_032679.1  88511933  .    T   a   100      *  TYPE=SUBSTITUTE\n",
            "\n",
            "[357727 rows x 8 columns]\n"
          ]
        }
      ],
      "source": [
        "print(df)"
      ]
    },
    {
      "cell_type": "code",
      "execution_count": null,
      "metadata": {
        "colab": {
          "base_uri": "https://localhost:8080/"
        },
        "id": "b0MRZ09EPm_0",
        "outputId": "221981bf-171f-4a6e-f128-aa20db6043b4"
      },
      "outputs": [
        {
          "output_type": "stream",
          "name": "stdout",
          "text": [
            "313823\n",
            "21482\n",
            "22421\n"
          ]
        }
      ],
      "source": [
        "s = []\n",
        "ins = []\n",
        "d = []\n",
        "a=0\n",
        "b=0\n",
        "c=0\n",
        "for i in range(1, len(df[[\"INFO\"]])):\n",
        "  l= []\n",
        "  if(df[\"INFO\"][i]==\"TYPE=SUBSTITUTE\"):\n",
        "    l.append(df[\"#CHROM\"][i])\n",
        "    l.append(df[\"POS\"][i])\n",
        "    l.append(df[\"REF\"][i])\n",
        "    l.append(df[\"ALT\"][i])\n",
        "    s.append(l)\n",
        "    a=a+1\n",
        "  elif(df[\"INFO\"][i]==\"TYPE=INSERT\"):\n",
        "    l.append(df[\"#CHROM\"][i])\n",
        "    l.append(df[\"POS\"][i])\n",
        "    l.append(df[\"REF\"][i])\n",
        "    l.append(df[\"ALT\"][i])\n",
        "    ins.append(l)\n",
        "    b=b+1\n",
        "  elif(df[\"INFO\"][i]==\"TYPE=DELETE\"):\n",
        "    l.append(df[\"#CHROM\"][i])\n",
        "    l.append(df[\"POS\"][i])\n",
        "    l.append(df[\"REF\"][i])\n",
        "    l.append(df[\"ALT\"][i])\n",
        "    d.append(l)\n",
        "    c=c+1\n",
        "print(a)\n",
        "print(b)\n",
        "print(c)\n",
        "filename=\"counts_30.txt\"\n",
        "fh=open(filename, \"w\")\n",
        "l=\"Substitute \"+str(a)+\"\\nInsert \"+str(b)+\"\\nDelete \"+str(c)\n",
        "fh.write(l)\n",
        "inse = pd.DataFrame(ins,columns=[\"#CHROM\",\"POS\",\"REF\",\"ALT\"])\n",
        "inse.to_csv(\"insertion30.csv\")\n",
        "dele = pd.DataFrame(d,columns=[\"#CHROM\",\"POS\",\"REF\",\"ALT\"])\n",
        "dele.to_csv(\"delete30.csv\")\n",
        "subs = pd.DataFrame(s,columns=[\"#CHROM\",\"POS\",\"REF\",\"ALT\"])\n",
        "subs.to_csv(\"substitute30.csv\")"
      ]
    },
    {
      "cell_type": "code",
      "execution_count": null,
      "metadata": {
        "colab": {
          "base_uri": "https://localhost:8080/"
        },
        "id": "PX3264QzrL52",
        "outputId": "a5e431a2-d53f-4832-aa41-a6579d62f2c1"
      },
      "outputs": [
        {
          "output_type": "stream",
          "name": "stdout",
          "text": [
            "Number of C or G or T substitutions:  0\n",
            "Number of A or G or T substitutions:  0\n",
            "Number of A or C or T substitutions:  0\n",
            "Number of G or T substitutions:  0\n",
            "Number of A or C substitutions:  0\n",
            "Number of A or C or G or T substitutions:  0\n",
            "Number of A or G substitutions:  0\n",
            "Number of C or G substitutions:  0\n",
            "Number of A or C or G substitutions:  0\n",
            "Number of A or T substitutions:  0\n",
            "Number of C or T substitutions:  0\n"
          ]
        }
      ],
      "source": [
        "b_sub=0\n",
        "d_sub=0\n",
        "h_sub=0\n",
        "k_sub=0\n",
        "m_sub=0\n",
        "n_sub=0\n",
        "r_sub=0\n",
        "s_sub=0\n",
        "v_sub=0\n",
        "w_sub=0\n",
        "y_sub=0\n",
        "n=0\n",
        "for i in range(1, len(subs[[\"POS\"]])):\n",
        "  if((subs[\"ALT\"][i]==\"B\") or (subs[\"ALT\"][i]==\"b\")):\n",
        "    b_sub=b_sub+1 #no of b subst\n",
        "    n=n+1\n",
        "  elif((subs[\"ALT\"][i]==\"D\") or (subs[\"ALT\"][i]==\"d\")):\n",
        "    d_sub=d_sub+1 #no of d subst\n",
        "    n=n+1\n",
        "  elif((subs[\"ALT\"][i]==\"H\") or (subs[\"ALT\"][i]==\"h\")):\n",
        "    h_sub=h_sub+1 #no of h subst\n",
        "    n=n+1\n",
        "  elif((subs[\"ALT\"][i]==\"K\") or (subs[\"ALT\"][i]==\"k\")):\n",
        "    k_sub=k_sub+1 #no of k subst\n",
        "    n=n+1\n",
        "  elif((subs[\"ALT\"][i]==\"M\") or (subs[\"ALT\"][i]==\"m\")):\n",
        "    m_sub=m_sub+1 #no of m subst\n",
        "    n=n+1\n",
        "  elif((subs[\"ALT\"][i]==\"N\") or (subs[\"ALT\"][i]==\"n\")):\n",
        "    n_sub=n_sub+1 #no of n subst\n",
        "    n=n+1\n",
        "  elif((subs[\"ALT\"][i]==\"R\") or (subs[\"ALT\"][i]==\"r\")):\n",
        "    r_sub=r_sub+1 #no of r subst\n",
        "    n=n+1\n",
        "  elif((subs[\"ALT\"][i]==\"S\") or (subs[\"ALT\"][i]==\"s\")):\n",
        "    s_sub=s_sub+1 #no of s subst\n",
        "    n=n+1\n",
        "  elif((subs[\"ALT\"][i]==\"V\") or (subs[\"ALT\"][i]==\"v\")):\n",
        "    v_sub=v_sub+1 #no of v subst\n",
        "    n=n+1\n",
        "  elif((subs[\"ALT\"][i]==\"W\") or (subs[\"ALT\"][i]==\"w\")):\n",
        "    w_sub=w_sub+1 #no of w subst\n",
        "    n=n+1\n",
        "  elif((subs[\"ALT\"][i]==\"Y\") or (subs[\"ALT\"][i]==\"y\")):\n",
        "    y_sub=y_sub+1 #no of y subst\n",
        "    n=n+1\n",
        "print(\"Number of C or G or T substitutions: \", b_sub)\n",
        "print(\"Number of A or G or T substitutions: \", d_sub)\n",
        "print(\"Number of A or C or T substitutions: \", h_sub)\n",
        "print(\"Number of G or T substitutions: \", k_sub)\n",
        "print(\"Number of A or C substitutions: \", m_sub)\n",
        "print(\"Number of A or C or G or T substitutions: \", n_sub)\n",
        "print(\"Number of A or G substitutions: \", r_sub)\n",
        "print(\"Number of C or G substitutions: \", s_sub)\n",
        "print(\"Number of A or C or G substitutions: \", v_sub)\n",
        "print(\"Number of A or T substitutions: \", w_sub)\n",
        "print(\"Number of C or T substitutions: \", y_sub)"
      ]
    },
    {
      "cell_type": "code",
      "execution_count": null,
      "metadata": {
        "colab": {
          "base_uri": "https://localhost:8080/"
        },
        "id": "BYQUGxr-Kf2s",
        "outputId": "7ad0101e-18da-454c-b8d9-abe3e01434f6"
      },
      "outputs": [
        {
          "output_type": "stream",
          "name": "stdout",
          "text": [
            "Number of A substitutions:  83264\n",
            "Number of T substitutions:  85700\n",
            "Number of G substitutions:  72470\n",
            "Number of C substitutions:  72388\n",
            "Number of t-a substitution:  18929\n",
            "Number of g-a substitution:  42947\n",
            "Number of c-a substitution:  21388\n",
            "Number of a-t substitution:  21095\n",
            "Number of g-t substitution:  21387\n",
            "Number of c-t substitution:  43218\n",
            "Number of t-g substitution:  0\n",
            "Number of a-g substitution:  39367\n",
            "Number of c-g substitution:  16224\n",
            "Number of t-c substitution:  38125\n",
            "Number of g-c substitution:  16185\n",
            "Number of a-c substitution:  18078\n"
          ]
        }
      ],
      "source": [
        "o=0\n",
        "m=0\n",
        "a_sub=0\n",
        "c_sub=0\n",
        "g_sub=0\n",
        "t_sub=0\n",
        "t_a=0\n",
        "c_a=0\n",
        "g_a=0\n",
        "a_t=0\n",
        "c_t=0\n",
        "g_t=0\n",
        "a_g=0\n",
        "t_g=0\n",
        "c_g=0\n",
        "a_c=0\n",
        "t_c=0\n",
        "g_c=0\n",
        "for i in range(1, len(subs[[\"POS\"]])):\n",
        "  if((subs[\"ALT\"][i]==\"A\") or (subs[\"ALT\"][i]==\"a\")):\n",
        "    a_sub=a_sub+1 #no of a subst\n",
        "    o=o+1\n",
        "    if(subs[\"REF\"][i]==\"T\"):\n",
        "      t_a=t_a+1  #no of t-a subst\n",
        "      m=m+1\n",
        "    elif(subs[\"REF\"][i]==\"C\"):\n",
        "      c_a=c_a+1  #no of c-a subst\n",
        "      m=m+1\n",
        "    elif(subs[\"REF\"][i]==\"G\"):\n",
        "      g_a=g_a+1  #no of g-a subst\n",
        "      m=m+1\n",
        "  elif((subs[\"ALT\"][i]==\"T\") or (subs[\"ALT\"][i]==\"t\")):\n",
        "    t_sub=t_sub+1 #no of t subst\n",
        "    o=o+1\n",
        "    if(subs[\"REF\"][i]==\"A\"):\n",
        "      a_t=a_t+1  #no of a-t subst\n",
        "      m=m+1\n",
        "    elif(subs[\"REF\"][i]==\"C\"):\n",
        "      c_t=c_t+1  #no of c-t subst\n",
        "      m=m+1\n",
        "    elif(subs[\"REF\"][i]==\"G\"):\n",
        "      g_t=g_t+1  #no of g-t subst\n",
        "      m=m+1\n",
        "  elif((subs[\"ALT\"][i]==\"G\") or (subs[\"ALT\"][i]==\"g\")):\n",
        "    g_sub=g_sub+1 #no of g subst\n",
        "    o=o+1\n",
        "    if(subs[\"REF\"][i]==\"A\"):\n",
        "      a_g=a_g+1  #no of a-g subst\n",
        "      m=m+1\n",
        "    elif(subs[\"REF\"][i]==\"C\"):\n",
        "      c_g=c_g+1  #no of c-g subst\n",
        "      m=m+1\n",
        "    elif(subs[\"REF\"][i]==\"G\"):\n",
        "      t_g=t_g+1  #no of t-g subst\n",
        "      m=m+1\n",
        "  elif((subs[\"ALT\"][i]==\"C\") or (subs[\"ALT\"][i]==\"c\")):\n",
        "    c_sub=c_sub+1 #no of c subst\n",
        "    o=o+1\n",
        "    if(subs[\"REF\"][i]==\"A\"):\n",
        "      a_c=a_c+1  #no of a-c subst\n",
        "      m=m+1\n",
        "    elif(subs[\"REF\"][i]==\"G\"):\n",
        "      g_c=g_c+1  #no of g-c subst\n",
        "      m=m+1\n",
        "    elif(subs[\"REF\"][i]==\"T\"):\n",
        "      t_c=t_c+1  #no of t-c subst\n",
        "      m=m+1\n",
        "print(\"Number of A substitutions: \", a_sub)\n",
        "print(\"Number of T substitutions: \", t_sub)\n",
        "print(\"Number of G substitutions: \", g_sub)\n",
        "print(\"Number of C substitutions: \", c_sub)\n",
        "\n",
        "print(\"Number of t-a substitution: \", t_a)\n",
        "print(\"Number of g-a substitution: \", g_a)\n",
        "print(\"Number of c-a substitution: \", c_a)\n",
        "\n",
        "print(\"Number of a-t substitution: \", a_t)\n",
        "print(\"Number of g-t substitution: \", g_t)\n",
        "print(\"Number of c-t substitution: \", c_t)\n",
        "\n",
        "print(\"Number of t-g substitution: \", t_g)\n",
        "print(\"Number of a-g substitution: \", a_g)\n",
        "print(\"Number of c-g substitution: \", c_g)\n",
        "\n",
        "print(\"Number of t-c substitution: \", t_c)\n",
        "print(\"Number of g-c substitution: \", g_c)\n",
        "print(\"Number of a-c substitution: \", a_c)"
      ]
    },
    {
      "cell_type": "code",
      "execution_count": null,
      "metadata": {
        "colab": {
          "base_uri": "https://localhost:8080/"
        },
        "id": "57_tySqfzDuq",
        "outputId": "24493e9a-b8df-4031-e738-868d43502b7a"
      },
      "outputs": [
        {
          "output_type": "stream",
          "name": "stdout",
          "text": [
            "313822\n",
            "296943\n",
            "0\n",
            "296943\n"
          ]
        },
        {
          "output_type": "execute_result",
          "data": {
            "text/plain": [
              "1078"
            ]
          },
          "metadata": {},
          "execution_count": 7
        }
      ],
      "source": [
        "print(o)\n",
        "print(m)\n",
        "print(n)\n",
        "print(m+n)\n",
        "filename=\"SNV_txt_30.txt\"\n",
        "fh=open(filename, \"w\")\n",
        "l=\"Count:\"+\"\\nNumber of A, C, G and T substitutions \"+str(o)+\"\\nNumber of SNP only one code \"+str(n)+\"\\nNumber of SNVs\"+str(m)+\"\\n\\nSNP only one code:\"+\"\\nNumber of C or G or T substitutions: \"+str(b_sub)+\"\\nNumber of A or G or T substitutions: \"+str(d_sub)+\"\\nNumber of A or C or T substitutions: \"+str(h_sub)+\"\\nNumber of G or T substitutions: \"+str(k_sub)+\"\\nNumber of A or C substitutions: \"+str(m_sub)+\"\\nNumber of A or C or G or T substitutions: \"+str(n_sub)+\"\\nNumber of A or G substitutions: \"+str(r_sub)+\"\\nNumber of C or G substitutions: \"+str(s_sub)+\"\\nNumber of A or C or G substitutions: \"+str(v_sub)+\"\\nNumber of A or T substitutions: \"+str(w_sub)+\"\\nNumber of C or T substitutions: \"+str(y_sub)+\"\\n\\nSubstitutions:\"+\"\\nNumber of A substitutions: \"+str(a_sub)+\"\\nNumber of T substitutions: \"+str(t_sub)+\"\\nNumber of G substitutions: \"+str(g_sub)+\"\\nNumber of C substitutions: \"+str(c_sub)+\"\\nNumber of t-a substitution: \"+str(t_a)+\"\\nNumber of g-a substitution: \"+str(g_a)+\"\\nNumber of c-a substitution: \"+str(c_a)+\"\\nNumber of a-t substitution: \"+str(a_t)+\"\\nNumber of g-t substitution: \"+str(g_t)+\"\\nNumber of c-t substitution: \"+str(c_t)+\"\\nNumber of t-g substitution: \"+str(t_g)+\"\\nNumber of a-g substitution: \"+str(a_g)+\"\\nNumber of c-g substitution: \"+str(c_g)+\"\\nNumber of t-c substitution: \"+str(t_c)+\"\\nNumber of g-c substitution: \"+str(g_c)+\"\\nNumber of a-c substitution: \"+str(a_c)\n",
        "fh.write(l)"
      ]
    },
    {
      "cell_type": "code",
      "execution_count": null,
      "metadata": {
        "colab": {
          "base_uri": "https://localhost:8080/"
        },
        "id": "9gcTE0s8Z7v2",
        "outputId": "fec1951b-5c6c-47b2-a9c8-96c7b8a7b90d"
      },
      "outputs": [
        {
          "output_type": "stream",
          "name": "stderr",
          "text": [
            "<ipython-input-10-74f92ede23df>:6: SettingWithCopyWarning: \n",
            "A value is trying to be set on a copy of a slice from a DataFrame\n",
            "\n",
            "See the caveats in the documentation: https://pandas.pydata.org/pandas-docs/stable/user_guide/indexing.html#returning-a-view-versus-a-copy\n",
            "  inse[\"ALT\"][i]=str(inse[\"ALT\"][i])\n"
          ]
        },
        {
          "output_type": "stream",
          "name": "stdout",
          "text": [
            "Max len of insertion\n",
            "546\n",
            "Min len of insertion\n",
            "2\n",
            "Max len of deletion\n",
            "440\n",
            "Min len of deletion\n",
            "2\n"
          ]
        },
        {
          "output_type": "execute_result",
          "data": {
            "text/plain": [
              "93"
            ]
          },
          "metadata": {},
          "execution_count": 10
        }
      ],
      "source": [
        "ins_f=[]\n",
        "for i in range(1, len(inse[[\"POS\"]])):\n",
        "  ins_fr=[]\n",
        "  ins_fr.append(inse[\"REF\"][i])\n",
        "  ins_fr.append(inse[\"ALT\"][i])\n",
        "  inse[\"ALT\"][i]=str(inse[\"ALT\"][i])\n",
        "  ins_fr.append(len(inse[\"ALT\"][i]))\n",
        "  #ins_fr.append(inse[\"ALT\"][i].len())\n",
        "  ins_f.append(ins_fr)\n",
        "ins_freq = pd.DataFrame(ins_f,columns=[\"REF\",\"ALT\",\"LEN\"])\n",
        "#print(ins_freq)\n",
        "max_i=max(ins_freq[\"LEN\"])\n",
        "min_i=min(ins_freq[\"LEN\"])\n",
        "print(\"Max len of insertion\")\n",
        "print(max_i)\n",
        "#for i in range(1, len(ins_freq[[\"LEN\"]])):\n",
        " # if(ins_freq[\"LEN\"][i]==max_i):\n",
        "  #  print(\"REF\\tALT\\tLEN\")\n",
        "   # print(ins_freq[\"REF\"][i],\"\\t\",ins_freq[\"ALT\"][i],\"\\t\",max_i)\n",
        "print(\"Min len of insertion\")\n",
        "print(min_i)\n",
        "#for i in range(1, len(ins_freq[[\"LEN\"]])):\n",
        " # if(ins_freq[\"LEN\"][i]==min_i):\n",
        "  #  print(\"REF\\tALT\\tLEN\")\n",
        "   # print(ins_freq[\"REF\"][i],\"\\t\",ins_freq[\"ALT\"][i],\"\\t\",min_i)\n",
        "del_f=[]\n",
        "for i in range(1, len(dele[[\"POS\"]])):\n",
        "  del_fr=[]\n",
        "  del_fr.append(dele[\"REF\"][i])\n",
        "  del_fr.append(dele[\"ALT\"][i])\n",
        "  del_fr.append(len(dele[\"REF\"][i]))\n",
        "  del_f.append(del_fr)\n",
        "del_freq = pd.DataFrame(del_f,columns=[\"REF\",\"ALT\",\"LEN\"])\n",
        "#print(del_freq)\n",
        "max_d=max(del_freq[\"LEN\"])\n",
        "min_d=min(del_freq[\"LEN\"])\n",
        "print(\"Max len of deletion\")\n",
        "print(max_d)\n",
        "#for i in range(1, len(del_freq[[\"LEN\"]])):\n",
        " # if(del_freq[\"LEN\"][i]==max_i):\n",
        "    #next((ele for ele in max_i if ele in del_freq[\"LEN\"][i]), None)\n",
        "  #  print(\"REF\\tALT\\tLEN\")\n",
        "   # print(del_freq[\"REF\"][i],\"\\t\",del_freq[\"ALT\"][i],\"\\t\",max_i)\n",
        "print(\"Min len of deletion\")\n",
        "print(min_d)\n",
        "#for i in range(1, len(del_freq[[\"LEN\"]])):\n",
        " # if(del_freq[\"LEN\"][i]==min_i):\n",
        "  #  print(\"REF\\tALT\\tLEN\")\n",
        "   # print(del_freq[\"REF\"][i],\"\\t\",del_freq[\"ALT\"][i],\"\\t\",min_i)\n",
        "filename=\"ins_n_del_30.txt\"\n",
        "fh=open(filename, \"w\")\n",
        "l=\"Max len of deletion \"+str(max_d)+\"\\nMin len of deletion \"+str(min_d)+\"\\nMax len of insertion \"+str(max_i)+\"\\nMin len of insertion \"+str(min_i)\n",
        "fh.write(l)"
      ]
    },
    {
      "cell_type": "code",
      "execution_count": null,
      "metadata": {
        "id": "xRuOcx3b7ElI",
        "colab": {
          "base_uri": "https://localhost:8080/",
          "height": 35
        },
        "outputId": "07a0e902-a177-4bae-9598-1378978247b9"
      },
      "outputs": [
        {
          "output_type": "execute_result",
          "data": {
            "text/plain": [
              "'/content/drive/MyDrive/gsalign_gind_out_data/30/substitute30.csv'"
            ],
            "application/vnd.google.colaboratory.intrinsic+json": {
              "type": "string"
            }
          },
          "metadata": {},
          "execution_count": 11
        }
      ],
      "source": [
        "import shutil\n",
        "shutil.copy(\"SNV_txt_30.txt\",\"/content/drive/MyDrive/gsalign_gind_out_data/30\")\n",
        "shutil.copy(\"counts_30.txt\",\"/content/drive/MyDrive/gsalign_gind_out_data/30\")\n",
        "shutil.copy(\"ins_n_del_30.txt\",\"/content/drive/MyDrive/gsalign_gind_out_data/30\")\n",
        "shutil.copy(\"delete30.csv\",\"/content/drive/MyDrive/gsalign_gind_out_data/30\")\n",
        "shutil.copy(\"insertion30.csv\",\"/content/drive/MyDrive/gsalign_gind_out_data/30\")\n",
        "shutil.copy(\"substitute30.csv\",\"/content/drive/MyDrive/gsalign_gind_out_data/30\")"
      ]
    }
  ],
  "metadata": {
    "colab": {
      "provenance": []
    },
    "kernelspec": {
      "display_name": "Python 3",
      "name": "python3"
    },
    "language_info": {
      "name": "python"
    }
  },
  "nbformat": 4,
  "nbformat_minor": 0
}